{
 "metadata": {
  "name": ""
 },
 "nbformat": 3,
 "nbformat_minor": 0,
 "worksheets": [
  {
   "cells": [
    {
     "cell_type": "markdown",
     "metadata": {},
     "source": [
      "## <img src=\"https://dl.dropboxusercontent.com/u/6117375/intermediate-notebooks/title_graphic.png\" /> Iterables vs. Iterators\n"
     ]
    },
    {
     "cell_type": "code",
     "collapsed": false,
     "input": [
      "test_list = [\"Roberta\", \"Tom\", \"Alice\", \"Dick\"]"
     ],
     "language": "python",
     "metadata": {},
     "outputs": [],
     "prompt_number": 1
    },
    {
     "cell_type": "code",
     "collapsed": false,
     "input": [
      "iterator_1 = iter(test_list) # same as test_list.__iter__()"
     ],
     "language": "python",
     "metadata": {},
     "outputs": [],
     "prompt_number": 2
    },
    {
     "cell_type": "code",
     "collapsed": false,
     "input": [
      "iterator_2 = test_list.__iter__() # "
     ],
     "language": "python",
     "metadata": {},
     "outputs": [],
     "prompt_number": 3
    },
    {
     "cell_type": "code",
     "collapsed": false,
     "input": [
      "id(iterator_1), id(iterator_2)"
     ],
     "language": "python",
     "metadata": {},
     "outputs": [
      {
       "metadata": {},
       "output_type": "pyout",
       "prompt_number": 4,
       "text": [
        "(4330234512, 4330217744)"
       ]
      }
     ],
     "prompt_number": 4
    },
    {
     "cell_type": "code",
     "collapsed": false,
     "input": [
      "iterator_1 is iterator_2"
     ],
     "language": "python",
     "metadata": {},
     "outputs": [
      {
       "metadata": {},
       "output_type": "pyout",
       "prompt_number": 5,
       "text": [
        "False"
       ]
      }
     ],
     "prompt_number": 5
    },
    {
     "cell_type": "code",
     "collapsed": false,
     "input": [
      "type(iterator_1), type(iterator_2)"
     ],
     "language": "python",
     "metadata": {},
     "outputs": [
      {
       "metadata": {},
       "output_type": "pyout",
       "prompt_number": 6,
       "text": [
        "(builtins.list_iterator, builtins.list_iterator)"
       ]
      }
     ],
     "prompt_number": 6
    },
    {
     "cell_type": "code",
     "collapsed": false,
     "input": [
      "for i in test_list:\n",
      "    for j in test_list:\n",
      "        print(i, j)"
     ],
     "language": "python",
     "metadata": {},
     "outputs": [
      {
       "output_type": "stream",
       "stream": "stdout",
       "text": [
        "Roberta Roberta\n",
        "Roberta Tom\n",
        "Roberta Alice\n",
        "Roberta Dick\n",
        "Tom Roberta\n",
        "Tom Tom\n",
        "Tom Alice\n",
        "Tom Dick\n",
        "Alice Roberta\n",
        "Alice Tom\n",
        "Alice Alice\n",
        "Alice Dick\n",
        "Dick Roberta\n",
        "Dick Tom\n",
        "Dick Alice\n",
        "Dick Dick\n"
       ]
      }
     ],
     "prompt_number": 7
    },
    {
     "cell_type": "code",
     "collapsed": false,
     "input": [
      "for i in iterator_1:\n",
      "    print(\"outer loop\", i)\n",
      "    for j in iterator_2:\n",
      "        print(\"inner loop\", j)\n",
      "        print(i, j)"
     ],
     "language": "python",
     "metadata": {},
     "outputs": [
      {
       "output_type": "stream",
       "stream": "stdout",
       "text": [
        "outer loop Roberta\n",
        "inner loop Roberta\n",
        "Roberta Roberta\n",
        "inner loop Tom\n",
        "Roberta Tom\n",
        "inner loop Alice\n",
        "Roberta Alice\n",
        "inner loop Dick\n",
        "Roberta Dick\n",
        "outer loop Tom\n",
        "outer loop Alice\n",
        "outer loop Dick\n"
       ]
      }
     ],
     "prompt_number": 8
    },
    {
     "cell_type": "code",
     "collapsed": false,
     "input": [
      "iterator_3 = iter(test_list)\n",
      "for i in iterator_3:\n",
      "    for j in iterator_3:\n",
      "        print(i, j)"
     ],
     "language": "python",
     "metadata": {},
     "outputs": [
      {
       "output_type": "stream",
       "stream": "stdout",
       "text": [
        "Roberta Tom\n",
        "Roberta Alice\n",
        "Roberta Dick\n"
       ]
      }
     ],
     "prompt_number": 10
    },
    {
     "cell_type": "code",
     "collapsed": false,
     "input": [
      "iterator_4 = iter(test_list)\n",
      "id(test_list), id(iter(test_list))"
     ],
     "language": "python",
     "metadata": {},
     "outputs": [
      {
       "metadata": {},
       "output_type": "pyout",
       "prompt_number": 12,
       "text": [
        "(4330352584, 4330386320)"
       ]
      }
     ],
     "prompt_number": 12
    },
    {
     "cell_type": "code",
     "collapsed": false,
     "input": [
      "id(iterator_4), id(iter(iterator_4)), id(iterator_4.__iter__())"
     ],
     "language": "python",
     "metadata": {},
     "outputs": [
      {
       "metadata": {},
       "output_type": "pyout",
       "prompt_number": 13,
       "text": [
        "(4330235920, 4330235920, 4330235920)"
       ]
      }
     ],
     "prompt_number": 13
    },
    {
     "cell_type": "code",
     "collapsed": false,
     "input": [
      "next(iterator_4), next(iterator_4)"
     ],
     "language": "python",
     "metadata": {},
     "outputs": [
      {
       "metadata": {},
       "output_type": "pyout",
       "prompt_number": 14,
       "text": [
        "('Roberta', 'Tom')"
       ]
      }
     ],
     "prompt_number": 14
    },
    {
     "cell_type": "code",
     "collapsed": false,
     "input": [
      "iterator_4.__next__(), iterator_4.__next__()"
     ],
     "language": "python",
     "metadata": {},
     "outputs": [
      {
       "metadata": {},
       "output_type": "pyout",
       "prompt_number": 15,
       "text": [
        "('Alice', 'Dick')"
       ]
      }
     ],
     "prompt_number": 15
    },
    {
     "cell_type": "code",
     "collapsed": false,
     "input": [
      "iterator_4.__next__()"
     ],
     "language": "python",
     "metadata": {},
     "outputs": [
      {
       "ename": "StopIteration",
       "evalue": "",
       "output_type": "pyerr",
       "traceback": [
        "\u001b[0;31m---------------------------------------------------------------------------\u001b[0m\n\u001b[0;31mStopIteration\u001b[0m                             Traceback (most recent call last)",
        "\u001b[0;32m<ipython-input-16-fdd0979863d6>\u001b[0m in \u001b[0;36m<module>\u001b[0;34m()\u001b[0m\n\u001b[0;32m----> 1\u001b[0;31m \u001b[0miterator_4\u001b[0m\u001b[0;34m.\u001b[0m\u001b[0m__next__\u001b[0m\u001b[0;34m(\u001b[0m\u001b[0;34m)\u001b[0m\u001b[0;34m\u001b[0m\u001b[0m\n\u001b[0m",
        "\u001b[0;31mStopIteration\u001b[0m: "
       ]
      }
     ],
     "prompt_number": 16
    },
    {
     "cell_type": "code",
     "collapsed": false,
     "input": [
      "[name for name in dir(iterator_1) if name not in dir(test_list)] # names unique to iterator"
     ],
     "language": "python",
     "metadata": {},
     "outputs": [
      {
       "metadata": {},
       "output_type": "pyout",
       "prompt_number": 17,
       "text": [
        "['__length_hint__', '__next__', '__setstate__']"
       ]
      }
     ],
     "prompt_number": 17
    },
    {
     "cell_type": "code",
     "collapsed": false,
     "input": [
      "[name for name in dir(test_list) if name not in dir(iterator_1)] # names unique to iterable"
     ],
     "language": "python",
     "metadata": {},
     "outputs": [
      {
       "metadata": {},
       "output_type": "pyout",
       "prompt_number": 18,
       "text": [
        "['__add__',\n",
        " '__contains__',\n",
        " '__delitem__',\n",
        " '__getitem__',\n",
        " '__iadd__',\n",
        " '__imul__',\n",
        " '__len__',\n",
        " '__mul__',\n",
        " '__reversed__',\n",
        " '__rmul__',\n",
        " '__setitem__',\n",
        " 'append',\n",
        " 'clear',\n",
        " 'copy',\n",
        " 'count',\n",
        " 'extend',\n",
        " 'index',\n",
        " 'insert',\n",
        " 'pop',\n",
        " 'remove',\n",
        " 'reverse',\n",
        " 'sort']"
       ]
      }
     ],
     "prompt_number": 18
    },
    {
     "cell_type": "code",
     "collapsed": false,
     "input": [],
     "language": "python",
     "metadata": {},
     "outputs": []
    }
   ],
   "metadata": {}
  }
 ]
}