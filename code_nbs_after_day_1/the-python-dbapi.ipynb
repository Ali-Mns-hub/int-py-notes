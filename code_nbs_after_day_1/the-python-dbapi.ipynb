{
 "metadata": {
  "name": ""
 },
 "nbformat": 3,
 "nbformat_minor": 0,
 "worksheets": [
  {
   "cells": [
    {
     "cell_type": "markdown",
     "metadata": {},
     "source": [
      "## <img src=\"https://dl.dropboxusercontent.com/u/6117375/intermediate-notebooks/title_graphic.png\" /> The Python DBAPI\n"
     ]
    },
    {
     "cell_type": "code",
     "collapsed": false,
     "input": [
      "import sqlite3\n",
      "conn = sqlite3.connect(\"MyDatabase.sql3\")\n",
      "conn"
     ],
     "language": "python",
     "metadata": {},
     "outputs": [
      {
       "metadata": {},
       "output_type": "pyout",
       "prompt_number": 1,
       "text": [
        "<sqlite3.Connection at 0x10c227c70>"
       ]
      }
     ],
     "prompt_number": 1
    },
    {
     "cell_type": "code",
     "collapsed": false,
     "input": [
      "curs = conn.cursor()\n",
      "curs"
     ],
     "language": "python",
     "metadata": {},
     "outputs": [
      {
       "metadata": {},
       "output_type": "pyout",
       "prompt_number": 2,
       "text": [
        "<sqlite3.Cursor at 0x10cf31d50>"
       ]
      }
     ],
     "prompt_number": 2
    },
    {
     "cell_type": "code",
     "collapsed": false,
     "input": [
      "curs.execute(\"DROP TABLE IF EXISTS publisher\")"
     ],
     "language": "python",
     "metadata": {},
     "outputs": [
      {
       "metadata": {},
       "output_type": "pyout",
       "prompt_number": 3,
       "text": [
        "<sqlite3.Cursor at 0x10cf31d50>"
       ]
      }
     ],
     "prompt_number": 3
    },
    {
     "cell_type": "code",
     "collapsed": false,
     "input": [
      "curs.execute(\"\"\"CREATE TABLE publisher(\n",
      "                    pubid INT PRIMARY KEY,\n",
      "                    pubname VARCHAR(25),\n",
      "                    puburl VARCHAR(125))\"\"\")"
     ],
     "language": "python",
     "metadata": {},
     "outputs": [
      {
       "metadata": {},
       "output_type": "pyout",
       "prompt_number": 4,
       "text": [
        "<sqlite3.Cursor at 0x10cf31d50>"
       ]
      }
     ],
     "prompt_number": 4
    },
    {
     "cell_type": "code",
     "collapsed": false,
     "input": [
      "curs.execute(\"\"\"CREATE TABLE publisher(\n",
      "                    pubid INT PRIMARY KEY,\n",
      "                    pubname VARCHAR(25),\n",
      "                    puburl VARCHAR(125))\"\"\")"
     ],
     "language": "python",
     "metadata": {},
     "outputs": [
      {
       "ename": "OperationalError",
       "evalue": "table publisher already exists",
       "output_type": "pyerr",
       "traceback": [
        "\u001b[0;31m---------------------------------------------------------------------------\u001b[0m\n\u001b[0;31mOperationalError\u001b[0m                          Traceback (most recent call last)",
        "\u001b[0;32m<ipython-input-5-f6599eb593b6>\u001b[0m in \u001b[0;36m<module>\u001b[0;34m()\u001b[0m\n\u001b[1;32m      2\u001b[0m                     \u001b[0mpubid\u001b[0m \u001b[0mINT\u001b[0m \u001b[0mPRIMARY\u001b[0m \u001b[0mKEY\u001b[0m\u001b[0;34m,\u001b[0m\u001b[0;34m\u001b[0m\u001b[0m\n\u001b[1;32m      3\u001b[0m                     \u001b[0mpubname\u001b[0m \u001b[0mVARCHAR\u001b[0m\u001b[0;34m(\u001b[0m\u001b[0;36m25\u001b[0m\u001b[0;34m)\u001b[0m\u001b[0;34m,\u001b[0m\u001b[0;34m\u001b[0m\u001b[0m\n\u001b[0;32m----> 4\u001b[0;31m                     puburl VARCHAR(125))\"\"\")\n\u001b[0m",
        "\u001b[0;31mOperationalError\u001b[0m: table publisher already exists"
       ]
      },
      {
       "output_type": "stream",
       "stream": "stderr",
       "text": [
        "ERROR: An unexpected error occurred while tokenizing input\n",
        "The following traceback may be corrupted or invalid\n",
        "The error message is: ('EOF in multi-line string', (1, 40))\n",
        "\n"
       ]
      }
     ],
     "prompt_number": 5
    },
    {
     "cell_type": "code",
     "collapsed": false,
     "input": [
      "curs.execute(\"DROP TABLE IF EXISTS book\")\n",
      "curs.execute(\"\"\"\\\n",
      "                CREATE TABLE book (\n",
      "                    bkisbn CHAR(10) PRIMARY KEY,\n",
      "                    bktitle VARCHAR(60),\n",
      "                    bkyear INT,\n",
      "                    bkpubid INT,\n",
      "                    FOREIGN KEY(bkpubid) REFERENCES publisher(pubid))\n",
      "            \"\"\")"
     ],
     "language": "python",
     "metadata": {},
     "outputs": [
      {
       "metadata": {},
       "output_type": "pyout",
       "prompt_number": 6,
       "text": [
        "<sqlite3.Cursor at 0x10cf31d50>"
       ]
      }
     ],
     "prompt_number": 6
    },
    {
     "cell_type": "code",
     "collapsed": false,
     "input": [
      "publisher_list = (\n",
      "                  (\"Holden Web\", \"http://holdenweb.com\"),               #0\n",
      "                  (\"Apress\", \"http://www.apress.com\"),                  #1\n",
      "                  (\"O'Reilly Media\", \"http://oreilly.com\"),             #2\n",
      "                  (\"Packt Publishing\", \"http://www.packtpub.com\")       #3\n",
      "                  )"
     ],
     "language": "python",
     "metadata": {},
     "outputs": [],
     "prompt_number": 7
    },
    {
     "cell_type": "code",
     "collapsed": false,
     "input": [
      "book_dict = {\n",
      "             \"1565926218\": (\"Python Programming on Win32\", 1999, 2),    # O'Reilly\n",
      "             \"1590597257\": (\"The Definitive Guide to Django\", 2011, 1), # Apress\n",
      "             \"1234567890\": (\"No Book You Ever Heard Of\", 2015, 0),      # Holden Web\n",
      "             \"0569007973\": (\"The Python Cookbook, 2nd Edn.\", 2009, 2),  # O'Reilly\n",
      "             \"7818471947\": (\"Expert Python Programming\", 2012, 3)       # Packt\n",
      "             }"
     ],
     "language": "python",
     "metadata": {},
     "outputs": [],
     "prompt_number": 8
    },
    {
     "cell_type": "code",
     "collapsed": false,
     "input": [
      "ISBN = \"1234567890\"\n",
      "book = book_dict[ISBN]\n",
      "publisher = publisher_list[book[2]]\n",
      "print(\"\"\"\\\n",
      "ISBN:           {}\n",
      "Title:          {}\n",
      "Year:           {}\n",
      "Publisher:      {}\n",
      "URL:            {}\"\"\".format(ISBN, book[0], book[1], publisher[0], publisher[1]))"
     ],
     "language": "python",
     "metadata": {},
     "outputs": [
      {
       "output_type": "stream",
       "stream": "stdout",
       "text": [
        "ISBN:           1234567890\n",
        "Title:          No Book You Ever Heard Of\n",
        "Year:           2015\n",
        "Publisher:      Holden Web\n",
        "URL:            http://holdenweb.com\n"
       ]
      }
     ],
     "prompt_number": 9
    },
    {
     "cell_type": "code",
     "collapsed": false,
     "input": [
      "for i, publisher in enumerate(publisher_list):\n",
      "    curs.execute(\"\"\"\n",
      "                INSERT INTO publisher (pubid, pubname, puburl)\n",
      "                VALUES(?, ?, ?)\"\"\",\n",
      "                 (i, publisher[0], publisher[1]))"
     ],
     "language": "python",
     "metadata": {},
     "outputs": [],
     "prompt_number": 10
    },
    {
     "cell_type": "code",
     "collapsed": false,
     "input": [
      "curs.execute(\"SELECT * FROM publisher\")\n",
      "curs.fetchall()"
     ],
     "language": "python",
     "metadata": {},
     "outputs": [
      {
       "metadata": {},
       "output_type": "pyout",
       "prompt_number": 11,
       "text": [
        "[(0, 'Holden Web', 'http://holdenweb.com'),\n",
        " (1, 'Apress', 'http://www.apress.com'),\n",
        " (2, \"O'Reilly Media\", 'http://oreilly.com'),\n",
        " (3, 'Packt Publishing', 'http://www.packtpub.com')]"
       ]
      }
     ],
     "prompt_number": 11
    },
    {
     "cell_type": "code",
     "collapsed": false,
     "input": [
      "for ISBN, (title, year, pubid) in book_dict.items():\n",
      "    curs.execute(\"\"\"INSERT INTO BOOK\n",
      "                    (bkisbn, bktitle, bkyear, bkpubid)\n",
      "                    VALUES (?, ?, ?, ?)\"\"\",\n",
      "                    (ISBN, title, year, pubid))"
     ],
     "language": "python",
     "metadata": {},
     "outputs": [],
     "prompt_number": 12
    },
    {
     "cell_type": "code",
     "collapsed": false,
     "input": [
      "curs.execute(\"SELECT * FROM book\")\n",
      "curs.fetchall()"
     ],
     "language": "python",
     "metadata": {},
     "outputs": [
      {
       "metadata": {},
       "output_type": "pyout",
       "prompt_number": 13,
       "text": [
        "[('0569007973', 'The Python Cookbook, 2nd Edn.', 2009, 2),\n",
        " ('7818471947', 'Expert Python Programming', 2012, 3),\n",
        " ('1234567890', 'No Book You Ever Heard Of', 2015, 0),\n",
        " ('1590597257', 'The Definitive Guide to Django', 2011, 1),\n",
        " ('1565926218', 'Python Programming on Win32', 1999, 2)]"
       ]
      }
     ],
     "prompt_number": 13
    },
    {
     "cell_type": "code",
     "collapsed": false,
     "input": [
      "curs.execute(\"\"\"\n",
      "                SELECT *\n",
      "                FROM book JOIN publisher ON pubid=bkpubid\"\"\")\n",
      "curs.fetchall()"
     ],
     "language": "python",
     "metadata": {},
     "outputs": [
      {
       "metadata": {},
       "output_type": "pyout",
       "prompt_number": 14,
       "text": [
        "[('0569007973',\n",
        "  'The Python Cookbook, 2nd Edn.',\n",
        "  2009,\n",
        "  2,\n",
        "  2,\n",
        "  \"O'Reilly Media\",\n",
        "  'http://oreilly.com'),\n",
        " ('7818471947',\n",
        "  'Expert Python Programming',\n",
        "  2012,\n",
        "  3,\n",
        "  3,\n",
        "  'Packt Publishing',\n",
        "  'http://www.packtpub.com'),\n",
        " ('1234567890',\n",
        "  'No Book You Ever Heard Of',\n",
        "  2015,\n",
        "  0,\n",
        "  0,\n",
        "  'Holden Web',\n",
        "  'http://holdenweb.com'),\n",
        " ('1590597257',\n",
        "  'The Definitive Guide to Django',\n",
        "  2011,\n",
        "  1,\n",
        "  1,\n",
        "  'Apress',\n",
        "  'http://www.apress.com'),\n",
        " ('1565926218',\n",
        "  'Python Programming on Win32',\n",
        "  1999,\n",
        "  2,\n",
        "  2,\n",
        "  \"O'Reilly Media\",\n",
        "  'http://oreilly.com')]"
       ]
      }
     ],
     "prompt_number": 14
    },
    {
     "cell_type": "code",
     "collapsed": false,
     "input": [
      "curs.execute(\"\"\"\n",
      "                SELECT bktitle, bkyear, pubname\n",
      "                FROM book JOIN publisher ON pubid=bkpubid\"\"\")\n",
      "curs.fetchall()"
     ],
     "language": "python",
     "metadata": {},
     "outputs": [
      {
       "metadata": {},
       "output_type": "pyout",
       "prompt_number": 15,
       "text": [
        "[('The Python Cookbook, 2nd Edn.', 2009, \"O'Reilly Media\"),\n",
        " ('Expert Python Programming', 2012, 'Packt Publishing'),\n",
        " ('No Book You Ever Heard Of', 2015, 'Holden Web'),\n",
        " ('The Definitive Guide to Django', 2011, 'Apress'),\n",
        " ('Python Programming on Win32', 1999, \"O'Reilly Media\")]"
       ]
      }
     ],
     "prompt_number": 15
    },
    {
     "cell_type": "code",
     "collapsed": false,
     "input": [
      "conn.commit()"
     ],
     "language": "python",
     "metadata": {},
     "outputs": [],
     "prompt_number": 16
    },
    {
     "cell_type": "code",
     "collapsed": false,
     "input": [
      "conn.close()"
     ],
     "language": "python",
     "metadata": {},
     "outputs": [],
     "prompt_number": 17
    },
    {
     "cell_type": "code",
     "collapsed": false,
     "input": [
      "conn = sqlite3.connect(\"MyDatabase.sql3\")\n",
      "conn"
     ],
     "language": "python",
     "metadata": {},
     "outputs": [
      {
       "metadata": {},
       "output_type": "pyout",
       "prompt_number": 18,
       "text": [
        "<sqlite3.Connection at 0x10cf872d0>"
       ]
      }
     ],
     "prompt_number": 18
    },
    {
     "cell_type": "code",
     "collapsed": false,
     "input": [
      "curs = conn.cursor()\n",
      "curs"
     ],
     "language": "python",
     "metadata": {},
     "outputs": [
      {
       "metadata": {},
       "output_type": "pyout",
       "prompt_number": 19,
       "text": [
        "<sqlite3.Cursor at 0x10d510b90>"
       ]
      }
     ],
     "prompt_number": 19
    },
    {
     "cell_type": "code",
     "collapsed": false,
     "input": [
      "curs.execute(\"SELECT * FROM book\")\n",
      "curs.fetchall()"
     ],
     "language": "python",
     "metadata": {},
     "outputs": [
      {
       "metadata": {},
       "output_type": "pyout",
       "prompt_number": 20,
       "text": [
        "[('0569007973', 'The Python Cookbook, 2nd Edn.', 2009, 2),\n",
        " ('7818471947', 'Expert Python Programming', 2012, 3),\n",
        " ('1234567890', 'No Book You Ever Heard Of', 2015, 0),\n",
        " ('1590597257', 'The Definitive Guide to Django', 2011, 1),\n",
        " ('1565926218', 'Python Programming on Win32', 1999, 2)]"
       ]
      }
     ],
     "prompt_number": 20
    },
    {
     "cell_type": "code",
     "collapsed": false,
     "input": [
      "conn.close()"
     ],
     "language": "python",
     "metadata": {},
     "outputs": [],
     "prompt_number": 21
    },
    {
     "cell_type": "code",
     "collapsed": false,
     "input": [],
     "language": "python",
     "metadata": {},
     "outputs": []
    }
   ],
   "metadata": {}
  }
 ]
}