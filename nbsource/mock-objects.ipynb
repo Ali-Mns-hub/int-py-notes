{
  "metadata": {},
  "nbformat": 3,
  "nbformat_minor": 0,
  "worksheets": [
    {
      "cells": [
        {
          "cell_type": "heading",
          "level": 1,
          "metadata": {
            "slideshow": {
              "slide_type": "slide"
            }
          },
          "source": [
            "<img src=\"https://dl.dropboxusercontent.com/u/6117375/intermediate-notebooks/title_graphic.png\" />\n",
            "||| WORKING COPY ||| Mock Objects"
          ]
        },
        {
          "cell_type": "markdown",
          "metadata": {},
          "source": [
            "This document was created on 2014-03-14 at 23:32:02.943813."
          ]
        },
        {
          "cell_type": "code",
          "collapsed": false,
          "input": [
            "from unittest.mock import MagicMock, Mock, call"
          ],
          "language": "python",
          "metadata": {
            "slideshow": {
              "slide_type": "slide"
            }
          },
          "outputs": [],
          "prompt_number": ""
        },
        {
          "cell_type": "code",
          "collapsed": false,
          "input": [
            "m1 = MagicMock()"
          ],
          "language": "python",
          "metadata": {
            "slideshow": {
              "slide_type": "fragment"
            }
          },
          "outputs": [],
          "prompt_number": ""
        },
        {
          "cell_type": "code",
          "collapsed": false,
          "input": [
            "dir(m1)"
          ],
          "language": "python",
          "metadata": {
            "slideshow": {
              "slide_type": "subslide"
            }
          },
          "outputs": [],
          "prompt_number": ""
        },
        {
          "cell_type": "code",
          "collapsed": false,
          "input": [
            "m1.method(1, 2, 3)"
          ],
          "language": "python",
          "metadata": {},
          "outputs": [],
          "prompt_number": ""
        },
        {
          "cell_type": "code",
          "collapsed": false,
          "input": [
            "m1.attribute"
          ],
          "language": "python",
          "metadata": {},
          "outputs": [],
          "prompt_number": ""
        },
        {
          "cell_type": "code",
          "collapsed": false,
          "input": [
            "m1.who_knows_what"
          ],
          "language": "python",
          "metadata": {},
          "outputs": [],
          "prompt_number": ""
        },
        {
          "cell_type": "code",
          "collapsed": false,
          "input": [
            "m1.who_knows_what()"
          ],
          "language": "python",
          "metadata": {},
          "outputs": [],
          "prompt_number": ""
        },
        {
          "cell_type": "code",
          "collapsed": false,
          "input": [
            "m1.method_calls"
          ],
          "language": "python",
          "metadata": {},
          "outputs": [],
          "prompt_number": ""
        },
        {
          "cell_type": "code",
          "collapsed": false,
          "input": [
            "issubclass(Mock, type)"
          ],
          "language": "python",
          "metadata": {},
          "outputs": [],
          "prompt_number": ""
        },
        {
          "cell_type": "code",
          "collapsed": false,
          "input": [
            "m1.method.assert_called_once_with(1, 2, 3)"
          ],
          "language": "python",
          "metadata": {},
          "outputs": [],
          "prompt_number": ""
        },
        {
          "cell_type": "code",
          "collapsed": false,
          "input": [
            "m1.who_knows_what.assert_has_calls([call()])"
          ],
          "language": "python",
          "metadata": {},
          "outputs": [],
          "prompt_number": ""
        },
        {
          "cell_type": "code",
          "collapsed": false,
          "input": [
            "m1.who_knows_what.assert_has_calls([call(1, 2, 3)])"
          ],
          "language": "python",
          "metadata": {},
          "outputs": [],
          "prompt_number": ""
        },
        {
          "cell_type": "code",
          "collapsed": false,
          "input": [
            "m2 = MagicMock()"
          ],
          "language": "python",
          "metadata": {},
          "outputs": [],
          "prompt_number": ""
        },
        {
          "cell_type": "code",
          "collapsed": false,
          "input": [
            "next(m2)"
          ],
          "language": "python",
          "metadata": {},
          "outputs": [],
          "prompt_number": ""
        },
        {
          "cell_type": "code",
          "collapsed": false,
          "input": [
            "m2.method_calls"
          ],
          "language": "python",
          "metadata": {},
          "outputs": [],
          "prompt_number": ""
        },
        {
          "cell_type": "code",
          "collapsed": false,
          "input": [
            "m2.mock_calls"
          ],
          "language": "python",
          "metadata": {},
          "outputs": [],
          "prompt_number": ""
        },
        {
          "cell_type": "code",
          "collapsed": false,
          "input": [
            "m2.assert"
          ],
          "language": "python",
          "metadata": {},
          "outputs": [],
          "prompt_number": ""
        },
        {
          "cell_type": "code",
          "collapsed": false,
          "input": [
            "class Mocking(metclass=Mock):\n",
            "    pass"
          ],
          "language": "python",
          "metadata": {},
          "outputs": [],
          "prompt_number": ""
        },
        {
          "cell_type": "code",
          "collapsed": false,
          "input": [
            "[n for n in dir(MagicMock) if n not in dir(Mock)]"
          ],
          "language": "python",
          "metadata": {},
          "outputs": [],
          "prompt_number": ""
        },
        {
          "cell_type": "code",
          "collapsed": false,
          "input": [
            "[n for n in dir(Mock) if n not in dir(MagicMock)]"
          ],
          "language": "python",
          "metadata": {},
          "outputs": [],
          "prompt_number": ""
        }
      ],
      "metadata": {}
    }
  ]
}