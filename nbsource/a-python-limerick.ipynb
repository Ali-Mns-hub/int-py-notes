{
 "metadata": {
  "name": ""
 },
 "nbformat": 3,
 "nbformat_minor": 0,
 "worksheets": [
  {
   "cells": [
    {
     "cell_type": "code",
     "collapsed": false,
     "input": [
      "# With acknowledgments to Micheal Spencer\n",
      "\n",
      "from itertools import repeat\n",
      "for feet in [3,3,2,2,3]:\n",
      "    print(\" \".join(\"DA-DA-DUM\"\n",
      "    for dummy in [None]\n",
      "for foot in repeat(\"metric\", feet)))"
     ],
     "language": "python",
     "metadata": {},
     "outputs": [
      {
       "output_type": "stream",
       "stream": "stdout",
       "text": [
        "DA-DA-DUM DA-DA-DUM DA-DA-DUM\n",
        "DA-DA-DUM DA-DA-DUM DA-DA-DUM\n",
        "DA-DA-DUM DA-DA-DUM\n",
        "DA-DA-DUM DA-DA-DUM\n",
        "DA-DA-DUM DA-DA-DUM DA-DA-DUM\n"
       ]
      }
     ],
     "prompt_number": 1
    }
   ],
   "metadata": {}
  }
 ]
}