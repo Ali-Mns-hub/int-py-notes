{
  "cells": [
    {
      "cell_type": "code",
      "execution_count": null,
      "metadata": {
        "collapsed": false
      },
      "outputs": [],
      "prompt_number": "",
      "source": [
        "# With acknowledgments to Micheal Spencer\n",
        "\n",
        "from itertools import repeat\n",
        "for feet in [3,3,2,2,3]:\n",
        "    print \" \".join(\"DA-DA-DUM\"\n",
        "    for dummy in [None]\n",
        "for foot in repeat(\"metric\", feet))"
      ]
    },
    {
      "cell_type": "code",
      "execution_count": null,
      "metadata": {
        "collapsed": true
      },
      "outputs": [],
      "prompt_number": "",
      "source": []
    }
  ],
  "metadata": {
    "kernelspec": {
      "display_name": "Python 2",
      "language": "python",
      "name": "python2"
    },
    "language_info": {
      "codemirror_mode": {
        "name": "ipython",
        "version": 2
      },
      "file_extension": ".py",
      "mimetype": "text/x-python",
      "name": "python",
      "nbconvert_exporter": "python",
      "pygments_lexer": "ipython2",
      "version": "2.7.2"
    }
  },
  "nbformat": 4,
  "nbformat_minor": 0
}