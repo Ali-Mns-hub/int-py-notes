{
  "cells": [
    {
      "cell_type": "markdown",
      "metadata": {},
      "source": [
        "### Adventures in Software Engineering #1\n",
        "\n",
        "This simple exercise shows how to handle a text file whose content is slightly off specification.\n",
        "\n",
        "The `csv` module is intended to handle files containing comma-separated data. Such data is sourced\n",
        "by many different utilities, not all of which correctly observe specifications. I found one such\n",
        "file in my own data, a list of videos."
      ]
    },
    {
      "cell_type": "code",
      "execution_count": 50,
      "metadata": {
        "collapsed": false
      },
      "outputs": [],
      "prompt_number": "",
      "source": [
        "import csv"
      ]
    },
    {
      "cell_type": "code",
      "execution_count": 51,
      "metadata": {
        "collapsed": false
      },
      "outputs": [],
      "prompt_number": "",
      "source": [
        "reader = csv.reader(open(\"/Users/sholden/videos.txt\", \"r\"))\n",
        "reader"
      ]
    },
    {
      "cell_type": "code",
      "execution_count": 52,
      "metadata": {
        "collapsed": true
      },
      "outputs": [],
      "prompt_number": "",
      "source": [
        "next(reader)"
      ]
    },
    {
      "cell_type": "markdown",
      "metadata": {},
      "source": [
        "As you might spot, there are some very funny things going on in this file.\n",
        "Let's take a look at the first few lines of data."
      ]
    },
    {
      "cell_type": "code",
      "execution_count": 54,
      "metadata": {
        "collapsed": false
      },
      "outputs": [],
      "prompt_number": "",
      "source": [
        "open(\"/Users/sholden/videos.txt\", \"r\").readlines()[:5]"
      ]
    },
    {
      "cell_type": "markdown",
      "metadata": {},
      "source": [
        "The issue here is the spaces that follow the commas intended to separate the fields.\n",
        "This is causing the following double-quote to _not_ be treated as a field delimiter.\n",
        "\n",
        "The `csv` module allows you to define _dialects_, which affect how the file is interpreted.\n",
        "Since this is a very simple issue, however, I chose instead to create a object that could\n",
        "be used instead of the file, masking the defects of the original data.\n",
        "\n",
        "Python's `io` module defines the `StringIO` object, essentially an in-memory replacement for the file.\n",
        "Below I create one by concatenating all the lines of the input file after removing the space in\n",
        "any occurrence of the sequence `'\", \"'`, rendering it `'\",\"'` instead."
      ]
    },
    {
      "cell_type": "code",
      "execution_count": 55,
      "metadata": {
        "collapsed": false
      },
      "outputs": [],
      "prompt_number": "",
      "source": [
        "from io import StringIO"
      ]
    },
    {
      "cell_type": "code",
      "execution_count": 56,
      "metadata": {
        "collapsed": false
      },
      "outputs": [],
      "prompt_number": "",
      "source": [
        "file = open(\"/Users/sholden/videos.txt\", \"r\")\n",
        "newfile = StringIO(\"\".join(line.replace('\", \"', '\",\"') for line in file))"
      ]
    },
    {
      "cell_type": "markdown",
      "metadata": {},
      "source": [
        "Rewinding the `StringIO` to the beginning of its content with the `.seek()` method allows\n",
        "you to use it as the argument when creating a new `csv.reader ` object.\n",
        "Iterating over that object shows the data being interpreted correctly"
      ]
    },
    {
      "cell_type": "code",
      "execution_count": 59,
      "metadata": {
        "collapsed": false
      },
      "outputs": [],
      "prompt_number": "",
      "source": [
        "newfile.seek(0)\n",
        "list(t for t in csv.reader(newfile))"
      ]
    },
    {
      "cell_type": "code",
      "execution_count": null,
      "metadata": {
        "collapsed": false
      },
      "outputs": [],
      "prompt_number": "",
      "source": []
    },
    {
      "cell_type": "code",
      "execution_count": null,
      "metadata": {
        "collapsed": false
      },
      "outputs": [],
      "prompt_number": "",
      "source": []
    },
    {
      "cell_type": "code",
      "execution_count": null,
      "metadata": {
        "collapsed": false
      },
      "outputs": [],
      "prompt_number": "",
      "source": []
    }
  ],
  "metadata": {
    "kernelspec": {
      "display_name": "Python 3",
      "language": "python",
      "name": "python3"
    },
    "language_info": {
      "codemirror_mode": {
        "name": "ipython",
        "version": 3
      },
      "file_extension": ".py",
      "mimetype": "text/x-python",
      "name": "python",
      "nbconvert_exporter": "python",
      "pygments_lexer": "ipython3",
      "version": "3.4.2"
    }
  },
  "nbformat": 4,
  "nbformat_minor": 0
}