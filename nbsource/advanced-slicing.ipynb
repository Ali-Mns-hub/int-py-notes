{
 "metadata": {
  "name": ""
 },
 "nbformat": 3,
 "nbformat_minor": 0,
 "worksheets": [
  {
   "cells": [
    {
     "cell_type": "markdown",
     "metadata": {},
     "source": [
      "## <img src=\"https://dl.dropboxusercontent.com/u/6117375/intermediate-notebooks/title_graphic.png\" />||| WORKING COPY ||| Advanced Slicing"
     ]
    },
    {
     "cell_type": "code",
     "collapsed": false,
     "input": [
      "clist = [1, (2, 3, 4), \"a\", \"Bright\", \"c\"]\n",
      "clist [1]"
     ],
     "language": "python",
     "metadata": {},
     "outputs": [
      {
       "metadata": {},
       "output_type": "pyout",
       "prompt_number": 1,
       "text": [
        "(2, 3, 4)"
       ]
      }
     ],
     "prompt_number": 1
    },
    {
     "cell_type": "code",
     "collapsed": false,
     "input": [
      "clist[1][1]"
     ],
     "language": "python",
     "metadata": {},
     "outputs": [
      {
       "metadata": {},
       "output_type": "pyout",
       "prompt_number": 2,
       "text": [
        "3"
       ]
      }
     ],
     "prompt_number": 2
    },
    {
     "cell_type": "code",
     "collapsed": false,
     "input": [
      "clist[3][1:3]"
     ],
     "language": "python",
     "metadata": {},
     "outputs": [
      {
       "metadata": {},
       "output_type": "pyout",
       "prompt_number": 3,
       "text": [
        "'ri'"
       ]
      }
     ],
     "prompt_number": 3
    },
    {
     "cell_type": "code",
     "collapsed": false,
     "input": [
      "stuff = clist[2:4]\n",
      "stuff"
     ],
     "language": "python",
     "metadata": {},
     "outputs": [
      {
       "metadata": {},
       "output_type": "pyout",
       "prompt_number": 4,
       "text": [
        "['a', 'Bright']"
       ]
      }
     ],
     "prompt_number": 4
    },
    {
     "cell_type": "code",
     "collapsed": false,
     "input": [
      "stuff[0]"
     ],
     "language": "python",
     "metadata": {},
     "outputs": [
      {
       "metadata": {},
       "output_type": "pyout",
       "prompt_number": 5,
       "text": [
        "'a'"
       ]
      }
     ],
     "prompt_number": 5
    },
    {
     "cell_type": "code",
     "collapsed": false,
     "input": [
      "\"Strings are sequences too\"[:7]"
     ],
     "language": "python",
     "metadata": {},
     "outputs": [
      {
       "metadata": {},
       "output_type": "pyout",
       "prompt_number": 6,
       "text": [
        "'Strings'"
       ]
      }
     ],
     "prompt_number": 6
    },
    {
     "cell_type": "code",
     "collapsed": false,
     "input": [
      "clist = [1, (2, 3, 4), \"a\", \"Bright\", \"c\"]\n",
      "clist[1] = \"Not a tuple\"\n",
      "clist"
     ],
     "language": "python",
     "metadata": {},
     "outputs": [
      {
       "metadata": {},
       "output_type": "pyout",
       "prompt_number": 7,
       "text": [
        "[1, 'Not a tuple', 'a', 'Bright', 'c']"
       ]
      }
     ],
     "prompt_number": 7
    },
    {
     "cell_type": "code",
     "collapsed": false,
     "input": [
      "clist[0] = 0\n",
      "clist[3] = 'b'\n",
      "clist"
     ],
     "language": "python",
     "metadata": {},
     "outputs": [
      {
       "metadata": {},
       "output_type": "pyout",
       "prompt_number": 8,
       "text": [
        "[0, 'Not a tuple', 'a', 'b', 'c']"
       ]
      }
     ],
     "prompt_number": 8
    },
    {
     "cell_type": "code",
     "collapsed": false,
     "input": [
      "clist[2:4]"
     ],
     "language": "python",
     "metadata": {},
     "outputs": [
      {
       "metadata": {},
       "output_type": "pyout",
       "prompt_number": 9,
       "text": [
        "['a', 'b']"
       ]
      }
     ],
     "prompt_number": 9
    },
    {
     "cell_type": "code",
     "collapsed": false,
     "input": [
      "clist[2:4] = [1, 2, 3] # RHS elements becoe elements of clist\n",
      "clist"
     ],
     "language": "python",
     "metadata": {},
     "outputs": [
      {
       "metadata": {},
       "output_type": "pyout",
       "prompt_number": 10,
       "text": [
        "[0, 'Not a tuple', 1, 2, 3, 'c']"
       ]
      }
     ],
     "prompt_number": 10
    },
    {
     "cell_type": "markdown",
     "metadata": {},
     "source": [
      "Up until now, we've just been just replacing single elements of the list. It's also possible to replace a slice. When you do that, make sure that you also assign another sequence. Any sequence will do\u2014a list, tuple, or string. If you assign a string to a slice, each character in the string becomes a new element of the list. Try experimenting with these possibilities.\n",
      "\n",
      "Because you can replace any slice of a list, you can delete the slice by assigning an empty sequence to it. But there are less labor intensive ways to replace a slice of a list. Python's del statement was designed especially for deleting things. You can use it on a single element or a slice. If you know that a list contains a certain value, but you don't know the value's index, you can use the list's remove() method to delete it from the list. If the same value occurs more than once, only the first occurrence is deleted. Let's give it a try. Type the code below as shown:"
     ]
    },
    {
     "cell_type": "code",
     "collapsed": false,
     "input": [
      "dlist = ['a', 'b', 'c', '1', '2', 1, 2, 3]\n",
      "dlist[6]"
     ],
     "language": "python",
     "metadata": {},
     "outputs": [
      {
       "metadata": {},
       "output_type": "pyout",
       "prompt_number": 11,
       "text": [
        "2"
       ]
      }
     ],
     "prompt_number": 11
    },
    {
     "cell_type": "code",
     "collapsed": false,
     "input": [
      "del dlist[6]\n",
      "dlist"
     ],
     "language": "python",
     "metadata": {},
     "outputs": [
      {
       "metadata": {},
       "output_type": "pyout",
       "prompt_number": 12,
       "text": [
        "['a', 'b', 'c', '1', '2', 1, 3]"
       ]
      }
     ],
     "prompt_number": 12
    },
    {
     "cell_type": "code",
     "collapsed": false,
     "input": [
      "dlist[:3]"
     ],
     "language": "python",
     "metadata": {},
     "outputs": [
      {
       "metadata": {},
       "output_type": "pyout",
       "prompt_number": 13,
       "text": [
        "['a', 'b', 'c']"
       ]
      }
     ],
     "prompt_number": 13
    },
    {
     "cell_type": "code",
     "collapsed": false,
     "input": [
      "del dlist[:3]\n",
      "dlist"
     ],
     "language": "python",
     "metadata": {},
     "outputs": [
      {
       "metadata": {},
       "output_type": "pyout",
       "prompt_number": 14,
       "text": [
        "['1', '2', 1, 3]"
       ]
      }
     ],
     "prompt_number": 14
    },
    {
     "cell_type": "code",
     "collapsed": false,
     "input": [
      "dlist.remove(1)\n",
      "dlist"
     ],
     "language": "python",
     "metadata": {},
     "outputs": [
      {
       "metadata": {},
       "output_type": "pyout",
       "prompt_number": 15,
       "text": [
        "['1', '2', 3]"
       ]
      }
     ],
     "prompt_number": 15
    },
    {
     "cell_type": "markdown",
     "metadata": {},
     "source": [
      "__Slices with a Stride: Skipping Sequences__\n",
      "\n",
      "A slice specifies a subsequence of a sequence. Now let's say you don't want to include every element, but instead you want to use every second or third element? The easiest way to do this would be to use a third component of the slice specification: the stride. The stride specifies how many elements to skip in the slice before extracting the next element. The stride is separated from the first two components with a colon.\n",
      "\n",
      "When you specify only two slice components, by default the stride is 1; it takes every element in the slice. A stride of 2 takes every second element, and so on. Stride values can be negative as well as positive. Slicing always works by setting the index to the first slicing component and then increasing the index by the stride value, until the index reaches or goes past the second slicing component. When the stride is negative, the first slicing component must be higher than the second."
     ]
    },
    {
     "cell_type": "code",
     "collapsed": false,
     "input": [
      "alf = \"abcdefghijklmnopqrstuvwxyz\"\n",
      "alf[2:13]"
     ],
     "language": "python",
     "metadata": {},
     "outputs": [
      {
       "metadata": {},
       "output_type": "pyout",
       "prompt_number": 16,
       "text": [
        "'cdefghijklm'"
       ]
      }
     ],
     "prompt_number": 16
    },
    {
     "cell_type": "code",
     "collapsed": false,
     "input": [
      "alf[2:13:2]"
     ],
     "language": "python",
     "metadata": {},
     "outputs": [
      {
       "metadata": {},
       "output_type": "pyout",
       "prompt_number": 17,
       "text": [
        "'cegikm'"
       ]
      }
     ],
     "prompt_number": 17
    },
    {
     "cell_type": "code",
     "collapsed": false,
     "input": [
      "alf[2:13:-2]"
     ],
     "language": "python",
     "metadata": {},
     "outputs": [
      {
       "metadata": {},
       "output_type": "pyout",
       "prompt_number": 18,
       "text": [
        "''"
       ]
      }
     ],
     "prompt_number": 18
    },
    {
     "cell_type": "code",
     "collapsed": false,
     "input": [
      "alf[13:2:-2]"
     ],
     "language": "python",
     "metadata": {},
     "outputs": [
      {
       "metadata": {},
       "output_type": "pyout",
       "prompt_number": 19,
       "text": [
        "'nljhfd'"
       ]
      }
     ],
     "prompt_number": 19
    },
    {
     "cell_type": "code",
     "collapsed": false,
     "input": [
      "alf[13:2]"
     ],
     "language": "python",
     "metadata": {},
     "outputs": [
      {
       "metadata": {},
       "output_type": "pyout",
       "prompt_number": 20,
       "text": [
        "''"
       ]
      }
     ],
     "prompt_number": 20
    },
    {
     "cell_type": "code",
     "collapsed": false,
     "input": [
      "alf[::-1]"
     ],
     "language": "python",
     "metadata": {},
     "outputs": [
      {
       "metadata": {},
       "output_type": "pyout",
       "prompt_number": 21,
       "text": [
        "'zyxwvutsrqponmlkjihgfedcba'"
       ]
      }
     ],
     "prompt_number": 21
    },
    {
     "cell_type": "markdown",
     "metadata": {},
     "source": [
      "One way to get the reverse of a sequence is to slice the whole thing by omitting the first and second slice components and then use a stride of -1. So, if you want to replace a list with its reverse, rather than the above, try:"
     ]
    },
    {
     "cell_type": "code",
     "collapsed": false,
     "input": [
      "list(reversed(alf))"
     ],
     "language": "python",
     "metadata": {},
     "outputs": [
      {
       "metadata": {},
       "output_type": "pyout",
       "prompt_number": 22,
       "text": [
        "['z',\n",
        " 'y',\n",
        " 'x',\n",
        " 'w',\n",
        " 'v',\n",
        " 'u',\n",
        " 't',\n",
        " 's',\n",
        " 'r',\n",
        " 'q',\n",
        " 'p',\n",
        " 'o',\n",
        " 'n',\n",
        " 'm',\n",
        " 'l',\n",
        " 'k',\n",
        " 'j',\n",
        " 'i',\n",
        " 'h',\n",
        " 'g',\n",
        " 'f',\n",
        " 'e',\n",
        " 'd',\n",
        " 'c',\n",
        " 'b',\n",
        " 'a']"
       ]
      }
     ],
     "prompt_number": 22
    },
    {
     "cell_type": "code",
     "collapsed": false,
     "input": [
      "\"\".join(reversed(alf))"
     ],
     "language": "python",
     "metadata": {},
     "outputs": [
      {
       "metadata": {},
       "output_type": "pyout",
       "prompt_number": 23,
       "text": [
        "'zyxwvutsrqponmlkjihgfedcba'"
       ]
      }
     ],
     "prompt_number": 23
    },
    {
     "cell_type": "markdown",
     "metadata": {},
     "source": [
      "### Slice Objects\n",
      "\n",
      "When a slice is used to index an object, the interpreter actually passes a slice object "
     ]
    },
    {
     "cell_type": "code",
     "collapsed": false,
     "input": [
      "class Sliceable:\n",
      "    def __getitem__(self, index):\n",
      "        print(index)\n",
      "\n",
      "s = Sliceable()\n",
      "s[1]\n",
      "s[:]\n",
      "s[1:-1:-1]\n",
      "s[1:]\n",
      "s[:-1]"
     ],
     "language": "python",
     "metadata": {},
     "outputs": [
      {
       "output_type": "stream",
       "stream": "stdout",
       "text": [
        "1\n",
        "slice(None, None, None)\n",
        "slice(1, -1, -1)\n",
        "slice(1, None, None)\n",
        "slice(None, -1, None)\n"
       ]
      }
     ],
     "prompt_number": 30
    },
    {
     "cell_type": "markdown",
     "metadata": {},
     "source": [
      "In fact the `slice()` is a built-in type, and you can call it directly to create your own slice objects, which can then be used to access structured objects."
     ]
    },
    {
     "cell_type": "code",
     "collapsed": false,
     "input": [
      "type(slice)"
     ],
     "language": "python",
     "metadata": {},
     "outputs": [
      {
       "metadata": {},
       "output_type": "pyout",
       "prompt_number": 35,
       "text": [
        "builtins.type"
       ]
      }
     ],
     "prompt_number": 35
    },
    {
     "cell_type": "code",
     "collapsed": false,
     "input": [
      "my_slice = slice(1, -1)\n",
      "s[my_slice]"
     ],
     "language": "python",
     "metadata": {},
     "outputs": [
      {
       "output_type": "stream",
       "stream": "stdout",
       "text": [
        "slice(1, -1, None)\n"
       ]
      }
     ],
     "prompt_number": 33
    },
    {
     "cell_type": "code",
     "collapsed": false,
     "input": [
      "\"abcdefhgi\"[my_slice]"
     ],
     "language": "python",
     "metadata": {},
     "outputs": [
      {
       "metadata": {},
       "output_type": "pyout",
       "prompt_number": 34,
       "text": [
        "'bcdefhg'"
       ]
      }
     ],
     "prompt_number": 34
    },
    {
     "cell_type": "code",
     "collapsed": false,
     "input": [],
     "language": "python",
     "metadata": {},
     "outputs": []
    }
   ],
   "metadata": {}
  }
 ]
}