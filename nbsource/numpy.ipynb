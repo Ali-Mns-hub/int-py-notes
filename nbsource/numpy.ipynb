{
 "metadata": {
  "name": ""
 },
 "nbformat": 3,
 "nbformat_minor": 0,
 "worksheets": [
  {
   "cells": [
    {
     "cell_type": "markdown",
     "metadata": {},
     "source": [
      "The basic building block of numpy is the array.  Array elements are homogenous and declared upon creation.\n",
      "\n",
      "We've seen how complex access to sequence structures can be arranged using indexing (such as `x[obj]`), and that the index value `obj` can be a simple integer or a slice object.\n",
      "\n",
      "_Numpy_ extends indexing to multiple dimensions, by using tuples (of integers or slice objects ans indexes.\n",
      "\n",
      "Don't forget, tuples don't require the parentheses around them, so\n",
      "\n",
      "    x[a, b, c]\n",
      "\n",
      "is the same thing as\n",
      "\n",
      "    x[(a, b, c)]\n",
      "\n",
      "To perform the access the tuple is passed to the indexed object's `__getitem__()` method just like the index for any other indexing operation."
     ]
    },
    {
     "cell_type": "code",
     "collapsed": false,
     "input": [
      "import numpy as np"
     ],
     "language": "python",
     "metadata": {},
     "outputs": [],
     "prompt_number": 1
    },
    {
     "cell_type": "code",
     "collapsed": false,
     "input": [
      "array_1 = np.array([[0,1],[10,11],[20,21]], float)   #typecasting is handled\n",
      "array_1"
     ],
     "language": "python",
     "metadata": {},
     "outputs": [
      {
       "metadata": {},
       "output_type": "pyout",
       "prompt_number": 2,
       "text": [
        "array([[  0.,   1.],\n",
        "       [ 10.,  11.],\n",
        "       [ 20.,  21.]])"
       ]
      }
     ],
     "prompt_number": 2
    },
    {
     "cell_type": "markdown",
     "metadata": {},
     "source": [
      "Arrays can be built from lists.  (Also from files, Python arrays, etc.)\n"
     ]
    },
    {
     "cell_type": "code",
     "collapsed": false,
     "input": [
      "a_list = [0,1,10,11,20,21]\n",
      "vector = np.array(a_list, float)\n",
      "vector"
     ],
     "language": "python",
     "metadata": {},
     "outputs": [
      {
       "metadata": {},
       "output_type": "pyout",
       "prompt_number": 3,
       "text": [
        "array([  0.,   1.,  10.,  11.,  20.,  21.])"
       ]
      }
     ],
     "prompt_number": 3
    },
    {
     "cell_type": "code",
     "collapsed": false,
     "input": [
      "array_2 = np.array(a_list, float).reshape((3,2))\n",
      "array_2"
     ],
     "language": "python",
     "metadata": {},
     "outputs": [
      {
       "metadata": {},
       "output_type": "pyout",
       "prompt_number": 4,
       "text": [
        "array([[  0.,   1.],\n",
        "       [ 10.,  11.],\n",
        "       [ 20.,  21.]])"
       ]
      }
     ],
     "prompt_number": 4
    },
    {
     "cell_type": "markdown",
     "metadata": {},
     "source": [
      "You can access elements via slicing operations  These work on a vector:"
     ]
    },
    {
     "cell_type": "code",
     "collapsed": false,
     "input": [
      "vector[0]"
     ],
     "language": "python",
     "metadata": {},
     "outputs": [
      {
       "metadata": {},
       "output_type": "pyout",
       "prompt_number": 6,
       "text": [
        "0.0"
       ]
      }
     ],
     "prompt_number": 6
    },
    {
     "cell_type": "code",
     "collapsed": false,
     "input": [
      "vector[-1]"
     ],
     "language": "python",
     "metadata": {},
     "outputs": [
      {
       "metadata": {},
       "output_type": "pyout",
       "prompt_number": 7,
       "text": [
        "21.0"
       ]
      }
     ],
     "prompt_number": 7
    },
    {
     "cell_type": "code",
     "collapsed": false,
     "input": [
      "vector[0:3]"
     ],
     "language": "python",
     "metadata": {},
     "outputs": [
      {
       "metadata": {},
       "output_type": "pyout",
       "prompt_number": 8,
       "text": [
        "array([  0.,   1.,  10.])"
       ]
      }
     ],
     "prompt_number": 8
    },
    {
     "cell_type": "code",
     "collapsed": false,
     "input": [
      "vector[::-1]"
     ],
     "language": "python",
     "metadata": {},
     "outputs": [
      {
       "metadata": {},
       "output_type": "pyout",
       "prompt_number": 9,
       "text": [
        "array([ 21.,  20.,  11.,  10.,   1.,   0.])"
       ]
      }
     ],
     "prompt_number": 9
    },
    {
     "cell_type": "markdown",
     "metadata": {},
     "source": [
      "Slicing and indexing operations work on higher-dimension arrays, as well. If the number of indexes is fewer than the number of dimensions the result is also an array."
     ]
    },
    {
     "cell_type": "code",
     "collapsed": false,
     "input": [
      "array_3_list = np.array([0, 1, 2, 10, 11, 12, 20, 21, 22], float)\n",
      "array_3_list"
     ],
     "language": "python",
     "metadata": {},
     "outputs": [
      {
       "metadata": {},
       "output_type": "pyout",
       "prompt_number": 12,
       "text": [
        "array([  0.,   1.,   2.,  10.,  11.,  12.,  20.,  21.,  22.])"
       ]
      }
     ],
     "prompt_number": 12
    },
    {
     "cell_type": "code",
     "collapsed": false,
     "input": [
      "array_3 = array_3_list.reshape(3, 3)\n",
      "array_3"
     ],
     "language": "python",
     "metadata": {},
     "outputs": [
      {
       "metadata": {},
       "output_type": "pyout",
       "prompt_number": 13,
       "text": [
        "array([[  0.,   1.,   2.],\n",
        "       [ 10.,  11.,  12.],\n",
        "       [ 20.,  21.,  22.]])"
       ]
      }
     ],
     "prompt_number": 13
    },
    {
     "cell_type": "code",
     "collapsed": false,
     "input": [
      "array_3[0]"
     ],
     "language": "python",
     "metadata": {},
     "outputs": [
      {
       "metadata": {},
       "output_type": "pyout",
       "prompt_number": 14,
       "text": [
        "array([ 0.,  1.,  2.])"
       ]
      }
     ],
     "prompt_number": 14
    },
    {
     "cell_type": "code",
     "collapsed": false,
     "input": [
      "array_3[-1]"
     ],
     "language": "python",
     "metadata": {},
     "outputs": [
      {
       "metadata": {},
       "output_type": "pyout",
       "prompt_number": 15,
       "text": [
        "array([ 20.,  21.,  22.])"
       ]
      }
     ],
     "prompt_number": 15
    },
    {
     "cell_type": "code",
     "collapsed": false,
     "input": [
      "array_3[0:2]"
     ],
     "language": "python",
     "metadata": {},
     "outputs": [
      {
       "metadata": {},
       "output_type": "pyout",
       "prompt_number": 16,
       "text": [
        "array([[  0.,   1.,   2.],\n",
        "       [ 10.,  11.,  12.]])"
       ]
      }
     ],
     "prompt_number": 16
    },
    {
     "cell_type": "code",
     "collapsed": false,
     "input": [
      "array_3[::-1]"
     ],
     "language": "python",
     "metadata": {},
     "outputs": [
      {
       "metadata": {},
       "output_type": "pyout",
       "prompt_number": 17,
       "text": [
        "array([[ 20.,  21.,  22.],\n",
        "       [ 10.,  11.,  12.],\n",
        "       [  0.,   1.,   2.]])"
       ]
      }
     ],
     "prompt_number": 17
    },
    {
     "cell_type": "markdown",
     "metadata": {},
     "source": [
      "To access an individual element you use as many indexes as the array has dimensions."
     ]
    },
    {
     "cell_type": "code",
     "collapsed": false,
     "input": [
      "array_3[2,1]"
     ],
     "language": "python",
     "metadata": {},
     "outputs": [
      {
       "metadata": {},
       "output_type": "pyout",
       "prompt_number": 18,
       "text": [
        "21.0"
       ]
      }
     ],
     "prompt_number": 18
    },
    {
     "cell_type": "markdown",
     "metadata": {},
     "source": [
      "As you've already seen using fewer indexes will give you a subset of the array's data. With a two-dimenional array this amounts to selecting rows."
     ]
    },
    {
     "cell_type": "code",
     "collapsed": false,
     "input": [
      "array_3[2]"
     ],
     "language": "python",
     "metadata": {},
     "outputs": [
      {
       "metadata": {},
       "output_type": "pyout",
       "prompt_number": 19,
       "text": [
        "array([ 20.,  21.,  22.])"
       ]
      }
     ],
     "prompt_number": 19
    },
    {
     "cell_type": "markdown",
     "metadata": {},
     "source": [
      "This is fine if you want rows, but if you want a column you have to explicitly require all rows. You can do this with an empty slice specification on the required dimension or by using the Ellipsis object."
     ]
    },
    {
     "cell_type": "code",
     "collapsed": false,
     "input": [
      "array_3[:,1]"
     ],
     "language": "python",
     "metadata": {},
     "outputs": [
      {
       "metadata": {},
       "output_type": "pyout",
       "prompt_number": 20,
       "text": [
        "array([  1.,  11.,  21.])"
       ]
      }
     ],
     "prompt_number": 20
    },
    {
     "cell_type": "code",
     "collapsed": false,
     "input": [
      "..."
     ],
     "language": "python",
     "metadata": {},
     "outputs": [
      {
       "metadata": {},
       "output_type": "pyout",
       "prompt_number": 21,
       "text": [
        "Ellipsis"
       ]
      }
     ],
     "prompt_number": 21
    },
    {
     "cell_type": "code",
     "collapsed": false,
     "input": [
      "array_3[...,1]"
     ],
     "language": "python",
     "metadata": {},
     "outputs": [
      {
       "metadata": {},
       "output_type": "pyout",
       "prompt_number": 22,
       "text": [
        "array([  1.,  11.,  21.])"
       ]
      }
     ],
     "prompt_number": 22
    },
    {
     "cell_type": "markdown",
     "metadata": {},
     "source": [
      "Let's create a four-dimensional array to demonstrate that better. We'll make a 2 x 3 x 4 x 5 array from the first 120 integers. The IPython Notebook displays it as two 3-D matrices, each of which is made up of three 4 x 5 2-D matrices."
     ]
    },
    {
     "cell_type": "code",
     "collapsed": false,
     "input": [
      "array_4 = np.array(range(120), int).reshape(2, 3, 4, 5)\n",
      "array_4"
     ],
     "language": "python",
     "metadata": {},
     "outputs": [
      {
       "metadata": {},
       "output_type": "pyout",
       "prompt_number": 23,
       "text": [
        "array([[[[  0,   1,   2,   3,   4],\n",
        "         [  5,   6,   7,   8,   9],\n",
        "         [ 10,  11,  12,  13,  14],\n",
        "         [ 15,  16,  17,  18,  19]],\n",
        "\n",
        "        [[ 20,  21,  22,  23,  24],\n",
        "         [ 25,  26,  27,  28,  29],\n",
        "         [ 30,  31,  32,  33,  34],\n",
        "         [ 35,  36,  37,  38,  39]],\n",
        "\n",
        "        [[ 40,  41,  42,  43,  44],\n",
        "         [ 45,  46,  47,  48,  49],\n",
        "         [ 50,  51,  52,  53,  54],\n",
        "         [ 55,  56,  57,  58,  59]]],\n",
        "\n",
        "\n",
        "       [[[ 60,  61,  62,  63,  64],\n",
        "         [ 65,  66,  67,  68,  69],\n",
        "         [ 70,  71,  72,  73,  74],\n",
        "         [ 75,  76,  77,  78,  79]],\n",
        "\n",
        "        [[ 80,  81,  82,  83,  84],\n",
        "         [ 85,  86,  87,  88,  89],\n",
        "         [ 90,  91,  92,  93,  94],\n",
        "         [ 95,  96,  97,  98,  99]],\n",
        "\n",
        "        [[100, 101, 102, 103, 104],\n",
        "         [105, 106, 107, 108, 109],\n",
        "         [110, 111, 112, 113, 114],\n",
        "         [115, 116, 117, 118, 119]]]])"
       ]
      }
     ],
     "prompt_number": 23
    },
    {
     "cell_type": "code",
     "collapsed": false,
     "input": [
      "array_4[0, 1]"
     ],
     "language": "python",
     "metadata": {},
     "outputs": [
      {
       "metadata": {},
       "output_type": "pyout",
       "prompt_number": 26,
       "text": [
        "array([[20, 21, 22, 23, 24],\n",
        "       [25, 26, 27, 28, 29],\n",
        "       [30, 31, 32, 33, 34],\n",
        "       [35, 36, 37, 38, 39]])"
       ]
      }
     ],
     "prompt_number": 26
    },
    {
     "cell_type": "code",
     "collapsed": false,
     "input": [
      "array_4[0, ..., 1] # Ellipsis \"wildcards\" all omitted dimensions"
     ],
     "language": "python",
     "metadata": {},
     "outputs": [
      {
       "metadata": {},
       "output_type": "pyout",
       "prompt_number": 28,
       "text": [
        "array([[ 1,  6, 11, 16],\n",
        "       [21, 26, 31, 36],\n",
        "       [41, 46, 51, 56]])"
       ]
      }
     ],
     "prompt_number": 28
    },
    {
     "cell_type": "markdown",
     "metadata": {},
     "source": [
      "The Ellipsis is equivalent to a full slice \"[:]\" in each omitted dimension, as we can see by creating an array from a list comprehension built from the original array."
     ]
    },
    {
     "cell_type": "code",
     "collapsed": false,
     "input": [
      "np.array([array_4[1, i, j, 1]\n",
      "          for i in range(3)\n",
      "          for j in range(4)]).reshape(3, 4)"
     ],
     "language": "python",
     "metadata": {},
     "outputs": [
      {
       "metadata": {},
       "output_type": "pyout",
       "prompt_number": 29,
       "text": [
        "array([[ 61,  66,  71,  76],\n",
        "       [ 81,  86,  91,  96],\n",
        "       [101, 106, 111, 116]])"
       ]
      }
     ],
     "prompt_number": 29
    },
    {
     "cell_type": "markdown",
     "metadata": {},
     "source": [
      "Numpy supports a variety of built-in array operations."
     ]
    },
    {
     "cell_type": "code",
     "collapsed": false,
     "input": [
      "arr = np.array([0,1,10,11,20,21], float).reshape((3,2))\n",
      "\n",
      "print(\"array:\")\n",
      "print(arr)\n",
      "print()\n",
      "\n",
      "print(\"transpose:\")\n",
      "print(arr.transpose())\n",
      "print()\n"
     ],
     "language": "python",
     "metadata": {},
     "outputs": [
      {
       "output_type": "stream",
       "stream": "stdout",
       "text": [
        "array:\n",
        "[[  0.   1.]\n",
        " [ 10.  11.]\n",
        " [ 20.  21.]]\n",
        "\n",
        "transpose:\n",
        "[[  0.  10.  20.]\n",
        " [  1.  11.  21.]]\n",
        "\n"
       ]
      }
     ],
     "prompt_number": 141
    },
    {
     "cell_type": "markdown",
     "metadata": {},
     "source": [
      "Basic statistical operations are supported."
     ]
    },
    {
     "cell_type": "code",
     "collapsed": false,
     "input": [
      "import numpy as np\n",
      "arr = np.array([0,1,10,11,20,21], float).reshape((3,2))\n",
      "\n",
      "print(\"array:\")\n",
      "print(arr)\n",
      "print()\n",
      "\n",
      "#basic statistical operations include:\n",
      "print(\"mean: \" ,arr.mean() )\n",
      "print(\"min:  \" ,arr.min()  )\n",
      "print(\"max:  \" ,arr.max()  )\n",
      "print(\"sum:  \" ,arr.sum()  )\n",
      "print(\"std:  \" ,arr.std()  )\n"
     ],
     "language": "python",
     "metadata": {},
     "outputs": [
      {
       "output_type": "stream",
       "stream": "stdout",
       "text": [
        "array:\n",
        "[[  0.   1.]\n",
        " [ 10.  11.]\n",
        " [ 20.  21.]]\n",
        "\n",
        "mean:  10.5\n",
        "min:   0.0\n",
        "max:   21.0\n",
        "sum:   63.0\n",
        "std:   8.18026079454\n"
       ]
      }
     ],
     "prompt_number": 50
    },
    {
     "cell_type": "markdown",
     "metadata": {},
     "source": [
      "Many essential mathematical operations are built in."
     ]
    },
    {
     "cell_type": "code",
     "collapsed": false,
     "input": [
      "import numpy as np\n",
      "pi = np.pi\n",
      "\n",
      "print(\"pi:\", pi)\n",
      "print()\n",
      "\n",
      "#... these include the following (and many other common functions):\n",
      "print(\"log: \" ,       np.log(pi))\n",
      "print(\"sqrt: \" ,      np.sqrt(pi))\n",
      "print(\"sin: \" ,       np.sin(pi))\n",
      "print(\"cos: \" ,       np.cos(pi))\n",
      "print(\"tan: \" ,       np.cos(pi) )\n",
      "print(\"arcsin: \" ,    np.arcsin(.1))\n",
      "print(\"arctanh: \" ,   np.arctanh(.1))"
     ],
     "language": "python",
     "metadata": {},
     "outputs": [
      {
       "output_type": "stream",
       "stream": "stdout",
       "text": [
        "pi: 3.141592653589793\n",
        "\n",
        "log:  1.14472988585\n",
        "sqrt:  1.77245385091\n",
        "sin:  1.22464679915e-16\n",
        "cos:  -1.0\n",
        "tan:  -1.0\n",
        "arcsin:  0.100167421162\n",
        "arctanh:  0.100335347731\n"
       ]
      }
     ],
     "prompt_number": 54
    },
    {
     "cell_type": "markdown",
     "metadata": {},
     "source": [
      "Matrix operations are naturally included"
     ]
    },
    {
     "cell_type": "code",
     "collapsed": false,
     "input": [
      "arr_a = np.array([0,1,2, 10,11,12, 20,21, 22], float).reshape((3,3))\n",
      "arr_a"
     ],
     "language": "python",
     "metadata": {},
     "outputs": [
      {
       "metadata": {},
       "output_type": "pyout",
       "prompt_number": 55,
       "text": [
        "array([[  0.,   1.,   2.],\n",
        "       [ 10.,  11.,  12.],\n",
        "       [ 20.,  21.,  22.]])"
       ]
      }
     ],
     "prompt_number": 55
    },
    {
     "cell_type": "code",
     "collapsed": false,
     "input": [
      "arr_b = np.ones_like(arr_a)\n",
      "arr_b"
     ],
     "language": "python",
     "metadata": {},
     "outputs": [
      {
       "metadata": {},
       "output_type": "pyout",
       "prompt_number": 56,
       "text": [
        "array([[ 1.,  1.,  1.],\n",
        "       [ 1.,  1.,  1.],\n",
        "       [ 1.,  1.,  1.]])"
       ]
      }
     ],
     "prompt_number": 56
    },
    {
     "cell_type": "code",
     "collapsed": false,
     "input": [
      "arr_a + arr_b"
     ],
     "language": "python",
     "metadata": {},
     "outputs": [
      {
       "metadata": {},
       "output_type": "pyout",
       "prompt_number": 57,
       "text": [
        "array([[  1.,   2.,   3.],\n",
        "       [ 11.,  12.,  13.],\n",
        "       [ 21.,  22.,  23.]])"
       ]
      }
     ],
     "prompt_number": 57
    },
    {
     "cell_type": "code",
     "collapsed": false,
     "input": [
      "arr_a - arr_b"
     ],
     "language": "python",
     "metadata": {},
     "outputs": [
      {
       "metadata": {},
       "output_type": "pyout",
       "prompt_number": 58,
       "text": [
        "array([[ -1.,   0.,   1.],\n",
        "       [  9.,  10.,  11.],\n",
        "       [ 19.,  20.,  21.]])"
       ]
      }
     ],
     "prompt_number": 58
    },
    {
     "cell_type": "code",
     "collapsed": false,
     "input": [
      "http://127.0.0.1:8890/3580b9dc-5e88-447e-b9f2-7bbdf5e2dae5#arr_a * arr_b * 2\n"
     ],
     "language": "python",
     "metadata": {},
     "outputs": [
      {
       "metadata": {},
       "output_type": "pyout",
       "prompt_number": 59,
       "text": [
        "array([[  0.,   2.,   4.],\n",
        "       [ 20.,  22.,  24.],\n",
        "       [ 40.,  42.,  44.]])"
       ]
      }
     ],
     "prompt_number": 59
    },
    {
     "cell_type": "code",
     "collapsed": false,
     "input": [
      "np.linalg.inv(arr_a)"
     ],
     "language": "python",
     "metadata": {},
     "outputs": [
      {
       "output_type": "stream",
       "stream": "stdout",
       "text": [
        "array A:\n",
        "[[  0.   1.]\n",
        " [ 10.  11.]]\n",
        "\n",
        "inverse of A\n",
        "[[-1.1  0.1]\n",
        " [ 1.   0. ]]\n",
        "\n",
        "determinant of A\n",
        "-10.0\n",
        "\n",
        "eigenvalues of A\n",
        "eigenvalues [ -0.84428877  11.84428877]\n",
        "\n",
        "engenvectors of A\n",
        "eigenvectors:\n",
        "[-0.76408855 -0.08412956]\n",
        "[ 0.64511138 -0.99645482]\n"
       ]
      }
     ],
     "prompt_number": 60
    },
    {
     "cell_type": "code",
     "collapsed": false,
     "input": [
      "np.linalg.det(arr_a)"
     ],
     "language": "python",
     "metadata": {},
     "outputs": []
    },
    {
     "cell_type": "code",
     "collapsed": false,
     "input": [
      "e_vals, e_vecs =  np.linalg.eig(arr_a)\n",
      "e_vals, e_vecs"
     ],
     "language": "python",
     "metadata": {},
     "outputs": [
      {
       "metadata": {},
       "output_type": "pyout",
       "prompt_number": 61,
       "text": [
        "(array([ -0.84428877,  11.84428877]),\n",
        " array([[-0.76408855, -0.08412956],\n",
        "       [ 0.64511138, -0.99645482]]))"
       ]
      }
     ],
     "prompt_number": 61
    },
    {
     "cell_type": "code",
     "collapsed": false,
     "input": [],
     "language": "python",
     "metadata": {},
     "outputs": [],
     "prompt_number": 60
    },
    {
     "cell_type": "code",
     "collapsed": false,
     "input": [],
     "language": "python",
     "metadata": {},
     "outputs": []
    }
   ],
   "metadata": {}
  }
 ]
}