{
  "cells": [
    {
      "cell_type": "markdown",
      "metadata": {},
      "source": [
        "The basic building block of numpy is the array.  Array elements are homogenous and declared upon creation.\n",
        "\n",
        "We've seen how complex access to sequence structures can be arranged using indexing (such as `x[obj]`), and that the index value `obj` can be a simple integer or a slice object.\n",
        "\n",
        "_Numpy_ extends indexing to multiple dimensions, by using tuples (of integers or slice objects) as indexes.\n",
        "\n",
        "Don't forget, tuples don't require the parentheses around them, so\n",
        "\n",
        "    x[a, b, c]\n",
        "\n",
        "is the same thing as\n",
        "\n",
        "    x[(a, b, c)]\n",
        "\n",
        "To perform the access the tuple is passed to the indexed object's `__getitem__()` method just like the index for any other indexing operation."
      ]
    },
    {
      "cell_type": "code",
      "execution_count": 1,
      "metadata": {
        "collapsed": false
      },
      "outputs": [],
      "prompt_number": "",
      "source": [
        "import numpy as np"
      ]
    },
    {
      "cell_type": "code",
      "execution_count": 2,
      "metadata": {
        "collapsed": false
      },
      "outputs": [],
      "prompt_number": "",
      "source": [
        "array_1 = np.array([[0,1],[10,11],[20,21]], float)   #typecasting is handled\n",
        "array_1"
      ]
    },
    {
      "cell_type": "markdown",
      "metadata": {},
      "source": [
        "Arrays can be built from lists.  (Also from files, Python arrays, etc.)\n"
      ]
    },
    {
      "cell_type": "code",
      "execution_count": 3,
      "metadata": {
        "collapsed": false
      },
      "outputs": [],
      "prompt_number": "",
      "source": [
        "a_list = [0,1,10,11,20,21]\n",
        "vector = np.array(a_list, float)\n",
        "vector"
      ]
    },
    {
      "cell_type": "code",
      "execution_count": 4,
      "metadata": {
        "collapsed": false
      },
      "outputs": [],
      "prompt_number": "",
      "source": [
        "array_2 = np.array(a_list, float).reshape((3,2))\n",
        "array_2"
      ]
    },
    {
      "cell_type": "markdown",
      "metadata": {},
      "source": [
        "You can access elements via indexing and slicing operations  These work on a vector:"
      ]
    },
    {
      "cell_type": "code",
      "execution_count": 5,
      "metadata": {
        "collapsed": false
      },
      "outputs": [],
      "prompt_number": "",
      "source": [
        "vector[0]"
      ]
    },
    {
      "cell_type": "code",
      "execution_count": 6,
      "metadata": {
        "collapsed": false
      },
      "outputs": [],
      "prompt_number": "",
      "source": [
        "vector[-1]"
      ]
    },
    {
      "cell_type": "code",
      "execution_count": 7,
      "metadata": {
        "collapsed": false
      },
      "outputs": [],
      "prompt_number": "",
      "source": [
        "vector[0:3]"
      ]
    },
    {
      "cell_type": "code",
      "execution_count": 8,
      "metadata": {
        "collapsed": false
      },
      "outputs": [],
      "prompt_number": "",
      "source": [
        "vector[::-1]"
      ]
    },
    {
      "cell_type": "markdown",
      "metadata": {},
      "source": [
        "The same operations work on higher-dimension arrays, as well, with the indexes for each dimension separated by commas. If the number of indexes is fewer than the number of dimensions the result is also an array."
      ]
    },
    {
      "cell_type": "code",
      "execution_count": 9,
      "metadata": {
        "collapsed": false
      },
      "outputs": [],
      "prompt_number": "",
      "source": [
        "array_3_list = np.array([0, 1, 2, 10, 11, 12, 20, 21, 22], float)\n",
        "array_3_list"
      ]
    },
    {
      "cell_type": "code",
      "execution_count": 10,
      "metadata": {
        "collapsed": false
      },
      "outputs": [],
      "prompt_number": "",
      "source": [
        "array_3 = array_3_list.reshape(3, 3)\n",
        "array_3"
      ]
    },
    {
      "cell_type": "code",
      "execution_count": 11,
      "metadata": {
        "collapsed": false
      },
      "outputs": [],
      "prompt_number": "",
      "source": [
        "array_3[0]"
      ]
    },
    {
      "cell_type": "code",
      "execution_count": 12,
      "metadata": {
        "collapsed": false
      },
      "outputs": [],
      "prompt_number": "",
      "source": [
        "array_3[-1]"
      ]
    },
    {
      "cell_type": "code",
      "execution_count": 13,
      "metadata": {
        "collapsed": false
      },
      "outputs": [],
      "prompt_number": "",
      "source": [
        "array_3[0:2]"
      ]
    },
    {
      "cell_type": "code",
      "execution_count": 14,
      "metadata": {
        "collapsed": false
      },
      "outputs": [],
      "prompt_number": "",
      "source": [
        "array_3[::-1]"
      ]
    },
    {
      "cell_type": "markdown",
      "metadata": {},
      "source": [
        "To access an individual element you use as many indexes as the array has dimensions."
      ]
    },
    {
      "cell_type": "code",
      "execution_count": 15,
      "metadata": {
        "collapsed": false
      },
      "outputs": [],
      "prompt_number": "",
      "source": [
        "array_3[2,1]"
      ]
    },
    {
      "cell_type": "markdown",
      "metadata": {},
      "source": [
        "As you've already seen using fewer indexes will give you a subset of the array's data. With a two-dimenional array this amounts to selecting rows."
      ]
    },
    {
      "cell_type": "code",
      "execution_count": 16,
      "metadata": {
        "collapsed": false
      },
      "outputs": [],
      "prompt_number": "",
      "source": [
        "array_3[2]"
      ]
    },
    {
      "cell_type": "markdown",
      "metadata": {},
      "source": [
        "This is fine if you want rows, but if you want a column you have to explicitly require all rows. You can do this with an empty slice specification on the required dimension or by using the Ellipsis object."
      ]
    },
    {
      "cell_type": "code",
      "execution_count": 17,
      "metadata": {
        "collapsed": false
      },
      "outputs": [],
      "prompt_number": "",
      "source": [
        "array_3[:,1]"
      ]
    },
    {
      "cell_type": "code",
      "execution_count": 18,
      "metadata": {
        "collapsed": false
      },
      "outputs": [],
      "prompt_number": "",
      "source": [
        "..."
      ]
    },
    {
      "cell_type": "code",
      "execution_count": 19,
      "metadata": {
        "collapsed": false
      },
      "outputs": [],
      "prompt_number": "",
      "source": [
        "array_3[...,1]"
      ]
    },
    {
      "cell_type": "markdown",
      "metadata": {},
      "source": [
        "Let's create a four-dimensional array to demonstrate that better. We'll make a 2 x 3 x 4 x 5 array from the first 120 integers. The IPython Notebook displays it as two 3-D matrices, each of which is made up of three 4 x 5 2-D matrices."
      ]
    },
    {
      "cell_type": "code",
      "execution_count": 20,
      "metadata": {
        "collapsed": false
      },
      "outputs": [],
      "prompt_number": "",
      "source": [
        "array_4 = np.array(range(120), int).reshape(2, 3, 4, 5)\n",
        "array_4"
      ]
    },
    {
      "cell_type": "code",
      "execution_count": 21,
      "metadata": {
        "collapsed": false
      },
      "outputs": [],
      "prompt_number": "",
      "source": [
        "array_4[0, 1]"
      ]
    },
    {
      "cell_type": "code",
      "execution_count": 22,
      "metadata": {
        "collapsed": false
      },
      "outputs": [],
      "prompt_number": "",
      "source": [
        "array_4[0, ..., 1] # Ellipsis \"wildcards\" all omitted dimensions"
      ]
    },
    {
      "cell_type": "markdown",
      "metadata": {},
      "source": [
        "The Ellipsis is equivalent to a full slice \"[:]\" in each omitted dimension, as we can see by creating an array from a list comprehension built from the original array with the first and last indices fixed."
      ]
    },
    {
      "cell_type": "code",
      "execution_count": 23,
      "metadata": {
        "collapsed": false
      },
      "outputs": [],
      "prompt_number": "",
      "source": [
        "np.array([array_4[0, i, j, 1]\n",
        "              for i in range(3)\n",
        "              for j in range(4)]).reshape(3, 4)"
      ]
    },
    {
      "cell_type": "markdown",
      "metadata": {},
      "source": [
        "Numpy supports a variety of built-in array operations."
      ]
    },
    {
      "cell_type": "code",
      "execution_count": 24,
      "metadata": {
        "collapsed": false
      },
      "outputs": [],
      "prompt_number": "",
      "source": [
        "arr = np.array([0,1,10,11,20,21], float).reshape((3,2))\n",
        "arr"
      ]
    },
    {
      "cell_type": "code",
      "execution_count": 25,
      "metadata": {
        "collapsed": false
      },
      "outputs": [],
      "prompt_number": "",
      "source": [
        "arr.transpose()"
      ]
    },
    {
      "cell_type": "markdown",
      "metadata": {},
      "source": [
        "Basic statistical operations are supported."
      ]
    },
    {
      "cell_type": "code",
      "execution_count": 26,
      "metadata": {
        "collapsed": false
      },
      "outputs": [],
      "prompt_number": "",
      "source": [
        "print(\"mean: \" , arr.mean() )\n",
        "print(\"min:  \" , arr.min()  )\n",
        "print(\"max:  \" , arr.max()  )\n",
        "print(\"sum:  \" , arr.sum()  )\n",
        "print(\"std:  \" , arr.std()  )\n"
      ]
    },
    {
      "cell_type": "markdown",
      "metadata": {},
      "source": [
        "Many essential mathematical operations are built in."
      ]
    },
    {
      "cell_type": "code",
      "execution_count": 27,
      "metadata": {
        "collapsed": false
      },
      "outputs": [],
      "prompt_number": "",
      "source": [
        "import numpy as np\n",
        "pi = np.pi\n",
        "\n",
        "print(\"pi:\", pi)\n",
        "print()\n",
        "\n",
        "#... these include the following (and many other common functions):\n",
        "print(\"log:     \" , np.log(pi))\n",
        "print(\"sqrt:    \" , np.sqrt(pi))\n",
        "print(\"sin:     \" , np.sin(pi))\n",
        "print(\"cos:     \" , np.cos(pi))\n",
        "print(\"tan:     \" , np.cos(pi) )\n",
        "print(\"arcsin:  \" , np.arcsin(.1))\n",
        "print(\"arctanh: \" , np.arctanh(.1))"
      ]
    },
    {
      "cell_type": "markdown",
      "metadata": {},
      "source": [
        "Matrix operations are naturally included"
      ]
    },
    {
      "cell_type": "code",
      "execution_count": 28,
      "metadata": {
        "collapsed": false
      },
      "outputs": [],
      "prompt_number": "",
      "source": [
        "arr"
      ]
    },
    {
      "cell_type": "code",
      "execution_count": 29,
      "metadata": {
        "collapsed": false
      },
      "outputs": [],
      "prompt_number": "",
      "source": [
        "arr_ones = np.ones_like(arr)\n",
        "arr_ones"
      ]
    },
    {
      "cell_type": "code",
      "execution_count": 30,
      "metadata": {
        "collapsed": false
      },
      "outputs": [],
      "prompt_number": "",
      "source": [
        "arr + arr_ones"
      ]
    },
    {
      "cell_type": "code",
      "execution_count": 31,
      "metadata": {
        "collapsed": false
      },
      "outputs": [],
      "prompt_number": "",
      "source": [
        "arr_onezero = arr % 2\n",
        "arr_onezero"
      ]
    },
    {
      "cell_type": "markdown",
      "metadata": {},
      "source": [
        "Slicing and indexing operations work on higher-dimension arrays, as well. If the number of indexes is fewer than the number of dimensions the result is also an array."
      ]
    },
    {
      "cell_type": "code",
      "execution_count": 32,
      "metadata": {
        "collapsed": false
      },
      "outputs": [],
      "prompt_number": "",
      "source": [
        "arr * arr_onezero"
      ]
    },
    {
      "cell_type": "code",
      "execution_count": 33,
      "metadata": {
        "collapsed": false
      },
      "outputs": [],
      "prompt_number": "",
      "source": [
        "a = np.array([[1., 2.], [3., 4.]])\n",
        "a_dash = np.linalg.inv(a)\n",
        "a_dash"
      ]
    },
    {
      "cell_type": "code",
      "execution_count": 34,
      "metadata": {
        "collapsed": false
      },
      "outputs": [],
      "prompt_number": "",
      "source": [
        "np.linalg.det(a)"
      ]
    },
    {
      "cell_type": "code",
      "execution_count": 35,
      "metadata": {
        "collapsed": false
      },
      "outputs": [],
      "prompt_number": "",
      "source": [
        "np.dot(a, a_dash) # as close to the unit matrix as makes no difference"
      ]
    },
    {
      "cell_type": "code",
      "execution_count": 36,
      "metadata": {
        "collapsed": false
      },
      "outputs": [],
      "prompt_number": "",
      "source": [
        "e_vals, e_vecs =  np.linalg.eig(a)\n",
        "e_vals, e_vecs"
      ]
    },
    {
      "cell_type": "markdown",
      "metadata": {},
      "source": [
        "### Advanced Indexing\n",
        "If the index to an array is a sequence of Booleans then it selects a subset of the data according to the values in the list. Such index arrays can be used to extract only values with particular properties. Like the arithmetic operations with scalars the comparsion operations with scalars, comparison operations also return an array result, in this case of Boolean values."
      ]
    },
    {
      "cell_type": "code",
      "execution_count": 37,
      "metadata": {
        "collapsed": false
      },
      "outputs": [],
      "prompt_number": "",
      "source": [
        "a"
      ]
    },
    {
      "cell_type": "code",
      "execution_count": 38,
      "metadata": {
        "collapsed": false
      },
      "outputs": [],
      "prompt_number": "",
      "source": [
        "selector = a > 1\n",
        "selector"
      ]
    },
    {
      "cell_type": "markdown",
      "metadata": {},
      "source": [
        "When a Boolean ndarray is used as a selector a special effect occurs: the result is a linearized vector containing only the values corresponding to `True` cells in the selector matrix."
      ]
    },
    {
      "cell_type": "code",
      "execution_count": 39,
      "metadata": {
        "collapsed": false
      },
      "outputs": [],
      "prompt_number": "",
      "source": [
        "a[selector]"
      ]
    },
    {
      "cell_type": "markdown",
      "metadata": {},
      "source": [
        "If the index is a list then each element selects a subset of the array. Here's a simple way to produce a 2 x 2 array with the rows reversed."
      ]
    },
    {
      "cell_type": "code",
      "execution_count": 40,
      "metadata": {
        "collapsed": false
      },
      "outputs": [],
      "prompt_number": "",
      "source": [
        "a[[1, 0]]"
      ]
    },
    {
      "cell_type": "code",
      "execution_count": 41,
      "metadata": {
        "collapsed": false
      },
      "outputs": [],
      "prompt_number": "",
      "source": [
        "a[(1, 0)] # same as a[1, 0]"
      ]
    },
    {
      "cell_type": "code",
      "execution_count": 45,
      "metadata": {
        "collapsed": false
      },
      "outputs": [],
      "prompt_number": "",
      "source": [
        "a[[(0, 1), (1, 0)]]"
      ]
    },
    {
      "cell_type": "code",
      "execution_count": null,
      "metadata": {
        "collapsed": false
      },
      "outputs": [],
      "prompt_number": "",
      "source": []
    }
  ],
  "metadata": {},
  "nbformat": 4,
  "nbformat_minor": 0
}