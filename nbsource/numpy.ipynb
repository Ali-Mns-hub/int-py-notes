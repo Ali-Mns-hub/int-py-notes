{
 "metadata": {
  "name": ""
 },
 "nbformat": 3,
 "nbformat_minor": 0,
 "worksheets": [
  {
   "cells": [
    {
     "cell_type": "markdown",
     "metadata": {},
     "source": [
      "The basic building block of numpy is the array.  Array elements are homogenous and declared upon creation.\n",
      "\n",
      "We've seen how complex access to sequence structures can be arranged using indexing (such as `x[obj]`), and that the index value `obj` can be a simple integer or a slice object.\n",
      "\n",
      "_Numpy_ extends indexing to multiple dimensions, by using tuples (of integers or slice objects) as indexes.\n",
      "\n",
      "Don't forget, tuples don't require the parentheses around them, so\n",
      "\n",
      "    x[a, b, c]\n",
      "\n",
      "is the same thing as\n",
      "\n",
      "    x[(a, b, c)]\n",
      "\n",
      "To perform the access the tuple is passed to the indexed object's `__getitem__()` method just like the index for any other indexing operation."
     ]
    },
    {
     "cell_type": "code",
     "collapsed": false,
     "input": [
      "import numpy as np"
     ],
     "language": "python",
     "metadata": {},
     "outputs": []
    },
    {
     "cell_type": "code",
     "collapsed": false,
     "input": [
      "array_1 = np.array([[0,1],[10,11],[20,21]], float)   #typecasting is handled\n",
      "array_1"
     ],
     "language": "python",
     "metadata": {},
     "outputs": []
    },
    {
     "cell_type": "markdown",
     "metadata": {},
     "source": [
      "Arrays can be built from lists.  (Also from files, Python arrays, etc.)\n"
     ]
    },
    {
     "cell_type": "code",
     "collapsed": false,
     "input": [
      "a_list = [0,1,10,11,20,21]\n",
      "vector = np.array(a_list, float)\n",
      "vector"
     ],
     "language": "python",
     "metadata": {},
     "outputs": []
    },
    {
     "cell_type": "code",
     "collapsed": false,
     "input": [
      "array_2 = np.array(a_list, float).reshape((3,2))\n",
      "array_2"
     ],
     "language": "python",
     "metadata": {},
     "outputs": []
    },
    {
     "cell_type": "markdown",
     "metadata": {},
     "source": [
      "You can access elements via slicing operations  These work on a vector:"
     ]
    },
    {
     "cell_type": "code",
     "collapsed": false,
     "input": [
      "vector[0]"
     ],
     "language": "python",
     "metadata": {},
     "outputs": []
    },
    {
     "cell_type": "code",
     "collapsed": false,
     "input": [
      "vector[-1]"
     ],
     "language": "python",
     "metadata": {},
     "outputs": []
    },
    {
     "cell_type": "code",
     "collapsed": false,
     "input": [
      "vector[0:3]"
     ],
     "language": "python",
     "metadata": {},
     "outputs": []
    },
    {
     "cell_type": "code",
     "collapsed": false,
     "input": [
      "vector[::-1]"
     ],
     "language": "python",
     "metadata": {},
     "outputs": []
    },
    {
     "cell_type": "markdown",
     "metadata": {},
     "source": [
      "Slicing and indexing operations work on higher-dimension arrays, as well. If the number of indexes is fewer than the number of dimensions the result is also an array."
     ]
    },
    {
     "cell_type": "code",
     "collapsed": false,
     "input": [
      "array_3_list = np.array([0, 1, 2, 10, 11, 12, 20, 21, 22], float)\n",
      "array_3_list"
     ],
     "language": "python",
     "metadata": {},
     "outputs": []
    },
    {
     "cell_type": "code",
     "collapsed": false,
     "input": [
      "array_3 = array_3_list.reshape(3, 3)\n",
      "array_3"
     ],
     "language": "python",
     "metadata": {},
     "outputs": []
    },
    {
     "cell_type": "code",
     "collapsed": false,
     "input": [
      "array_3[0]"
     ],
     "language": "python",
     "metadata": {},
     "outputs": []
    },
    {
     "cell_type": "code",
     "collapsed": false,
     "input": [
      "array_3[-1]"
     ],
     "language": "python",
     "metadata": {},
     "outputs": []
    },
    {
     "cell_type": "code",
     "collapsed": false,
     "input": [
      "array_3[0:2]"
     ],
     "language": "python",
     "metadata": {},
     "outputs": []
    },
    {
     "cell_type": "code",
     "collapsed": false,
     "input": [
      "array_3[::-1]"
     ],
     "language": "python",
     "metadata": {},
     "outputs": []
    },
    {
     "cell_type": "markdown",
     "metadata": {},
     "source": [
      "To access an individual element you use as many indexes as the array has dimensions."
     ]
    },
    {
     "cell_type": "code",
     "collapsed": false,
     "input": [
      "array_3[2,1]"
     ],
     "language": "python",
     "metadata": {},
     "outputs": []
    },
    {
     "cell_type": "markdown",
     "metadata": {},
     "source": [
      "As you've already seen using fewer indexes will give you a subset of the array's data. With a two-dimenional array this amounts to selecting rows."
     ]
    },
    {
     "cell_type": "code",
     "collapsed": false,
     "input": [
      "array_3[2]"
     ],
     "language": "python",
     "metadata": {},
     "outputs": []
    },
    {
     "cell_type": "markdown",
     "metadata": {},
     "source": [
      "This is fine if you want rows, but if you want a column you have to explicitly require all rows. You can do this with an empty slice specification on the required dimension or by using the Ellipsis object."
     ]
    },
    {
     "cell_type": "code",
     "collapsed": false,
     "input": [
      "array_3[:,1]"
     ],
     "language": "python",
     "metadata": {},
     "outputs": []
    },
    {
     "cell_type": "code",
     "collapsed": false,
     "input": [
      "..."
     ],
     "language": "python",
     "metadata": {},
     "outputs": []
    },
    {
     "cell_type": "code",
     "collapsed": false,
     "input": [
      "array_3[...,1]"
     ],
     "language": "python",
     "metadata": {},
     "outputs": []
    },
    {
     "cell_type": "markdown",
     "metadata": {},
     "source": [
      "Let's create a four-dimensional array to demonstrate that better. We'll make a 2 x 3 x 4 x 5 array from the first 120 integers. The IPython Notebook displays it as two 3-D matrices, each of which is made up of three 4 x 5 2-D matrices."
     ]
    },
    {
     "cell_type": "code",
     "collapsed": false,
     "input": [
      "array_4 = np.array(range(120), int).reshape(2, 3, 4, 5)\n",
      "array_4"
     ],
     "language": "python",
     "metadata": {},
     "outputs": []
    },
    {
     "cell_type": "code",
     "collapsed": false,
     "input": [
      "array_4[0, 1]"
     ],
     "language": "python",
     "metadata": {},
     "outputs": []
    },
    {
     "cell_type": "code",
     "collapsed": false,
     "input": [
      "array_4[0, ..., 1] # Ellipsis \"wildcards\" all omitted dimensions"
     ],
     "language": "python",
     "metadata": {},
     "outputs": []
    },
    {
     "cell_type": "markdown",
     "metadata": {},
     "source": [
      "The Ellipsis is equivalent to a full slice \"[:]\" in each omitted dimension, as we can see by creating an array from a list comprehension built from the original array with the first and last indices fixed."
     ]
    },
    {
     "cell_type": "code",
     "collapsed": false,
     "input": [
      "np.array([array_4[0, i, j, 1]\n",
      "              for i in range(3)\n",
      "              for j in range(4)]).reshape(3, 4)"
     ],
     "language": "python",
     "metadata": {},
     "outputs": []
    },
    {
     "cell_type": "markdown",
     "metadata": {},
     "source": [
      "Numpy supports a variety of built-in array operations."
     ]
    },
    {
     "cell_type": "code",
     "collapsed": false,
     "input": [
      "arr = np.array([0,1,10,11,20,21], float).reshape((3,2))\n",
      "arr"
     ],
     "language": "python",
     "metadata": {},
     "outputs": []
    },
    {
     "cell_type": "code",
     "collapsed": false,
     "input": [
      "arr.transpose()"
     ],
     "language": "python",
     "metadata": {},
     "outputs": []
    },
    {
     "cell_type": "markdown",
     "metadata": {},
     "source": [
      "Basic statistical operations are supported."
     ]
    },
    {
     "cell_type": "code",
     "collapsed": false,
     "input": [
      "print(\"mean: \" ,arr.mean() )\n",
      "print(\"min:  \" ,arr.min()  )\n",
      "print(\"max:  \" ,arr.max()  )\n",
      "print(\"sum:  \" ,arr.sum()  )\n",
      "print(\"std:  \" ,arr.std()  )\n"
     ],
     "language": "python",
     "metadata": {},
     "outputs": []
    },
    {
     "cell_type": "markdown",
     "metadata": {},
     "source": [
      "Many essential mathematical operations are built in."
     ]
    },
    {
     "cell_type": "code",
     "collapsed": false,
     "input": [
      "import numpy as np\n",
      "pi = np.pi\n",
      "\n",
      "print(\"pi:\", pi)\n",
      "print()\n",
      "\n",
      "#... these include the following (and many other common functions):\n",
      "print(\"log:     \" , np.log(pi))\n",
      "print(\"sqrt:    \" , np.sqrt(pi))\n",
      "print(\"sin:     \" , np.sin(pi))\n",
      "print(\"cos:     \" , np.cos(pi))\n",
      "print(\"tan:     \" , np.cos(pi) )\n",
      "print(\"arcsin:  \" , np.arcsin(.1))\n",
      "print(\"arctanh: \" ,np.arctanh(.1))"
     ],
     "language": "python",
     "metadata": {},
     "outputs": []
    },
    {
     "cell_type": "markdown",
     "metadata": {},
     "source": [
      "Matrix operations are naturally included"
     ]
    },
    {
     "cell_type": "code",
     "collapsed": false,
     "input": [
      "arr"
     ],
     "language": "python",
     "metadata": {},
     "outputs": []
    },
    {
     "cell_type": "code",
     "collapsed": false,
     "input": [
      "arr_ones = np.ones_like(arr)\n",
      "arr_ones"
     ],
     "language": "python",
     "metadata": {},
     "outputs": []
    },
    {
     "cell_type": "code",
     "collapsed": false,
     "input": [
      "arr + arr_ones"
     ],
     "language": "python",
     "metadata": {},
     "outputs": []
    },
    {
     "cell_type": "code",
     "collapsed": false,
     "input": [
      "arr_onezero = arr % 2\n",
      "arr_onezero"
     ],
     "language": "python",
     "metadata": {},
     "outputs": []
    },
    {
     "cell_type": "code",
     "collapsed": false,
     "input": [
      "arr * arr_onezero"
     ],
     "language": "python",
     "metadata": {},
     "outputs": []
    },
    {
     "cell_type": "code",
     "collapsed": false,
     "input": [
      "a = np.array([[1., 2.], [3., 4.]])\n",
      "a_dash = np.linalg.inv(a)\n",
      "a_dash"
     ],
     "language": "python",
     "metadata": {},
     "outputs": []
    },
    {
     "cell_type": "code",
     "collapsed": false,
     "input": [
      "np.linalg.det(a)"
     ],
     "language": "python",
     "metadata": {},
     "outputs": []
    },
    {
     "cell_type": "code",
     "collapsed": false,
     "input": [
      "np.dot(a, a_dash) # as close to the unit matrix as makes no difference"
     ],
     "language": "python",
     "metadata": {},
     "outputs": []
    },
    {
     "cell_type": "code",
     "collapsed": false,
     "input": [
      "e_vals, e_vecs =  np.linalg.eig(a)\n",
      "e_vals, e_vecs"
     ],
     "language": "python",
     "metadata": {},
     "outputs": []
    }
   ],
   "metadata": {}
  }
 ]
}