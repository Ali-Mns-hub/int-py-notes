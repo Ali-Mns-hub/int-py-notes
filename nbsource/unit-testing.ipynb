{
  "cells": [
    {
      "cell_type": "markdown",
      "metadata": {},
      "source": [
        "# <img src=\"files/images/title_graphic.png\" /> ||| WORKING COPY ||| Unit Testing"
      ]
    },
    {
      "cell_type": "code",
      "execution_count": null,
      "metadata": {
        "collapsed": false
      },
      "outputs": [],
      "prompt_number": "",
      "source": [
        "from unittest import TestCase\n",
        "[name for name in dir(TestCase) if name.startswith(\"assert\")]"
      ]
    },
    {
      "cell_type": "code",
      "execution_count": null,
      "metadata": {
        "collapsed": false
      },
      "outputs": [],
      "prompt_number": "",
      "source": [
        "%%file widget.py\n",
        "#\n",
        "# The simplest thing that could possibly ... fail?\n",
        "#\n",
        "class Widget:\n",
        "    pass"
      ]
    },
    {
      "cell_type": "code",
      "execution_count": null,
      "metadata": {
        "collapsed": false
      },
      "outputs": [],
      "prompt_number": "",
      "source": [
        "%%file test1.py\n",
        "import unittest\n",
        "from widget import Widget\n",
        "\n",
        "class WidgetSizeTestCase(unittest.TestCase):\n",
        "    def test_creation(self):\n",
        "        widget = Widget(\"My Widget\")\n",
        "        self.assertEqual(widget.size(), (50, 50),\n",
        "                     \"Initial size is not (50, 50)\")\n",
        "if __name__ == \"__main__\":\n",
        "    unittest.main()"
      ]
    },
    {
      "cell_type": "code",
      "execution_count": null,
      "metadata": {
        "collapsed": false
      },
      "outputs": [],
      "prompt_number": "",
      "source": [
        "!python test1.py"
      ]
    },
    {
      "cell_type": "markdown",
      "metadata": {},
      "source": [
        "The problem is with the instantiation call to the Widget class. The message isn't terribly good, but that isn't the testing framework's fault. Test failures are only reported when an `AssertionError` exception is raised inside its assertion methods. The fact that a test couldn't create a required fixture is sort of incidental. It still needs fixing, though, so this is reported as an error."
      ]
    },
    {
      "cell_type": "markdown",
      "metadata": {},
      "source": [
        "The message indicates a problem with a call to `object()` because the `Widget` class doesn't define an `__init__()` method and so `__init__()` is inherited from `object`, the ultimate superclass in the Python universe."
      ]
    },
    {
      "cell_type": "markdown",
      "metadata": {},
      "source": [
        "Sometimes responding to such an error in your tests requires a rewrite of a test, but in this case the failure is occuring because the object under test doesn't yet have the required functionality. So let's fix it by defining an `__init__()` method that accepts an argument. This means a small rewrite of `widget.py`."
      ]
    },
    {
      "cell_type": "markdown",
      "metadata": {},
      "source": [
        "This demonstrates a fundamental principle of test-driven development. ___Change your code only to fix a failing test___. Strictly speaking we should perhaps have started with only the test, and fixed the first error (which would have been an `ImportError`) by crating the `widget` module, but that would have been taking purism just a little too far."
      ]
    },
    {
      "cell_type": "code",
      "execution_count": null,
      "metadata": {
        "collapsed": false
      },
      "outputs": [],
      "prompt_number": "",
      "source": [
        "%%file widget.py\n",
        "#\n",
        "# Now with new __init__() method\n",
        "#\n",
        "class Widget:\n",
        "    def __init__(self, title):\n",
        "        self.title = title"
      ]
    },
    {
      "cell_type": "code",
      "execution_count": null,
      "metadata": {
        "collapsed": false
      },
      "outputs": [],
      "prompt_number": "",
      "source": [
        "!python test1.py"
      ]
    },
    {
      "cell_type": "code",
      "execution_count": null,
      "metadata": {
        "collapsed": false
      },
      "outputs": [],
      "prompt_number": "",
      "source": [
        "%%file widget.py\n",
        "#\n",
        "# With improved __init__() method and a default for initial size\n",
        "#\n",
        "class Widget:\n",
        "    def __init__(self, title, size=(50, 50)):\n",
        "        self.title = title\n",
        "        self._size = size\n",
        "    def size(self):\n",
        "        pass"
      ]
    },
    {
      "cell_type": "code",
      "execution_count": null,
      "metadata": {
        "collapsed": false
      },
      "outputs": [],
      "prompt_number": "",
      "source": [
        "!python test1.py"
      ]
    },
    {
      "cell_type": "code",
      "execution_count": null,
      "metadata": {
        "collapsed": false
      },
      "outputs": [],
      "prompt_number": "",
      "source": [
        "%%file widget.py\n",
        "#\n",
        "# Now with size() method that does nothing\n",
        "#\n",
        "class Widget:\n",
        "    def __init__(self, title, size=(50, 50)):\n",
        "        self.title = title\n",
        "        self._size = size\n",
        "    def size(self):\n",
        "        return self._size"
      ]
    },
    {
      "cell_type": "code",
      "execution_count": null,
      "metadata": {
        "collapsed": false
      },
      "outputs": [],
      "prompt_number": "",
      "source": [
        "!python test1.py"
      ]
    }
  ],
  "metadata": {},
  "nbformat": 4,
  "nbformat_minor": 0
}