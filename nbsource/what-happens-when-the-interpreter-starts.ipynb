{
 "metadata": {
  "name": ""
 },
 "nbformat": 3,
 "nbformat_minor": 0,
 "worksheets": [
  {
   "cells": [
    {
     "cell_type": "markdown",
     "metadata": {},
     "source": [
      "#### PRE-RELEASE REVIEW: O'Reilly Intermediate Python Video Series\n",
      "#### Topic: What Happens when the Interpreter Starts\n",
      "Source located in `nbsource/what-happens-when-the-interpreter-starts.ipynb`. Automatically rendered from `UNKNOWN` on 2014-03-21 at 10:21:36.572700.\n",
      "#### AUTOMATICALLY GENERATED TEST NOTEBOOK - CHANGES WILL BE LOST\n",
      "#### To TEST this Notebook<br />1. select Cell | Run All, or step through with Shift/Enter<br />2. Notebook turns pink when testing starts<br />3. It turns white when the it runs to completion.<br />4. Please check the executed notebook for clarity and correctness.<br />Please [raise an issue](https://github.com/holdenweb/intermediate-python/issues) about anything you don't understand - by all means attach a saved copy of the notebook to add explanations or questions. Also please let us know about stuff you want to see covered under any heading in the outline.\n",
      "#### Your comments on the content are also welcome, particularly when [reported as issues](https://github.com/holdenweb/intermediate-python/issues)"
     ]
    },
    {
     "cell_type": "heading",
     "level": 1,
     "metadata": {},
     "source": [
      "<img src=\"https://dl.dropboxusercontent.com/u/6117375/intermediate-notebooks/title_graphic.png\" />\n",
      "||| WORKING COPY ||| What Happens When the Interpreter Starts"
     ]
    },
    {
     "cell_type": "markdown",
     "metadata": {},
     "source": [
      "This document was created on 2014-03-15 at 01:03:55.356290."
     ]
    },
    {
     "cell_type": "markdown",
     "metadata": {},
     "source": [
      "When the interpreter is started it \n",
      "\n",
      "The interpreter finally creates a new namespace with a special name, `\"__main__\"`, to act as the global namespace for the program (or sequence of interactive commands) that is about to be executed.\n",
      "\n",
      "This new namespace is populated with a few items. In a standard interactive terminal session in a shell window we see six names in a fairly recent Python release."
     ]
    },
    {
     "cell_type": "markdown",
     "metadata": {},
     "source": [
      "    Python 3.3.2 (default, Nov 19 2013, 03:15:33)\n",
      "    [GCC 4.2.1 Compatible Apple LLVM 4.2 (clang-425.0.28)] on darwin\n",
      "    Type \"help\", \"copyright\", \"credits\" or \"license\" for more information.\n",
      "    >>> dir()\n",
      "    ['__builtins__', '__doc__', '__loader__', '__name__', '__package__']\n",
      "    >>>"
     ]
    },
    {
     "cell_type": "code",
     "collapsed": false,
     "input": [
      "dir() # Compare IPython Notebook with the standard interpreter environment"
     ],
     "language": "python",
     "metadata": {},
     "outputs": [
      {
       "metadata": {},
       "output_type": "pyout",
       "prompt_number": 9,
       "text": [
        "['In',\n",
        " 'Out',\n",
        " '_',\n",
        " '_1',\n",
        " '_2',\n",
        " '_3',\n",
        " '_4',\n",
        " '_5',\n",
        " '_6',\n",
        " '_8',\n",
        " '__',\n",
        " '___',\n",
        " '__builtin__',\n",
        " '__builtins__',\n",
        " '__doc__',\n",
        " '__name__',\n",
        " '_dh',\n",
        " '_i',\n",
        " '_i1',\n",
        " '_i2',\n",
        " '_i3',\n",
        " '_i4',\n",
        " '_i5',\n",
        " '_i6',\n",
        " '_i7',\n",
        " '_i8',\n",
        " '_i9',\n",
        " '_ih',\n",
        " '_ii',\n",
        " '_iii',\n",
        " '_oh',\n",
        " '_sh',\n",
        " 'exit',\n",
        " 'get_ipython',\n",
        " 'quit']"
       ]
      }
     ],
     "prompt_number": 9
    },
    {
     "cell_type": "markdown",
     "metadata": {},
     "source": [
      "The notebook server injects quite a lot of other names into your interpreter namespace, and doesn't provide others. You'll not be troubled by most of the differences, but you might like to see what they are."
     ]
    },
    {
     "cell_type": "code",
     "collapsed": false,
     "input": [
      "[name for name in dir()\n",
      " if name not in {'__builtins__', '__doc__', '__loader__', '__name__', '__package__'}]"
     ],
     "language": "python",
     "metadata": {},
     "outputs": [
      {
       "metadata": {},
       "output_type": "pyout",
       "prompt_number": 10,
       "text": [
        "['In',\n",
        " 'Out',\n",
        " '_',\n",
        " '_1',\n",
        " '_2',\n",
        " '_3',\n",
        " '_4',\n",
        " '_5',\n",
        " '_6',\n",
        " '_8',\n",
        " '_9',\n",
        " '__',\n",
        " '___',\n",
        " '__builtin__',\n",
        " '_dh',\n",
        " '_i',\n",
        " '_i1',\n",
        " '_i10',\n",
        " '_i2',\n",
        " '_i3',\n",
        " '_i4',\n",
        " '_i5',\n",
        " '_i6',\n",
        " '_i7',\n",
        " '_i8',\n",
        " '_i9',\n",
        " '_ih',\n",
        " '_ii',\n",
        " '_iii',\n",
        " '_oh',\n",
        " '_sh',\n",
        " 'exit',\n",
        " 'get_ipython',\n",
        " 'quit']"
       ]
      }
     ],
     "prompt_number": 10
    },
    {
     "cell_type": "code",
     "collapsed": false,
     "input": [
      "dir()"
     ],
     "language": "python",
     "metadata": {},
     "outputs": [
      {
       "metadata": {},
       "output_type": "pyout",
       "prompt_number": 11,
       "text": [
        "['In',\n",
        " 'Out',\n",
        " '_',\n",
        " '_1',\n",
        " '_10',\n",
        " '_2',\n",
        " '_3',\n",
        " '_4',\n",
        " '_5',\n",
        " '_6',\n",
        " '_8',\n",
        " '_9',\n",
        " '__',\n",
        " '___',\n",
        " '__builtin__',\n",
        " '__builtins__',\n",
        " '__doc__',\n",
        " '__name__',\n",
        " '_dh',\n",
        " '_i',\n",
        " '_i1',\n",
        " '_i10',\n",
        " '_i11',\n",
        " '_i2',\n",
        " '_i3',\n",
        " '_i4',\n",
        " '_i5',\n",
        " '_i6',\n",
        " '_i7',\n",
        " '_i8',\n",
        " '_i9',\n",
        " '_ih',\n",
        " '_ii',\n",
        " '_iii',\n",
        " '_oh',\n",
        " '_sh',\n",
        " 'exit',\n",
        " 'get_ipython',\n",
        " 'quit']"
       ]
      }
     ],
     "prompt_number": 11
    },
    {
     "cell_type": "markdown",
     "metadata": {},
     "source": [
      "If you look carefully you will see that the namespace grows as you enter more commands and the notebook server accumulates more history - `_1` will now have been joined by `_2` and `_3`by the next cell. Remember that none of this stuff happens if you are just using a plain interpreter, but most programming environments will inject something into your namespace."
     ]
    },
    {
     "cell_type": "code",
     "collapsed": false,
     "input": [
      "_i1, _2"
     ],
     "language": "python",
     "metadata": {},
     "outputs": [
      {
       "metadata": {},
       "output_type": "pyout",
       "prompt_number": 12,
       "text": [
        "('dir() # Compare with standard interpreter environment',\n",
        " ['In',\n",
        "  'Out',\n",
        "  '_',\n",
        "  '_1',\n",
        "  '__',\n",
        "  '___',\n",
        "  '__builtin__',\n",
        "  '_dh',\n",
        "  '_i',\n",
        "  '_i1',\n",
        "  '_i2',\n",
        "  '_ih',\n",
        "  '_ii',\n",
        "  '_iii',\n",
        "  '_oh',\n",
        "  '_sh',\n",
        "  'exit',\n",
        "  'get_ipython',\n",
        "  'quit'])"
       ]
      }
     ],
     "prompt_number": 12
    },
    {
     "cell_type": "markdown",
     "metadata": {},
     "source": [
      "Since almost all the names begin with an underline, it isn't difficult to screen them out if you want to. Here I'm using a list comprehesnion with a condition."
     ]
    },
    {
     "cell_type": "code",
     "collapsed": false,
     "input": [
      "[n for n in dir() if not n.startswith(\"_\")]"
     ],
     "language": "python",
     "metadata": {},
     "outputs": [
      {
       "metadata": {},
       "output_type": "pyout",
       "prompt_number": 13,
       "text": [
        "['In', 'Out', 'exit', 'get_ipython', 'quit']"
       ]
      }
     ],
     "prompt_number": 13
    },
    {
     "cell_type": "markdown",
     "metadata": {},
     "source": [
      "So you see the notebook keeps inputs (and the corresponding outputs) available for later use, which can be very convenient if you want access to what you have been doing."
     ]
    },
    {
     "cell_type": "code",
     "collapsed": false,
     "input": [],
     "language": "python",
     "metadata": {},
     "outputs": [],
     "prompt_number": 13
    }
   ],
   "metadata": {}
  }
 ]
}