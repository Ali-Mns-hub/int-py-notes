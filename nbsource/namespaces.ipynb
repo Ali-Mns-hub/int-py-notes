{
 "metadata": {
  "name": ""
 },
 "nbformat": 3,
 "nbformat_minor": 0,
 "worksheets": [
  {
   "cells": [
    {
     "cell_type": "markdown",
     "metadata": {},
     "source": [
      "#### __PRE-RELEASE REVIEW: O'Reilly Intermediate Python Video Series__\n",
      "#### Topic: Namespaces \n",
      "Source located in `nbsource/namespaces.ipynb`. Automatically rendered from `UNKNOWN` on 2014-03-21 at 10:21:36.443435.\n",
      "#### AUTOMATICALLY GENERATED TEST NOTEBOOK - CHANGES WILL BE LOST\n",
      "#### To TEST this Notebook<br />1. select Cell | Run All, or step through with Shift/Enter<br />2. Notebook turns pink when testing starts<br />3. It turns white when the it runs to completion.<br />4. Please check the executed notebook for clarity and correctness.<br />Please [raise an issue](https://github.com/holdenweb/intermediate-python/issues) about anything you don't understand - by all means attach a saved copy of the notebook to add explanations or questions. Also please let us know about stuff you want to see covered under any heading in the outline.\n",
      "#### Your comments on the content are also welcome, particularly when [reported as issues](https://github.com/holdenweb/intermediate-python/issues) "
     ]
    },
    {
     "cell_type": "markdown",
     "metadata": {},
     "source": [
      "<img src=\"https://dl.dropboxusercontent.com/u/6117375/intermediate-notebooks/title_graphic.png\" />\n",
      "||| WORKING COPY ||| Namespaces"
     ]
    },
    {
     "cell_type": "markdown",
     "metadata": {},
     "source": [
      "##Namespaces"
     ]
    },
    {
     "cell_type": "markdown",
     "metadata": {},
     "source": [
      "Every Python program has a ___global___ namespace, where names are bound by assignments and function definitions within the main body of the program. When you call a function or method, Python dynamically creates a new namespace and binds the argument values to the parameter names in that namespace. Assignments made during execution of the function call (normally) result in bindings in the function call  or ___local___) namespace. When the function returns, the namespace is automatically destroyed, and any bindings inside the namespace are lost. If any objects are no longer referenced as a result of this, the memory used to store those values becomes reclaimable as garbage."
     ]
    },
    {
     "cell_type": "markdown",
     "metadata": {},
     "source": [
      "When you write large programs \"monolithically\" (as whole chunks), we can inadvertently use the same name for two different purposes at different places in the program. You can avoid that problem by incorporating the principle of modularity into your work. It is much easier to write programs as collections of small chunks that are relatively independent of one another. This will also make your programs easier to read and understand, so it's a win-win."
     ]
    },
    {
     "cell_type": "markdown",
     "metadata": {},
     "source": [
      "Python also constructs a namespace when you create a class, and in general every object (and everything is on object) in Python has a namespace. Python uses what's called a \u201clate binding\u201d technique, and dynamically resolves names at run-time by looking in a succession of namespaces. The same name can be defined in multiple namespaces, because the uses don't collide."
     ]
    },
    {
     "cell_type": "markdown",
     "metadata": {},
     "source": [
      "When the interpreter needs to resolve a particular name it looks in three specific namespaces. First, it looks in the local namespace (assuming a function call is active - for code at module level the local and global namespaces are the same). Next, it looks in the global namespace (remember, each module has its own global namespace - there is no _program_ global namespace). Finally, it looks in the \"built-in\" namespace, which holds the names of objects that are hard-wired into the Python interpreter, like exceptions and built-in functions."
     ]
    },
    {
     "cell_type": "markdown",
     "metadata": {},
     "source": []
    },
    {
     "cell_type": "code",
     "collapsed": false,
     "input": [],
     "language": "python",
     "metadata": {},
     "outputs": []
    }
   ],
   "metadata": {}
  }
 ]
}