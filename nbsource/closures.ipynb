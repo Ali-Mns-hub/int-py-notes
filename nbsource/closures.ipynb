{
<<<<<<< HEAD
 "metadata": {
  "name": ""
 },
 "nbformat": 3,
 "nbformat_minor": 0,
 "worksheets": [
  {
   "cells": [
    {
     "cell_type": "code",
     "collapsed": false,
     "input": [
      "def f(y):\n",
      "    return y\n",
      "\n",
      "def c(x):\n",
      "    def f(y):\n",
      "        return x\n",
      "    return f"
     ],
     "language": "python",
     "metadata": {},
     "outputs": [],
     "prompt_number": 10
    },
    {
     "cell_type": "code",
     "collapsed": false,
     "input": [
      "func = f\n",
      "closure = c(42)"
     ],
     "language": "python",
     "metadata": {},
     "outputs": [],
     "prompt_number": 11
    },
    {
     "cell_type": "code",
     "collapsed": false,
     "input": [
      "from dis import dis\n",
      "dis(func)"
     ],
     "language": "python",
     "metadata": {},
     "outputs": [
      {
       "output_type": "stream",
       "stream": "stdout",
       "text": [
        "  7           0 LOAD_FAST                0 (y) \n",
        "              3 RETURN_VALUE         \n"
       ]
      }
     ],
     "prompt_number": 12
    },
    {
     "cell_type": "code",
     "collapsed": false,
     "input": [
      "dis(closure)"
     ],
     "language": "python",
     "metadata": {},
     "outputs": [
      {
       "output_type": "stream",
       "stream": "stdout",
       "text": [
        "  3           0 LOAD_DEREF               0 (x) \n",
        "              3 RETURN_VALUE         \n"
       ]
      }
     ],
     "prompt_number": 13
    },
    {
     "cell_type": "code",
     "collapsed": false,
     "input": [
      "x = 'x in module'\n",
      "def  f2():\n",
      "    x = 'x in f2'\n",
      "    def myfunc():\n",
      "        x = 'x in myfunc'\n",
      "        class MyClass(object): # Note: not a function!\n",
      "            x = x\n",
      "            print(x)\n",
      "        return MyClass\n",
      "    print(dis(myfunc))\n",
      "    myfunc()\n",
      "f2()"
     ],
     "language": "python",
     "metadata": {},
     "outputs": [
      {
       "output_type": "stream",
       "stream": "stdout",
       "text": [
        "  5           0 LOAD_CONST               1 ('x in myfunc') \n",
        "              3 STORE_FAST               0 (x) \n",
        "\n",
        "  6           6 LOAD_BUILD_CLASS     \n",
        "              7 LOAD_CONST               2 (<code object MyClass at 0x104095db0, file \"<ipython-input-27-379b896d225d>\", line 6>) \n",
        "             10 LOAD_CONST               3 ('MyClass') \n",
        "             13 MAKE_FUNCTION            0 \n",
        "             16 LOAD_CONST               3 ('MyClass') \n",
        "             19 LOAD_GLOBAL              0 (object) \n",
        "             22 CALL_FUNCTION            3 (3 positional, 0 keyword pair) \n",
        "             25 STORE_FAST               1 (MyClass) \n",
        "\n",
        "  9          28 LOAD_FAST                1 (MyClass) \n",
        "             31 RETURN_VALUE         \n",
        "None\n",
        "x in module\n"
       ]
      }
     ],
     "prompt_number": 27
    },
    {
     "cell_type": "code",
     "collapsed": false,
     "input": [
      "x = 'x in module'\n",
      "def  f2():\n",
      "    x = 'x in f2'\n",
      "    def myfunc():\n",
      "        x = 'x in myfunc'\n",
      "        class MyClass(object):\n",
      "            y = x\n",
      "            print(y)\n",
      "        return MyClass\n",
      "    print(\"myfunc:\")\n",
      "    dis(myfunc)\n",
      "    print(\"myfunc closure:\\n\", myfunc.__closure__)\n",
      "    myfunc()\n",
      "print(f2.__closure__)\n",
      "f2()"
     ],
     "language": "python",
     "metadata": {},
     "outputs": [
      {
       "output_type": "stream",
       "stream": "stdout",
       "text": [
        "None\n",
        "myfunc:\n",
        "  5           0 LOAD_CONST               1 ('x in myfunc') \n",
        "              3 STORE_DEREF              0 (x) \n",
        "\n",
        "  6           6 LOAD_BUILD_CLASS     \n",
        "              7 LOAD_CLOSURE             0 (x) \n",
        "             10 BUILD_TUPLE              1 \n",
        "             13 LOAD_CONST               2 (<code object MyClass at 0x1040b3f60, file \"<ipython-input-36-98ac60a4e657>\", line 6>) \n",
        "             16 LOAD_CONST               3 ('MyClass') \n",
        "             19 MAKE_CLOSURE             0 \n",
        "             22 LOAD_CONST               3 ('MyClass') \n",
        "             25 LOAD_GLOBAL              0 (object) \n",
        "             28 CALL_FUNCTION            3 (3 positional, 0 keyword pair) \n",
        "             31 STORE_FAST               0 (MyClass) \n",
        "\n",
        "  9          34 LOAD_FAST                0 (MyClass) \n",
        "             37 RETURN_VALUE         \n",
        "myfunc closure:\n",
        " None\n",
        "x in myfunc\n"
       ]
      }
     ],
     "prompt_number": 36
    },
    {
     "cell_type": "code",
     "collapsed": false,
     "input": [
      "dis(f2)"
     ],
     "language": "python",
     "metadata": {},
     "outputs": [
      {
       "output_type": "stream",
       "stream": "stdout",
       "text": [
        "  3           0 LOAD_CONST               1 ('x in f2') \n",
        "              3 STORE_FAST               0 (x) \n",
        "\n",
        "  4           6 LOAD_CONST               2 (<code object myfunc at 0x103ad2270, file \"<ipython-input-34-ea583e0a89ba>\", line 4>) \n",
        "              9 LOAD_CONST               3 ('f2.<locals>.myfunc') \n",
        "             12 MAKE_FUNCTION            0 \n",
        "             15 STORE_FAST               1 (myfunc) \n",
        "\n",
        " 10          18 LOAD_GLOBAL              0 (print) \n",
        "             21 LOAD_CONST               4 ('myfunc:') \n",
        "             24 CALL_FUNCTION            1 (1 positional, 0 keyword pair) \n",
        "             27 POP_TOP              \n",
        "\n",
        " 11          28 LOAD_GLOBAL              1 (dis) \n",
        "             31 LOAD_FAST                1 (myfunc) \n",
        "             34 CALL_FUNCTION            1 (1 positional, 0 keyword pair) \n",
        "             37 POP_TOP              \n",
        "\n",
        " 12          38 LOAD_GLOBAL              0 (print) \n",
        "             41 LOAD_FAST                1 (myfunc) \n",
        "             44 LOAD_ATTR                2 (__closure__) \n",
        "             47 CALL_FUNCTION            1 (1 positional, 0 keyword pair) \n",
        "             50 POP_TOP              \n",
        "\n",
        " 13          51 LOAD_FAST                1 (myfunc) \n",
        "             54 CALL_FUNCTION            0 (0 positional, 0 keyword pair) \n",
        "             57 POP_TOP              \n",
        "             58 LOAD_CONST               0 (None) \n",
        "             61 RETURN_VALUE         \n"
       ]
      }
     ],
     "prompt_number": 35
    },
    {
     "cell_type": "code",
     "collapsed": false,
     "input": [
      "class __:\n",
      " def __getitem__(__, _):\n",
      "  return _\n",
      "___ = __()[...]\n",
      "___"
     ],
     "language": "python",
     "metadata": {},
     "outputs": [
      {
       "metadata": {},
       "output_type": "pyout",
       "prompt_number": 1,
       "text": [
        "Ellipsis"
       ]
      }
     ],
     "prompt_number": 1
    },
    {
     "cell_type": "code",
     "collapsed": false,
     "input": [
      "Ellipsis, type(Ellipsis)"
     ],
     "language": "python",
     "metadata": {},
     "outputs": [
      {
       "metadata": {},
       "output_type": "pyout",
       "prompt_number": 5,
       "text": [
        "(Ellipsis, builtins.ellipsis)"
       ]
      }
     ],
     "prompt_number": 5
    },
    {
     "cell_type": "code",
     "collapsed": false,
     "input": [
      "e1 = type(Ellipsis)()\n",
      "e2 = type(Ellipsis)()\n",
      "e1 is e2 is Ellipsis is ..."
     ],
     "language": "python",
     "metadata": {},
     "outputs": [
      {
       "metadata": {},
       "output_type": "pyout",
       "prompt_number": 9,
       "text": [
        "True"
       ]
      }
     ],
     "prompt_number": 9
    },
    {
     "cell_type": "code",
     "collapsed": false,
     "input": [
      "..."
     ],
     "language": "python",
     "metadata": {},
     "outputs": [
      {
       "metadata": {},
       "output_type": "pyout",
       "prompt_number": 4,
       "text": [
        "Ellipsis"
       ]
      }
     ],
     "prompt_number": 4
    },
    {
     "cell_type": "code",
     "collapsed": false,
     "input": [],
     "language": "python",
     "metadata": {},
     "outputs": []
    }
   ],
   "metadata": {}
  }
 ]
=======
  "metadata": {},
  "nbformat": 3,
  "nbformat_minor": 0,
  "worksheets": [
    {
      "cells": [
        {
          "cell_type": "code",
          "collapsed": false,
          "input": [
            "def f(y):\n",
            "    return y\n",
            "\n",
            "def c(x):\n",
            "    def f(y):\n",
            "        return x\n",
            "    return f"
          ],
          "language": "python",
          "metadata": {},
          "outputs": [],
          "prompt_number": ""
        },
        {
          "cell_type": "code",
          "collapsed": false,
          "input": [
            "func = f\n",
            "closure = c(42)"
          ],
          "language": "python",
          "metadata": {},
          "outputs": [],
          "prompt_number": ""
        },
        {
          "cell_type": "code",
          "collapsed": false,
          "input": [
            "from dis import dis\n",
            "dis(func)"
          ],
          "language": "python",
          "metadata": {},
          "outputs": [],
          "prompt_number": ""
        },
        {
          "cell_type": "code",
          "collapsed": false,
          "input": [
            "dis(closure)"
          ],
          "language": "python",
          "metadata": {},
          "outputs": [],
          "prompt_number": ""
        },
        {
          "cell_type": "code",
          "collapsed": false,
          "input": [
            "x = 'x in module'\n",
            "def  f2():\n",
            "    x = 'x in f2'\n",
            "    def myfunc():\n",
            "        x = 'x in myfunc'\n",
            "        class MyClass(object): # Note: not a function!\n",
            "            x = x\n",
            "            print(x)\n",
            "        return MyClass\n",
            "    print(dis(myfunc))\n",
            "    myfunc()\n",
            "f2()"
          ],
          "language": "python",
          "metadata": {},
          "outputs": [],
          "prompt_number": ""
        },
        {
          "cell_type": "code",
          "collapsed": false,
          "input": [
            "x = 'x in module'\n",
            "def  f2():\n",
            "    x = 'x in f2'\n",
            "    def myfunc():\n",
            "        x = 'x in myfunc'\n",
            "        class MyClass(object):\n",
            "            y = x\n",
            "            print(y)\n",
            "        return MyClass\n",
            "    print(\"myfunc:\")\n",
            "    dis(myfunc)\n",
            "    print(\"myfunc closure:\\n\", myfunc.__closure__)\n",
            "    myfunc()\n",
            "print(f2.__closure__)\n",
            "f2()"
          ],
          "language": "python",
          "metadata": {},
          "outputs": [],
          "prompt_number": ""
        },
        {
          "cell_type": "code",
          "collapsed": false,
          "input": [
            "dis(f2)"
          ],
          "language": "python",
          "metadata": {},
          "outputs": [],
          "prompt_number": ""
        },
        {
          "cell_type": "code",
          "collapsed": false,
          "input": [
            "class __:\n",
            " def __getitem__(__, _):\n",
            "  return _\n",
            "___ = __()[...]\n",
            "___"
          ],
          "language": "python",
          "metadata": {},
          "outputs": [],
          "prompt_number": ""
        },
        {
          "cell_type": "code",
          "collapsed": false,
          "input": [
            "Ellipsis, type(Ellipsis)"
          ],
          "language": "python",
          "metadata": {},
          "outputs": [],
          "prompt_number": ""
        },
        {
          "cell_type": "code",
          "collapsed": false,
          "input": [
            "e1 = type(Ellipsis)()\n",
            "e2 = type(Ellipsis)()\n",
            "e1 is e2 is Ellipsis is ..."
          ],
          "language": "python",
          "metadata": {},
          "outputs": [],
          "prompt_number": ""
        },
        {
          "cell_type": "code",
          "collapsed": false,
          "input": [
            "..."
          ],
          "language": "python",
          "metadata": {},
          "outputs": [],
          "prompt_number": ""
        },
        {
          "cell_type": "code",
          "collapsed": false,
          "input": [],
          "language": "python",
          "metadata": {},
          "outputs": [],
          "prompt_number": ""
        }
      ],
      "metadata": {}
    }
  ]
>>>>>>> master
}