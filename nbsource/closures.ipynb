{
  "cells": [
    {
      "cell_type": "code",
      "execution_count": 10,
      "metadata": {
        "collapsed": false
      },
      "outputs": [],
      "prompt_number": "",
      "source": [
        "def f(y):\n",
        "    return y\n",
        "\n",
        "def c(x):\n",
        "    def f(y):\n",
        "        return x\n",
        "    return f"
      ]
    },
    {
      "cell_type": "code",
      "execution_count": 11,
      "metadata": {
        "collapsed": false
      },
      "outputs": [],
      "prompt_number": "",
      "source": [
        "func = f\n",
        "closure = c(42)"
      ]
    },
    {
      "cell_type": "code",
      "execution_count": 12,
      "metadata": {
        "collapsed": false
      },
      "outputs": [],
      "prompt_number": "",
      "source": [
        "from dis import dis\n",
        "dis(func)"
      ]
    },
    {
      "cell_type": "code",
      "execution_count": 13,
      "metadata": {
        "collapsed": false
      },
      "outputs": [],
      "prompt_number": "",
      "source": [
        "dis(closure)"
      ]
    },
    {
      "cell_type": "code",
      "execution_count": 27,
      "metadata": {
        "collapsed": false
      },
      "outputs": [],
      "prompt_number": "",
      "source": [
        "x = 'x in module'\n",
        "def  f2():\n",
        "    x = 'x in f2'\n",
        "    def myfunc():\n",
        "        x = 'x in myfunc'\n",
        "        class MyClass(object): # Note: not a function!\n",
        "            x = x\n",
        "            print(x)\n",
        "        return MyClass\n",
        "    print(dis(myfunc))\n",
        "    myfunc()\n",
        "f2()"
      ]
    },
    {
      "cell_type": "code",
      "execution_count": 36,
      "metadata": {
        "collapsed": false
      },
      "outputs": [],
      "prompt_number": "",
      "source": [
        "x = 'x in module'\n",
        "def  f2():\n",
        "    x = 'x in f2'\n",
        "    def myfunc():\n",
        "        x = 'x in myfunc'\n",
        "        class MyClass(object):\n",
        "            y = x\n",
        "            print(y)\n",
        "        return MyClass\n",
        "    print(\"myfunc:\")\n",
        "    dis(myfunc)\n",
        "    print(\"myfunc closure:\\n\", myfunc.__closure__)\n",
        "    myfunc()\n",
        "print(f2.__closure__)\n",
        "f2()"
      ]
    },
    {
      "cell_type": "code",
      "execution_count": 35,
      "metadata": {
        "collapsed": false
      },
      "outputs": [],
      "prompt_number": "",
      "source": [
        "dis(f2)"
      ]
    },
    {
      "cell_type": "code",
      "execution_count": 1,
      "metadata": {
        "collapsed": false
      },
      "outputs": [],
      "prompt_number": "",
      "source": [
        "class __:\n",
        " def __getitem__(__, _):\n",
        "  return _\n",
        "___ = __()[...]\n",
        "___"
      ]
    },
    {
      "cell_type": "code",
      "execution_count": 5,
      "metadata": {
        "collapsed": false
      },
      "outputs": [],
      "prompt_number": "",
      "source": [
        "Ellipsis, type(Ellipsis)"
      ]
    },
    {
      "cell_type": "code",
      "execution_count": 9,
      "metadata": {
        "collapsed": false
      },
      "outputs": [],
      "prompt_number": "",
      "source": [
        "e1 = type(Ellipsis)()\n",
        "e2 = type(Ellipsis)()\n",
        "e1 is e2 is Ellipsis is ..."
      ]
    },
    {
      "cell_type": "code",
      "execution_count": 4,
      "metadata": {
        "collapsed": false
      },
      "outputs": [],
      "prompt_number": "",
      "source": [
        "..."
      ]
    },
    {
      "cell_type": "code",
      "execution_count": null,
      "metadata": {
        "collapsed": false
      },
      "outputs": [],
      "prompt_number": "",
      "source": []
    }
  ],
  "metadata": {},
  "nbformat": 4,
  "nbformat_minor": 0
}