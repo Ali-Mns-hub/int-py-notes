{
  "metadata": {},
  "nbformat": 3,
  "nbformat_minor": 0,
  "worksheets": [
    {
      "cells": [
        {
          "cell_type": "code",
          "collapsed": false,
          "input": [
            "def f(y):\n",
            "    return y\n",
            "\n",
            "def c(x):\n",
            "    def f(y):\n",
            "        return x\n",
            "    return f"
          ],
          "language": "python",
          "metadata": {},
          "outputs": [],
          "prompt_number": ""
        },
        {
          "cell_type": "code",
          "collapsed": false,
          "input": [
            "func = f\n",
            "closure = c(42)"
          ],
          "language": "python",
          "metadata": {},
          "outputs": [],
          "prompt_number": ""
        },
        {
          "cell_type": "code",
          "collapsed": false,
          "input": [
            "from dis import dis\n",
            "dis(func)"
          ],
          "language": "python",
          "metadata": {},
          "outputs": [],
          "prompt_number": ""
        },
        {
          "cell_type": "code",
          "collapsed": false,
          "input": [
            "dis(closure)"
          ],
          "language": "python",
          "metadata": {},
          "outputs": [],
          "prompt_number": ""
        },
        {
          "cell_type": "code",
          "collapsed": false,
          "input": [
            "x = 'x in module'\n",
            "def  f2():\n",
            "    x = 'x in f2'\n",
            "    def myfunc():\n",
            "        x = 'x in myfunc'\n",
            "        class MyClass(object): # Note: not a function!\n",
            "            x = x\n",
            "            print(x)\n",
            "        return MyClass\n",
            "    print(dis(myfunc))\n",
            "    myfunc()\n",
            "f2()"
          ],
          "language": "python",
          "metadata": {},
          "outputs": [],
          "prompt_number": ""
        },
        {
          "cell_type": "code",
          "collapsed": false,
          "input": [
            "x = 'x in module'\n",
            "def  f2():\n",
            "    x = 'x in f2'\n",
            "    def myfunc():\n",
            "        x = 'x in myfunc'\n",
            "        class MyClass(object):\n",
            "            y = x\n",
            "            print(y)\n",
            "        return MyClass\n",
            "    print(\"myfunc:\")\n",
            "    dis(myfunc)\n",
            "    print(\"myfunc closure:\\n\", myfunc.__closure__)\n",
            "    myfunc()\n",
            "print(f2.__closure__)\n",
            "f2()"
          ],
          "language": "python",
          "metadata": {},
          "outputs": [],
          "prompt_number": ""
        },
        {
          "cell_type": "code",
          "collapsed": false,
          "input": [
            "dis(f2)"
          ],
          "language": "python",
          "metadata": {},
          "outputs": [],
          "prompt_number": ""
        },
        {
          "cell_type": "code",
          "collapsed": false,
          "input": [
            "class __:\n",
            " def __getitem__(__, _):\n",
            "  return _\n",
            "___ = __()[...]\n",
            "___"
          ],
          "language": "python",
          "metadata": {},
          "outputs": [],
          "prompt_number": ""
        },
        {
          "cell_type": "code",
          "collapsed": false,
          "input": [
            "Ellipsis, type(Ellipsis)"
          ],
          "language": "python",
          "metadata": {},
          "outputs": [],
          "prompt_number": ""
        },
        {
          "cell_type": "code",
          "collapsed": false,
          "input": [
            "e1 = type(Ellipsis)()\n",
            "e2 = type(Ellipsis)()\n",
            "e1 is e2 is Ellipsis is ..."
          ],
          "language": "python",
          "metadata": {},
          "outputs": [],
          "prompt_number": ""
        },
        {
          "cell_type": "code",
          "collapsed": false,
          "input": [
            "..."
          ],
          "language": "python",
          "metadata": {},
          "outputs": [],
          "prompt_number": ""
        },
        {
          "cell_type": "code",
          "collapsed": false,
          "input": [],
          "language": "python",
          "metadata": {},
          "outputs": [],
          "prompt_number": ""
        }
      ],
      "metadata": {}
    }
  ]
}