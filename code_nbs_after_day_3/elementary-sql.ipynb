{
 "metadata": {},
 "nbformat": 3,
 "nbformat_minor": 0,
 "worksheets": [
  {
   "cells": [
    {
     "cell_type": "markdown",
     "metadata": {},
     "source": [
      "## <img src=\"https://dl.dropboxusercontent.com/u/6117375/intermediate-notebooks/title_graphic.png\" /> Elementary SQL\n"
     ]
    },
    {
     "cell_type": "code",
     "collapsed": false,
     "input": [
      "import sqlite3\n",
      "conn = sqlite3.connect(\"MyDatabase.sql3\")\n",
      "curs = conn.cursor()"
     ],
     "language": "python",
     "metadata": {},
     "outputs": [],
     "prompt_number": 12
    },
    {
     "cell_type": "code",
     "collapsed": false,
     "input": [
      "curs.execute(\"SELECT * FROM publisher\")"
     ],
     "language": "python",
     "metadata": {},
     "outputs": [],
     "prompt_number": 13
    },
    {
     "cell_type": "code",
     "collapsed": false,
     "input": [
      "curs.execute(\"\"\"INSERT INTO Publisher (pubid, pubName, pubURL)\n",
      "                VALUES (10, 'O''Reilly', 'www.ora.com')\"\"\")"
     ],
     "language": "python",
     "metadata": {},
     "outputs": [],
     "prompt_number": 18
    },
    {
     "cell_type": "code",
     "collapsed": false,
     "input": [
      "curs.execute(\"\"\"INSERT INTO Publisher (pubid, pubName, pubURL)\n",
      "                VALUES (12, 'New Riders', 'www.newriders.com')\"\"\")"
     ],
     "language": "python",
     "metadata": {},
     "outputs": [],
     "prompt_number": 21
    },
    {
     "cell_type": "code",
     "collapsed": false,
     "input": [
      "curs.execute(\"\"\"INSERT INTO Book (BkISBN, BkTitle, BkPubNo, BkYear)\n",
      "                VALUES('1234444455', 'Python Web Programming', 2, 2002)\"\"\")"
     ],
     "language": "python",
     "metadata": {},
     "outputs": []
    },
    {
     "cell_type": "code",
     "collapsed": false,
     "input": [
      "curs.execute(\"select * from BOOK\")"
     ],
     "language": "python",
     "metadata": {},
     "outputs": [],
     "prompt_number": 22
    },
    {
     "cell_type": "code",
     "collapsed": false,
     "input": [
      "curs.fetchall()"
     ],
     "language": "python",
     "metadata": {},
     "outputs": [],
     "prompt_number": 23
    },
    {
     "cell_type": "code",
     "collapsed": false,
     "input": [
      "curs.description"
     ],
     "language": "python",
     "metadata": {},
     "outputs": [],
     "prompt_number": 24
    },
    {
     "cell_type": "code",
     "collapsed": false,
     "input": [
      "curs.execute(\"\"\"INSERT INTO book (bkisbn, bktitle, bkyear, bkpubid)\n",
      "                 VALUES('1278077807', 'Python Web Programming', 2, 2002)"
     ],
     "language": "python",
     "metadata": {},
     "outputs": []
    },
    {
     "cell_type": "code",
     "collapsed": false,
     "input": [
      "curs.execute(\"SELECT bktitle, bkisbn, pubname from publisher\")\n",
      "curs.fetchall()\n",
      "curs.description"
     ],
     "language": "python",
     "metadata": {},
     "outputs": [],
     "prompt_number": 26
    },
    {
     "cell_type": "code",
     "collapsed": false,
     "input": [
      "curs.execute(\"\"\"SELECT BkTitle, BkISBN, PubName\n",
      "                FROM Book JOIN Publisher ON bkpubid=pubid\"\"\")\n",
      "curs.fetchall()"
     ],
     "language": "python",
     "metadata": {},
     "outputs": [],
     "prompt_number": 28
    },
    {
     "cell_type": "code",
     "collapsed": false,
     "input": [
      "curs.execute(\"\"\"INSERT INTO Publisher (pubid, pubName, pubURL)\n",
      "                VALUES (12, 'New Riders', 'www.pearson.com')\"\"\")\n",
      "curs.fetchall()"
     ],
     "language": "python",
     "metadata": {},
     "outputs": [],
     "prompt_number": 29
    },
    {
     "cell_type": "code",
     "collapsed": false,
     "input": [
      "curs.execute(\"\"\"INSERT INTO Publisher (pubid, pubName, pubURL)\n",
      "                VALUES (12, 'New Riders', 'www.pearson.com')\"\"\")\n",
      "curs.fetchall()"
     ],
     "language": "python",
     "metadata": {},
     "outputs": [],
     "prompt_number": 30
    },
    {
     "cell_type": "code",
     "collapsed": false,
     "input": [],
     "language": "python",
     "metadata": {},
     "outputs": []
    }
   ],
   "metadata": {}
  }
 ]
}