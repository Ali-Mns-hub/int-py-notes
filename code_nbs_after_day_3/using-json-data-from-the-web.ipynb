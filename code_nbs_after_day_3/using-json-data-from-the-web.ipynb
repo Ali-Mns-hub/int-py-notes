{
 "metadata": {
  "name": ""
 },
 "nbformat": 3,
 "nbformat_minor": 0,
 "worksheets": [
  {
   "cells": [
    {
     "cell_type": "markdown",
     "metadata": {},
     "source": [
      "## <img src=\"https://dl.dropboxusercontent.com/u/6117375/intermediate-notebooks/title_graphic.png\" /> Using JSON Data from the Web"
     ]
    },
    {
     "cell_type": "code",
     "collapsed": false,
     "input": [
      "import json\n",
      "import requests"
     ],
     "language": "python",
     "metadata": {},
     "outputs": [],
     "prompt_number": 1
    },
    {
     "cell_type": "code",
     "collapsed": false,
     "input": [
      "response = requests.get(\"http://www.whitehouse.gov/facts/json/whatsnext/economy\")"
     ],
     "language": "python",
     "metadata": {},
     "outputs": [],
     "prompt_number": 2
    },
    {
     "cell_type": "code",
     "collapsed": false,
     "input": [
      "response.ok"
     ],
     "language": "python",
     "metadata": {},
     "outputs": [
      {
       "metadata": {},
       "output_type": "pyout",
       "prompt_number": 3,
       "text": [
        "True"
       ]
      }
     ],
     "prompt_number": 3
    },
    {
     "cell_type": "code",
     "collapsed": false,
     "input": [
      "for h in response.headers:\n",
      "    print(h, response.headers[h])"
     ],
     "language": "python",
     "metadata": {},
     "outputs": [
      {
       "output_type": "stream",
       "stream": "stdout",
       "text": [
        "cache-control max-age=0, no-cache\n",
        "x-ah-environment prod\n",
        "date Fri, 04 Apr 2014 22:51:21 GMT\n",
        "etag \"1396651881-1\"\n",
        "vary Accept-Encoding\n",
        "content-type application/json\n",
        "content-length 2002\n",
        "x-varnish 1649191464\n",
        "x-drupal-cache MISS\n",
        "pragma no-cache\n",
        "expires Fri, 04 Apr 2014 22:51:21 GMT\n",
        "p3p CP=\"NON DSP COR ADM DEV IVA OTPi OUR LEG\"\n",
        "content-encoding gzip\n",
        "connection keep-alive\n"
       ]
      }
     ],
     "prompt_number": 4
    },
    {
     "cell_type": "code",
     "collapsed": false,
     "input": [
      "access_data = json.loads(response.content.decode(\"utf-8\"))\n",
      "type(access_data)"
     ],
     "language": "python",
     "metadata": {},
     "outputs": [
      {
       "metadata": {},
       "output_type": "pyout",
       "prompt_number": 7,
       "text": [
        "builtins.list"
       ]
      }
     ],
     "prompt_number": 7
    },
    {
     "cell_type": "code",
     "collapsed": false,
     "input": [
      "len(access_data)"
     ],
     "language": "python",
     "metadata": {},
     "outputs": [
      {
       "metadata": {},
       "output_type": "pyout",
       "prompt_number": 8,
       "text": [
        "13"
       ]
      }
     ],
     "prompt_number": 8
    },
    {
     "cell_type": "code",
     "collapsed": false,
     "input": [
      "data = access_data[0]\n",
      "data"
     ],
     "language": "python",
     "metadata": {},
     "outputs": [
      {
       "metadata": {},
       "output_type": "pyout",
       "prompt_number": 9,
       "text": [
        "{'body': 'Implement supervision and regulation over previously unregulated financial services providers such as payday lenders, debt collectors, credit bureaus and money transmitting services.',\n",
        " 'category': 'Economy',\n",
        " 'path': 'snapshots/reforming-wall-street-and-protecting-consumers',\n",
        " 'type': \"What's Next\",\n",
        " 'uid': '141835',\n",
        " 'url': 'http://www.whitehouse.gov/blog/2012/01/04/consumer-financial-protection-bureau-101-why-we-need-consumer-watchdog',\n",
        " 'url_title': 'the Consumer Financial Protection Bureau '}"
       ]
      }
     ],
     "prompt_number": 9
    },
    {
     "cell_type": "code",
     "collapsed": false,
     "input": [
      "from IPython.display import HTML\n",
      "output = []\n",
      "for item in access_data:\n",
      "    output.append('''<a href=\"{}\" alt=\"{}\">{}</a><br />'''.format(item['url'], item['body'], item['url_title']))\n",
      "HTML(\"\\n\".join(output))"
     ],
     "language": "python",
     "metadata": {},
     "outputs": [
      {
       "html": [
        "<a href=\"http://www.whitehouse.gov/blog/2012/01/04/consumer-financial-protection-bureau-101-why-we-need-consumer-watchdog\" alt=\"Implement supervision and regulation over previously unregulated financial services providers such as payday lenders, debt collectors, credit bureaus and money transmitting services.\">the Consumer Financial Protection Bureau </a><br />\n",
        "<a href=\"http://www.whitehouse.gov/the-press-office/president-obama-proposes-financial-crisis-responsibility-fee-recoup-every-last-penn\" alt=\"Impose a Financial Crisis Responsibility Fee on the largest financial institutions to compensate taxpayers for the extraordinary support they provided to stabilize the financial sector.\">a Financial Crisis Responsibility Fee</a><br />\n",
        "<a href=\"http://www.whitehouse.gov/photos-and-video/video/2012/05/19/weekly-address-congress-must-move-forward-not-back-wall-street-ref\" alt=\"Make sure Wall Street plays by the same rules as Main Street. Continue implementing Wall Street reform to prevent practices that helped lead to the financial crisis.\">enforcing Wall Street reform</a><br />\n",
        "<a href=\"http://www.whitehouse.gov/photos-and-video/video/2012/01/25/2012-state-union-address-enhanced-version#transcript\" alt=\"Crack down on fraud. Investigate large-scale financial fraud, and make the penalties for fraud count\u2014not something banks and financial firms see as the price of doing business.\">the Financial Crimes Unit</a><br />\n",
        "<a href=\"http://www.whitehouse.gov/blog/2012/05/08/president-obamas-do-list-congress-reward-american-jobs-not-outsourcing\" alt=\"Reward companies that bring jobs back to America with lower taxes and pay for it by eliminating tax incentives for companies that ship jobs overseas.\">supporting U.S. jobs, not outsourcing</a><br />\n",
        "<a href=\"http://www.whitehouse.gov/sites/default/files/docs/trade_and_exports_record.pdf\" alt=\"Open new export markets, stay tough on trade enforcement to protect U.S. companies selling products overseas, and provide U.S. businesses tools they need to export goods.\">increasing exports</a><br />\n",
        "<a href=\"http://www.whitehouse.gov/omb/factsheet/creating-the-clean-energy-of-tomorrow-and-protecting-the-environment\" alt=\"Invest in a domestic clean energy economy powered by sources like wind, solar, and clean coal. Renew successful bipartisan tax incentives that create American jobs and reduce our reliance on foreign oil.\">a clean energy economy</a><br />\n",
        "<a href=\"http://www.whitehouse.gov/blog/2012/01/13/making-it-easier-do-business-america\" alt=\"Streamline government services by consolidating six agencies and several other programs into a single department focused on helping American businesses grow and export.\">boosting American business </a><br />\n",
        "<a href=\"http://www.whitehouse.gov/blog/2012/05/16/numbers-2-million\" alt=\"Jumpstart small business hiring by cutting taxes for businesses that hire new workers or pay higher wages.\">the Small Business Hiring Tax Credit</a><br />\n",
        "<a href=\"http://www.whitehouse.gov/omb/factsheet/supporting-small-businesses-and-creating-jobs#taxes\" alt=\"Permanently eliminate capital gains taxes on certain small business stock held for more than five years to encourage investment that provides crucial funding for small businesses.\">eliminating capital gains</a><br />\n",
        "<a href=\"http://www.whitehouse.gov/omb/factsheet/supporting-small-businesses-and-creating-jobs#taxes\" alt=\"Renew tax breaks that allow companies to immediately write off the total cost of certain purchases like computers and machines to encourage investment.\">100 percent expensing</a><br />\n",
        "<a href=\"http://www.whitehouse.gov/omb/factsheet/supporting-small-businesses-and-creating-jobs#healthcare\" alt=\"In 2014, small business will be able to shop for affordable health insurance plans through state-based marketplaces, and be eligible tax credits that cover up to 50% of the cost of providing health care for employees.\">expanding tax credits for health care</a><br />\n",
        "<a href=\"http://www.whitehouse.gov/blog/2010/10/11/president-infrastructure-investment-work-needs-be-done-there-are-workers-who-are-rea\" alt=\"Put construction workers back to work with good jobs that can't be outsourced building the tools and transportation network our businesses need to compete globally.\">rebuilding America's infrastructure</a><br />"
       ],
       "metadata": {},
       "output_type": "pyout",
       "prompt_number": 10,
       "text": [
        "<IPython.core.display.HTML at 0x109428450>"
       ]
      }
     ],
     "prompt_number": 10
    },
    {
     "cell_type": "code",
     "collapsed": false,
     "input": [],
     "language": "python",
     "metadata": {},
     "outputs": []
    }
   ],
   "metadata": {}
  }
 ]
}