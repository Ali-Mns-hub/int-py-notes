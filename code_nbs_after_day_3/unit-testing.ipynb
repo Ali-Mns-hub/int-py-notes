{
 "metadata": {
  "name": ""
 },
 "nbformat": 3,
 "nbformat_minor": 0,
 "worksheets": [
  {
   "cells": [
    {
     "cell_type": "markdown",
     "metadata": {},
     "source": [
      "# <img src=\"https://dl.dropboxusercontent.com/u/6117375/intermediate-notebooks/title_graphic.png\" /> Unit Testing\n"
     ]
    },
    {
     "cell_type": "code",
     "collapsed": false,
     "input": [
      "from unittest import TestCase\n",
      "import unittest\n",
      "[name for name in dir(TestCase) if name.startswith(\"assert\")]"
     ],
     "language": "python",
     "metadata": {},
     "outputs": [
      {
       "metadata": {},
       "output_type": "pyout",
       "prompt_number": 1,
       "text": [
        "['assertAlmostEqual',\n",
        " 'assertAlmostEquals',\n",
        " 'assertCountEqual',\n",
        " 'assertDictContainsSubset',\n",
        " 'assertDictEqual',\n",
        " 'assertEqual',\n",
        " 'assertEquals',\n",
        " 'assertFalse',\n",
        " 'assertGreater',\n",
        " 'assertGreaterEqual',\n",
        " 'assertIn',\n",
        " 'assertIs',\n",
        " 'assertIsInstance',\n",
        " 'assertIsNone',\n",
        " 'assertIsNot',\n",
        " 'assertIsNotNone',\n",
        " 'assertLess',\n",
        " 'assertLessEqual',\n",
        " 'assertListEqual',\n",
        " 'assertMultiLineEqual',\n",
        " 'assertNotAlmostEqual',\n",
        " 'assertNotAlmostEquals',\n",
        " 'assertNotEqual',\n",
        " 'assertNotEquals',\n",
        " 'assertNotIn',\n",
        " 'assertNotIsInstance',\n",
        " 'assertNotRegex',\n",
        " 'assertRaises',\n",
        " 'assertRaisesRegex',\n",
        " 'assertRaisesRegexp',\n",
        " 'assertRegex',\n",
        " 'assertRegexpMatches',\n",
        " 'assertSequenceEqual',\n",
        " 'assertSetEqual',\n",
        " 'assertTrue',\n",
        " 'assertTupleEqual',\n",
        " 'assertWarns',\n",
        " 'assertWarnsRegex',\n",
        " 'assert_']"
       ]
      }
     ],
     "prompt_number": 1
    },
    {
     "cell_type": "code",
     "collapsed": false,
     "input": [
      "%%file widget.py\n",
      "#\n",
      "# The simplest thing that could possibly ... fail?\n",
      "#\n",
      "class Widget:\n",
      "    pass"
     ],
     "language": "python",
     "metadata": {},
     "outputs": [
      {
       "output_type": "stream",
       "stream": "stdout",
       "text": [
        "Writing widget.py\n"
       ]
      }
     ],
     "prompt_number": 2
    },
    {
     "cell_type": "code",
     "collapsed": false,
     "input": [
      "%%file test1.py\n",
      "import unittest\n",
      "from widget import Widget\n",
      "\n",
      "class WidgetSizeTestCase(unittest.TestCase):\n",
      "    def test_creation(self):\n",
      "        widget = Widget(\"My Widget\")\n",
      "        self.assertEqual(widget.size(), (50, 50),\n",
      "                     \"Initial size is not (50, 50)\")\n",
      "if __name__ == \"__main__\":\n",
      "    unittest.main()"
     ],
     "language": "python",
     "metadata": {},
     "outputs": [
      {
       "output_type": "stream",
       "stream": "stdout",
       "text": [
        "Writing test1.py\n"
       ]
      }
     ],
     "prompt_number": 3
    },
    {
     "cell_type": "code",
     "collapsed": false,
     "input": [
      "!python test1.py"
     ],
     "language": "python",
     "metadata": {},
     "outputs": [
      {
       "output_type": "stream",
       "stream": "stdout",
       "text": [
        "E\r\n",
        "======================================================================\r\n",
        "ERROR: test_creation (__main__.WidgetSizeTestCase)\r\n",
        "----------------------------------------------------------------------\r\n",
        "Traceback (most recent call last):\r\n",
        "  File \"test1.py\", line 6, in test_creation\r\n",
        "    widget = Widget(\"My Widget\")\r\n",
        "TypeError: object() takes no parameters\r\n",
        "\r\n",
        "----------------------------------------------------------------------\r\n",
        "Ran 1 test in 0.001s\r\n",
        "\r\n",
        "FAILED (errors=1)\r\n"
       ]
      }
     ],
     "prompt_number": 4
    },
    {
     "cell_type": "code",
     "collapsed": false,
     "input": [
      "%%file widget.py\n",
      "#\n",
      "# Now with new __init__() method\n",
      "#\n",
      "class Widget:\n",
      "    def __init__(self, title):\n",
      "        self.title = title"
     ],
     "language": "python",
     "metadata": {},
     "outputs": [
      {
       "output_type": "stream",
       "stream": "stdout",
       "text": [
        "Overwriting widget.py\n"
       ]
      }
     ],
     "prompt_number": 5
    },
    {
     "cell_type": "code",
     "collapsed": false,
     "input": [
      "!python test1.py"
     ],
     "language": "python",
     "metadata": {},
     "outputs": [
      {
       "output_type": "stream",
       "stream": "stdout",
       "text": [
        "E\r\n",
        "======================================================================\r\n",
        "ERROR: test_creation (__main__.WidgetSizeTestCase)\r\n",
        "----------------------------------------------------------------------\r\n",
        "Traceback (most recent call last):\r\n",
        "  File \"test1.py\", line 7, in test_creation\r\n",
        "    self.assertEqual(widget.size(), (50, 50),\r\n",
        "AttributeError: 'Widget' object has no attribute 'size'\r\n",
        "\r\n",
        "----------------------------------------------------------------------\r\n",
        "Ran 1 test in 0.001s\r\n",
        "\r\n",
        "FAILED (errors=1)\r\n"
       ]
      }
     ],
     "prompt_number": 6
    },
    {
     "cell_type": "code",
     "collapsed": false,
     "input": [
      "%%file widget.py\n",
      "#\n",
      "# With improved __init__() method and a default for initial size\n",
      "#\n",
      "class Widget:\n",
      "    def __init__(self, title, size=(50, 50)):\n",
      "        self.title = title\n",
      "        self._size = size\n",
      "    def size(self):\n",
      "        pass"
     ],
     "language": "python",
     "metadata": {},
     "outputs": [
      {
       "output_type": "stream",
       "stream": "stdout",
       "text": [
        "Overwriting widget.py\n"
       ]
      }
     ],
     "prompt_number": 8
    },
    {
     "cell_type": "code",
     "collapsed": false,
     "input": [
      "!python test1.py"
     ],
     "language": "python",
     "metadata": {},
     "outputs": [
      {
       "output_type": "stream",
       "stream": "stdout",
       "text": [
        "F\r\n",
        "======================================================================\r\n",
        "FAIL: test_creation (__main__.WidgetSizeTestCase)\r\n",
        "----------------------------------------------------------------------\r\n",
        "Traceback (most recent call last):\r\n",
        "  File \"test1.py\", line 8, in test_creation\r\n",
        "    \"Initial size is not (50, 50)\")\r\n",
        "AssertionError: None != (50, 50) : Initial size is not (50, 50)\r\n",
        "\r\n",
        "----------------------------------------------------------------------\r\n",
        "Ran 1 test in 0.001s\r\n",
        "\r\n",
        "FAILED (failures=1)\r\n"
       ]
      }
     ],
     "prompt_number": 9
    },
    {
     "cell_type": "code",
     "collapsed": false,
     "input": [
      "%%file widget.py\n",
      "#\n",
      "# Now with size() method that does nothing\n",
      "#\n",
      "class Widget:\n",
      "    def __init__(self, title, size=(50, 50)):\n",
      "        self.title = title\n",
      "        self._size = size\n",
      "    def size(self):\n",
      "        return self._size"
     ],
     "language": "python",
     "metadata": {},
     "outputs": [
      {
       "output_type": "stream",
       "stream": "stdout",
       "text": [
        "Overwriting widget.py\n"
       ]
      }
     ],
     "prompt_number": 11
    },
    {
     "cell_type": "code",
     "collapsed": false,
     "input": [
      "!python test1.py"
     ],
     "language": "python",
     "metadata": {},
     "outputs": [
      {
       "output_type": "stream",
       "stream": "stdout",
       "text": [
        ".\r\n",
        "----------------------------------------------------------------------\r\n",
        "Ran 1 test in 0.000s\r\n",
        "\r\n",
        "OK\r\n"
       ]
      }
     ],
     "prompt_number": 12
    },
    {
     "cell_type": "code",
     "collapsed": false,
     "input": [],
     "language": "python",
     "metadata": {},
     "outputs": []
    }
   ],
   "metadata": {}
  }
 ]
}