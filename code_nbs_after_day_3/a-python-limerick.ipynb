{
 "metadata": {},
 "nbformat": 3,
 "nbformat_minor": 0,
 "worksheets": [
  {
   "cells": [
    {
     "cell_type": "markdown",
     "metadata": {},
     "source": [
      "## <img src=\"https://dl.dropboxusercontent.com/u/6117375/intermediate-notebooks/title_graphic.png\" /> a-python-limerick\n"
     ]
    },
    {
     "cell_type": "code",
     "collapsed": false,
     "input": [
      "# With acknowledgments to Micheal Spencer\n",
      "\n",
      "from itertools import repeat\n",
      "for feet in [3,3,2,2,3]:\n",
      "    print(\" \".join(\"DA-DA-DUM\"\n",
      "    for dummy in [None]\n",
      "for foot in repeat(\"metric\", feet)))"
     ],
     "language": "python",
     "metadata": {},
     "outputs": [],
     "prompt_number": 1
    }
   ],
   "metadata": {}
  }
 ]
}