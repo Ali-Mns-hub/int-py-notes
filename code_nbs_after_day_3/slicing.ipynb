{
 "metadata": {},
 "nbformat": 3,
 "nbformat_minor": 0,
 "worksheets": [
  {
   "cells": [
    {
     "cell_type": "markdown",
     "metadata": {},
     "source": [
      "## <img src=\"https://dl.dropboxusercontent.com/u/6117375/intermediate-notebooks/title_graphic.png\" /> Slicing\n"
     ]
    },
    {
     "cell_type": "code",
     "collapsed": false,
     "input": [
      "s, t, lst = \"0123456789\"[:], ('one', 'two', 'three')[:], [1, 2, 3, 4][:]\n",
      "s, lst, t"
     ],
     "language": "python",
     "metadata": {},
     "outputs": []
    },
    {
     "cell_type": "code",
     "collapsed": false,
     "input": [
      "id(s)==id(s[:]), id(t)==id(t[:]), id(lst)==id(lst[:])"
     ],
     "language": "python",
     "metadata": {},
     "outputs": []
    },
    {
     "cell_type": "code",
     "collapsed": false,
     "input": [
      "s[0:len(s)], t[0:len(t)], lst[0:len(lst)]"
     ],
     "language": "python",
     "metadata": {},
     "outputs": []
    },
    {
     "cell_type": "code",
     "collapsed": false,
     "input": [
      "lst[len(lst)]"
     ],
     "language": "python",
     "metadata": {},
     "outputs": [],
     "prompt_number": 1
    },
    {
     "cell_type": "code",
     "collapsed": false,
     "input": [
      "s[4:7], len(s[4:7])"
     ],
     "language": "python",
     "metadata": {},
     "outputs": []
    },
    {
     "cell_type": "code",
     "collapsed": false,
     "input": [
      "for sequence in s, t, lst:\n",
      "    for n in range(len(sequence)):\n",
      "        print(n, sequence, \"||\", sequence[:n], \"|\", sequence[n:])"
     ],
     "language": "python",
     "metadata": {},
     "outputs": []
    },
    {
     "cell_type": "code",
     "collapsed": false,
     "input": [
      "s[:1000], s[1000:]"
     ],
     "language": "python",
     "metadata": {},
     "outputs": []
    },
    {
     "cell_type": "code",
     "collapsed": false,
     "input": [
      "print(s)\n",
      "for i in range(1, len(s)):\n",
      "    print(i,\":\",  s[-i], s[len(s)-i])"
     ],
     "language": "python",
     "metadata": {},
     "outputs": []
    },
    {
     "cell_type": "code",
     "collapsed": false,
     "input": [
      "s[-len(s)]"
     ],
     "language": "python",
     "metadata": {},
     "outputs": []
    },
    {
     "cell_type": "code",
     "collapsed": false,
     "input": [
      "s[-5]"
     ],
     "language": "python",
     "metadata": {},
     "outputs": []
    },
    {
     "cell_type": "code",
     "collapsed": false,
     "input": [
      "s[-5:-1]"
     ],
     "language": "python",
     "metadata": {},
     "outputs": []
    },
    {
     "cell_type": "code",
     "collapsed": false,
     "input": [
      "s[-5:-7]"
     ],
     "language": "python",
     "metadata": {},
     "outputs": []
    },
    {
     "cell_type": "code",
     "collapsed": false,
     "input": [
      "s[10-5:10-7], s[5:3]"
     ],
     "language": "python",
     "metadata": {},
     "outputs": []
    },
    {
     "cell_type": "code",
     "collapsed": false,
     "input": [
      "s[-7:9]"
     ],
     "language": "python",
     "metadata": {},
     "outputs": []
    },
    {
     "cell_type": "code",
     "collapsed": false,
     "input": [
      "class Indexable():\n",
      "    def __getitem__(self, arg):\n",
      "        print(\"Getitem:\", arg)\n",
      "\n",
      "indexable = Indexable()\n",
      "indexable[2]"
     ],
     "language": "python",
     "metadata": {},
     "outputs": []
    },
    {
     "cell_type": "code",
     "collapsed": false,
     "input": [
      "indexable[1:4]"
     ],
     "language": "python",
     "metadata": {},
     "outputs": []
    },
    {
     "cell_type": "code",
     "collapsed": false,
     "input": [
      "slice_object = slice(1, 4, None)\n",
      "for i in range(6):\n",
      "    start, stop, stride = slice_object.indices(i)\n",
      "    print(start, stop, stride, repr(s[start:stop]))"
     ],
     "language": "python",
     "metadata": {},
     "outputs": []
    }
   ],
   "metadata": {}
  }
 ]
}