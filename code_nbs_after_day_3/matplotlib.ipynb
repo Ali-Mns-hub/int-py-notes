{
 "metadata": {},
 "nbformat": 3,
 "nbformat_minor": 0,
 "worksheets": [
  {
   "cells": [
    {
     "cell_type": "markdown",
     "metadata": {},
     "source": [
      "## <img src=\"https://dl.dropboxusercontent.com/u/6117375/intermediate-notebooks/title_graphic.png\" /> matplotlib\n"
     ]
    },
    {
     "cell_type": "code",
     "collapsed": false,
     "input": [
      "%matplotlib inline"
     ],
     "language": "python",
     "metadata": {},
     "outputs": []
    },
    {
     "cell_type": "code",
     "collapsed": false,
     "input": [
      "from pylab import figure, show\n",
      "import numpy as np\n",
      "from numpy import sin, cos, exp, pi\n",
      "import matplotlib.pyplot as plt\n",
      "\n",
      "x = np.linspace(0, 2, 200)"
     ],
     "language": "python",
     "metadata": {},
     "outputs": []
    },
    {
     "cell_type": "code",
     "collapsed": false,
     "input": [
      "font = {'family' : 'serif',\n",
      "        'color'  : 'darkred',\n",
      "        'weight' : 'normal',\n",
      "        'size'   : 16,\n",
      "        }\n",
      "\n",
      "x = np.linspace(0.0, 5.0, 100)\n",
      "y = cos(2 * pi * x) * exp(-x)\n",
      "\n",
      "plt.plot(x, y, 'k')\n",
      "plt.title('Damped exponential decay', fontdict=font)\n",
      "plt.text(2, 0.65, r'$\\cos(2 \\pi t) \\exp(-t)$', fontdict=font)\n",
      "plt.xlabel('time (s)', fontdict=font)\n",
      "plt.ylabel('voltage (mV)', fontdict=font)\n",
      "\n",
      "# Tweak spacing to prevent clipping of ylabel\n",
      "plt.subplots_adjust(left=0.15)\n",
      "plt.show()"
     ],
     "language": "python",
     "metadata": {},
     "outputs": []
    },
    {
     "cell_type": "code",
     "collapsed": false,
     "input": [
      "frame = plt.figure(2)             #main container\n",
      "p1 = frame.add_subplot(211)  #2 row, 1 col grid in figure, subplot #1\n",
      "p1.plot(x, cos(6*pi*x))\n",
      "#what'll it look like?\n",
      "p1.grid(True)\n",
      "p1.set_xlabel(\"X\")\n",
      "p1.set_ylim( (-2,2) )\n",
      "p1.set_ylabel('cos 6*pi*x')\n",
      "p1.set_title('Simple Matplotlib Demo')\n",
      "\n",
      "#bottom chart\n",
      "p2 = frame.add_subplot(212)  #2 row, 1 col grid in figure, subplot #2\n",
      "p2.plot(x, sin(3*pi*x))\n",
      "p2.grid(True)\n",
      "p2.set_xlabel(\"X\")\n",
      "p2.set_ylim( (-2,2) )\n",
      "p2.set_ylabel('sin 3*pi*x')\n",
      "\n",
      "\n",
      "for label in p1.get_xticklabels():\n",
      "    label.set_color('black')\n",
      "    \n",
      "frame.show()    "
     ],
     "language": "python",
     "metadata": {},
     "outputs": []
    },
    {
     "cell_type": "code",
     "collapsed": false,
     "input": [
      "from mpl_toolkits.mplot3d import axes3d\n",
      "import matplotlib.pyplot as plt\n",
      "from matplotlib import cm\n",
      "\n",
      "fig = plt.figure(figsize=(8,8), dpi=200)                    #main container (drawing size and resolution)\n",
      "ax = fig.gca(projection='3d')                               #could be polar ...\n",
      "X, Y, Z = axes3d.get_test_data()\n",
      "\n",
      "ax.plot_surface(X, Y, Z, rstride=5, cstride=10, alpha=0.5)          #coutour isocline spacking\n",
      "cset = ax.contour(X, Y, Z, zdir='x', offset=-40, cmap=cm.YlGnBu)    #map data to canvas ...\n",
      "cset = ax.contour(X, Y, Z, zdir='y', offset=40, cmap=cm.Greens)\n",
      "cset = ax.contour(X, Y, Z, zdir='z', offset=-100, cmap=cm.Pastel1)\n",
      "\n",
      "ax.set_xlabel('X')      #axes scaling/labeling\n",
      "ax.set_xlim(-40, 40)\n",
      "ax.set_ylabel('Y')\n",
      "ax.set_ylim(-40, 40)\n",
      "ax.set_zlabel('Z')\n",
      "ax.set_zlim(-90, 90)\n",
      "\n",
      "plt.show()\n",
      "\n"
     ],
     "language": "python",
     "metadata": {},
     "outputs": []
    }
   ],
   "metadata": {}
  }
 ]
}