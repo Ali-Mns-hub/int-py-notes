{
 "metadata": {},
 "nbformat": 3,
 "nbformat_minor": 0,
 "worksheets": [
  {
   "cells": [
    {
     "cell_type": "markdown",
     "metadata": {},
     "source": [
      "## <img src=\"https://dl.dropboxusercontent.com/u/6117375/intermediate-notebooks/title_graphic.png\" /> Importing Modules\n"
     ]
    },
    {
     "cell_type": "code",
     "collapsed": false,
     "input": [
      "dir()"
     ],
     "language": "python",
     "metadata": {},
     "outputs": []
    },
    {
     "cell_type": "code",
     "collapsed": false,
     "input": [
      "[x for x in dir() if not x.startswith(\"_\")]"
     ],
     "language": "python",
     "metadata": {},
     "outputs": []
    },
    {
     "cell_type": "code",
     "collapsed": false,
     "input": [
      "%%file mod_simple.py\n",
      "\"\"\"This is a simple module to demonstrate the import mechanism.\n",
      "It contains a function definition and a print statement that will\n",
      "cause output to appear when the module's code is executed.\"\"\"\n",
      "\n",
      "def f_simple(s):\n",
      "    line = \"-\"*len(s)\n",
      "    return \"\\n\".join([line, s, line])\n",
      "\n",
      "print(f_simple(\"This is a test string\"))"
     ],
     "language": "python",
     "metadata": {},
     "outputs": []
    },
    {
     "cell_type": "code",
     "collapsed": false,
     "input": [
      "import sys"
     ],
     "language": "python",
     "metadata": {},
     "outputs": []
    },
    {
     "cell_type": "code",
     "collapsed": false,
     "input": [
      "import mod_simple"
     ],
     "language": "python",
     "metadata": {},
     "outputs": []
    },
    {
     "cell_type": "code",
     "collapsed": false,
     "input": [
      "mod_simple, sys.modules[\"mod_simple\"], id(mod_simple)"
     ],
     "language": "python",
     "metadata": {},
     "outputs": []
    },
    {
     "cell_type": "code",
     "collapsed": false,
     "input": [
      "import mod_simple\n",
      "id(mod_simple)"
     ],
     "language": "python",
     "metadata": {},
     "outputs": []
    },
    {
     "cell_type": "code",
     "collapsed": false,
     "input": [
      "del mod_simple\n",
      "import mod_simple\n",
      "mod_simple, id(mod_simple)"
     ],
     "language": "python",
     "metadata": {},
     "outputs": []
    },
    {
     "cell_type": "code",
     "collapsed": false,
     "input": [
      "del sys.modules['mod_simple']\n",
      "import mod_simple\n",
      "mod_simple, id(mod_simple)"
     ],
     "language": "python",
     "metadata": {},
     "outputs": []
    },
    {
     "cell_type": "code",
     "collapsed": false,
     "input": [
      "%%file mod_simple.py\n",
      "\"\"\"This is a simple module to demonstrate the import mechanism.\n",
      "It contains a function definition and a print statement that will\n",
      "cause output to appear when the module's code is executed.\n",
      "\n",
      "This version has been modified to use stars not minus signs.\"\"\"\n",
      "\n",
      "def f_simple(s):\n",
      "    line = \"*\"*len(s)\n",
      "    return \"\\n\".join([line, s, line])\n",
      "\n",
      "print(f_simple(\"This is a test string\"))"
     ],
     "language": "python",
     "metadata": {},
     "outputs": []
    },
    {
     "cell_type": "code",
     "collapsed": false,
     "input": [
      "del sys.modules['mod_simple']\n",
      "import mod_simple\n",
      "mod_simple, id(mod_simple)"
     ],
     "language": "python",
     "metadata": {},
     "outputs": []
    },
    {
     "cell_type": "code",
     "collapsed": false,
     "input": [
      "[x for x in dir() if x[0]!=\"_\"]"
     ],
     "language": "python",
     "metadata": {},
     "outputs": []
    },
    {
     "cell_type": "code",
     "collapsed": false,
     "input": [
      "[x for x in dir(mod_simple) if x[0]!=\"_\"]"
     ],
     "language": "python",
     "metadata": {},
     "outputs": []
    },
    {
     "cell_type": "code",
     "collapsed": false,
     "input": [
      "mod_simple.f_simple"
     ],
     "language": "python",
     "metadata": {},
     "outputs": []
    },
    {
     "cell_type": "code",
     "collapsed": false,
     "input": [
      "[x for x in dir() if not x.startswith(\"_\")]"
     ],
     "language": "python",
     "metadata": {},
     "outputs": []
    }
   ],
   "metadata": {}
  }
 ]
}