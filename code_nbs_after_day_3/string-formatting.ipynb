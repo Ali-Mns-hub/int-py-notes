{
 "metadata": {},
 "nbformat": 3,
 "nbformat_minor": 0,
 "worksheets": [
  {
   "cells": [
    {
     "cell_type": "markdown",
     "metadata": {},
     "source": [
      "## <img src=\"https://dl.dropboxusercontent.com/u/6117375/intermediate-notebooks/title_graphic.png\" /> string-formatting\n"
     ]
    },
    {
     "cell_type": "code",
     "collapsed": false,
     "input": [
      "i = 42\n",
      "r = 31.97\n",
      "c = 2.2 + 3.3j\n",
      "s = \"String\"\n",
      "lst = [\"zero\", \"one\", \"two\", \"three\", \"four\", \"five\"]\n",
      "dct = {\"Jim\": \"Dandy\",\n",
      "     \"Stella\": \"DuBois\",\n",
      "     1: \"integer\"}"
     ],
     "language": "python",
     "metadata": {},
     "outputs": [],
     "prompt_number": 2
    },
    {
     "cell_type": "code",
     "collapsed": false,
     "input": [
      "while True:\n",
      "    fmt = input(\"Format string: \")            \n",
      "    if not fmt:\n",
      "        break\n",
      "    fms = \"{\"+fmt+\"}\"\n",
      "    print(\"Format:\", fms, \"output:\", fms.format(i, r, c, s, e=lst, f=dct))"
     ],
     "language": "python",
     "metadata": {},
     "outputs": [],
     "prompt_number": "*"
    },
    {
     "cell_type": "code",
     "collapsed": false,
     "input": [],
     "language": "python",
     "metadata": {},
     "outputs": []
    },
    {
     "cell_type": "code",
     "collapsed": false,
     "input": [],
     "language": "python",
     "metadata": {},
     "outputs": []
    }
   ],
   "metadata": {}
  }
 ]
}