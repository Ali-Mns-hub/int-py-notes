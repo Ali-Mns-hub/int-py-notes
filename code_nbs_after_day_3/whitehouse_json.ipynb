{
 "metadata": {
  "name": ""
 },
 "nbformat": 3,
 "nbformat_minor": 0,
 "worksheets": [
  {
   "cells": [
    {
     "cell_type": "markdown",
     "metadata": {},
     "source": [
      "## <img src=\"https://dl.dropboxusercontent.com/u/6117375/intermediate-notebooks/title_graphic.png\" /> Using JSON Data from the Web"
     ]
    },
    {
     "cell_type": "code",
     "collapsed": false,
     "input": [
      "import json\n",
      "import requests"
     ],
     "language": "python",
     "metadata": {},
     "outputs": [],
     "prompt_number": 1
    },
    {
     "cell_type": "code",
     "collapsed": false,
     "input": [
      "response = requests.get(\"http://www.whitehouse.gov/facts/json/whatsnext/economy\")"
     ],
     "language": "python",
     "metadata": {},
     "outputs": [],
     "prompt_number": 2
    },
    {
     "cell_type": "code",
     "collapsed": false,
     "input": [
      "dir(response)"
     ],
     "language": "python",
     "metadata": {},
     "outputs": [
      {
       "metadata": {},
       "output_type": "pyout",
       "prompt_number": 8,
       "text": [
        "['__attrs__',\n",
        " '__bool__',\n",
        " '__class__',\n",
        " '__delattr__',\n",
        " '__dict__',\n",
        " '__dir__',\n",
        " '__doc__',\n",
        " '__eq__',\n",
        " '__format__',\n",
        " '__ge__',\n",
        " '__getattribute__',\n",
        " '__getstate__',\n",
        " '__gt__',\n",
        " '__hash__',\n",
        " '__init__',\n",
        " '__iter__',\n",
        " '__le__',\n",
        " '__lt__',\n",
        " '__module__',\n",
        " '__ne__',\n",
        " '__new__',\n",
        " '__nonzero__',\n",
        " '__reduce__',\n",
        " '__reduce_ex__',\n",
        " '__repr__',\n",
        " '__setattr__',\n",
        " '__setstate__',\n",
        " '__sizeof__',\n",
        " '__str__',\n",
        " '__subclasshook__',\n",
        " '__weakref__',\n",
        " '_content',\n",
        " '_content_consumed',\n",
        " 'apparent_encoding',\n",
        " 'close',\n",
        " 'connection',\n",
        " 'content',\n",
        " 'cookies',\n",
        " 'elapsed',\n",
        " 'encoding',\n",
        " 'headers',\n",
        " 'history',\n",
        " 'iter_content',\n",
        " 'iter_lines',\n",
        " 'json',\n",
        " 'links',\n",
        " 'ok',\n",
        " 'raise_for_status',\n",
        " 'raw',\n",
        " 'reason',\n",
        " 'request',\n",
        " 'status_code',\n",
        " 'text',\n",
        " 'url']"
       ]
      }
     ],
     "prompt_number": 8
    },
    {
     "cell_type": "code",
     "collapsed": false,
     "input": [
      "response.text"
     ],
     "language": "python",
     "metadata": {},
     "outputs": [
      {
       "metadata": {},
       "output_type": "pyout",
       "prompt_number": 10,
       "text": [
        "'[{\"category\":\"Economy\",\"uid\":\"141835\",\"body\":\"Implement supervision and regulation over previously unregulated financial services providers such as payday lenders, debt collectors, credit bureaus and money transmitting services.\",\"url\":\"http:\\\\/\\\\/www.whitehouse.gov\\\\/blog\\\\/2012\\\\/01\\\\/04\\\\/consumer-financial-protection-bureau-101-why-we-need-consumer-watchdog\",\"url_title\":\"the Consumer Financial Protection Bureau \",\"type\":\"What\\'s Next\",\"path\":\"snapshots\\\\/reforming-wall-street-and-protecting-consumers\"},{\"category\":\"Economy\",\"uid\":\"141841\",\"body\":\"Impose a Financial Crisis Responsibility Fee on the largest financial institutions to compensate taxpayers for the extraordinary support they provided to stabilize the financial sector.\",\"url\":\"http:\\\\/\\\\/www.whitehouse.gov\\\\/the-press-office\\\\/president-obama-proposes-financial-crisis-responsibility-fee-recoup-every-last-penn\",\"url_title\":\"a Financial Crisis Responsibility Fee\",\"type\":\"What\\'s Next\",\"path\":\"snapshots\\\\/reforming-wall-street-and-protecting-consumers\"},{\"category\":\"Economy\",\"uid\":\"141847\",\"body\":\"Make sure Wall Street plays by the same rules as Main Street. Continue implementing Wall Street reform to prevent practices that helped lead to the financial crisis.\",\"url\":\"http:\\\\/\\\\/www.whitehouse.gov\\\\/photos-and-video\\\\/video\\\\/2012\\\\/05\\\\/19\\\\/weekly-address-congress-must-move-forward-not-back-wall-street-ref\",\"url_title\":\"enforcing Wall Street reform\",\"type\":\"What\\'s Next\",\"path\":\"snapshots\\\\/reforming-wall-street-and-protecting-consumers\"},{\"category\":\"Economy\",\"uid\":\"141853\",\"body\":\"Crack down on fraud. Investigate large-scale financial fraud, and make the penalties for fraud count\\\\u2014not something banks and financial firms see as the price of doing business.\",\"url\":\"http:\\\\/\\\\/www.whitehouse.gov\\\\/photos-and-video\\\\/video\\\\/2012\\\\/01\\\\/25\\\\/2012-state-union-address-enhanced-version#transcript\",\"url_title\":\"the Financial Crimes Unit\",\"type\":\"What\\'s Next\",\"path\":\"snapshots\\\\/reforming-wall-street-and-protecting-consumers\"},{\"category\":\"Economy\",\"uid\":\"153349\",\"body\":\"Reward companies that bring jobs back to America with lower taxes and pay for it by eliminating tax incentives for companies that ship jobs overseas.\",\"url\":\"http:\\\\/\\\\/www.whitehouse.gov\\\\/blog\\\\/2012\\\\/05\\\\/08\\\\/president-obamas-do-list-congress-reward-american-jobs-not-outsourcing\",\"url_title\":\"supporting U.S. jobs, not outsourcing\",\"type\":\"What\\'s Next\",\"path\":\"snapshots\\\\/supporting-manufacturing-and-american-auto-industry\"},{\"category\":\"Economy\",\"uid\":\"153355\",\"body\":\"Open new export markets, stay tough on trade enforcement to protect U.S. companies selling products overseas, and provide U.S. businesses tools they need to export goods.\",\"url\":\"http:\\\\/\\\\/www.whitehouse.gov\\\\/sites\\\\/default\\\\/files\\\\/docs\\\\/trade_and_exports_record.pdf\",\"url_title\":\"increasing exports\",\"type\":\"What\\'s Next\",\"path\":\"snapshots\\\\/supporting-manufacturing-and-american-auto-industry\"},{\"category\":\"Economy\",\"uid\":\"153361\",\"body\":\"Invest in a domestic clean energy economy powered by sources like wind, solar, and clean coal. Renew successful bipartisan tax incentives that create American jobs and reduce our reliance on foreign oil.\",\"url\":\"http:\\\\/\\\\/www.whitehouse.gov\\\\/omb\\\\/factsheet\\\\/creating-the-clean-energy-of-tomorrow-and-protecting-the-environment\",\"url_title\":\"a clean energy economy\",\"type\":\"What\\'s Next\",\"path\":\"snapshots\\\\/supporting-manufacturing-and-american-auto-industry\"},{\"category\":\"Economy\",\"uid\":\"153715\",\"body\":\"Streamline government services by consolidating six agencies and several other programs into a single department focused on helping American businesses grow and export.\",\"url\":\"http:\\\\/\\\\/www.whitehouse.gov\\\\/blog\\\\/2012\\\\/01\\\\/13\\\\/making-it-easier-do-business-america\",\"url_title\":\"boosting American business \",\"type\":\"What\\'s Next\",\"path\":\"snapshots\\\\/boosting-trade-and-american-exports\"},{\"category\":\"Economy\",\"uid\":\"155205\",\"body\":\"Jumpstart small business hiring by cutting taxes for businesses that hire new workers or pay higher wages.\",\"url\":\"http:\\\\/\\\\/www.whitehouse.gov\\\\/blog\\\\/2012\\\\/05\\\\/16\\\\/numbers-2-million\",\"url_title\":\"the Small Business Hiring Tax Credit\",\"type\":\"What\\'s Next\",\"path\":\"snapshots\\\\/creating-american-jobs\"},{\"category\":\"Economy\",\"uid\":\"155211\",\"body\":\"Permanently eliminate capital gains taxes on certain small business stock held for more than five years to encourage investment that provides crucial funding for small businesses.\",\"url\":\"http:\\\\/\\\\/www.whitehouse.gov\\\\/omb\\\\/factsheet\\\\/supporting-small-businesses-and-creating-jobs#taxes\",\"url_title\":\"eliminating capital gains\",\"type\":\"What\\'s Next\",\"path\":\"snapshots\\\\/supporting-small-business-and-entrepreneurs\"},{\"category\":\"Economy\",\"uid\":\"155217\",\"body\":\"Renew tax breaks that allow companies to immediately write off the total cost of certain purchases like computers and machines to encourage investment.\",\"url\":\"http:\\\\/\\\\/www.whitehouse.gov\\\\/omb\\\\/factsheet\\\\/supporting-small-businesses-and-creating-jobs#taxes\",\"url_title\":\"100 percent expensing\",\"type\":\"What\\'s Next\",\"path\":\"snapshots\\\\/supporting-small-business-and-entrepreneurs\"},{\"category\":\"Economy\",\"uid\":\"155235\",\"body\":\"In 2014, small business will be able to shop for affordable health insurance plans through state-based marketplaces, and be eligible tax credits that cover up to 50% of the cost of providing health care for employees.\",\"url\":\"http:\\\\/\\\\/www.whitehouse.gov\\\\/omb\\\\/factsheet\\\\/supporting-small-businesses-and-creating-jobs#healthcare\",\"url_title\":\"expanding tax credits for health care\",\"type\":\"What\\'s Next\",\"path\":\"snapshots\\\\/supporting-small-business-and-entrepreneurs\"},{\"category\":\"Economy\",\"uid\":\"162607\",\"body\":\"Put construction workers back to work with good jobs that can\\'t be outsourced building the tools and transportation network our businesses need to compete globally.\",\"url\":\"http:\\\\/\\\\/www.whitehouse.gov\\\\/blog\\\\/2010\\\\/10\\\\/11\\\\/president-infrastructure-investment-work-needs-be-done-there-are-workers-who-are-rea\",\"url_title\":\"rebuilding America\\'s infrastructure\",\"type\":\"What\\'s Next\",\"path\":\"snapshots\\\\/creating-american-jobs\"}]'"
       ]
      }
     ],
     "prompt_number": 10
    },
    {
     "cell_type": "code",
     "collapsed": false,
     "input": [
      "access_data = json.loads(response.content.decode(\"utf-8\")) mail"
     ],
     "language": "python",
     "metadata": {},
     "outputs": [],
     "prompt_number": 4
    },
    {
     "cell_type": "code",
     "collapsed": false,
     "input": [
      "data = access_data[0]"
     ],
     "language": "python",
     "metadata": {},
     "outputs": [],
     "prompt_number": 5
    },
    {
     "cell_type": "code",
     "collapsed": false,
     "input": [
      "output = []\n",
      "for item in access_data:\n",
      "    output.append('''<a href=\"{}\" alt=\"{}\">{}</a><br />'''.format(item['url'], item['body'], item['url_title']))\n",
      "print(\"\\n\".join(output))"
     ],
     "language": "python",
     "metadata": {},
     "outputs": [
      {
       "output_type": "stream",
       "stream": "stdout",
       "text": [
        "<a href=\"http://www.whitehouse.gov/blog/2012/01/04/consumer-financial-protection-bureau-101-why-we-need-consumer-watchdog\" alt=\"Implement supervision and regulation over previously unregulated financial services providers such as payday lenders, debt collectors, credit bureaus and money transmitting services.\">the Consumer Financial Protection Bureau </a><br />\n",
        "<a href=\"http://www.whitehouse.gov/the-press-office/president-obama-proposes-financial-crisis-responsibility-fee-recoup-every-last-penn\" alt=\"Impose a Financial Crisis Responsibility Fee on the largest financial institutions to compensate taxpayers for the extraordinary support they provided to stabilize the financial sector.\">a Financial Crisis Responsibility Fee</a><br />\n",
        "<a href=\"http://www.whitehouse.gov/photos-and-video/video/2012/05/19/weekly-address-congress-must-move-forward-not-back-wall-street-ref\" alt=\"Make sure Wall Street plays by the same rules as Main Street. Continue implementing Wall Street reform to prevent practices that helped lead to the financial crisis.\">enforcing Wall Street reform</a><br />\n",
        "<a href=\"http://www.whitehouse.gov/photos-and-video/video/2012/01/25/2012-state-union-address-enhanced-version#transcript\" alt=\"Crack down on fraud. Investigate large-scale financial fraud, and make the penalties for fraud count\u2014not something banks and financial firms see as the price of doing business.\">the Financial Crimes Unit</a><br />\n",
        "<a href=\"http://www.whitehouse.gov/blog/2012/05/08/president-obamas-do-list-congress-reward-american-jobs-not-outsourcing\" alt=\"Reward companies that bring jobs back to America with lower taxes and pay for it by eliminating tax incentives for companies that ship jobs overseas.\">supporting U.S. jobs, not outsourcing</a><br />\n",
        "<a href=\"http://www.whitehouse.gov/sites/default/files/docs/trade_and_exports_record.pdf\" alt=\"Open new export markets, stay tough on trade enforcement to protect U.S. companies selling products overseas, and provide U.S. businesses tools they need to export goods.\">increasing exports</a><br />\n",
        "<a href=\"http://www.whitehouse.gov/omb/factsheet/creating-the-clean-energy-of-tomorrow-and-protecting-the-environment\" alt=\"Invest in a domestic clean energy economy powered by sources like wind, solar, and clean coal. Renew successful bipartisan tax incentives that create American jobs and reduce our reliance on foreign oil.\">a clean energy economy</a><br />\n",
        "<a href=\"http://www.whitehouse.gov/blog/2012/01/13/making-it-easier-do-business-america\" alt=\"Streamline government services by consolidating six agencies and several other programs into a single department focused on helping American businesses grow and export.\">boosting American business </a><br />\n",
        "<a href=\"http://www.whitehouse.gov/blog/2012/05/16/numbers-2-million\" alt=\"Jumpstart small business hiring by cutting taxes for businesses that hire new workers or pay higher wages.\">the Small Business Hiring Tax Credit</a><br />\n",
        "<a href=\"http://www.whitehouse.gov/omb/factsheet/supporting-small-businesses-and-creating-jobs#taxes\" alt=\"Permanently eliminate capital gains taxes on certain small business stock held for more than five years to encourage investment that provides crucial funding for small businesses.\">eliminating capital gains</a><br />\n",
        "<a href=\"http://www.whitehouse.gov/omb/factsheet/supporting-small-businesses-and-creating-jobs#taxes\" alt=\"Renew tax breaks that allow companies to immediately write off the total cost of certain purchases like computers and machines to encourage investment.\">100 percent expensing</a><br />\n",
        "<a href=\"http://www.whitehouse.gov/omb/factsheet/supporting-small-businesses-and-creating-jobs#healthcare\" alt=\"In 2014, small business will be able to shop for affordable health insurance plans through state-based marketplaces, and be eligible tax credits that cover up to 50% of the cost of providing health care for employees.\">expanding tax credits for health care</a><br />\n",
        "<a href=\"http://www.whitehouse.gov/blog/2010/10/11/president-infrastructure-investment-work-needs-be-done-there-are-workers-who-are-rea\" alt=\"Put construction workers back to work with good jobs that can't be outsourced building the tools and transportation network our businesses need to compete globally.\">rebuilding America's infrastructure</a><br />\n"
       ]
      }
     ],
     "prompt_number": 7
    },
    {
     "cell_type": "code",
     "collapsed": false,
     "input": [],
     "language": "python",
     "metadata": {},
     "outputs": []
    }
   ],
   "metadata": {}
  }
 ]
}