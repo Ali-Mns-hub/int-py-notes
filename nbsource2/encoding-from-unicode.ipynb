{
  "cells": [
    {
      "cell_type": "markdown",
      "metadata": {},
      "source": [
        "#Encoding from Unicode"
      ]
    },
    {
      "cell_type": "markdown",
      "metadata": {},
      "source": [
        "When your editing system is capable of handling Unicode (and the IPython Notebook certainly is) you can include Unicode characters directly in your string literals, but not in your byte strings. Unfortunately the only reliable mechanism for communication with arbitrary endpoints is a stream of bytes. \n",
        "\n",
        "The issue here is that each character (or one-byte escape sequence) is supposed to appear in the bytestring as one byte. There is, for example, no way to represent the Euro symbol in a single byte. The question then arises as to how you write Unicode strings out to the byte streams that at base are the only way to communicate with storage devices and network endpoints."
      ]
    },
    {
      "cell_type": "markdown",
      "metadata": {},
      "source": [
        "So let's look at how the interpreter undertakes this fascinating task. We do so by the brute-force method of writing a text file out and then reading it back in binary."
      ]
    },
    {
      "cell_type": "markdown",
      "metadata": {},
      "source": [
        "The answer is by adopting encodings, but a further complication arises: how do two parties agree on the particular encoding to use? Sometimes people just use the default encoding (which by default is `UTF-8` for Python), and even that policy goes a long way. Some network protocols like HTTP allow headers to specifiy the encoding of some or all of the message content. We will disregard that question from now on.\n",
        "\n",
        "For now we will focus on the question of how you can convert the Unicode string `\"Please pay \u20ac9.99 at exit\"` for storage or transmission."
      ]
    },
    {
      "cell_type": "code",
      "execution_count": null,
      "metadata": {
        "collapsed": false
      },
      "outputs": [],
      "prompt_number": "",
      "source": [
        "s1 = u'Please pay \u20ac9.99 at exit'\n",
        "o_f = open(\"unicode.txt\", \"w\")\n",
        "print(type(o_f))"
      ]
    },
    {
      "cell_type": "code",
      "execution_count": null,
      "metadata": {
        "collapsed": false
      },
      "outputs": [],
      "prompt_number": "",
      "source": [
        "o_f.write(s1.encode(\"utf-8\"))\n",
        "o_f.close()\n",
        "i_f = open(\"unicode.txt\", \"rb\")"
      ]
    },
    {
      "cell_type": "code",
      "execution_count": null,
      "metadata": {
        "collapsed": false
      },
      "outputs": [],
      "prompt_number": "",
      "source": [
        "b1 = i_f.read()\n",
        "print b1, repr(b1)\n",
        "i_f.close()"
      ]
    },
    {
      "cell_type": "markdown",
      "metadata": {},
      "source": [
        "The interpreter has obviously written something other than the Unicode character to the file, and has written the Euro character out as the three-byte sequence `b'\\xe2\\x82\\xac'`.\n",
        "Clearly the web browser understand this, because it's interpreting\n",
        "those three bytes as a Euro sign when presented with them."
      ]
    },
    {
      "cell_type": "markdown",
      "metadata": {},
      "source": [
        "You may wonder, if you happen to remember that the euro sign is Unicode code point `0x20ac`, why those bytes don't appear in `b1`. The answer is that the byte string `b1` represents an ___encoding___ of the (Unicode) string `'Please pay \u20ac9.99 at exit'`. The `io.TextWrapper` object `o_f` took your Unicode string and turned it into a sequence of bytes. In fact the three-byte string `'\\xe2\\x82\\xac'` is how the code point is encoded in a scheme known as ___UTF-8___."
      ]
    },
    {
      "cell_type": "code",
      "execution_count": null,
      "metadata": {
        "collapsed": false
      },
      "outputs": [],
      "prompt_number": "",
      "source": [
        "repr(\"\u20ac\"), repr(u\"\u20ac\")"
      ]
    },
    {
      "cell_type": "markdown",
      "metadata": {},
      "source": [
        "The system used to write these lessons had UTF-8 as its default encoding, which has many advantages in this role.\n",
        "As discussed elsewhere, for good reasons there are many different encodings, and by using Unicode your programs allow users to work with their favored encodings. Coding and decoding is performed by __codecs__. The [Python standard library\n",
        "](http://docs.python.org/3/library/codecs.html#standard-encodings) provides codecs for many of the more popular encodings."
      ]
    },
    {
      "cell_type": "code",
      "execution_count": null,
      "metadata": {
        "collapsed": false
      },
      "outputs": [],
      "prompt_number": "",
      "source": [
        "import sys\n",
        "sys.getdefaultencoding()"
      ]
    },
    {
      "cell_type": "markdown",
      "metadata": {},
      "source": [
        "When you open a file in Python 3 you can specify the encoding you want to use. In Python 2 the encoding has to be explicitly performed.\n",
        "Not all encodings can handle the full range of Unicode code points. For\n",
        "example, the IBM775 encoding has never been updated to include the Euro symbol."
      ]
    },
    {
      "cell_type": "code",
      "execution_count": null,
      "metadata": {
        "collapsed": false
      },
      "outputs": [],
      "prompt_number": "",
      "source": [
        "o_f = open(\"unicode.txt\", \"w\")\n",
        "print(type(o_f))\n",
        "o_f.write(s1.decode(\"utf-8\").encode(\"IBM775\"))"
      ]
    },
    {
      "cell_type": "code",
      "execution_count": null,
      "metadata": {
        "collapsed": false
      },
      "outputs": [],
      "prompt_number": "",
      "source": [
        "o_f = open(\"unicode.txt\", \"w\")\n",
        "print(type(o_f))"
      ]
    },
    {
      "cell_type": "code",
      "execution_count": null,
      "metadata": {
        "collapsed": false
      },
      "outputs": [],
      "prompt_number": "",
      "source": [
        "o_f.write(s1.encode(\"utf-16-be\"))\n",
        "o_f.close()\n",
        "i_f = open(\"unicode.txt\", \"rb\")\n",
        "print type(i_f)\n",
        "b1 = i_f.read()"
      ]
    },
    {
      "cell_type": "code",
      "execution_count": null,
      "metadata": {
        "collapsed": false
      },
      "outputs": [],
      "prompt_number": "",
      "source": [
        "l1 = l2 = \"\"\n",
        "for b in b1[::1]:\n",
        "    l1 += \"{0:02X}|\".format(ord(b))\n",
        "    l2 += \"{0:2}|\".format(b)\n",
        "i_f.close()\n",
        "print l2\n",
        "print l1"
      ]
    },
    {
      "cell_type": "code",
      "execution_count": null,
      "metadata": {
        "collapsed": false
      },
      "outputs": [],
      "prompt_number": "",
      "source": [
        "be = b'\\x20\\xac'"
      ]
    },
    {
      "cell_type": "code",
      "execution_count": null,
      "metadata": {
        "collapsed": false
      },
      "outputs": [],
      "prompt_number": "",
      "source": [
        "be.decode('utf-16-be')"
      ]
    },
    {
      "cell_type": "markdown",
      "metadata": {},
      "source": [
        "###Possible Discussions\n",
        "\n",
        "* Which encodings might you want to use?\n",
        "* Are there advantages to one encoding over another?\n",
        "\n",
        "###And, of course, whatever _you_ want ..."
      ]
    }
  ],
  "metadata": {
    "kernelspec": {
      "display_name": "Python 2",
      "language": "python",
      "name": "python2"
    },
    "language_info": {
      "codemirror_mode": {
        "name": "ipython",
        "version": 2
      },
      "file_extension": ".py",
      "mimetype": "text/x-python",
      "name": "python",
      "nbconvert_exporter": "python",
      "pygments_lexer": "ipython2",
      "version": "2.7.2"
    }
  },
  "nbformat": 4,
  "nbformat_minor": 0
}