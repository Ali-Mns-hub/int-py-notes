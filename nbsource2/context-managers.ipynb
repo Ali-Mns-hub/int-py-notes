{
  "cells": [
    {
      "cell_type": "markdown",
      "metadata": {},
      "source": [
        "#Context Managers"
      ]
    },
    {
      "cell_type": "markdown",
      "metadata": {},
      "source": [
        "A context manager is an object with `__enter__()` and `__exit__()` methods.\n",
        "Context managers are used by the `with` statement to establish an execution context\n",
        "for a subsidiary block of code.\n",
        "\n",
        "The `with` statement calls the manager's `__enter__()` method.\n",
        "If the optional `as` clause is used then the result of the enter method\n",
        "is bound to the variable for use in the code block.\n",
        "\n",
        "The default object is __not__ a context manager."
      ]
    },
    {
      "cell_type": "code",
      "execution_count": 1,
      "metadata": {
        "collapsed": false
      },
      "outputs": [],
      "prompt_number": "",
      "source": [
        "with object():\n",
        "    print(\"hello\")"
      ]
    },
    {
      "cell_type": "code",
      "execution_count": 2,
      "metadata": {
        "collapsed": false
      },
      "outputs": [],
      "prompt_number": "",
      "source": [
        "hasattr(object(), \"__enter__\"), hasattr(object(), \"__exit__\")"
      ]
    },
    {
      "cell_type": "markdown",
      "metadata": {},
      "source": [
        "Files, however, _can_ be context managers - though note that\n",
        "they don't _have_ to be used that way, so existing paradigms\n",
        "continue to work."
      ]
    },
    {
      "cell_type": "code",
      "execution_count": 5,
      "metadata": {
        "collapsed": false
      },
      "outputs": [],
      "prompt_number": "",
      "source": [
        "with open(\"context-managers.ipynb\", \"r\") as f:\n",
        "    for line in f:\n",
        "        if \"xyxxy\" in line:\n",
        "            print(line)\n",
        "f.closed"
      ]
    },
    {
      "cell_type": "code",
      "execution_count": 4,
      "metadata": {
        "collapsed": false
      },
      "outputs": [],
      "prompt_number": "",
      "source": [
        "dir(f)"
      ]
    },
    {
      "cell_type": "code",
      "execution_count": 6,
      "metadata": {
        "collapsed": false
      },
      "outputs": [],
      "prompt_number": "",
      "source": [
        "def is_context_manager(o):\n",
        "    return all(hasattr(o, n) for n in (\"__enter__\", \"__exit__\"))"
      ]
    },
    {
      "cell_type": "code",
      "execution_count": 7,
      "metadata": {
        "collapsed": false
      },
      "outputs": [],
      "prompt_number": "",
      "source": [
        "is_context_manager(object())"
      ]
    },
    {
      "cell_type": "markdown",
      "metadata": {},
      "source": [
        "We can apply the same function to a file object, which it turns\n",
        "out is a context manager.\n",
        "Since `is_context_manager()` only examines the attributes, it should\n",
        "be relatively unsurprising that its class (type) is also seen as\n",
        "a context manager."
      ]
    },
    {
      "cell_type": "code",
      "execution_count": 8,
      "metadata": {
        "collapsed": false
      },
      "outputs": [],
      "prompt_number": "",
      "source": [
        "is_context_manager(f), type(f), is_context_manager(type(f))"
      ]
    },
    {
      "cell_type": "markdown",
      "metadata": {},
      "source": [
        "###A Simple Context Manager"
      ]
    },
    {
      "cell_type": "code",
      "execution_count": 9,
      "metadata": {
        "collapsed": true
      },
      "outputs": [],
      "prompt_number": "",
      "source": [
        "class MyCtxm(object):\n",
        "    def __init__(self):\n",
        "        self.count = 0\n",
        "    __enter__ = \"x\"\n",
        "    __exit__ = \"y\"\n",
        "    def bump(self, inc):\n",
        "        self.count += inc"
      ]
    },
    {
      "cell_type": "code",
      "execution_count": 10,
      "metadata": {
        "collapsed": false
      },
      "outputs": [],
      "prompt_number": "",
      "source": [
        "ct = MyCtxm()\n",
        "with ct as x:\n",
        "    print \"Hello\""
      ]
    },
    {
      "cell_type": "code",
      "execution_count": 15,
      "metadata": {
        "collapsed": false
      },
      "outputs": [],
      "prompt_number": "",
      "source": [
        "class MyCtxm(object):\n",
        "    def __init__(self):\n",
        "        self.count = 0\n",
        "    def __enter__(self):\n",
        "        return self\n",
        "    def __exit__(self, ex_type, ex_value, traceback):\n",
        "        print \"Exit status:\", '\\n', ex_type, '\\n', ex_value, '\\n',  traceback\n",
        "        return True\n",
        "    def bump(self, inc):\n",
        "        self.count += inc"
      ]
    },
    {
      "cell_type": "code",
      "execution_count": 16,
      "metadata": {
        "collapsed": false
      },
      "outputs": [],
      "prompt_number": "",
      "source": [
        "ctxm = MyCtxm()\n",
        "with ctxm as cm, open(\"context-managers.ipynb\") as f:\n",
        "    for line in f:\n",
        "        cm.bump(1)\n",
        "print cm.count"
      ]
    },
    {
      "cell_type": "markdown",
      "metadata": {},
      "source": [
        "When the managed code raises an excecption the manager's `__exit__()` \n",
        "method is called with the type and argument of the exception as the\n",
        "first and second arguments and the traceback as the third argument.\n",
        "The method can then decide whether to handle the exception\n",
        "condition itself, in which case it should return a True value.\n",
        "If it doesn't then the exception is re-raised for handling by\n",
        "the surrounding context."
      ]
    },
    {
      "cell_type": "code",
      "execution_count": 17,
      "metadata": {
        "collapsed": false
      },
      "outputs": [],
      "prompt_number": "",
      "source": [
        "with ctxm as cm:\n",
        "    raise ValueError(\"Just for grins\")"
      ]
    },
    {
      "cell_type": "markdown",
      "metadata": {},
      "source": [
        "###Possible Discussions\n",
        "\n",
        "* The [context management protocol](https://docs.python.org/2/library/stdtypes.html#index-37)\n",
        "* What else is a context manager?\n",
        "* Writing context managers\n",
        "  * What might they be useful for?\n",
        "* Handling in-context uncaught exceptions\n",
        "\n",
        "###And, of course, whatever _you_ want ..."
      ]
    },
    {
      "cell_type": "code",
      "execution_count": 18,
      "metadata": {
        "collapsed": true
      },
      "outputs": [],
      "prompt_number": "",
      "source": [
        "import sqlite3 as db"
      ]
    },
    {
      "cell_type": "code",
      "execution_count": 34,
      "metadata": {
        "collapsed": false
      },
      "outputs": [],
      "prompt_number": "",
      "source": [
        "class connection_to(object):\n",
        "    def __init__(self, filename):\n",
        "        self.filename = filename\n",
        "        print \"Opening\"\n",
        "        self.conn = db.connect(self.filename)\n",
        "    def __enter__(self):\n",
        "        return self.conn\n",
        "    def __exit__(self, a, b, c):\n",
        "        print \"Closing\"\n",
        "        self.conn.close()"
      ]
    },
    {
      "cell_type": "code",
      "execution_count": 35,
      "metadata": {
        "collapsed": false
      },
      "outputs": [],
      "prompt_number": "",
      "source": [
        "with connection_to(\"/tmp/db.sql3\") as c:\n",
        "    cc = c.cursor()\n",
        "    cc.execute(\"\"\"create table tmp (\n",
        "                id INTEGER PRIMARY KEY,\n",
        "                value VARCHAR(25))\"\"\")"
      ]
    },
    {
      "cell_type": "code",
      "execution_count": 36,
      "metadata": {
        "collapsed": true
      },
      "outputs": [],
      "prompt_number": "",
      "source": [
        "def dbf(filename):\n",
        "    with connection_to(\"/tmp/db.sql3\") as c:\n",
        "        cc = c.cursor()\n",
        "        cc.execute(\"\"\"create table tmp1 (\n",
        "                id INTEGER PRIMARY KEY,\n",
        "                value VARCHAR(25))\"\"\")\n",
        "        return"
      ]
    },
    {
      "cell_type": "code",
      "execution_count": 37,
      "metadata": {
        "collapsed": false
      },
      "outputs": [],
      "prompt_number": "",
      "source": [
        "dbf(\"/tmp/db1/sql3\")"
      ]
    },
    {
      "cell_type": "code",
      "execution_count": 32,
      "metadata": {
        "collapsed": true
      },
      "outputs": [],
      "prompt_number": "",
      "source": [
        "f = open(\"context-managers.ipynb\")"
      ]
    },
    {
      "cell_type": "code",
      "execution_count": 33,
      "metadata": {
        "collapsed": false
      },
      "outputs": [],
      "prompt_number": "",
      "source": [
        "f.__enter__(), f"
      ]
    },
    {
      "cell_type": "code",
      "execution_count": 38,
      "metadata": {
        "collapsed": true
      },
      "outputs": [],
      "prompt_number": "",
      "source": [
        "list1 = [1, 2, 3, 4] "
      ]
    },
    {
      "cell_type": "code",
      "execution_count": 39,
      "metadata": {
        "collapsed": true
      },
      "outputs": [],
      "prompt_number": "",
      "source": [
        "list2 = list1"
      ]
    },
    {
      "cell_type": "code",
      "execution_count": 40,
      "metadata": {
        "collapsed": false
      },
      "outputs": [],
      "prompt_number": "",
      "source": [
        "list1 is list2\n"
      ]
    },
    {
      "cell_type": "code",
      "execution_count": 41,
      "metadata": {
        "collapsed": true
      },
      "outputs": [],
      "prompt_number": "",
      "source": [
        "list1[2] = \"banana\"\n"
      ]
    },
    {
      "cell_type": "code",
      "execution_count": 42,
      "metadata": {
        "collapsed": false
      },
      "outputs": [],
      "prompt_number": "",
      "source": [
        "list2"
      ]
    },
    {
      "cell_type": "code",
      "execution_count": 43,
      "metadata": {
        "collapsed": true
      },
      "outputs": [],
      "prompt_number": "",
      "source": [
        "list3 = list(list2)"
      ]
    },
    {
      "cell_type": "code",
      "execution_count": 44,
      "metadata": {
        "collapsed": false
      },
      "outputs": [],
      "prompt_number": "",
      "source": [
        "list1 is list2\n"
      ]
    },
    {
      "cell_type": "code",
      "execution_count": 45,
      "metadata": {
        "collapsed": false
      },
      "outputs": [],
      "prompt_number": "",
      "source": [
        "list1 is list3"
      ]
    },
    {
      "cell_type": "code",
      "execution_count": 47,
      "metadata": {
        "collapsed": false
      },
      "outputs": [],
      "prompt_number": "",
      "source": [
        "list1[3] = \"orange\""
      ]
    },
    {
      "cell_type": "code",
      "execution_count": 48,
      "metadata": {
        "collapsed": false
      },
      "outputs": [],
      "prompt_number": "",
      "source": [
        "list2"
      ]
    },
    {
      "cell_type": "code",
      "execution_count": 49,
      "metadata": {
        "collapsed": false
      },
      "outputs": [],
      "prompt_number": "",
      "source": [
        "list3"
      ]
    },
    {
      "cell_type": "code",
      "execution_count": 50,
      "metadata": {
        "collapsed": true
      },
      "outputs": [],
      "prompt_number": "",
      "source": [
        "def f(a=[]):\n",
        "    a.append(\"banana\")\n",
        "    return a"
      ]
    },
    {
      "cell_type": "code",
      "execution_count": 51,
      "metadata": {
        "collapsed": false
      },
      "outputs": [],
      "prompt_number": "",
      "source": [
        "list3"
      ]
    },
    {
      "cell_type": "code",
      "execution_count": 52,
      "metadata": {
        "collapsed": false
      },
      "outputs": [],
      "prompt_number": "",
      "source": [
        "f(list3)"
      ]
    },
    {
      "cell_type": "code",
      "execution_count": 53,
      "metadata": {
        "collapsed": false
      },
      "outputs": [],
      "prompt_number": "",
      "source": [
        "list3"
      ]
    },
    {
      "cell_type": "code",
      "execution_count": 54,
      "metadata": {
        "collapsed": false
      },
      "outputs": [],
      "prompt_number": "",
      "source": [
        "f()"
      ]
    },
    {
      "cell_type": "code",
      "execution_count": 55,
      "metadata": {
        "collapsed": false
      },
      "outputs": [],
      "prompt_number": "",
      "source": [
        "f()"
      ]
    },
    {
      "cell_type": "code",
      "execution_count": 56,
      "metadata": {
        "collapsed": true
      },
      "outputs": [],
      "prompt_number": "",
      "source": [
        "def f(a=None):\n",
        "    if a is None:\n",
        "        a = []\n",
        "    a.append(\"banana\")\n",
        "    return a"
      ]
    },
    {
      "cell_type": "code",
      "execution_count": 85,
      "metadata": {
        "collapsed": false
      },
      "outputs": [],
      "prompt_number": "",
      "source": [
        "f(list3)"
      ]
    },
    {
      "cell_type": "code",
      "execution_count": 86,
      "metadata": {
        "collapsed": true
      },
      "outputs": [],
      "prompt_number": "",
      "source": [
        "class newClass(object):\n",
        "    def __new__(self):\n",
        "        return {}\n",
        "    def __init__(self):\n",
        "        print type(self)"
      ]
    },
    {
      "cell_type": "code",
      "execution_count": 87,
      "metadata": {
        "collapsed": true
      },
      "outputs": [],
      "prompt_number": "",
      "source": [
        "nc = newClass()"
      ]
    },
    {
      "cell_type": "code",
      "execution_count": 88,
      "metadata": {
        "collapsed": true
      },
      "outputs": [],
      "prompt_number": "",
      "source": [
        "class newClass(object):\n",
        "    def __new__(self):\n",
        "        print self\n",
        "    def __init__(self):\n",
        "        print type(self)"
      ]
    },
    {
      "cell_type": "code",
      "execution_count": 89,
      "metadata": {
        "collapsed": false
      },
      "outputs": [],
      "prompt_number": "",
      "source": [
        "nc =  newClass()"
      ]
    },
    {
      "cell_type": "code",
      "execution_count": 90,
      "metadata": {
        "collapsed": true
      },
      "outputs": [],
      "prompt_number": "",
      "source": [
        "nc"
      ]
    },
    {
      "cell_type": "code",
      "execution_count": 111,
      "metadata": {
        "collapsed": true
      },
      "outputs": [],
      "prompt_number": "",
      "source": [
        "class newClass(object):\n",
        "    def __new__(cls):\n",
        "        print cls\n",
        "        return super(newClass, cls).__new__(cls)\n",
        "    def __init__(self):\n",
        "        print type(self)"
      ]
    },
    {
      "cell_type": "code",
      "execution_count": 112,
      "metadata": {
        "collapsed": false
      },
      "outputs": [],
      "prompt_number": "",
      "source": [
        "newClass()"
      ]
    },
    {
      "cell_type": "code",
      "execution_count": 113,
      "metadata": {
        "collapsed": false
      },
      "outputs": [],
      "prompt_number": "",
      "source": [
        "type(newClass())"
      ]
    },
    {
      "cell_type": "code",
      "execution_count": 114,
      "metadata": {
        "collapsed": false
      },
      "outputs": [],
      "prompt_number": "",
      "source": [
        "object.__new__(newClass)"
      ]
    },
    {
      "cell_type": "code",
      "execution_count": 115,
      "metadata": {
        "collapsed": false
      },
      "outputs": [],
      "prompt_number": "",
      "source": [
        "isinstance(object.__new__(newClass), newClass)"
      ]
    },
    {
      "cell_type": "code",
      "execution_count": 116,
      "metadata": {
        "collapsed": false
      },
      "outputs": [],
      "prompt_number": "",
      "source": [
        "isinstance(type, object), isinstance(object, type)"
      ]
    },
    {
      "cell_type": "code",
      "execution_count": null,
      "metadata": {
        "collapsed": true
      },
      "outputs": [],
      "prompt_number": "",
      "source": []
    }
  ],
  "metadata": {
    "kernelspec": {
      "display_name": "Python 2",
      "language": "python",
      "name": "python2"
    },
    "language_info": {
      "codemirror_mode": {
        "name": "ipython",
        "version": 2
      },
      "file_extension": ".py",
      "mimetype": "text/x-python",
      "name": "python",
      "nbconvert_exporter": "python",
      "pygments_lexer": "ipython2",
      "version": "2.7.2"
    }
  },
  "nbformat": 4,
  "nbformat_minor": 0
}