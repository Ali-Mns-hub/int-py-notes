{
  "cells": [
    {
      "cell_type": "markdown",
      "metadata": {},
      "source": [
        "#Context Managers"
      ]
    },
    {
      "cell_type": "markdown",
      "metadata": {},
      "source": [
        "A context manager is an object with `__enter__()` and `__exit__()` methods.\n",
        "Context managers are used by the `with` statement to establish an execution context\n",
        "for a subsidiary block of code.\n",
        "\n",
        "The `with` statement calls the manager's `__enter__()` method.\n",
        "If the optional `as` clause is used then the result of the enter method\n",
        "is bound to the variable for use in the code block.\n",
        "\n",
        "The default object is __not__ a context manager."
      ]
    },
    {
      "cell_type": "code",
      "execution_count": null,
      "metadata": {
        "collapsed": false
      },
      "outputs": [],
      "prompt_number": "",
      "source": [
        "with object():\n",
        "    print(\"hello\")"
      ]
    },
    {
      "cell_type": "code",
      "execution_count": null,
      "metadata": {
        "collapsed": false
      },
      "outputs": [],
      "prompt_number": "",
      "source": [
        "hasattr(object(), \"__enter__\"), hasattr(object(), \"__exit__\")"
      ]
    },
    {
      "cell_type": "markdown",
      "metadata": {},
      "source": [
        "Files, however, _can_ be context managers - though note that\n",
        "they don't _have_ to be used that way, so existing paradigms\n",
        "continue to work."
      ]
    },
    {
      "cell_type": "code",
      "execution_count": null,
      "metadata": {
        "collapsed": false
      },
      "outputs": [],
      "prompt_number": "",
      "source": [
        "with open(\"context-managers.ipynb\") as f:\n",
        "    for line in f:\n",
        "        if \"xyxxy\" in line:\n",
        "            print(line)\n",
        "f.closed"
      ]
    },
    {
      "cell_type": "code",
      "execution_count": null,
      "metadata": {
        "collapsed": false
      },
      "outputs": [],
      "prompt_number": "",
      "source": [
        "def is_context_manager(o):\n",
        "    return all(hasattr(o, n) for n in (\"__enter__\", \"__exit__\"))"
      ]
    },
    {
      "cell_type": "code",
      "execution_count": null,
      "metadata": {
        "collapsed": false
      },
      "outputs": [],
      "prompt_number": "",
      "source": [
        "is_context_manager(object())"
      ]
    },
    {
      "cell_type": "markdown",
      "metadata": {},
      "source": [
        "We can apply the same function to a file object, which it turns\n",
        "out is a context manager.\n",
        "Since `is_context_manager()` only examines the attributes, it should\n",
        "be relatively unsurprising that its class (type) is also seen as\n",
        "a context manager."
      ]
    },
    {
      "cell_type": "code",
      "execution_count": null,
      "metadata": {
        "collapsed": false
      },
      "outputs": [],
      "prompt_number": "",
      "source": [
        "is_context_manager(f), type(f), is_context_manager(type(f))"
      ]
    },
    {
      "cell_type": "markdown",
      "metadata": {},
      "source": [
        "###A Simple Context Manager"
      ]
    },
    {
      "cell_type": "code",
      "execution_count": null,
      "metadata": {
        "collapsed": false
      },
      "outputs": [],
      "prompt_number": "",
      "source": [
        "class MyCtxm(object):\n",
        "    def __init__(self):\n",
        "        self.count = 0\n",
        "    def __enter__(self):\n",
        "        return self\n",
        "    def __exit__(self, ex_type, ex_value, traceback):\n",
        "        print \"Exit status:\", '\\n', ex_type, '\\n', ex_value, '\\n',  traceback\n",
        "    def bump(self, inc):\n",
        "        self.count += inc"
      ]
    },
    {
      "cell_type": "code",
      "execution_count": null,
      "metadata": {
        "collapsed": false
      },
      "outputs": [],
      "prompt_number": "",
      "source": [
        "ctxm = MyCtxm()\n",
        "with ctxm as cm, open(\"context-managers.ipynb\") as f:\n",
        "    for line in f:\n",
        "        cm.bump(1)\n",
        "print cm.count"
      ]
    },
    {
      "cell_type": "markdown",
      "metadata": {},
      "source": [
        "When the managed code raises an excecption the manager's `__exit__()` \n",
        "method is called with the type and argument of the exception as the\n",
        "first and second arguments and the traceback as the third argument.\n",
        "The method can then decide whether to handle the exception\n",
        "condition itself, in which case it should return a True value.\n",
        "If it doesn't then the exception is re-raised for handling by\n",
        "the surrounding context."
      ]
    },
    {
      "cell_type": "code",
      "execution_count": null,
      "metadata": {
        "collapsed": false
      },
      "outputs": [],
      "prompt_number": "",
      "source": [
        "with ctxm as cm:\n",
        "    raise ValueError(\"Just for grins\")"
      ]
    },
    {
      "cell_type": "markdown",
      "metadata": {},
      "source": [
        "###Possible Discussions\n",
        "\n",
        "* The [context management protocol](https://docs.python.org/2/library/stdtypes.html#index-37)\n",
        "* What else is a context manager?\n",
        "* Writing context managers\n",
        "  * What might they be useful for?\n",
        "* Handling in-context uncaught exceptions\n",
        "\n",
        "###And, of course, whatever _you_ want ..."
      ]
    }
  ],
  "metadata": {
    "kernelspec": {
      "display_name": "Python 2",
      "language": "python",
      "name": "python2"
    },
    "language_info": {
      "codemirror_mode": {
        "name": "ipython",
        "version": 2
      },
      "file_extension": ".py",
      "mimetype": "text/x-python",
      "name": "python",
      "nbconvert_exporter": "python",
      "pygments_lexer": "ipython2",
      "version": "2.7.2"
    }
  },
  "nbformat": 4,
  "nbformat_minor": 0
}