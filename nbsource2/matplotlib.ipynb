{
  "cells": [
    {
      "cell_type": "markdown",
      "metadata": {},
      "source": [
        "This notebook is intended to demonstrate a few of the many capabilities of the\n",
        "`matplotlib` package, widely used by scientists and engineers.\n",
        "\n",
        "The first request ensures that `matplotlib` sends its output to the Notebook\n",
        "and not to a separate window."
      ]
    },
    {
      "cell_type": "code",
      "execution_count": null,
      "metadata": {
        "collapsed": false
      },
      "outputs": [],
      "prompt_number": "",
      "source": [
        "%matplotlib inline"
      ]
    },
    {
      "cell_type": "markdown",
      "metadata": {},
      "source": [
        "Next we import some essential modules and establish some basic parameters."
      ]
    },
    {
      "cell_type": "code",
      "execution_count": null,
      "metadata": {
        "collapsed": false
      },
      "outputs": [],
      "prompt_number": "",
      "source": [
        "from pylab import figure, show\n",
        "import numpy as np\n",
        "from numpy import sin, cos, exp, pi\n",
        "import matplotlib.pyplot as plt\n",
        "\n",
        "font = {'family' : 'serif',\n",
        "        'color'  : 'darkred',\n",
        "        'weight' : 'normal',\n",
        "        'size'   : 16,\n",
        "        }\n",
        "\n",
        "x = np.linspace(0.0, 5.0, 100)"
      ]
    },
    {
      "cell_type": "code",
      "execution_count": null,
      "metadata": {
        "collapsed": false
      },
      "outputs": [],
      "prompt_number": "",
      "source": [
        "y = cos(2 * pi * x) * exp(-x)\n",
        "\n",
        "plt.plot(x, y, 'k')\n",
        "plt.title('Damped exponential decay', fontdict=font)\n",
        "plt.text(2, 0.65, r'$\\cos(2 \\pi t) \\exp(-t)$', fontdict=font)\n",
        "\n",
        "plt.xlabel('time (s)', fontdict=font)\n",
        "plt.ylabel('voltage (mV)', fontdict=font)\n",
        "\n",
        "# Tweak spacing to prevent clipping of ylabel\n",
        "plt.subplots_adjust(left=0.15)\n",
        "plt.show()"
      ]
    },
    {
      "cell_type": "code",
      "execution_count": null,
      "metadata": {
        "collapsed": false
      },
      "outputs": [],
      "prompt_number": "",
      "source": [
        "plt.savefig(\"/tmp/graphic.png\", dpi=600)"
      ]
    },
    {
      "cell_type": "code",
      "execution_count": null,
      "metadata": {
        "collapsed": false
      },
      "outputs": [],
      "prompt_number": "",
      "source": [
        "frame = plt.figure(2)             #main container\n",
        "p1 = frame.add_subplot(211)  #2 row, 1 col grid in figure, subplot #1\n",
        "p1.plot(x, cos(6*pi*x))\n",
        "#what'll it look like?\n",
        "p1.grid(True)\n",
        "p1.set_xlabel(\"X\")\n",
        "p1.set_ylim( (-2,2) )\n",
        "p1.set_ylabel('cos 6*pi*x')\n",
        "p1.set_title('Simple Matplotlib Demo')\n",
        "\n",
        "#bottom chart\n",
        "p2 = frame.add_subplot(212)  #2 row, 1 col grid in figure, subplot #2\n",
        "p2.plot(x, sin(3*pi*x))\n",
        "p2.grid(True)\n",
        "p2.set_xlabel(\"X\")\n",
        "p2.set_ylim( (-2,2) )\n",
        "p2.set_ylabel('sin 3*pi*x')\n",
        "\n",
        "\n",
        "for label in p1.get_xticklabels():\n",
        "    label.set_color('black')\n",
        "    \n",
        "frame.show()    "
      ]
    },
    {
      "cell_type": "markdown",
      "metadata": {},
      "source": [
        "Matplotlib can also draw on its library of sophisticated graphing tools for professional rendering with very few lines of code."
      ]
    },
    {
      "cell_type": "code",
      "execution_count": null,
      "metadata": {
        "collapsed": false
      },
      "outputs": [],
      "prompt_number": "",
      "source": [
        "from mpl_toolkits.mplot3d import axes3d\n",
        "import matplotlib.pyplot as plt\n",
        "from matplotlib import cm\n",
        "\n",
        "fig = plt.figure(figsize=(12, 12), dpi=200)                    #main container (drawing size and resolution)\n",
        "ax = fig.gca(projection='3d')                               #could be polar ...\n",
        "X, Y, Z = axes3d.get_test_data()\n",
        "\n",
        "ax.plot_surface(X, Y, Z, rstride=5, cstride=10, alpha=0.5)          #coutour isocline spacking\n",
        "cset = ax.contour(X, Y, Z, zdir='x', offset=-40, cmap=cm.YlGnBu)    #map data to canvas ...\n",
        "cset = ax.contour(X, Y, Z, zdir='y', offset=40, cmap=cm.Greens)\n",
        "cset = ax.contour(X, Y, Z, zdir='z', offset=-100, cmap=cm.Pastel1)\n",
        "\n",
        "ax.set_xlabel('X')      #axes scaling/labeling\n",
        "ax.set_xlim(-40, 40)\n",
        "ax.set_ylabel('Y')\n",
        "ax.set_ylim(-40, 40)\n",
        "ax.set_zlabel('Z')\n",
        "ax.set_zlim(-90, 90)\n",
        "\n",
        "plt.show()\n",
        "\n"
      ]
    },
    {
      "cell_type": "code",
      "execution_count": null,
      "metadata": {
        "collapsed": false
      },
      "outputs": [],
      "prompt_number": "",
      "source": [
        "\"\"\"Demonstrate the Sankey class with a practicle example of a Rankine power cycle.\n",
        "\"\"\"\n",
        "import numpy as np\n",
        "import matplotlib.pyplot as plt\n",
        "\n",
        "from matplotlib.sankey import Sankey\n",
        "\n",
        "fig = plt.figure(figsize=(8, 9))\n",
        "ax = fig.add_subplot(1, 1, 1, xticks=[], yticks=[],\n",
        "                     title=\"Rankine Power Cycle: Example 8.6 from Moran and Shapiro\\n\"\n",
        "                           + \"\\x22Fundamentals of Engineering Thermodynamics\\x22, 6th ed., 2008\")\n",
        "Hdot = [260.431, 35.078, 180.794, 221.115, 22.700,\n",
        "        142.361, 10.193, 10.210, 43.670, 44.312,\n",
        "        68.631, 10.758, 10.758, 0.017, 0.642,\n",
        "        232.121, 44.559, 100.613, 132.168] # MW\n",
        "sankey = Sankey(ax=ax, format='%.3G', unit=' MW', gap=0.5, scale=1.0/Hdot[0])\n",
        "sankey.add(patchlabel='\\n\\nPump 1', rotation=90, facecolor='#37c959',\n",
        "           flows=[Hdot[13], Hdot[6], -Hdot[7]],\n",
        "           labels=['Shaft power', '', None],\n",
        "           pathlengths=[0.4, 0.883, 0.25],\n",
        "           orientations=[1, -1, 0])\n",
        "sankey.add(patchlabel='\\n\\nOpen\\nheater', facecolor='#37c959',\n",
        "           flows=[Hdot[11], Hdot[7], Hdot[4], -Hdot[8]],\n",
        "           labels=[None, '', None, None],\n",
        "           pathlengths=[0.25, 0.25, 1.93, 0.25],\n",
        "           orientations=[1, 0, -1, 0], prior=0, connect=(2, 1))\n",
        "sankey.add(patchlabel='\\n\\nPump 2', facecolor='#37c959',\n",
        "           flows=[Hdot[14], Hdot[8], -Hdot[9]],\n",
        "           labels=['Shaft power', '', None],\n",
        "           pathlengths=[0.4, 0.25, 0.25],\n",
        "           orientations=[1, 0, 0], prior=1, connect=(3, 1))\n",
        "sankey.add(patchlabel='Closed\\nheater', trunklength=2.914, fc='#37c959',\n",
        "           flows=[Hdot[9], Hdot[1], -Hdot[11], -Hdot[10]],\n",
        "           pathlengths=[0.25, 1.543, 0.25, 0.25],\n",
        "           labels=['', '', None, None],\n",
        "           orientations=[0, -1, 1, -1], prior=2, connect=(2, 0))\n",
        "sankey.add(patchlabel='Trap', facecolor='#37c959', trunklength=5.102,\n",
        "           flows=[Hdot[11], -Hdot[12]],\n",
        "           labels=['\\n', None],\n",
        "           pathlengths=[1.0, 1.01],\n",
        "           orientations=[1, 1], prior=3, connect=(2, 0))\n",
        "sankey.add(patchlabel='Steam\\ngenerator', facecolor='#ff5555',\n",
        "           flows=[Hdot[15], Hdot[10], Hdot[2], -Hdot[3], -Hdot[0]],\n",
        "           labels=['Heat rate', '', '', None, None],\n",
        "           pathlengths=0.25,\n",
        "           orientations=[1, 0, -1, -1, -1], prior=3, connect=(3, 1))\n",
        "sankey.add(patchlabel='\\n\\n\\nTurbine 1', facecolor='#37c959',\n",
        "           flows=[Hdot[0], -Hdot[16], -Hdot[1], -Hdot[2]],\n",
        "           labels=['', None, None, None],\n",
        "           pathlengths=[0.25, 0.153, 1.543, 0.25],\n",
        "           orientations=[0, 1, -1, -1], prior=5, connect=(4, 0))\n",
        "sankey.add(patchlabel='\\n\\n\\nReheat', facecolor='#37c959',\n",
        "           flows=[Hdot[2], -Hdot[2]],\n",
        "           labels=[None, None],\n",
        "           pathlengths=[0.725, 0.25],\n",
        "           orientations=[-1, 0], prior=6, connect=(3, 0))\n",
        "sankey.add(patchlabel='Turbine 2', trunklength=3.212, facecolor='#37c959',\n",
        "           flows=[Hdot[3], Hdot[16], -Hdot[5], -Hdot[4], -Hdot[17]],\n",
        "           labels=[None, 'Shaft power', None, '', 'Shaft power'],\n",
        "           pathlengths=[0.751, 0.15, 0.25, 1.93, 0.25],\n",
        "           orientations=[0, -1, 0, -1, 1], prior=6, connect=(1, 1))\n",
        "sankey.add(patchlabel='Condenser', facecolor='#58b1fa', trunklength=1.764,\n",
        "           flows=[Hdot[5], -Hdot[18], -Hdot[6]],\n",
        "           labels=['', 'Heat rate', None],\n",
        "           pathlengths=[0.45, 0.25, 0.883],\n",
        "           orientations=[-1, 1, 0], prior=8, connect=(2, 0))\n",
        "diagrams = sankey.finish()\n",
        "for diagram in diagrams:\n",
        "    diagram.text.set_fontweight('bold')\n",
        "    diagram.text.set_fontsize('10')\n",
        "    for text in diagram.texts:\n",
        "        text.set_fontsize('10')\n",
        "# Notice that the explicit connections are handled automatically, but the\n",
        "# implicit ones currently are not.  The lengths of the paths and the trunks\n",
        "# must be adjusted manually, and that is a bit tricky.\n",
        "\n",
        "plt.show()\n"
      ]
    },
    {
      "cell_type": "code",
      "execution_count": null,
      "metadata": {
        "collapsed": false
      },
      "outputs": [],
      "prompt_number": "",
      "source": [
        "import numpy as np\n",
        "import matplotlib.pyplot as plt\n",
        "from matplotlib.colors import LightSource\n",
        "\n",
        "# example showing how to make shaded relief plots \n",
        "# like Mathematica\n",
        "# (http://reference.wolfram.com/mathematica/ref/ReliefPlot.html)\n",
        "# or Generic Mapping Tools\n",
        "# (http://gmt.soest.hawaii.edu/gmt/doc/gmt/html/GMT_Docs/node145.html)\n",
        "\n",
        "# test data\n",
        "X, Y = np.mgrid[-5:5:0.05,-5:5:0.05]\n",
        "Z = np.sqrt(X**2+Y**2)+np.sin(X**2+Y**2)\n",
        "# create light source object.\n",
        "ls = LightSource(azdeg=0,altdeg=25)\n",
        "# shade data, creating an rgb array.\n",
        "rgb = ls.shade(Z,plt.cm.copper)\n",
        "# plot un-shaded and shaded images.\n",
        "plt.figure(figsize=(12,5))\n",
        "plt.subplot(121)\n",
        "plt.imshow(Z,cmap=plt.cm.copper)\n",
        "plt.title('imshow')\n",
        "plt.xticks([]); plt.yticks([])\n",
        "plt.subplot(122)\n",
        "plt.imshow(rgb)\n",
        "plt.title('imshow with shading')\n",
        "plt.xticks([]); plt.yticks([])\n",
        "plt.show()"
      ]
    },
    {
      "cell_type": "code",
      "execution_count": null,
      "metadata": {
        "collapsed": false
      },
      "outputs": [],
      "prompt_number": "",
      "source": [
        "X"
      ]
    },
    {
      "cell_type": "code",
      "execution_count": null,
      "metadata": {
        "collapsed": false
      },
      "outputs": [],
      "prompt_number": "",
      "source": [
        "Y"
      ]
    },
    {
      "cell_type": "markdown",
      "metadata": {
        "collapsed": false
      },
      "source": [
        "###Possible Discussions\n",
        "\n",
        "* Potential uses in analytics\n",
        "* Rendering graphics as files rather than displaying them\n",
        "\n",
        "###And, of course, whatever _you_ want ..."
      ]
    }
  ],
  "metadata": {
    "kernelspec": {
      "display_name": "Python 2",
      "language": "python",
      "name": "python2"
    },
    "language_info": {
      "codemirror_mode": {
        "name": "ipython",
        "version": 2
      },
      "file_extension": ".py",
      "mimetype": "text/x-python",
      "name": "python",
      "nbconvert_exporter": "python",
      "pygments_lexer": "ipython2",
      "version": "2.7.2"
    }
  },
  "nbformat": 4,
  "nbformat_minor": 0
}