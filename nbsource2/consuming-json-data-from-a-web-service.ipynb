{
  "cells": [
    {
      "cell_type": "markdown",
      "metadata": {},
      "source": [
        "# Consuming JSON Data from a Web Service"
      ]
    },
    {
      "cell_type": "markdown",
      "metadata": {},
      "source": [
        "The [JSON data format](http://www.json.org/) has become a popular way to interchange data. It is more concise than XML, easier for humans to read should they have to, and supported by the ECMA-405 standard. Python comes with a `json` module that operates very like the `pickle` module does. You can convert between JSON strings and Python data structures using the `json.dumps()` method that takes a Python structure argument and returns a JSON string. The converse process is performed by the `json.loads()` method,which takes a JSON string as its argument and returns the corresponding Python data structure.\n",
        "\n",
        "JSON is a useful standard for data interchange of the following (Python) types of data:\n",
        "\n",
        "  * Lists (JSON arrays)\n",
        "  * Dicts (JSON objects)\n",
        "  * Strings (JSON strings)\n",
        "  * Integers (JSON numbers)\n",
        "  * Floating-point values (JSON numbers)\n",
        "  * `True` and `False` (JSON `true` and `false`)\n",
        "  * `None` (JSON `null`)\n",
        "\n",
        "Attempts to encode other Python objects will lead to failure unless the programmer extends the JSON encoding.\n",
        "\n",
        "Let's start by writing a function that round-trips Python structures through the JSON notation."
      ]
    },
    {
      "cell_type": "code",
      "execution_count": null,
      "metadata": {
        "collapsed": false
      },
      "outputs": [],
      "prompt_number": "",
      "source": [
        "import json\n",
        "def json_round_trip(structure):\n",
        "    return json.loads(json.dumps(structure))"
      ]
    },
    {
      "cell_type": "markdown",
      "metadata": {},
      "source": [
        "Looking at the JSON output from `dumps()` shows you that the structure is pretty like a Python data structure made up of lists, dicts and simpler values like lists and strings. Many (but not all!) JSON data structures can be handed to the Python `eval()` function to return the same structure returned by `loads()`. It doesn't do to count on it, though\u2014some values are presented differently, notably `true`, `false` and `null` are the JSON equivalents of `True`, `False` and `None` respectively."
      ]
    },
    {
      "cell_type": "code",
      "execution_count": null,
      "metadata": {
        "collapsed": true
      },
      "outputs": [],
      "prompt_number": "",
      "source": [
        "struc1 = [\n",
        " 1,\n",
        " \"string\",\n",
        " [\"l\", \"i\", \"s\", \"t\"],\n",
        " {\n",
        "  \"dict\": \"with\",\n",
        "  \"various\": \"string keys\"\n",
        " }\n",
        "]"
      ]
    },
    {
      "cell_type": "markdown",
      "metadata": {},
      "source": [
        "Note that when a dict is round-tripped this way you don't always get the same ordering of keys, but the structures nevertheless compare equal in Python."
      ]
    },
    {
      "cell_type": "code",
      "execution_count": null,
      "metadata": {
        "collapsed": false
      },
      "outputs": [],
      "prompt_number": "",
      "source": [
        "json_string = json.dumps(struc1)\n",
        "print json_string\n",
        "print eval(json_string)\n",
        "if struc1 == json_round_trip(struc1):\n",
        "    print(\"Round trip succeeded\")"
      ]
    },
    {
      "cell_type": "markdown",
      "metadata": {},
      "source": [
        "####When you pass a type that can't be encoded\n",
        "An exception is raised. For example, JSON does not handle complex numbers, which would therefore have to be stored as two separate numbers, or as objects (dicts, in Python) with a real and a complex field. "
      ]
    },
    {
      "cell_type": "code",
      "execution_count": null,
      "metadata": {
        "collapsed": false
      },
      "outputs": [],
      "prompt_number": "",
      "source": [
        "json.dumps(3+4j)"
      ]
    },
    {
      "cell_type": "markdown",
      "metadata": {},
      "source": [
        "There are ways of extending the range of data types that can be handled in JSON, which we do not discuss much further."
      ]
    },
    {
      "cell_type": "markdown",
      "metadata": {},
      "source": [
        "The `json.load()` and `json.dump()` functions operate similarly, but instead of producing a string output they take an open file as an argument and pass the data from and to the file, respectively. These functions have complex signatures and share many arguments with each other and the encoders and decoders discussed below. [Consult the documentation](https://docs.python.org/2/library/json.html?highlight=json.dumps#json.dumps) for full details. Here is the full signature of the `dumps()` function.\n",
        "\n",
        "    json.dump(obj, fp, skipkeys=False, ensure_ascii=True,\n",
        "              check_circular=True, allow_nan=True, cls=None,\n",
        "              indent=None, separators=None, default=None,\n",
        "              sort_keys=False, **kw)"
      ]
    },
    {
      "cell_type": "markdown",
      "metadata": {},
      "source": [
        "Most of these keyword arguments can safely be omitted most of the time, and are common to other JSON calls. The exception to this is the `allow_nan` argument (`True` by default) that permits certain non-standard values to be encoded. You can think of it as an extension of the standard's floating-point range. I can do no better than quote the documentation:\n",
        "\n",
        "*  If `allow_nan` is false, then it will be a `ValueError` to\n",
        "  serialize out of range `float` values (`nan`, `inf`, `-inf`) in\n",
        "  strict compliance of the JSON specification, instead of using the\n",
        "  JavaScript equivalents (`NaN`, `Infinity`, `-Infinity`).\n",
        "\n",
        "Once created, encoders are used to turn non-JSON objects into representable (JSON) data strings. Correspondingly, a decoder will take a JSON string and turn it into an object. \n",
        "\n",
        "You can call an encoder's `decode` method to turn data structure into a JSON string. "
      ]
    },
    {
      "cell_type": "markdown",
      "metadata": {},
      "source": [
        "For more complex encoding and decoding you can use the [encoders and decoders](http://docs.python.org/3.3/library/json.html#encoders-and-decoders) (`json.JSONEncoder` and `json.JSONDecoder`)classes. These allow you to establish encodings that can be used to handle non-JSON types, for example. The Encoder's full signature is complex just as the module's conversion functions are."
      ]
    },
    {
      "cell_type": "code",
      "execution_count": null,
      "metadata": {
        "collapsed": false
      },
      "outputs": [],
      "prompt_number": "",
      "source": [
        "struc2 = float(\"NaN\")\n",
        "print \"Python:\", str(struc2)"
      ]
    },
    {
      "cell_type": "code",
      "execution_count": null,
      "metadata": {
        "collapsed": false
      },
      "outputs": [],
      "prompt_number": "",
      "source": [
        "std_encoder = json.JSONEncoder()\n",
        "print \"JSON:\", std_encoder.encode(struc2)"
      ]
    },
    {
      "cell_type": "code",
      "execution_count": null,
      "metadata": {
        "collapsed": false
      },
      "outputs": [],
      "prompt_number": "",
      "source": [
        "strict_encoder = json.JSONEncoder(allow_nan=False)\n",
        "print \"JSON:\", strict_encoder.encode(struc2)"
      ]
    },
    {
      "cell_type": "markdown",
      "metadata": {},
      "source": [
        "The `JSONDecoder` and `JSONencoder` classes can be extended by subclassing."
      ]
    },
    {
      "cell_type": "code",
      "execution_count": null,
      "metadata": {
        "collapsed": true
      },
      "outputs": [],
      "prompt_number": "",
      "source": [
        "import urllib\n",
        "page = urllib.urlopen(\"https://api.github.com/users/holdenweb/repos\")\n",
        "data = json.loads(page.read())"
      ]
    },
    {
      "cell_type": "code",
      "execution_count": null,
      "metadata": {
        "collapsed": false
      },
      "outputs": [],
      "prompt_number": "",
      "source": [
        "type(data)"
      ]
    },
    {
      "cell_type": "code",
      "execution_count": null,
      "metadata": {
        "collapsed": false
      },
      "outputs": [],
      "prompt_number": "",
      "source": [
        "len(data)"
      ]
    },
    {
      "cell_type": "code",
      "execution_count": null,
      "metadata": {
        "collapsed": false
      },
      "outputs": [],
      "prompt_number": "",
      "source": [
        "type(data[0])"
      ]
    },
    {
      "cell_type": "code",
      "execution_count": null,
      "metadata": {
        "collapsed": false
      },
      "outputs": [],
      "prompt_number": "",
      "source": [
        "sorted(data[0].keys())"
      ]
    },
    {
      "cell_type": "code",
      "execution_count": null,
      "metadata": {
        "collapsed": false
      },
      "outputs": [],
      "prompt_number": "",
      "source": [
        "[(x['name'], x['updated_at']) for x in data]"
      ]
    },
    {
      "cell_type": "markdown",
      "metadata": {},
      "source": [
        "###Possible Discussions\n",
        "\n",
        "* Is JSON a significant datatype for you?\n",
        "* How do we write custom encoders/decoders? _[difficult]_\n",
        "\n",
        "###And, of course, whatever _you_ want ..."
      ]
    }
  ],
  "metadata": {
    "kernelspec": {
      "display_name": "Python 2",
      "language": "python",
      "name": "python2"
    },
    "language_info": {
      "codemirror_mode": {
        "name": "ipython",
        "version": 2
      },
      "file_extension": ".py",
      "mimetype": "text/x-python",
      "name": "python",
      "nbconvert_exporter": "python",
      "pygments_lexer": "ipython2",
      "version": "2.7.2"
    }
  },
  "nbformat": 4,
  "nbformat_minor": 0
}