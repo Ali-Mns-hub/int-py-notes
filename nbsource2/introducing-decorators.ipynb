{
  "cells": [
    {
      "cell_type": "markdown",
      "metadata": {},
      "source": [
        "#Introducing Decorators"
      ]
    },
    {
      "cell_type": "markdown",
      "metadata": {},
      "source": [
        "A decorator is a function that is applied to another function (or a class).\n",
        "Functions can, of course, be passed as arguments to other functions."
      ]
    },
    {
      "cell_type": "code",
      "execution_count": null,
      "metadata": {
        "collapsed": false
      },
      "outputs": [],
      "prompt_number": "",
      "source": [
        "def ff(f, a):\n",
        "    return f(a)"
      ]
    },
    {
      "cell_type": "code",
      "execution_count": null,
      "metadata": {
        "collapsed": false
      },
      "outputs": [],
      "prompt_number": "",
      "source": [
        "ff(len, \"12345\")"
      ]
    },
    {
      "cell_type": "code",
      "execution_count": null,
      "metadata": {
        "collapsed": false
      },
      "outputs": [],
      "prompt_number": "",
      "source": [
        "ff(sum, [1, 2, 3, 4])"
      ]
    },
    {
      "cell_type": "markdown",
      "metadata": {},
      "source": [
        "Functions can also _return_ a function.\n",
        "Here the `add_to()` function defines an internal function and returns that."
      ]
    },
    {
      "cell_type": "code",
      "execution_count": null,
      "metadata": {
        "collapsed": false
      },
      "outputs": [],
      "prompt_number": "",
      "source": [
        "def add_to(n):\n",
        "    def adder(x):\n",
        "        return n+x\n",
        "    return adder"
      ]
    },
    {
      "cell_type": "code",
      "execution_count": null,
      "metadata": {
        "collapsed": false
      },
      "outputs": [],
      "prompt_number": "",
      "source": [
        "add_to(6)"
      ]
    },
    {
      "cell_type": "code",
      "execution_count": null,
      "metadata": {
        "collapsed": false
      },
      "outputs": [],
      "prompt_number": "",
      "source": [
        "fa = add_to(6)"
      ]
    },
    {
      "cell_type": "code",
      "execution_count": null,
      "metadata": {
        "collapsed": false
      },
      "outputs": [],
      "prompt_number": "",
      "source": [
        "fa(3)"
      ]
    },
    {
      "cell_type": "code",
      "execution_count": null,
      "metadata": {
        "collapsed": false
      },
      "outputs": [],
      "prompt_number": "",
      "source": [
        "add_to(10)(7)"
      ]
    },
    {
      "cell_type": "markdown",
      "metadata": {},
      "source": [
        "The `string_required()` function takes a function as its argument and returns\n",
        "a function that will raise an exception if its argument is not a string.\n",
        "Otherwise it applies the function to the argument and returns the function's result."
      ]
    },
    {
      "cell_type": "code",
      "execution_count": null,
      "metadata": {
        "collapsed": false
      },
      "outputs": [],
      "prompt_number": "",
      "source": [
        "def string_required(f):\n",
        "    def string_checked(arg):\n",
        "        if type(arg) != str:\n",
        "            raise ValueError(repr(arg)+\" is not a string\")\n",
        "        return f(arg)\n",
        "    return string_checked"
      ]
    },
    {
      "cell_type": "markdown",
      "metadata": {},
      "source": [
        "The `must_have_s()` function just prints its argument and the argument's length."
      ]
    },
    {
      "cell_type": "code",
      "execution_count": null,
      "metadata": {
        "collapsed": false
      },
      "outputs": [],
      "prompt_number": "",
      "source": [
        "def must_have_s(arg):\n",
        "    print(arg, len(arg))"
      ]
    },
    {
      "cell_type": "code",
      "execution_count": null,
      "metadata": {
        "collapsed": false
      },
      "outputs": [],
      "prompt_number": "",
      "source": [
        "must_have_s(\"steve\")"
      ]
    },
    {
      "cell_type": "code",
      "execution_count": null,
      "metadata": {
        "collapsed": false
      },
      "outputs": [],
      "prompt_number": "",
      "source": [
        "must_have_s([1, 2, 3])"
      ]
    },
    {
      "cell_type": "markdown",
      "metadata": {},
      "source": [
        "As you can see, however, it doesn't live up to its name, as it will accept non-string arguments.\n",
        "So now we'll modify it to require a string argument."
      ]
    },
    {
      "cell_type": "code",
      "execution_count": null,
      "metadata": {
        "collapsed": false
      },
      "outputs": [],
      "prompt_number": "",
      "source": [
        "must_have_s = string_required(must_have_s)"
      ]
    },
    {
      "cell_type": "markdown",
      "metadata": {},
      "source": [
        "Python has a specific syntax to apply the _decorator_ at the time the function is defined."
      ]
    },
    {
      "cell_type": "code",
      "execution_count": null,
      "metadata": {
        "collapsed": false
      },
      "outputs": [],
      "prompt_number": "",
      "source": [
        "@string_required\n",
        "def second(s):\n",
        "    return 3*s"
      ]
    },
    {
      "cell_type": "code",
      "execution_count": null,
      "metadata": {
        "collapsed": false
      },
      "outputs": [],
      "prompt_number": "",
      "source": [
        "second(\"steve\")"
      ]
    },
    {
      "cell_type": "code",
      "execution_count": null,
      "metadata": {
        "collapsed": false
      },
      "outputs": [],
      "prompt_number": "",
      "source": [
        "second((1, 2, 3))"
      ]
    },
    {
      "cell_type": "markdown",
      "metadata": {},
      "source": [
        "If the same decorator function is applied to a class, the class's `__init__()` method will require a string argument."
      ]
    },
    {
      "cell_type": "code",
      "execution_count": null,
      "metadata": {
        "collapsed": false
      },
      "outputs": [],
      "prompt_number": "",
      "source": [
        "@string_required\n",
        "class little:\n",
        "    def __init__(self, s):\n",
        "        self.s = s"
      ]
    },
    {
      "cell_type": "code",
      "execution_count": null,
      "metadata": {
        "collapsed": false
      },
      "outputs": [],
      "prompt_number": "",
      "source": [
        "person = little(\"steve\")"
      ]
    },
    {
      "cell_type": "code",
      "execution_count": null,
      "metadata": {
        "collapsed": false
      },
      "outputs": [],
      "prompt_number": "",
      "source": [
        "person"
      ]
    },
    {
      "cell_type": "code",
      "execution_count": null,
      "metadata": {
        "collapsed": false
      },
      "outputs": [],
      "prompt_number": "",
      "source": [
        "person2 = little([1, 2, 3])"
      ]
    },
    {
      "cell_type": "code",
      "execution_count": null,
      "metadata": {
        "collapsed": false
      },
      "outputs": [],
      "prompt_number": "",
      "source": [
        "person.s"
      ]
    },
    {
      "cell_type": "markdown",
      "metadata": {},
      "source": [
        "The following class decorator function takes a class and attempts to wrap all its\n",
        "(non-magic) methods so they print \"Woof\" before they run."
      ]
    },
    {
      "cell_type": "code",
      "execution_count": null,
      "metadata": {
        "collapsed": false
      },
      "outputs": [],
      "prompt_number": "",
      "source": [
        "def barking(cls):\n",
        "    for name in cls.__dict__:\n",
        "        if name.startswith(\"__\"):\n",
        "            continue\n",
        "        func = getattr(cls, name)\n",
        "        def woofer(*args, **kw):\n",
        "            print(\"Woof\")\n",
        "            return func(*args, **kw)\n",
        "        setattr(cls, name, woofer)\n",
        "    return cls"
      ]
    },
    {
      "cell_type": "markdown",
      "metadata": {},
      "source": [
        "This seems to work for a simple class."
      ]
    },
    {
      "cell_type": "code",
      "execution_count": null,
      "metadata": {
        "collapsed": false
      },
      "outputs": [],
      "prompt_number": "",
      "source": [
        "@barking\n",
        "class dog_1:\n",
        "    def shout(self):\n",
        "        print(\"hello from dog_1\")"
      ]
    },
    {
      "cell_type": "code",
      "execution_count": null,
      "metadata": {
        "collapsed": false
      },
      "outputs": [],
      "prompt_number": "",
      "source": [
        "d1 = dog_1()"
      ]
    },
    {
      "cell_type": "code",
      "execution_count": null,
      "metadata": {
        "collapsed": false
      },
      "outputs": [],
      "prompt_number": "",
      "source": [
        "d1"
      ]
    },
    {
      "cell_type": "code",
      "execution_count": null,
      "metadata": {
        "collapsed": false
      },
      "outputs": [],
      "prompt_number": "",
      "source": [
        "d1.shout()"
      ]
    },
    {
      "cell_type": "markdown",
      "metadata": {},
      "source": [
        "When the class has multiple methods, however, a problem becomes apparent."
      ]
    },
    {
      "cell_type": "code",
      "execution_count": null,
      "metadata": {
        "collapsed": false
      },
      "outputs": [],
      "prompt_number": "",
      "source": [
        "@barking\n",
        "class dog_3(dog_1):\n",
        "    def wag(self):\n",
        "        print(\"a dog_3 is happy\")\n",
        "    def sniff(self):\n",
        "        print(\"a dog_3 is curious\")"
      ]
    },
    {
      "cell_type": "code",
      "execution_count": null,
      "metadata": {
        "collapsed": false
      },
      "outputs": [],
      "prompt_number": "",
      "source": [
        "d3 = dog_3()"
      ]
    },
    {
      "cell_type": "code",
      "execution_count": null,
      "metadata": {
        "collapsed": false
      },
      "outputs": [],
      "prompt_number": "",
      "source": [
        "d3.wag(); d3.sniff(); d3.shout()"
      ]
    },
    {
      "cell_type": "markdown",
      "metadata": {},
      "source": [
        "Notice that the new class's `wag()` and `sniff()` methods now appear to do the same thing.\n",
        "This is a complex problem to do with closures and cells (I wrote a blog post about it).\n",
        "\n",
        "We can fix this by using a different closure, replacing it with a default\n",
        "argument to a wrapper function."
      ]
    },
    {
      "cell_type": "code",
      "execution_count": null,
      "metadata": {
        "collapsed": false
      },
      "outputs": [],
      "prompt_number": "",
      "source": [
        "def barking(cls):\n",
        "    for name in cls.__dict__:\n",
        "        if name.startswith(\"__\"):\n",
        "            continue\n",
        "        func = getattr(cls, name)\n",
        "        def wrapper(func=func):\n",
        "            def woofer(*args, **kw):\n",
        "                print(\"Woof\")\n",
        "                return func(*args, **kw)\n",
        "            return woofer\n",
        "        setattr(cls, name, wrapper(func))\n",
        "    return cls"
      ]
    },
    {
      "cell_type": "code",
      "execution_count": null,
      "metadata": {
        "collapsed": true
      },
      "outputs": [],
      "prompt_number": "",
      "source": [
        "@barking\n",
        "class dog_3(dog_1):\n",
        "    def wag(self):\n",
        "        print(\"a dog_3 is happy\")\n",
        "    def sniff(self):\n",
        "        print(\"a dog_3 is curious\")"
      ]
    },
    {
      "cell_type": "code",
      "execution_count": null,
      "metadata": {
        "collapsed": false
      },
      "outputs": [],
      "prompt_number": "",
      "source": [
        "d3 = dog_3()\n",
        "d3.wag()\n",
        "d3.sniff()\n",
        "d3.shout()"
      ]
    },
    {
      "cell_type": "markdown",
      "metadata": {},
      "source": [
        "Just to prove that decorators don't _have_ to make sense, here's a slightly mad example."
      ]
    },
    {
      "cell_type": "code",
      "execution_count": null,
      "metadata": {
        "collapsed": false
      },
      "outputs": [],
      "prompt_number": "",
      "source": [
        "def completely_barking(cls):\n",
        "    class Null:\n",
        "        pass\n",
        "    return Null"
      ]
    },
    {
      "cell_type": "code",
      "execution_count": null,
      "metadata": {
        "collapsed": false
      },
      "outputs": [],
      "prompt_number": "",
      "source": [
        "@completely_barking\n",
        "class something:\n",
        "    def meth1(self):\n",
        "        pass\n",
        "    def meth2(self):\n",
        "        pass"
      ]
    },
    {
      "cell_type": "code",
      "execution_count": null,
      "metadata": {
        "collapsed": false
      },
      "outputs": [],
      "prompt_number": "",
      "source": [
        "something"
      ]
    },
    {
      "cell_type": "code",
      "execution_count": null,
      "metadata": {
        "collapsed": false
      },
      "outputs": [],
      "prompt_number": "",
      "source": [
        "s = something()\n",
        "something.meth1()"
      ]
    }
  ],
  "metadata": {
    "kernelspec": {
      "display_name": "Python 2",
      "language": "python",
      "name": "python2"
    },
    "language_info": {
      "codemirror_mode": {
        "name": "ipython",
        "version": 2
      },
      "file_extension": ".py",
      "mimetype": "text/x-python",
      "name": "python",
      "nbconvert_exporter": "python",
      "pygments_lexer": "ipython2",
      "version": "2.7.2"
    }
  },
  "nbformat": 4,
  "nbformat_minor": 0
}