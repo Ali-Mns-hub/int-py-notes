{
  "cells": [
    {
      "cell_type": "markdown",
      "metadata": {},
      "source": [
        "#Slicing"
      ]
    },
    {
      "cell_type": "markdown",
      "metadata": {},
      "source": [
        "## Slicing Sequences"
      ]
    },
    {
      "cell_type": "markdown",
      "metadata": {},
      "source": [
        "You have seen indexing used to extract individual elements from strings, lists and tuples. Sometimes, though, you want to extract a little more than a single element, and that's where slicing comes in.\n",
        "\n",
        "Slicing uses a special syntax for the indexing expression that goes between the square brackets, and slicing any sequence always returns a sequence of the same type."
      ]
    },
    {
      "cell_type": "code",
      "execution_count": 1,
      "metadata": {
        "collapsed": false
      },
      "outputs": [],
      "prompt_number": "",
      "source": [
        "s, t, lst = \"0123456789\"[:], ('one', 'two', 'three')[:], [1, 2, 3, 4][:]\n",
        "s, lst, t"
      ]
    },
    {
      "cell_type": "markdown",
      "metadata": {},
      "source": [
        "You can see that just putting a colon as the subscripting expression returns the whole sequence. Sometimes it's important to know that even under these circumstance _for mutable types_ slicing returns a new object copied from the original. You can confirm this by use of Python's [`id()` built-in function](http://docs.python.org/2/library/functions.html#id).\n",
        "\n",
        "If you think about it you will realize that there is no harm in the slice using the same object as the result of the slicing operation for immutable types. Since the object cannot change, it does not matter. But a slicing operation promises you _your own copy of the data at the time the slice was taken_, which is why a new list is created even when all elements are included in the slice. If the source list later changes, your copy is insulated from those changes. Changes can't happen to immutable values."
      ]
    },
    {
      "cell_type": "code",
      "execution_count": 2,
      "metadata": {
        "collapsed": false
      },
      "outputs": [],
      "prompt_number": "",
      "source": [
        "id(s)==id(s[:]), id(t)==id(t[:]), id(lst)==id(lst[:])"
      ]
    },
    {
      "cell_type": "markdown",
      "metadata": {},
      "source": [
        "In normal use the colon separates two index values. In the special case you saw above both indexes are omitted. Omitting the first index implies the slices should start at the beginning of the sliced sequence, omitting the second implies the slice should end at the end of the sliced string. When both are omitted, therefore, our result contains all the elements of the sliced sequence.\n",
        "\n",
        "This is true for any sequence type - the built-in sequence types are strings, tuples and lists, though of course you can define your own as well.\n",
        "\n",
        "Because Python sequences number their elements from zero, `x[:]` is equivalent to `x[0:len(x)]`."
      ]
    },
    {
      "cell_type": "code",
      "execution_count": 3,
      "metadata": {
        "collapsed": false
      },
      "outputs": [],
      "prompt_number": "",
      "source": [
        "s[0:len(s)], t[0:len(t)], lst[0:len(lst)]"
      ]
    },
    {
      "cell_type": "markdown",
      "metadata": {},
      "source": [
        "Note that len(lst) is not a valid index for the list when you are attempting to extract a single value: the elements are numbered from 0 to len(lst)-1. Attempts to go further are met with disapproval.\n"
      ]
    },
    {
      "cell_type": "code",
      "execution_count": 4,
      "metadata": {
        "collapsed": false
      },
      "outputs": [],
      "prompt_number": "",
      "source": [
        "lst[len(lst)]"
      ]
    },
    {
      "cell_type": "markdown",
      "metadata": {},
      "source": [
        "You can think of the second index in a slice as _the index of the first item excluded from the slice_. Beginners often wonder why Python chose this way of addressing slices, and the reason is arithmetical consistency. When you use `[m:n]` to index a sequence then the length of the resulting subsequence is `n-m`, keeping the slice index values relatively easy to compute."
      ]
    },
    {
      "cell_type": "code",
      "execution_count": 6,
      "metadata": {
        "collapsed": false
      },
      "outputs": [],
      "prompt_number": "",
      "source": [
        "s[4:7], len(s[4:7])"
      ]
    },
    {
      "cell_type": "markdown",
      "metadata": {},
      "source": [
        "Another advantage of the chosen way is that for any sequence `s` and any valid index `n` the following equivalence holds true:\n",
        "\n",
        "    s[:n] + s[n:] == s"
      ]
    },
    {
      "cell_type": "code",
      "execution_count": 7,
      "metadata": {
        "collapsed": false
      },
      "outputs": [],
      "prompt_number": "",
      "source": [
        "for sequence in s, t, lst:\n",
        "    for n in range(len(sequence)):\n",
        "        print(n, sequence, \"||\", sequence[:n], \"|\", sequence[n:])"
      ]
    },
    {
      "cell_type": "markdown",
      "metadata": {},
      "source": [
        "Note that Python is much more forgiving about slice indexes than it is about single indexes, where as you saw above, going outside the boundaries of the container causes the interpreter to raise an `IndexError` exception. If a slicing index goes past the end of the sequence this is silently treated as though it referred to the end of the sequence."
      ]
    },
    {
      "cell_type": "code",
      "execution_count": 8,
      "metadata": {
        "collapsed": false
      },
      "outputs": [],
      "prompt_number": "",
      "source": [
        "s[:1000], s[1000:]"
      ]
    },
    {
      "cell_type": "markdown",
      "metadata": {},
      "source": [
        "## Negative Indexes"
      ]
    },
    {
      "cell_type": "markdown",
      "metadata": {},
      "source": [
        "When a negative index `-n` is used to index a sequence `s` it is treated as though the actual index value were `len(s)-n`."
      ]
    },
    {
      "cell_type": "code",
      "execution_count": 9,
      "metadata": {
        "collapsed": false
      },
      "outputs": [],
      "prompt_number": "",
      "source": [
        "print(s)\n",
        "for i in range(1, len(s)):\n",
        "    print(i,\":\",  s[-i], s[len(s)-i])"
      ]
    },
    {
      "cell_type": "markdown",
      "metadata": {},
      "source": [
        "Note here that we chose not to include the value `0` in the range for `i` because while `0` is a valid index for `s`, `len(s)` is not as you saw above. While the positive range of subscripts goes from `0` to `len(s)-1`, the allowable negative index range goes from `-1` to `-len(s)` (or the other way around if you want to move from the first element to the last).\n",
        "\n",
        "If you are wondering why the negative indexes don't start at zero the simple answer is that `-0` is the same as `0` which already has a meaning as an index and anyway isn't negative! "
      ]
    },
    {
      "cell_type": "code",
      "execution_count": 10,
      "metadata": {
        "collapsed": false
      },
      "outputs": [],
      "prompt_number": "",
      "source": [
        "s[-len(s)]"
      ]
    },
    {
      "cell_type": "markdown",
      "metadata": {},
      "source": [
        "Negative indices have their role in slicing too."
      ]
    },
    {
      "cell_type": "code",
      "execution_count": 11,
      "metadata": {
        "collapsed": false
      },
      "outputs": [],
      "prompt_number": "",
      "source": [
        "s[-5]"
      ]
    },
    {
      "cell_type": "code",
      "execution_count": 12,
      "metadata": {
        "collapsed": false
      },
      "outputs": [],
      "prompt_number": "",
      "source": [
        "s[-5:-1]"
      ]
    },
    {
      "cell_type": "markdown",
      "metadata": {},
      "source": [
        "Observe that if the first slice index refers to an element further on the right of the sequence than the second element the result is an empty slice."
      ]
    },
    {
      "cell_type": "code",
      "execution_count": 13,
      "metadata": {
        "collapsed": false
      },
      "outputs": [],
      "prompt_number": "",
      "source": [
        "s[-5:-7]"
      ]
    },
    {
      "cell_type": "markdown",
      "metadata": {},
      "source": [
        "This might seem less surprising when you rewrite the same expression with the equivalent positive indexes. Remember that `s` is 10 characters long."
      ]
    },
    {
      "cell_type": "code",
      "execution_count": 14,
      "metadata": {
        "collapsed": false
      },
      "outputs": [],
      "prompt_number": "",
      "source": [
        "s[10-5:10-7], s[5:3]"
      ]
    },
    {
      "cell_type": "code",
      "execution_count": 15,
      "metadata": {
        "collapsed": false
      },
      "outputs": [],
      "prompt_number": "",
      "source": [
        "s[-7:9]"
      ]
    },
    {
      "cell_type": "markdown",
      "metadata": {},
      "source": [
        "The second of the two expressions above is exactly the same as the first, using simple integer indexes rather than the expressions used in the first. Technically you might expect `s[5:3]` to return a string of length -2, but inutitively it's unreasonable to expect strings to have a negative length, so since the beginning of the slice is after the end the result is an empty sequence (in this case the empty string)."
      ]
    },
    {
      "cell_type": "code",
      "execution_count": 17,
      "metadata": {
        "collapsed": false
      },
      "outputs": [],
      "prompt_number": "",
      "source": [
        "class Indexable():\n",
        "    def __getitem__(self, arg):\n",
        "        print \"Getitem:\", arg\n",
        "\n",
        "indexable = Indexable()\n",
        "indexable[2]"
      ]
    },
    {
      "cell_type": "code",
      "execution_count": 18,
      "metadata": {
        "collapsed": false
      },
      "outputs": [],
      "prompt_number": "",
      "source": [
        "indexable[1:4]"
      ]
    },
    {
      "cell_type": "code",
      "execution_count": 19,
      "metadata": {
        "collapsed": false
      },
      "outputs": [],
      "prompt_number": "",
      "source": [
        "slice_object = slice(1, 4, None)\n",
        "for i in range(6):\n",
        "    start, stop, stride = slice_object.indices(i)\n",
        "    print start, stop, stride, repr(s[start:stop])"
      ]
    },
    {
      "cell_type": "markdown",
      "metadata": {},
      "source": [
        "We'll look at the stride in _Advanced Slicing_"
      ]
    },
    {
      "cell_type": "markdown",
      "metadata": {},
      "source": [
        "###Possible Discussions\n",
        "\n",
        "* Can I delete a slice with a stride?\n",
        "\n",
        "###And, of course, whatever _you_ want ..."
      ]
    },
    {
      "cell_type": "code",
      "execution_count": 20,
      "metadata": {
        "collapsed": false
      },
      "outputs": [],
      "prompt_number": "",
      "source": [
        "lst"
      ]
    },
    {
      "cell_type": "code",
      "execution_count": 21,
      "metadata": {
        "collapsed": false
      },
      "outputs": [],
      "prompt_number": "",
      "source": [
        "lst[1:3]"
      ]
    },
    {
      "cell_type": "code",
      "execution_count": 22,
      "metadata": {
        "collapsed": true
      },
      "outputs": [],
      "prompt_number": "",
      "source": [
        "del lst[1:3]"
      ]
    },
    {
      "cell_type": "code",
      "execution_count": 23,
      "metadata": {
        "collapsed": false
      },
      "outputs": [],
      "prompt_number": "",
      "source": [
        "lst"
      ]
    },
    {
      "cell_type": "code",
      "execution_count": 34,
      "metadata": {
        "collapsed": false
      },
      "outputs": [],
      "prompt_number": "",
      "source": [
        "l2 = [1, 2, 3, 4, 5, 6, 7, 8, 9, 10]"
      ]
    },
    {
      "cell_type": "code",
      "execution_count": 35,
      "metadata": {
        "collapsed": false
      },
      "outputs": [],
      "prompt_number": "",
      "source": [
        "l2[4] = ' '\n",
        "l2"
      ]
    },
    {
      "cell_type": "code",
      "execution_count": 36,
      "metadata": {
        "collapsed": false
      },
      "outputs": [],
      "prompt_number": "",
      "source": [
        "l2[5:7]"
      ]
    },
    {
      "cell_type": "code",
      "execution_count": 37,
      "metadata": {
        "collapsed": false
      },
      "outputs": [],
      "prompt_number": "",
      "source": [
        "l2[5:7] = [12, 13, 14, 15]\n",
        "l2"
      ]
    },
    {
      "cell_type": "code",
      "execution_count": 38,
      "metadata": {
        "collapsed": false
      },
      "outputs": [],
      "prompt_number": "",
      "source": [
        "l2[4:3]"
      ]
    },
    {
      "cell_type": "code",
      "execution_count": 39,
      "metadata": {
        "collapsed": true
      },
      "outputs": [],
      "prompt_number": "",
      "source": [
        "l2[4:3] = \"hello\""
      ]
    },
    {
      "cell_type": "code",
      "execution_count": 40,
      "metadata": {
        "collapsed": false
      },
      "outputs": [],
      "prompt_number": "",
      "source": [
        "l2"
      ]
    },
    {
      "cell_type": "code",
      "execution_count": null,
      "metadata": {
        "collapsed": true
      },
      "outputs": [],
      "prompt_number": "",
      "source": []
    }
  ],
  "metadata": {
    "kernelspec": {
      "display_name": "Python 2",
      "language": "python",
      "name": "python2"
    },
    "language_info": {
      "codemirror_mode": {
        "name": "ipython",
        "version": 2
      },
      "file_extension": ".py",
      "mimetype": "text/x-python",
      "name": "python",
      "nbconvert_exporter": "python",
      "pygments_lexer": "ipython2",
      "version": "2.7.2"
    }
  },
  "nbformat": 4,
  "nbformat_minor": 0
}