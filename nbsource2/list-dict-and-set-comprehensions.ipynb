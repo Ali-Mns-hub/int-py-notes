{
  "cells": [
    {
      "cell_type": "markdown",
      "metadata": {},
      "source": [
        "#List, Dict and Set Comprehensions"
      ]
    },
    {
      "cell_type": "markdown",
      "metadata": {},
      "source": [
        "A very common paradigm for building a list is as follows"
      ]
    },
    {
      "cell_type": "code",
      "execution_count": 20,
      "metadata": {
        "collapsed": false
      },
      "outputs": [],
      "prompt_number": "",
      "source": [
        "%%timeit\n",
        "squares_list = []\n",
        "for i in range(10):\n",
        "    squares_list.append(i*i)\n",
        "\n",
        "squares_list"
      ]
    },
    {
      "cell_type": "markdown",
      "metadata": {},
      "source": [
        "The Python developers realised that it would be nice to be able to construct such lists using just an expression and invented the _list comprehension_. Using a comprehension we can write an expression that evaluates to the same list as above."
      ]
    },
    {
      "cell_type": "code",
      "execution_count": 4,
      "metadata": {
        "collapsed": false
      },
      "outputs": [],
      "prompt_number": "",
      "source": [
        " xrange(10)"
      ]
    },
    {
      "cell_type": "code",
      "execution_count": 23,
      "metadata": {
        "collapsed": false
      },
      "outputs": [],
      "prompt_number": "",
      "source": [
        "%%timeit\n",
        "\n",
        "squares_list = [x*x for x in range(10)]\n",
        "squares_list"
      ]
    },
    {
      "cell_type": "code",
      "execution_count": 11,
      "metadata": {
        "collapsed": false
      },
      "outputs": [],
      "prompt_number": "",
      "source": [
        "result = []\n",
        "lst1 = [1, 2, 3, 4]\n",
        "lst2 = [4, 5,  6, 7]\n",
        "for i1 in lst1:\n",
        "    for i2 in lst2:\n",
        "        result.append((i1, i2))\n",
        "        \n",
        "print result"
      ]
    },
    {
      "cell_type": "code",
      "execution_count": 12,
      "metadata": {
        "collapsed": false
      },
      "outputs": [],
      "prompt_number": "",
      "source": [
        "[(i1, i2) \n",
        "    for i1 in lst1\n",
        "         for i2 in lst2]"
      ]
    },
    {
      "cell_type": "code",
      "execution_count": 13,
      "metadata": {
        "collapsed": false
      },
      "outputs": [],
      "prompt_number": "",
      "source": [
        "x # In Python 3 x is purely local to the comprehension"
      ]
    },
    {
      "cell_type": "markdown",
      "metadata": {
        "collapsed": false
      },
      "source": [
        "You can also add conditions, which can be used to include only \"approved\" values.\n",
        "Suppose we wanted a list of the squares of even numbers, we could have written"
      ]
    },
    {
      "cell_type": "code",
      "execution_count": 15,
      "metadata": {
        "collapsed": false
      },
      "outputs": [],
      "prompt_number": "",
      "source": [
        "[x*x for x in range(10) if not x % 2]"
      ]
    },
    {
      "cell_type": "markdown",
      "metadata": {},
      "source": [
        "More recently the language has been expanded to all the creation of sets and dicts\n",
        "using similar syntax."
      ]
    },
    {
      "cell_type": "code",
      "execution_count": 16,
      "metadata": {
        "collapsed": false
      },
      "outputs": [],
      "prompt_number": "",
      "source": [
        "{i: \"*\"*i for i in range(20)}"
      ]
    },
    {
      "cell_type": "code",
      "execution_count": 17,
      "metadata": {
        "collapsed": false
      },
      "outputs": [],
      "prompt_number": "",
      "source": [
        "{\"&\"*i for i in range(10) if i%2}"
      ]
    },
    {
      "cell_type": "markdown",
      "metadata": {
        "collapsed": true
      },
      "source": [
        "###Possible Discussions\n",
        "\n",
        "* Is code shorter with comprehensions?\n",
        "* Faster?\n",
        "* Do comprehensions make code clearer or less readable?\n",
        "\n",
        "###And, of course, whatever _you_ want ..."
      ]
    }
  ],
  "metadata": {
    "kernelspec": {
      "display_name": "Python 2",
      "language": "python",
      "name": "python2"
    },
    "language_info": {
      "codemirror_mode": {
        "name": "ipython",
        "version": 2
      },
      "file_extension": ".py",
      "mimetype": "text/x-python",
      "name": "python",
      "nbconvert_exporter": "python",
      "pygments_lexer": "ipython2",
      "version": "2.7.2"
    }
  },
  "nbformat": 4,
  "nbformat_minor": 0
}