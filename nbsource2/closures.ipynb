{
  "cells": [
    {
      "cell_type": "markdown",
      "metadata": {},
      "source": [
        "#Closures"
      ]
    },
    {
      "cell_type": "markdown",
      "metadata": {},
      "source": [
        "A closure is a function that encapsulates the values of one or more values passed in from the outside environment.\n",
        "\n",
        "Here's a regular function `f()` and a function `c()` that returns a closure."
      ]
    },
    {
      "cell_type": "code",
      "execution_count": 39,
      "metadata": {
        "collapsed": false
      },
      "outputs": [],
      "prompt_number": "",
      "source": [
        "def f(y):\n",
        "    return y\n",
        "\n",
        "def c(x):\n",
        "    def f(y):\n",
        "        return x\n",
        "    return f"
      ]
    },
    {
      "cell_type": "markdown",
      "metadata": {},
      "source": [
        "We can assign functions just like any other object in Python.\n",
        "So let's capture instances of both, then disassemble them."
      ]
    },
    {
      "cell_type": "code",
      "execution_count": 40,
      "metadata": {
        "collapsed": false
      },
      "outputs": [],
      "prompt_number": "",
      "source": [
        "func = f\n",
        "closure = c(42)"
      ]
    },
    {
      "cell_type": "markdown",
      "metadata": {},
      "source": [
        "Note that the closure uses a different bytecode to load the value of `x` than the function does to return the value of  `y`.\n",
        "When the closure is compliled it creates what is known as a _cell_ to store references to objects outside the functions scope. This captures the value, and retains it to avoid it becoming garbage if other external references to it are dropped.\n",
        "The `LOAD_DEREF` bytecode simply extracts a value from the cell."
      ]
    },
    {
      "cell_type": "code",
      "execution_count": 41,
      "metadata": {
        "collapsed": false
      },
      "outputs": [],
      "prompt_number": "",
      "source": [
        "from dis import dis\n",
        "dis(func)"
      ]
    },
    {
      "cell_type": "code",
      "execution_count": 42,
      "metadata": {
        "collapsed": false
      },
      "outputs": [],
      "prompt_number": "",
      "source": [
        "dis(closure)"
      ]
    },
    {
      "cell_type": "markdown",
      "metadata": {},
      "source": [
        "In the next example we look at the interactions with various scopes.\n",
        "The `f2()` function defines a function that defines a class and returns it.\n",
        "\n",
        "When called, `f2()` defines `myfunc()` that, when called, returns a locally-defined class `MyClass`. `f2()` then\n",
        "prints the disassembly of `myfunc()` before calling it."
      ]
    },
    {
      "cell_type": "code",
      "execution_count": 43,
      "metadata": {
        "collapsed": false
      },
      "outputs": [],
      "prompt_number": "",
      "source": [
        "x = 'x in module'\n",
        "def  f2():\n",
        "    x = 'x in f2'\n",
        "    def myfunc():\n",
        "        x = 'x in myfunc'\n",
        "        class MyClass(object): # Note: not a function!\n",
        "            x = x\n",
        "            print(x)\n",
        "        return MyClass\n",
        "    print \"Disassembly:\", dis(myfunc)\n",
        "    result = myfunc()\n",
        "    print \"Result:\", result\n",
        "f2()"
      ]
    },
    {
      "cell_type": "code",
      "execution_count": 44,
      "metadata": {
        "collapsed": false
      },
      "outputs": [],
      "prompt_number": "",
      "source": [
        "x = 'x in module'\n",
        "def  f2():\n",
        "    x = 'x in f2'\n",
        "    def myfunc():\n",
        "        x = 'x in myfunc'\n",
        "        class MyClass(object):\n",
        "            y = x\n",
        "            print(y)\n",
        "        return MyClass\n",
        "    print \"myfunc code:\"\n",
        "    print dis(myfunc)\n",
        "    print \"myfunc closure:\\n\", myfunc.__closure__\n",
        "    myfunc()\n",
        "print \"f2 closure:\", f2.__closure__\n",
        "result = f2()\n",
        "print \"Result:\", result"
      ]
    },
    {
      "cell_type": "code",
      "execution_count": 45,
      "metadata": {
        "collapsed": false
      },
      "outputs": [],
      "prompt_number": "",
      "source": [
        "dis(f2)"
      ]
    },
    {
      "cell_type": "markdown",
      "metadata": {},
      "source": [
        "###XXX Move to slicing/indexing\n",
        "Here's a class with a simple definition, whose instances can be indexed."
      ]
    },
    {
      "cell_type": "code",
      "execution_count": 46,
      "metadata": {
        "collapsed": false
      },
      "outputs": [],
      "prompt_number": "",
      "source": [
        "class __:\n",
        " def __getitem__(self, arg):\n",
        "  return arg\n",
        "___ = __()[...]\n",
        "___"
      ]
    },
    {
      "cell_type": "code",
      "execution_count": 47,
      "metadata": {
        "collapsed": false
      },
      "outputs": [],
      "prompt_number": "",
      "source": [
        "Ellipsis, type(Ellipsis)"
      ]
    },
    {
      "cell_type": "markdown",
      "metadata": {},
      "source": [
        "Although this is legal in Python 3, in Python 2 you can't create instances of Ellipsis."
      ]
    },
    {
      "cell_type": "code",
      "execution_count": 48,
      "metadata": {
        "collapsed": false
      },
      "outputs": [],
      "prompt_number": "",
      "source": [
        "e1 = type(Ellipsis)()\n",
        "e2 = type(Ellipsis)()\n",
        "e1 is e2 is Ellipsis"
      ]
    },
    {
      "cell_type": "markdown",
      "metadata": {},
      "source": [
        "Similarly, in Python 2 Ellipsis is not a valid expression."
      ]
    },
    {
      "cell_type": "code",
      "execution_count": 49,
      "metadata": {
        "collapsed": false
      },
      "outputs": [],
      "prompt_number": "",
      "source": [
        "..."
      ]
    }
  ],
  "metadata": {
    "kernelspec": {
      "display_name": "Python 2",
      "language": "python",
      "name": "python2"
    },
    "language_info": {
      "codemirror_mode": {
        "name": "ipython",
        "version": 2
      },
      "file_extension": ".py",
      "mimetype": "text/x-python",
      "name": "python",
      "nbconvert_exporter": "python",
      "pygments_lexer": "ipython2",
      "version": "2.7.2"
    }
  },
  "nbformat": 4,
  "nbformat_minor": 0
}