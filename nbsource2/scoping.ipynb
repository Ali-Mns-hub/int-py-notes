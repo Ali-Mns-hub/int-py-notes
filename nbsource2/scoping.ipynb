{
  "cells": [
    {
      "cell_type": "code",
      "execution_count": null,
      "metadata": {
        "collapsed": true
      },
      "outputs": [],
      "prompt_number": "",
      "source": [
        "crud = \"module crud\""
      ]
    },
    {
      "cell_type": "code",
      "execution_count": null,
      "metadata": {
        "collapsed": false
      },
      "outputs": [],
      "prompt_number": "",
      "source": [
        "def f():\n",
        "    print crud\n",
        "    crud = \"function crud\"\n",
        "    print crud\n",
        "f()"
      ]
    },
    {
      "cell_type": "code",
      "execution_count": null,
      "metadata": {
        "collapsed": false
      },
      "outputs": [],
      "prompt_number": "",
      "source": [
        "def f2():\n",
        "    crud = \"f2 crud\"\n",
        "    def f3():\n",
        "        print crud\n",
        "    f3()\n",
        "f2()"
      ]
    },
    {
      "cell_type": "code",
      "execution_count": null,
      "metadata": {
        "collapsed": false
      },
      "outputs": [],
      "prompt_number": "",
      "source": [
        "f2()"
      ]
    },
    {
      "cell_type": "code",
      "execution_count": null,
      "metadata": {
        "collapsed": false
      },
      "outputs": [],
      "prompt_number": "",
      "source": [
        "def f2():\n",
        "    crud = \"f2 crud\"\n",
        "    def f3():\n",
        "        global crud\n",
        "        print crud\n",
        "    f3()\n",
        "    print crud\n",
        "f2()"
      ]
    },
    {
      "cell_type": "code",
      "execution_count": null,
      "metadata": {
        "collapsed": false
      },
      "outputs": [],
      "prompt_number": "",
      "source": [
        "def f2():\n",
        "    crud = \"f2 crud\"\n",
        "    def f3():\n",
        "        crud = \"f3 crud\"\n",
        "        print crud\n",
        "    f3()\n",
        "    print crud\n",
        "f2()"
      ]
    },
    {
      "cell_type": "code",
      "execution_count": null,
      "metadata": {
        "collapsed": false
      },
      "outputs": [],
      "prompt_number": "",
      "source": [
        "crud = \"module crud\"\n",
        "class c:\n",
        "    print crud\n",
        "    crud = \"class crud\"\n",
        "    print crud\n",
        "\n",
        "print c.crud\n"
      ]
    },
    {
      "cell_type": "markdown",
      "metadata": {},
      "source": [
        "###Possible Discussions\n",
        "\n",
        "* How useful is lexical scoping?\n",
        "* Are global variables really a bad thing?\n",
        "\n",
        "###And, of course, whatever _you_ want ..."
      ]
    }
  ],
  "metadata": {
    "kernelspec": {
      "display_name": "Python 2",
      "language": "python",
      "name": "python2"
    },
    "language_info": {
      "codemirror_mode": {
        "name": "ipython",
        "version": 2
      },
      "file_extension": ".py",
      "mimetype": "text/x-python",
      "name": "python",
      "nbconvert_exporter": "python",
      "pygments_lexer": "ipython2",
      "version": "2.7.2"
    }
  },
  "nbformat": 4,
  "nbformat_minor": 0
}