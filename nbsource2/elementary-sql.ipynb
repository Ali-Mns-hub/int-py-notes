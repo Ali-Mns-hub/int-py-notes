{
  "cells": [
    {
      "cell_type": "markdown",
      "metadata": {},
      "source": [
        "# Elementary SQL Usage"
      ]
    },
    {
      "cell_type": "code",
      "execution_count": 1,
      "metadata": {
        "collapsed": false
      },
      "outputs": [],
      "prompt_number": "",
      "source": [
        "import sqlite3\n",
        "conn = sqlite3.connect(\"MyDatabase.sql3\")\n",
        "curs = conn.cursor()"
      ]
    },
    {
      "cell_type": "code",
      "execution_count": 2,
      "metadata": {
        "collapsed": false
      },
      "outputs": [],
      "prompt_number": "",
      "source": [
        "curs.execute(\"SELECT * FROM publisher\")"
      ]
    },
    {
      "cell_type": "code",
      "execution_count": 3,
      "metadata": {
        "collapsed": false
      },
      "outputs": [],
      "prompt_number": "",
      "source": [
        "curs.execute(\"\"\"INSERT INTO Publisher (pubid, pubName, pubURL)\n",
        "                VALUES (10, 'O''Reilly', 'www.ora.com')\"\"\")"
      ]
    },
    {
      "cell_type": "code",
      "execution_count": 4,
      "metadata": {
        "collapsed": false
      },
      "outputs": [],
      "prompt_number": "",
      "source": [
        "curs.execute(\"\"\"INSERT INTO Publisher (pubid, pubName, pubURL)\n",
        "                VALUES (12, 'New Riders', 'www.newriders.com')\"\"\")"
      ]
    },
    {
      "cell_type": "code",
      "execution_count": 5,
      "metadata": {
        "collapsed": false
      },
      "outputs": [],
      "prompt_number": "",
      "source": [
        "curs.execute(\"\"\"INSERT INTO Book (BkISBN, BkTitle, BkPubNo, BkYear)\n",
        "                VALUES('1234444455', 'Python Web Programming', 2, 2002)\"\"\")"
      ]
    },
    {
      "cell_type": "code",
      "execution_count": 6,
      "metadata": {
        "collapsed": false
      },
      "outputs": [],
      "prompt_number": "",
      "source": [
        "curs.execute(\"select * from BOOK\")"
      ]
    },
    {
      "cell_type": "code",
      "execution_count": 23,
      "metadata": {
        "collapsed": false
      },
      "outputs": [],
      "prompt_number": "",
      "source": [
        "curs.fetchall()"
      ]
    },
    {
      "cell_type": "code",
      "execution_count": 24,
      "metadata": {
        "collapsed": false
      },
      "outputs": [],
      "prompt_number": "",
      "source": [
        "curs.description"
      ]
    },
    {
      "cell_type": "code",
      "execution_count": null,
      "metadata": {
        "collapsed": false
      },
      "outputs": [],
      "prompt_number": "",
      "source": [
        "curs.execute(\"\"\"INSERT INTO book (bkisbn, bktitle, bkyear, bkpubid)\n",
        "                 VALUES('1278077807', 'Python Web Programming', 2, 2002)"
      ]
    },
    {
      "cell_type": "code",
      "execution_count": 26,
      "metadata": {
        "collapsed": false
      },
      "outputs": [],
      "prompt_number": "",
      "source": [
        "curs.execute(\"SELECT bktitle, bkisbn, pubname from publisher\")\n",
        "curs.fetchall()\n",
        "curs.description"
      ]
    },
    {
      "cell_type": "code",
      "execution_count": 28,
      "metadata": {
        "collapsed": false
      },
      "outputs": [],
      "prompt_number": "",
      "source": [
        "curs.execute(\"\"\"SELECT BkTitle, BkISBN, PubName\n",
        "                FROM Book JOIN Publisher ON bkpubid=pubid\"\"\")\n",
        "curs.fetchall()"
      ]
    },
    {
      "cell_type": "code",
      "execution_count": 29,
      "metadata": {
        "collapsed": false
      },
      "outputs": [],
      "prompt_number": "",
      "source": [
        "curs.execute(\"\"\"INSERT INTO Publisher (pubid, pubName, pubURL)\n",
        "                VALUES (12, 'New Riders', 'www.pearson.com')\"\"\")\n",
        "curs.fetchall()"
      ]
    },
    {
      "cell_type": "code",
      "execution_count": 30,
      "metadata": {
        "collapsed": false
      },
      "outputs": [],
      "prompt_number": "",
      "source": [
        "curs.execute(\"\"\"INSERT INTO Publisher (pubid, pubName, pubURL)\n",
        "                VALUES (12, 'New Riders', 'www.pearson.com')\"\"\")\n",
        "curs.fetchall()"
      ]
    },
    {
      "cell_type": "code",
      "execution_count": null,
      "metadata": {
        "collapsed": false
      },
      "outputs": [],
      "prompt_number": "",
      "source": []
    }
  ],
  "metadata": {
    "kernelspec": {
      "display_name": "Python 2",
      "language": "python",
      "name": "python2"
    },
    "language_info": {
      "codemirror_mode": {
        "name": "ipython",
        "version": 2
      },
      "file_extension": ".py",
      "mimetype": "text/x-python",
      "name": "python",
      "nbconvert_exporter": "python",
      "pygments_lexer": "ipython2",
      "version": "2.7.2"
    }
  },
  "nbformat": 4,
  "nbformat_minor": 0
}