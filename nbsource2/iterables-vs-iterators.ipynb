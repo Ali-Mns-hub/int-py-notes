{
  "cells": [
    {
      "cell_type": "markdown",
      "metadata": {},
      "source": [
        "#Iterables vs. Iterators"
      ]
    },
    {
      "cell_type": "markdown",
      "metadata": {},
      "source": [
        "Many objects in Python can be iterated over - lists, dicts, strings, and so on.\n",
        "Objects that can be iterated over in this way are generically known as _iterables_"
      ]
    },
    {
      "cell_type": "code",
      "execution_count": 13,
      "metadata": {
        "collapsed": false
      },
      "outputs": [],
      "prompt_number": "",
      "source": [
        "test_list = [\"Roberta\", \"Tom\", \"Alice\", \"Dick\"]"
      ]
    },
    {
      "cell_type": "markdown",
      "metadata": {},
      "source": [
        "To iterate over an iterable the interpreter calls the iterable's `__iter__()` method.\n",
        "There's a built-in function you can use to do that.\n",
        "The `__iter__()` method returns an _iterator_."
      ]
    },
    {
      "cell_type": "code",
      "execution_count": 14,
      "metadata": {
        "collapsed": false
      },
      "outputs": [],
      "prompt_number": "",
      "source": [
        "iterator_1 = iter(test_list) # same as test_list.__iter__()"
      ]
    },
    {
      "cell_type": "code",
      "execution_count": 15,
      "metadata": {
        "collapsed": false
      },
      "outputs": [],
      "prompt_number": "",
      "source": [
        "iterator_2 = iter(test_list)"
      ]
    },
    {
      "cell_type": "code",
      "execution_count": 16,
      "metadata": {
        "collapsed": false
      },
      "outputs": [],
      "prompt_number": "",
      "source": [
        "id(test_list), id(iterator_1), id(iterator_2)"
      ]
    },
    {
      "cell_type": "code",
      "execution_count": 17,
      "metadata": {
        "collapsed": false
      },
      "outputs": [],
      "prompt_number": "",
      "source": [
        "type(iterator_1)"
      ]
    },
    {
      "cell_type": "code",
      "execution_count": 18,
      "metadata": {
        "collapsed": false
      },
      "outputs": [],
      "prompt_number": "",
      "source": [
        "set(dir(iterator_1)) - set(dir(test_list))"
      ]
    },
    {
      "cell_type": "markdown",
      "metadata": {},
      "source": [
        "When you loop over an iterable, the call to the iterable's `__iter__()` method is made\n",
        "automatically."
      ]
    },
    {
      "cell_type": "code",
      "execution_count": 19,
      "metadata": {
        "collapsed": false
      },
      "outputs": [],
      "prompt_number": "",
      "source": [
        "for i in test_list:\n",
        "    for j in test_list:\n",
        "        print(i, j)"
      ]
    },
    {
      "cell_type": "markdown",
      "metadata": {},
      "source": [
        "We can adopt the same technique with iterators.\n",
        "Note that an iterator's `__iter__()` method always returns `self`, whereas the\n",
        "iterable's `__iter__()` returns a new iterator each time."
      ]
    },
    {
      "cell_type": "code",
      "execution_count": 20,
      "metadata": {
        "collapsed": false
      },
      "outputs": [],
      "prompt_number": "",
      "source": [
        "for i in iterator_1:\n",
        "    print(\"outer loop\")\n",
        "    for j in iterator_2:\n",
        "        print(\"inner loop\")\n",
        "        print(i, j)"
      ]
    },
    {
      "cell_type": "markdown",
      "metadata": {},
      "source": [
        "The problem here is that on the second and subsequent trips around the outer loop `iterator_2`\n",
        "has already been exhausted, so the innner loop is effectively empty.\n",
        "We come up against similar issues even sooner if we try to use the same iterator in\n",
        "both the inner and the outer loops."
      ]
    },
    {
      "cell_type": "code",
      "execution_count": 23,
      "metadata": {
        "collapsed": false
      },
      "outputs": [],
      "prompt_number": "",
      "source": [
        "iterator_3 = iter(test_list)\n",
        "for i in iterator_3:\n",
        "    print(\"outer\")\n",
        "    for j in iterator_3:\n",
        "        print(\"inner\")\n",
        "        print(i, j)"
      ]
    },
    {
      "cell_type": "code",
      "execution_count": 37,
      "metadata": {
        "collapsed": false
      },
      "outputs": [],
      "prompt_number": "",
      "source": [
        "iterator_4 = iter(test_list)\n",
        "id(test_list), id(iter(test_list))"
      ]
    },
    {
      "cell_type": "code",
      "execution_count": 38,
      "metadata": {
        "collapsed": false
      },
      "outputs": [],
      "prompt_number": "",
      "source": [
        "id(iterator_4), id(iter(iterator_4)), id(iterator_4.__iter__())"
      ]
    },
    {
      "cell_type": "code",
      "execution_count": 39,
      "metadata": {
        "collapsed": false
      },
      "outputs": [],
      "prompt_number": "",
      "source": [
        "next(iterator_4), next(iterator_4)"
      ]
    },
    {
      "cell_type": "code",
      "execution_count": 40,
      "metadata": {
        "collapsed": false
      },
      "outputs": [],
      "prompt_number": "",
      "source": [
        "iterator_4.next(), iterator_4.next()"
      ]
    },
    {
      "cell_type": "code",
      "execution_count": 41,
      "metadata": {
        "collapsed": false
      },
      "outputs": [],
      "prompt_number": "",
      "source": [
        "iterator_4.next()"
      ]
    },
    {
      "cell_type": "markdown",
      "metadata": {
        "collapsed": false
      },
      "source": []
    }
  ],
  "metadata": {
    "kernelspec": {
      "display_name": "Python 2",
      "language": "python",
      "name": "python2"
    },
    "language_info": {
      "codemirror_mode": {
        "name": "ipython",
        "version": 2
      },
      "file_extension": ".py",
      "mimetype": "text/x-python",
      "name": "python",
      "nbconvert_exporter": "python",
      "pygments_lexer": "ipython2",
      "version": "2.7.2"
    }
  },
  "nbformat": 4,
  "nbformat_minor": 0
}