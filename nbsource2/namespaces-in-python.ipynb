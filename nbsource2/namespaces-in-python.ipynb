{
  "cells": [
    {
      "cell_type": "markdown",
      "metadata": {},
      "source": [
        "#Namespaces in Python"
      ]
    },
    {
      "cell_type": "markdown",
      "metadata": {},
      "source": [
        "##Namespaces"
      ]
    },
    {
      "cell_type": "markdown",
      "metadata": {},
      "source": [
        "Every Python module has a ___global___ namespace, where names are bound by assignments and function definitions within the main body of the program. When you call a function or method, Python dynamically creates a new namespace and binds the argument values to the parameter names in that namespace. Assignments made during execution of the function call (normally) result in bindings in the function call  or ___local___) namespace. When the function returns, the namespace is automatically destroyed, and any bindings inside the namespace are lost. If any objects are no longer referenced as a result of this, the memory used to store those values becomes reclaimable as garbage."
      ]
    },
    {
      "cell_type": "markdown",
      "metadata": {},
      "source": [
        "When you write large programs \"monolithically\" (as whole chunks), we can inadvertently use the same name for two different purposes at different places in the program. You can avoid that problem by incorporating the principle of modularity into your work. It is much easier to write programs as collections of small chunks that are relatively independent of one another. This will also make your programs easier to read and understand, so it's a win-win."
      ]
    },
    {
      "cell_type": "markdown",
      "metadata": {},
      "source": [
        "Python also constructs a namespace when you create a class, and in general every object (and everything is on object) in Python has a namespace. Python uses what's called a \u201clate binding\u201d technique. This means dynamically resolves names at run-time by looking in a succession of namespaces. The same name can be defined in multiple namespaces, because the uses don't collide."
      ]
    },
    {
      "cell_type": "markdown",
      "metadata": {},
      "source": [
        "### Top-Level Names"
      ]
    },
    {
      "cell_type": "markdown",
      "metadata": {},
      "source": [
        "When the interpreter needs to resolve an unqualified name (which for these purposes is one not preceded by a dot) it looks in three specific namespaces."
      ]
    },
    {
      "cell_type": "markdown",
      "metadata": {},
      "source": [
        " First, it looks in the local namespace (assuming a function call is active - for code at module level the local and global namespaces are the same). Next, it looks in the global namespace (remember, each module has its own global namespace - there is no _program_ global namespace). Finally, it looks in the \"built-in\" namespace, which holds the names of objects that are hard-wired into the Python interpreter, like exceptions and built-in functions. If the desired name is not found the interpreter raises a `NameError` exception."
      ]
    },
    {
      "cell_type": "markdown",
      "metadata": {},
      "source": [
        "Here's a simple demonstration that the local and global namespaces are the same for code running at module level."
      ]
    },
    {
      "cell_type": "code",
      "execution_count": null,
      "metadata": {
        "collapsed": false
      },
      "outputs": [],
      "prompt_number": "",
      "source": [
        "locals() == globals()"
      ]
    },
    {
      "cell_type": "markdown",
      "metadata": {},
      "source": [
        "Next we see that a function call creates a separate namespace, initially containing the argument values."
      ]
    },
    {
      "cell_type": "code",
      "execution_count": null,
      "metadata": {
        "collapsed": false
      },
      "outputs": [],
      "prompt_number": "",
      "source": [
        "def any_function(a, b, c):\n",
        "    print(locals())\n",
        "    return locals() == globals()\n",
        "print(any_function(1, 2, 3))"
      ]
    },
    {
      "cell_type": "markdown",
      "metadata": {},
      "source": [
        "The built-in namespace you can think of as the \u201cnamespace of last resort.\u201d It contains everything you can use in Python without having to import an external module."
      ]
    },
    {
      "cell_type": "code",
      "execution_count": null,
      "metadata": {
        "collapsed": false
      },
      "outputs": [],
      "prompt_number": "",
      "source": [
        "dir(__builtin__)"
      ]
    },
    {
      "cell_type": "markdown",
      "metadata": {},
      "source": [
        "### Attribute Name Resolution"
      ]
    },
    {
      "cell_type": "markdown",
      "metadata": {},
      "source": [
        "When you create a class it too has a namespace, in which any bindings in the class body are recorded. This includes method definitions as well as assignments. Assignments within the body give rise to so-called _class variables_, stored in the class namespace."
      ]
    },
    {
      "cell_type": "code",
      "execution_count": null,
      "metadata": {
        "collapsed": false
      },
      "outputs": [],
      "prompt_number": "",
      "source": [
        "class DemoClass:\n",
        "    \"\"\"Not intended to actually do anything much.\"\"\"\n",
        "    instance_count = 0\n",
        "    def __init__(self, thing):\n",
        "        self.thing = thing\n",
        "        DemoClass.instance_count += 1\n",
        "    def check_thing(self, thing):\n",
        "        return thing == self.thing"
      ]
    },
    {
      "cell_type": "code",
      "execution_count": null,
      "metadata": {
        "collapsed": false
      },
      "outputs": [],
      "prompt_number": "",
      "source": [
        "dir(DemoClass)"
      ]
    },
    {
      "cell_type": "markdown",
      "metadata": {},
      "source": [
        "We'll talk shortly about where all those dunder methods come from."
      ]
    },
    {
      "cell_type": "markdown",
      "metadata": {},
      "source": [
        "You'll see that the `DemoClass` class has an attribute called `__dict__`. This is actually where the repository for the names strictly local to that class."
      ]
    },
    {
      "cell_type": "code",
      "execution_count": null,
      "metadata": {
        "collapsed": false
      },
      "outputs": [],
      "prompt_number": "",
      "source": [
        "type(DemoClass.__dict__)"
      ]
    },
    {
      "cell_type": "code",
      "execution_count": null,
      "metadata": {
        "collapsed": false
      },
      "outputs": [],
      "prompt_number": "",
      "source": [
        "for (key, value) in DemoClass.__dict__.items():\n",
        "    print(\"{}: {!r}\".format(key, value))"
      ]
    },
    {
      "cell_type": "markdown",
      "metadata": {},
      "source": [
        "Instances also have an associated namespace in which _instance variables_ are stored (these are the ones whose names qualify `self` in your methods' code)."
      ]
    },
    {
      "cell_type": "code",
      "execution_count": null,
      "metadata": {
        "collapsed": false
      },
      "outputs": [],
      "prompt_number": "",
      "source": [
        "demo_object = DemoClass(42)\n",
        "dir(demo_object)"
      ]
    },
    {
      "cell_type": "markdown",
      "metadata": {},
      "source": [
        "The instance's namespace is also accessible through the name `__dict__`. In this case, though, it's just a regular dict."
      ]
    },
    {
      "cell_type": "code",
      "execution_count": null,
      "metadata": {
        "collapsed": false
      },
      "outputs": [],
      "prompt_number": "",
      "source": [
        "type(demo_object.__dict__)"
      ]
    },
    {
      "cell_type": "code",
      "execution_count": null,
      "metadata": {
        "collapsed": false
      },
      "outputs": [],
      "prompt_number": "",
      "source": [
        "for key, value in demo_object.__dict__.items():\n",
        "    print(\"{}: {!r}\".format(key, value))"
      ]
    },
    {
      "cell_type": "markdown",
      "metadata": {},
      "source": [
        "Again you see that the `__dict__` contains only the instance attributes, but `dir()` reports the availability of many other attributes. "
      ]
    },
    {
      "cell_type": "markdown",
      "metadata": {},
      "source": [
        "This is because attribute access (dotted names) is performed rather differently, and `dir()` tries to report all available attributes. To evaluate the expression `a.z` the interpreter first used the three-namespace rule (locals, then globals , then the built-in namespace) to look up the value of `a`."
      ]
    },
    {
      "cell_type": "markdown",
      "metadata": {},
      "source": [
        "Assuming that `a` is found and no `NameError` exception is raised, the interpreter then searches `a`\u2019s namespace for the attribute `z`. If it fails to find it, the interpreter then looks in the instance's class's (in this case `DemoClass`'s) namespace. If it fails to find it there then it looks in that class's parent class's namespace, and so on until it arrives at `object`, the ultimate super-class of everything in Python. If the desired name is not found then an `AttributeError` exception is raised."
      ]
    },
    {
      "cell_type": "markdown",
      "metadata": {},
      "source": [
        "If multiple levels of qualification are used (as, for example, in `a.b.c.d`) then the process is repeated for each successive level of qualification."
      ]
    },
    {
      "cell_type": "code",
      "execution_count": null,
      "metadata": {
        "collapsed": false
      },
      "outputs": [],
      "prompt_number": "",
      "source": [
        "DemoClass.instance_count"
      ]
    },
    {
      "cell_type": "code",
      "execution_count": null,
      "metadata": {
        "collapsed": false
      },
      "outputs": [],
      "prompt_number": "",
      "source": [
        "demo_object.instance_count"
      ]
    },
    {
      "cell_type": "code",
      "execution_count": null,
      "metadata": {
        "collapsed": false
      },
      "outputs": [],
      "prompt_number": "",
      "source": [
        "demo_2 = DemoClass(demo_object)\n",
        "demo_2.instance_count, demo_2.thing.instance_count"
      ]
    },
    {
      "cell_type": "markdown",
      "metadata": {},
      "source": [
        "###Possible Discussions\n",
        "\n",
        "* Is there any Python object that doesn't have its own namespace?\n",
        "* What's the role of lexical scoping?\n",
        "\n",
        "###And, of course, whatever _you_ want ..."
      ]
    }
  ],
  "metadata": {
    "kernelspec": {
      "display_name": "Python 2",
      "language": "python",
      "name": "python2"
    },
    "language_info": {
      "codemirror_mode": {
        "name": "ipython",
        "version": 2
      },
      "file_extension": ".py",
      "mimetype": "text/x-python",
      "name": "python",
      "nbconvert_exporter": "python",
      "pygments_lexer": "ipython2",
      "version": "2.7.2"
    }
  },
  "nbformat": 4,
  "nbformat_minor": 0
}