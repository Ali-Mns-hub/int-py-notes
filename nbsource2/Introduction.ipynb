{
  "cells": [
    {
      "cell_type": "markdown",
      "metadata": {},
      "source": [
        "#ABOUT THE CLASS"
      ]
    },
    {
      "cell_type": "markdown",
      "metadata": {},
      "source": [
        "## Not a lecture class\n",
        "\n",
        "## All Experience-based\n",
        "\n",
        "## Discussions are not optional\n",
        "* Otherwise we'll be done by lunchtime on Day 1\n",
        "\n",
        "## We can talk about anything\n",
        "* This is about what you need to know\n",
        "\n",
        "## Post-course notebooks will be delivered\n",
        "\n",
        "## After Each Presented Topic\n",
        "###Possible Discussions\n",
        "\n",
        "* My suggestions\n",
        "\n",
        "###And, of course, whatever _you_ want ..."
      ]
    }
  ],
  "metadata": {
    "kernelspec": {
      "display_name": "Python 2",
      "language": "python",
      "name": "python2"
    },
    "language_info": {
      "codemirror_mode": {
        "name": "ipython",
        "version": 2
      },
      "file_extension": ".py",
      "mimetype": "text/x-python",
      "name": "python",
      "nbconvert_exporter": "python",
      "pygments_lexer": "ipython2",
      "version": "2.7.2"
    }
  },
  "nbformat": 4,
  "nbformat_minor": 0
}