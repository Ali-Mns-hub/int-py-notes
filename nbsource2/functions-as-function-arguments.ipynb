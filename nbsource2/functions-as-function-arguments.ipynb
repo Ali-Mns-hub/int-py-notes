{
  "cells": [
    {
      "cell_type": "markdown",
      "metadata": {},
      "source": [
        "#Functions and Function Arguments"
      ]
    },
    {
      "cell_type": "markdown",
      "metadata": {},
      "source": [
        "##Function Arguments"
      ]
    },
    {
      "cell_type": "markdown",
      "metadata": {},
      "source": [
        "All Python functions can be called with two types of argument. The first type, and the one you are most familiar with, is called positional, because it is associated with a parameter by the position it occupies in the argument list (which generally corresponds to the position of the parameter in the function signature). The second type is called a keyword argument. Keyword arguments are preceded by a name and an equals sign, and they are associated with parameters by name (so they don't have to appear in any particular order)."
      ]
    },
    {
      "cell_type": "markdown",
      "metadata": {},
      "source": [
        "If a call has any positional arguments, they must always appear before any keyword arguments. Thus, `\"...\".format(a, b, k1=c, k2=d)` is legal, but `\"...\".format(k1=c, k2=d, a, b)` is not (it will be flagged as a syntax error by the interpreter because keyword arguments may not precede positionals)."
      ]
    },
    {
      "cell_type": "markdown",
      "metadata": {},
      "source": [
        "###Arguments _vs._ Parameters"
      ]
    },
    {
      "cell_type": "markdown",
      "metadata": {},
      "source": [
        "In order to try and be clear about the difference between definitions and calls,\n",
        "we use the term _\"parameter\"_ (more properly: _\"formal parameter\"_) to describe the\n",
        "names following __`def function(`__ that allow the funtion body to reference values\n",
        "passed at call-time.\n",
        "\n",
        "We reserve the term _\"argument\"_ to refer to the values passed to a function when it\n",
        "is called."
      ]
    },
    {
      "cell_type": "markdown",
      "metadata": {},
      "source": [
        "In short, parameters are the names you give to the inputs to the function when the function is defined. Arguments are the values you provide when you call the function."
      ]
    },
    {
      "cell_type": "code",
      "execution_count": 2,
      "metadata": {
        "collapsed": false
      },
      "outputs": [],
      "prompt_number": "",
      "source": [
        "def print_list(lst, rev=False):\n",
        "    \"\"\" prints the contents of a list. \"\"\"\n",
        "    if rev:\n",
        "        lst = reversed(lst)\n",
        "    for i in lst:\n",
        "        print i\n",
        "        \n",
        "print_list(['Printing', 'a', 'list'])\n",
        "print\n",
        "print_list(['Printing', 'a', 'reversed', 'list'], True)\n",
        "print\n",
        "print_list(lst=['A', 'list', 'with', 'specified', 'arguments'],rev=False)"
      ]
    },
    {
      "cell_type": "markdown",
      "metadata": {
        "collapsed": false
      },
      "source": [
        "Dropping off the end of the function is equivalent to the function ending with `return None`. So all functions will return some value, but by convention, functions that don't need to return anything can implicitly return `None`. If the function isn't intended to return a value, it's confusing to add an explicit `return`statement."
      ]
    },
    {
      "cell_type": "code",
      "execution_count": 6,
      "metadata": {
        "collapsed": false
      },
      "outputs": [],
      "prompt_number": "",
      "source": [
        "def structure_list(text):\n",
        "    \"\"\"Returns a list of punctuation in a text\"\"\"\n",
        "    punctuation_marks = \"!?.,:;\"\n",
        "    punctuation = []\n",
        "    for mark in punctuation_marks:\n",
        "        if mark in text:\n",
        "            punctuation.append(mark)\n",
        "    return punctuation\n",
        "\n",
        "text_block = \"\"\"\\\n",
        "Python is used everywhere nowadays.\n",
        "Major users include Google, Yahoo!, CERN and NASA (a team of 40 scientists and engineers\n",
        "is using Python to test the systems supporting the Mars Space Lander project).\n",
        "ITA, the company that produces the route search engine used by Orbitz, CheapTickets,\n",
        "travel agents and many international and national airlines, uses Python extensively.\n",
        "The YouTube video presentation system uses Python almost exclusively, despite their\n",
        "application requiring high network bandwidth and responsiveness.\n",
        "This snippet of text taken from chapter 1!\"\"\"\n",
        "\n",
        "for line in text_block.splitlines():\n",
        "    print(line)\n",
        "    p = structure_list(line)\n",
        "    if p:\n",
        "        print \"Contains:\", p\n",
        "    else:\n",
        "        print \"No punctuation in this line of text\"\n",
        "    if ',' in p:\n",
        "        print \"This line contains a comma\"\n",
        "    print '-'*80\n"
      ]
    },
    {
      "cell_type": "markdown",
      "metadata": {
        "collapsed": false
      },
      "source": [
        "So, what if you need to return two values? Suppose that, in addition to the punctuation in our last example, you also want to return the location of the word \"Python.\" You could write a second function, but it's often more efficient when the two results require related logic in order to have your function return another value."
      ]
    },
    {
      "cell_type": "code",
      "execution_count": 9,
      "metadata": {
        "collapsed": false
      },
      "outputs": [],
      "prompt_number": "",
      "source": [
        "def structure_list(text):\n",
        "    \"\"\"Returns a list of punctuation and the location of the word 'Python' in a text\"\"\"\n",
        "    punctuation_marks = \"!?.,:;\"\n",
        "    punctuation = []\n",
        "    for mark in punctuation_marks:\n",
        "        if mark in text:\n",
        "            punctuation.append(mark)\n",
        "    return punctuation, text.find('Python')\n",
        "\n",
        "text_block = \"\"\"\\\n",
        "Python is used everywhere nowadays.\n",
        "Major users include Google, Yahoo!, CERN and NASA (a team of 40 scientists and engineers\n",
        "is using Python to test the systems supporting the Mars Space Lander project).\n",
        "ITA, the company that produces the route search engine used by Orbitz, CheapTickets,\n",
        "travel agents and many international and national airlines, uses Python extensively.\n",
        "The YouTube video presentation system uses Python almost exclusively, despite their\n",
        "application requiring high network bandwidth and responsiveness.\n",
        "This snippet of text taken from chapter 1\"\"\"\n",
        "\n",
        "for line in text_block.splitlines():\n",
        "    print(line)\n",
        "    p, l = structure_list(line)\n",
        "    if p:\n",
        "        print \"Contains:\", p\n",
        "    else:\n",
        "        print \"No punctuation in this line of text\"\n",
        "    if ',' in p:\n",
        "        print \"This line contains a comma\"\n",
        "    if l >= 0:\n",
        "        print \"Python is first used at {0}\".format(l)\n",
        "    print '-'*80"
      ]
    },
    {
      "cell_type": "markdown",
      "metadata": {},
      "source": [
        "Using functions in Python has the added benefit of helping us begin to understand namespaces.\n",
        "\n",
        "When you call a function, Python dynamically creates a new namespace and binds the argument values to the appropriate parameter names. Assignments made during execution of the function call result in bindings in the function call namespace. When the function returns, the namespace is automatically destroyed, and any bindings inside the namespace are lost.\n",
        "\n",
        "You can sum up how functions handle namespaces in Python by understanding these two rules:\n",
        "\n",
        "Variables bound within a Python function body only exist in namespaces created by calls of that function.\n",
        "The variable c defined below is assigned inside of the test() function."
      ]
    },
    {
      "cell_type": "code",
      "execution_count": 12,
      "metadata": {
        "collapsed": false
      },
      "outputs": [],
      "prompt_number": "",
      "source": [
        "del c\n",
        "def test(a, b):\n",
        "    c = a + b\n",
        "    return c\n",
        "\n",
        "print test(1, 2)\n",
        "print c"
      ]
    },
    {
      "cell_type": "markdown",
      "metadata": {},
      "source": [
        "Variables bound in the global namespace can be accessed by functions, but may not be bound unless specifically declared to be `global`."
      ]
    },
    {
      "cell_type": "code",
      "execution_count": 19,
      "metadata": {
        "collapsed": false
      },
      "outputs": [],
      "prompt_number": "",
      "source": [
        "def test_a():\n",
        "    print a\n",
        "\n",
        "a = \"Python\"\n",
        "print test_a()"
      ]
    },
    {
      "cell_type": "markdown",
      "metadata": {},
      "source": [
        "Here's a figure that shows the relationship between arguments and parameters.\n",
        "\n",
        "![figure](/files/images/functioncall.png)"
      ]
    },
    {
      "cell_type": "markdown",
      "metadata": {},
      "source": [
        "When a function is called, the call's local namespace is initialised by binding the parameter names.\n",
        "\n",
        "If no argument corresponds to a keyword parameter then the _default value_ is bound instead.\n",
        "If the default value is mutable then each call sees the mutated value, because a single default value is bound when the function is defined."
      ]
    },
    {
      "cell_type": "markdown",
      "metadata": {
        "collapsed": true
      },
      "source": [
        "######Rules to Remember\n",
        "\n",
        "* Arguments are references to objects\n",
        "    * Names are direct references\n",
        "    * Expressions become references to the expression value\n",
        "* The corresponding parameter is a copy of those references\n",
        "    * _Not_ a copy of the value\n",
        "* Rebinding a parameter does not rebind the argument\n",
        "    * The rebinding takes place in the function call\u2019s local namespace\n",
        "* If a parameter refers to a mutable argument ...\n",
        "    * A change to the parameter also appears as a change to the argument\n",
        "    * The change is therefore visible to the caller when the function returns\n",
        "    * The argument and the parameter are simply two references to the same (mutable) value\n"
      ]
    },
    {
      "cell_type": "code",
      "execution_count": 20,
      "metadata": {
        "collapsed": false
      },
      "outputs": [],
      "prompt_number": "",
      "source": [
        "def f(x, y=[]):\n",
        "    y.append(x)\n",
        "    return y\n",
        "print f(23)\n",
        "print f(42)"
      ]
    },
    {
      "cell_type": "markdown",
      "metadata": {},
      "source": [
        "![figure](/files/images/mutatingdefault.png)"
      ]
    },
    {
      "cell_type": "code",
      "execution_count": 21,
      "metadata": {
        "collapsed": false
      },
      "outputs": [],
      "prompt_number": "",
      "source": [
        "def f(x, y=None):\n",
        "    if y is None:\n",
        "        y = []  # creates a new empty list\n",
        "    y.append(x)\n",
        "    return y\n",
        "print f(23)\n",
        "print f(42)"
      ]
    },
    {
      "cell_type": "code",
      "execution_count": null,
      "metadata": {
        "collapsed": true
      },
      "outputs": [],
      "prompt_number": "",
      "source": []
    }
  ],
  "metadata": {
    "kernelspec": {
      "display_name": "Python 2",
      "language": "python",
      "name": "python2"
    },
    "language_info": {
      "codemirror_mode": {
        "name": "ipython",
        "version": 2
      },
      "file_extension": ".py",
      "mimetype": "text/x-python",
      "name": "python",
      "nbconvert_exporter": "python",
      "pygments_lexer": "ipython2",
      "version": "2.7.2"
    }
  },
  "nbformat": 4,
  "nbformat_minor": 0
}