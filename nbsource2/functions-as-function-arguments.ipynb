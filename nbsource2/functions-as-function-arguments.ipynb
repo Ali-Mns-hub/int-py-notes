{
  "cells": [
    {
      "cell_type": "markdown",
      "metadata": {},
      "source": [
        "<img src=\"https://dl.dropboxusercontent.com/u/6117375/intermediate-notebooks/title_graphic.png\" />\n",
        "||| WORKING COPY ||| Functions as Function Arguments"
      ]
    },
    {
      "cell_type": "markdown",
      "metadata": {},
      "source": [
        "##Function Arguments"
      ]
    },
    {
      "cell_type": "markdown",
      "metadata": {},
      "source": [
        "All Python functions can be called with two types of argument. The first type, and the one you are most familiar with, is called positional, because it is associated with a parameter by the position it occupies in the argument list (which generally corresponds to the position of the parameter in the function signature). The second type is called a keyword argument. Keyword arguments are preceded by a name and an equals sign, and they are associated with parameters by name (so they don't have to appear in any particular order)."
      ]
    },
    {
      "cell_type": "markdown",
      "metadata": {},
      "source": [
        "If a call has any positional arguments, they must always appear before any keyword arguments. Thus, `\"...\".format(a, b, k1=c, k2=d)` is legal, but `\"...\".format(k1=c, k2=d, a, b)` is not (it will be flagged as a syntax error by the interpreter because keyword arguments may not precede positionals)."
      ]
    },
    {
      "cell_type": "markdown",
      "metadata": {},
      "source": [
        "###Field Names"
      ]
    },
    {
      "cell_type": "markdown",
      "metadata": {},
      "source": [
        "The first part of the replacement field, immediately following the opening curly bracket, is the field name. This tells the formatting engine which value is to be formatted. The field name begins with either a number, which specifies a positional argument to the `format()` method, or a name, which specifies a named argument. This can be followed by extra information that allows you to index the selected argument (which will presumably be an indexable object such as a list, tuple, or dict) or access one of its attributes."
      ]
    },
    {
      "cell_type": "markdown",
      "metadata": {},
      "source": [
        "These features alone can get you pretty far. Let's experiment now and get more comfortable programming by writing a slightly unusual program. Usually we expect to provide variable data to a program and format its results in a standard way. This time we'll provide you with standard data and let you enter format specifications that will select specific elements for display."
      ]
    },
    {
      "cell_type": "code",
      "execution_count": null,
      "metadata": {
        "collapsed": false
      },
      "outputs": [],
      "prompt_number": "",
      "source": [
        "i = 42\n",
        "r = 31.97\n",
        "c = 2.2 + 3.3j\n",
        "s = \"String\"\n",
        "lst = [\"zero\", \"one\", \"two\", \"three\", \"four\", \"five\"]\n",
        "dct = {\"Jim\": \"Dandy\",\n",
        "     \"Stella\": \"DuBois\",\n",
        "     1: \"integer\"}"
      ]
    },
    {
      "cell_type": "code",
      "execution_count": null,
      "metadata": {
        "collapsed": false
      },
      "outputs": [],
      "prompt_number": "",
      "source": [
        "while True:\n",
        "    fmt = input(\"Format string: \")            \n",
        "    if not fmt:\n",
        "        break\n",
        "    fms = \"{\"+fmt+\"}\"\n",
        "    print(\"Format:\", fms, \"output:\", fms.format(i, r, c, s, e=lst, f=dct))"
      ]
    },
    {
      "cell_type": "code",
      "execution_count": null,
      "metadata": {
        "collapsed": false
      },
      "outputs": [],
      "prompt_number": "",
      "source": []
    },
    {
      "cell_type": "code",
      "execution_count": null,
      "metadata": {
        "collapsed": false
      },
      "outputs": [],
      "prompt_number": "",
      "source": []
    }
  ],
  "metadata": {},
  "nbformat": 4,
  "nbformat_minor": 0
}