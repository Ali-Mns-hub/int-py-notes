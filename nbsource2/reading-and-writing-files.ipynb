{
  "cells": [
    {
      "cell_type": "markdown",
      "metadata": {},
      "source": [
        "#Reading and Writing Files"
      ]
    },
    {
      "cell_type": "code",
      "execution_count": null,
      "metadata": {
        "collapsed": false
      },
      "outputs": [],
      "prompt_number": "",
      "source": [
        "%%file star-spangled.txt\n",
        "These\n",
        "are\n",
        "not\n",
        "the\n",
        "words\n",
        "of\n",
        "the\n",
        "star\n",
        "spangled\n",
        "banner"
      ]
    },
    {
      "cell_type": "code",
      "execution_count": null,
      "metadata": {
        "collapsed": false
      },
      "outputs": [],
      "prompt_number": "",
      "source": [
        "f = open(\"star-spangled.txt\", \"r\")\n",
        "import sys\n",
        "sys.stdout.write(f.read())"
      ]
    },
    {
      "cell_type": "code",
      "execution_count": null,
      "metadata": {
        "collapsed": false
      },
      "outputs": [],
      "prompt_number": "",
      "source": [
        "f = open(\"star-spangled.txt\", \"r\")\n",
        "print f.readlines()\n",
        "f"
      ]
    },
    {
      "cell_type": "code",
      "execution_count": null,
      "metadata": {
        "collapsed": false
      },
      "outputs": [],
      "prompt_number": "",
      "source": [
        "f = open(\"star-spangled.txt\", \"rb\")\n",
        "for line in f:\n",
        "    print line[:-1],"
      ]
    },
    {
      "cell_type": "code",
      "execution_count": null,
      "metadata": {
        "collapsed": false
      },
      "outputs": [],
      "prompt_number": "",
      "source": [
        "f = open(\"star-spangled.txt\", \"rb\")\n",
        "for line in f:\n",
        "    print line.strip(),"
      ]
    },
    {
      "cell_type": "code",
      "execution_count": null,
      "metadata": {
        "collapsed": false
      },
      "outputs": [],
      "prompt_number": "",
      "source": [
        "o_f = open(\"binary.dat\", \"wb\")\n",
        "for i in range(256):\n",
        "    o_f.write(bytes([i]))\n",
        "o_f.close()"
      ]
    },
    {
      "cell_type": "code",
      "execution_count": null,
      "metadata": {
        "collapsed": false
      },
      "outputs": [],
      "prompt_number": "",
      "source": [
        "i_f = open(\"binary.dat\", \"rb\")\n",
        "data = i_f.read(16)\n",
        "print [i for i in data]"
      ]
    },
    {
      "cell_type": "code",
      "execution_count": null,
      "metadata": {
        "collapsed": false
      },
      "outputs": [],
      "prompt_number": "",
      "source": [
        "i_f.seek(240) # absolute seek\n",
        "data = i_f.read(16)\n",
        "print [i for i in data]"
      ]
    },
    {
      "cell_type": "code",
      "execution_count": null,
      "metadata": {
        "collapsed": false
      },
      "outputs": [],
      "prompt_number": "",
      "source": [
        "i_f.seek(156, 0) # absolute seek\n",
        "data = i_f.read(16)\n",
        "print(type(data))\n",
        "print([i for i in data])\n",
        "i_f.tell()"
      ]
    },
    {
      "cell_type": "code",
      "execution_count": null,
      "metadata": {
        "collapsed": false
      },
      "outputs": [],
      "prompt_number": "",
      "source": [
        "i_f.seek(-16, 1) # relative seek\n",
        "data = i_f.read(16) # reads the same bytes again\n",
        "print([i for i in data])\n",
        "i_f.tell()"
      ]
    },
    {
      "cell_type": "code",
      "execution_count": null,
      "metadata": {
        "collapsed": false
      },
      "outputs": [],
      "prompt_number": "",
      "source": [
        "i_f.seek(-16, 2) # end-relative seek\n",
        "data = i_f.read(16)\n",
        "print([i for i in data])\n",
        "i_f.tell()"
      ]
    },
    {
      "cell_type": "code",
      "execution_count": null,
      "metadata": {
        "collapsed": false
      },
      "outputs": [],
      "prompt_number": "",
      "source": [
        "i_f.seek(16, 2)\n",
        "data = i_f.read(16)\n",
        "print([i for i in data])\n",
        "print(i_f.tell())\n",
        "print(i_f.close())"
      ]
    },
    {
      "cell_type": "code",
      "execution_count": null,
      "metadata": {
        "collapsed": false
      },
      "outputs": [],
      "prompt_number": "",
      "source": [
        "w_f = open(\"binary.dat\", \"r+b\")\n",
        "print(w_f.tell())\n",
        "w_f.seek(272)\n",
        "print(w_f.tell())\n",
        "data = w_f.read(16)\n",
        "print([i for i in data])\n",
        "print(w_f.tell())"
      ]
    },
    {
      "cell_type": "code",
      "execution_count": null,
      "metadata": {
        "collapsed": false
      },
      "outputs": [],
      "prompt_number": "",
      "source": [
        "w_f"
      ]
    },
    {
      "cell_type": "code",
      "execution_count": null,
      "metadata": {
        "collapsed": false
      },
      "outputs": [],
      "prompt_number": "",
      "source": [
        "w_f.write(bytes([i for i in range(16)]))\n",
        "print(w_f.tell())"
      ]
    },
    {
      "cell_type": "code",
      "execution_count": null,
      "metadata": {
        "collapsed": false
      },
      "outputs": [],
      "prompt_number": "",
      "source": [
        "w_f.seek(250)\n",
        "aardvark = w_f.read(32)\n",
        "print(len(aardvark))\n",
        "print([x for x in aardvark])"
      ]
    },
    {
      "cell_type": "code",
      "execution_count": null,
      "metadata": {
        "collapsed": false
      },
      "outputs": [],
      "prompt_number": "",
      "source": [
        "w_f.seek(512)\n",
        "w_f.write(b'\\x00')\n",
        "w_f.tell()"
      ]
    },
    {
      "cell_type": "code",
      "execution_count": null,
      "metadata": {
        "collapsed": false
      },
      "outputs": [],
      "prompt_number": "",
      "source": [
        "w_f.seek(500)\n",
        "len(w_f.read(200))"
      ]
    },
    {
      "cell_type": "markdown",
      "metadata": {},
      "source": [
        "###Possible Discussions\n",
        "\n",
        "* Is it safe to use text-mode files for Unicode data?\n",
        "\n",
        "###And, of course, whatever _you_ want ..."
      ]
    }
  ],
  "metadata": {
    "kernelspec": {
      "display_name": "Python 2",
      "language": "python",
      "name": "python2"
    },
    "language_info": {
      "codemirror_mode": {
        "name": "ipython",
        "version": 2
      },
      "file_extension": ".py",
      "mimetype": "text/x-python",
      "name": "python",
      "nbconvert_exporter": "python",
      "pygments_lexer": "ipython2",
      "version": "2.7.2"
    }
  },
  "nbformat": 4,
  "nbformat_minor": 0
}