{
  "cells": [
    {
      "cell_type": "markdown",
      "metadata": {
        "slideshow": {
          "slide_type": "slide"
        }
      },
      "source": [
        "# <img src=\"https://dl.dropboxusercontent.com/u/6117375/intermediate-notebooks/title_graphic.png\" /> ||| WORKING COPY ||| Mock Objects"
      ]
    },
    {
      "cell_type": "markdown",
      "metadata": {},
      "source": [
        "This document was created on 2014-03-14 at 23:32:02.943813."
      ]
    },
    {
      "cell_type": "code",
      "execution_count": "",
      "metadata": {
        "collapsed": false,
        "slideshow": {
          "slide_type": "slide"
        }
      },
      "outputs": [],
      "prompt_number": "",
      "source": [
        "from unittest.mock import MagicMock, Mock, call"
      ]
    },
    {
      "cell_type": "code",
      "execution_count": "",
      "metadata": {
        "collapsed": false,
        "slideshow": {
          "slide_type": "fragment"
        }
      },
      "outputs": [],
      "prompt_number": "",
      "source": [
        "m1 = MagicMock()"
      ]
    },
    {
      "cell_type": "code",
      "execution_count": "",
      "metadata": {
        "collapsed": false,
        "slideshow": {
          "slide_type": "subslide"
        }
      },
      "outputs": [],
      "prompt_number": "",
      "source": [
        "dir(m1)"
      ]
    },
    {
      "cell_type": "code",
      "execution_count": "",
      "metadata": {
        "collapsed": false
      },
      "outputs": [],
      "prompt_number": "",
      "source": [
        "m1.method(1, 2, 3)"
      ]
    },
    {
      "cell_type": "code",
      "execution_count": "",
      "metadata": {
        "collapsed": false
      },
      "outputs": [],
      "prompt_number": "",
      "source": [
        "m1.attribute"
      ]
    },
    {
      "cell_type": "code",
      "execution_count": "",
      "metadata": {
        "collapsed": false
      },
      "outputs": [],
      "prompt_number": "",
      "source": [
        "m1.who_knows_what"
      ]
    },
    {
      "cell_type": "code",
      "execution_count": "",
      "metadata": {
        "collapsed": false
      },
      "outputs": [],
      "prompt_number": "",
      "source": [
        "m1.who_knows_what()"
      ]
    },
    {
      "cell_type": "code",
      "execution_count": "",
      "metadata": {
        "collapsed": false
      },
      "outputs": [],
      "prompt_number": "",
      "source": [
        "m1.method_calls"
      ]
    },
    {
      "cell_type": "code",
      "execution_count": "",
      "metadata": {
        "collapsed": false
      },
      "outputs": [],
      "prompt_number": "",
      "source": [
        "issubclass(Mock, type)"
      ]
    },
    {
      "cell_type": "code",
      "execution_count": "",
      "metadata": {
        "collapsed": false
      },
      "outputs": [],
      "prompt_number": "",
      "source": [
        "m1.method.assert_called_once_with(1, 2, 3)"
      ]
    },
    {
      "cell_type": "code",
      "execution_count": "",
      "metadata": {
        "collapsed": false
      },
      "outputs": [],
      "prompt_number": "",
      "source": [
        "m1.who_knows_what.assert_has_calls([call()])"
      ]
    },
    {
      "cell_type": "code",
      "execution_count": "",
      "metadata": {
        "collapsed": false
      },
      "outputs": [],
      "prompt_number": "",
      "source": [
        "m1.who_knows_what.assert_has_calls([call(1, 2, 3)])"
      ]
    },
    {
      "cell_type": "code",
      "execution_count": "",
      "metadata": {
        "collapsed": false
      },
      "outputs": [],
      "prompt_number": "",
      "source": [
        "m2 = MagicMock()"
      ]
    },
    {
      "cell_type": "code",
      "execution_count": "",
      "metadata": {
        "collapsed": false
      },
      "outputs": [],
      "prompt_number": "",
      "source": [
        "next(m2)"
      ]
    },
    {
      "cell_type": "code",
      "execution_count": "",
      "metadata": {
        "collapsed": false
      },
      "outputs": [],
      "prompt_number": "",
      "source": [
        "m2.method_calls"
      ]
    },
    {
      "cell_type": "code",
      "execution_count": "",
      "metadata": {
        "collapsed": false
      },
      "outputs": [],
      "prompt_number": "",
      "source": [
        "m2.mock_calls"
      ]
    },
    {
      "cell_type": "code",
      "execution_count": "",
      "metadata": {
        "collapsed": false
      },
      "outputs": [],
      "prompt_number": "",
      "source": [
        "m2.assert"
      ]
    },
    {
      "cell_type": "code",
      "execution_count": "",
      "metadata": {
        "collapsed": false
      },
      "outputs": [],
      "prompt_number": "",
      "source": [
        "class Mocking(metclass=Mock):\n",
        "    pass"
      ]
    },
    {
      "cell_type": "code",
      "execution_count": "",
      "metadata": {
        "collapsed": false
      },
      "outputs": [],
      "prompt_number": "",
      "source": [
        "[n for n in dir(MagicMock) if n not in dir(Mock)]"
      ]
    },
    {
      "cell_type": "code",
      "execution_count": "",
      "metadata": {
        "collapsed": false
      },
      "outputs": [],
      "prompt_number": "",
      "source": [
        "[n for n in dir(Mock) if n not in dir(MagicMock)]"
      ]
    }
  ],
  "metadata": {},
  "nbformat": 4,
  "nbformat_minor": 0
}