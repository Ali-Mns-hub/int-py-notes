{
  "cells": [
    {
      "cell_type": "code",
      "execution_count": 1,
      "metadata": {
        "collapsed": false
      },
      "outputs": [],
      "prompt_number": "",
      "source": [
        "# With acknowledgments to Micheal Spencer\n",
        "\n",
        "from itertools import repeat\n",
        "for feet in [3,3,2,2,3]:\n",
        "    print(\" \".join(\"DA-DA-DUM\"\n",
        "    for dummy in [None]\n",
        "for foot in repeat(\"metric\", feet)))"
      ]
    }
  ],
  "metadata": {},
  "nbformat": 4,
  "nbformat_minor": 0
}