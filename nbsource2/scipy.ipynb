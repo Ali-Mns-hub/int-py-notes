{
  "cells": [
    {
      "cell_type": "code",
      "execution_count": 13,
      "metadata": {
        "collapsed": false
      },
      "outputs": [],
      "prompt_number": "",
      "source": [
        "%matplotlib inline"
      ]
    },
    {
      "cell_type": "code",
      "execution_count": 14,
      "metadata": {
        "collapsed": false
      },
      "outputs": [],
      "prompt_number": "",
      "source": [
        "#scipy provides a wrapper around, and additional functionality to numpy\n",
        "import numpy as np\n",
        "from pylab import figure, show\n",
        "from numpy import array\n",
        "import matplotlib\n",
        "import matplotlib.pyplot as plt\n",
        "from scipy.stats import norm"
      ]
    },
    {
      "cell_type": "code",
      "execution_count": 15,
      "metadata": {
        "collapsed": false
      },
      "outputs": [],
      "prompt_number": "",
      "source": [
        "# read data in and extract required values\n",
        "# internet traffic data source noted below\n",
        "source = 'http://www.internettrafficreport.com/details.htm'\n",
        "import csv\n",
        "reader = csv.reader(open(\"data/itr-data.csv\", \"r\"))\n",
        "num_data = []\n",
        "for router, city, indx, resp, loss in reader:\n",
        "    num_data.append([float(indx), float(resp), float(loss)])\n",
        "data = np.array(num_data)"
      ]
    },
    {
      "cell_type": "code",
      "execution_count": 16,
      "metadata": {
        "collapsed": false
      },
      "outputs": [],
      "prompt_number": "",
      "source": [
        "print(data[0])"
      ]
    },
    {
      "cell_type": "code",
      "execution_count": 17,
      "metadata": {
        "collapsed": false
      },
      "outputs": [],
      "prompt_number": "",
      "source": [
        "#how much data do we have?\n",
        "data.shape\n"
      ]
    },
    {
      "cell_type": "code",
      "execution_count": 18,
      "metadata": {
        "collapsed": false
      },
      "outputs": [],
      "prompt_number": "",
      "source": [
        "#slice it into topics; each of these is a column of data\n",
        "indx = data[:, 0]\n",
        "response = data[:, 1]\n",
        "loss = data[:, 2]\n"
      ]
    },
    {
      "cell_type": "code",
      "execution_count": 19,
      "metadata": {
        "collapsed": false
      },
      "outputs": [],
      "prompt_number": "",
      "source": [
        "loss"
      ]
    },
    {
      "cell_type": "code",
      "execution_count": 20,
      "metadata": {
        "collapsed": false
      },
      "outputs": [],
      "prompt_number": "",
      "source": [
        "#scipy has statistical methods in scipy.stats\n",
        "(mean, std) = norm.fit(np.asarray(response))"
      ]
    },
    {
      "cell_type": "code",
      "execution_count": 21,
      "metadata": {
        "collapsed": false
      },
      "outputs": [],
      "prompt_number": "",
      "source": [
        "# plots histogram, capture its properties\n",
        "fig = plt.Figure()\n",
        "n, nbins, p = plt.hist(response, bins=10,\n",
        "                       normed=True, facecolor='blue', alpha=0.75)\n",
        "# Normalized probability distribution function\n",
        "y = matplotlib.mlab.normpdf(nbins, mean, std)\n",
        "plt.plot(nbins, y,'r-', linewidth=5)\n",
        "plt.xlabel('Response Time (ms)\\n[source: {0}]'.format(source))\n",
        "plt.ylabel('Fraction of Cities')\n",
        "plt.title(\"Internet Response Time 29 March 2014\\nmean: {0}, std. dev {1}\\n\".\n",
        "          format(round(mean,1), round(std,1)))\n",
        "plt.grid(True)\n",
        "\n",
        "plt.show()"
      ]
    },
    {
      "cell_type": "code",
      "execution_count": 22,
      "metadata": {
        "collapsed": false
      },
      "outputs": [],
      "prompt_number": "",
      "source": [
        "# plots histogram, capture its properties\n",
        "fig = plt.figure(2)\n",
        "fig.set_size_inches(10, 4)\n",
        "plt.subplot(1, 2, 1)\n",
        "n, nbins, p = plt.hist(response, bins=20,\n",
        "                       normed=True, facecolor='blue', alpha=0.75)\n",
        "plt.xlabel('Response Time (ms)\\n[source: {0}]'.format(source))\n",
        "plt.ylabel('Fraction of Cities')\n",
        "plt.title(\"Internet Response Time 29 March 2014\\n\"\n",
        "          \"mean: {0}, std. dev {1}\\n\".\n",
        "          format(round(mean, 1), round(std, 1)))\n",
        "plt.subplot(1, 2, 2)\n",
        "y = matplotlib.mlab.normpdf(nbins, mean, std)\n",
        "plt.plot(nbins, y,'r-', linewidth=5)\n",
        "plt.ylabel(\"Probability\")\n",
        "plt.xlabel(\"Response time (ms)\")\n",
        "plt.grid(True)\n",
        "fig.show()"
      ]
    },
    {
      "cell_type": "code",
      "execution_count": 23,
      "metadata": {
        "collapsed": false
      },
      "outputs": [],
      "prompt_number": "",
      "source": [
        "from numpy import pi, cos, sin\n",
        "from scipy import r_\n",
        "from scipy.special import jn, jn_zeros\n",
        "def drumhead_height(n, k, distance, angle, t):\n",
        "   nth_zero = jn_zeros(n, k)\n",
        "   return cos(t)*cos(n*angle)*jn(n, distance*nth_zero)\n",
        "theta = r_[0:2*pi:50j]\n",
        "radius = r_[0:1:50j]\n",
        "x = array([r*cos(theta) for r in radius])\n",
        "y = array([r*sin(theta) for r in radius])\n",
        "z = array([drumhead_height(1, 1, r, theta, 0.5) for r in radius])"
      ]
    },
    {
      "cell_type": "code",
      "execution_count": 24,
      "metadata": {
        "collapsed": false
      },
      "outputs": [],
      "prompt_number": "",
      "source": [
        "from mpl_toolkits.mplot3d import Axes3D\n",
        "from matplotlib import cm\n",
        "fig = plt.figure()\n",
        "ax = Axes3D(fig)\n",
        "ax.plot_surface(x, y, z, rstride=1, cstride=1, cmap=cm.jet)\n",
        "ax.set_xlabel('X')\n",
        "ax.set_ylabel('Y')\n",
        "ax.set_zlabel('Z')\n",
        "fig.show()"
      ]
    },
    {
      "cell_type": "code",
      "execution_count": null,
      "metadata": {
        "collapsed": false
      },
      "outputs": [],
      "prompt_number": "",
      "source": []
    }
  ],
  "metadata": {},
  "nbformat": 4,
  "nbformat_minor": 0
}