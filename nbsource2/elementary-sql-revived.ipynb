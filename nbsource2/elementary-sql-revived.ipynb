{
 "metadata": {
  "name": ""
 },
 "nbformat": 3,
 "nbformat_minor": 0,
 "worksheets": [
  {
   "cells": [
    {
     "cell_type": "code",
     "collapsed": false,
     "input": [
      "import sqlite3\n",
      "conn = sqlite3.connect(\"MyDatabase.sql3\")\n",
      "curs = conn.cursor()"
     ],
     "language": "python",
     "metadata": {},
     "outputs": [],
     "prompt_number": 12
    },
    {
     "cell_type": "code",
     "collapsed": false,
     "input": [
      "curs.execute(\"SELECT * FROM publisher\")"
     ],
     "language": "python",
     "metadata": {},
     "outputs": [
      {
       "metadata": {},
       "output_type": "pyout",
       "prompt_number": 13,
       "text": [
        "<sqlite3.Cursor at 0x10dab3d50>"
       ]
      }
     ],
     "prompt_number": 13
    },
    {
     "cell_type": "code",
     "collapsed": false,
     "input": [
      "curs.execute(\"\"\"INSERT INTO Publisher (pubid, pubName, pubURL)\n",
      "                VALUES (10, 'O''Reilly', 'www.ora.com')\"\"\")"
     ],
     "language": "python",
     "metadata": {},
     "outputs": [
      {
       "metadata": {},
       "output_type": "pyout",
       "prompt_number": 18,
       "text": [
        "<sqlite3.Cursor at 0x10dab3d50>"
       ]
      }
     ],
     "prompt_number": 18
    },
    {
     "cell_type": "code",
     "collapsed": false,
     "input": [
      "curs.execute(\"\"\"INSERT INTO Publisher (pubid, pubName, pubURL)\n",
      "                VALUES (12, 'New Riders', 'www.newriders.com')\"\"\")"
     ],
     "language": "python",
     "metadata": {},
     "outputs": [
      {
       "metadata": {},
       "output_type": "pyout",
       "prompt_number": 21,
       "text": [
        "<sqlite3.Cursor at 0x10dab3d50>"
       ]
      }
     ],
     "prompt_number": 21
    },
    {
     "cell_type": "code",
     "collapsed": false,
     "input": [
      "curs.execute(\"\"\"INSERT INTO Book (BkISBN, BkTitle, BkPubNo, BkYear)\n",
      "                VALUES('1234444455', 'Python Web Programming', 2, 2002)\"\"\")"
     ],
     "language": "python",
     "metadata": {},
     "outputs": []
    },
    {
     "cell_type": "code",
     "collapsed": false,
     "input": [
      "curs.execute(\"select * from BOOK\")"
     ],
     "language": "python",
     "metadata": {},
     "outputs": [
      {
       "metadata": {},
       "output_type": "pyout",
       "prompt_number": 22,
       "text": [
        "<sqlite3.Cursor at 0x10dab3d50>"
       ]
      }
     ],
     "prompt_number": 22
    },
    {
     "cell_type": "code",
     "collapsed": false,
     "input": [
      "curs.fetchall()"
     ],
     "language": "python",
     "metadata": {},
     "outputs": [
      {
       "metadata": {},
       "output_type": "pyout",
       "prompt_number": 23,
       "text": [
        "[('0569007973', 'The Python Cookbook, 2nd Edn.', 2009, 2),\n",
        " ('7818471947', 'Expert Python Programming', 2012, 3),\n",
        " ('1234567890', 'No Book You Ever Heard Of', 2015, 0),\n",
        " ('1590597257', 'The Definitive Guide to Django', 2011, 1),\n",
        " ('1565926218', 'Python Programming on Win32', 1999, 2)]"
       ]
      }
     ],
     "prompt_number": 23
    },
    {
     "cell_type": "code",
     "collapsed": false,
     "input": [
      "curs.description"
     ],
     "language": "python",
     "metadata": {},
     "outputs": [
      {
       "metadata": {},
       "output_type": "pyout",
       "prompt_number": 24,
       "text": [
        "(('bkisbn', None, None, None, None, None, None),\n",
        " ('bktitle', None, None, None, None, None, None),\n",
        " ('bkyear', None, None, None, None, None, None),\n",
        " ('bkpubid', None, None, None, None, None, None))"
       ]
      }
     ],
     "prompt_number": 24
    },
    {
     "cell_type": "code",
     "collapsed": false,
     "input": [
      "curs.execute(\"\"\"INSERT INTO book (bkisbn, bktitle, bkyear, bkpubid)\n",
      "                 VALUES('1278077807', 'Python Web Programming', 2, 2002)"
     ],
     "language": "python",
     "metadata": {},
     "outputs": []
    },
    {
     "cell_type": "code",
     "collapsed": false,
     "input": [
      "curs.execute(\"SELECT bktitle, bkisbn, pubname from publisher\")\n",
      "curs.fetchall()\n",
      "curs.description"
     ],
     "language": "python",
     "metadata": {},
     "outputs": [
      {
       "metadata": {},
       "output_type": "pyout",
       "prompt_number": 26,
       "text": [
        "(('pubid', None, None, None, None, None, None),\n",
        " ('pubname', None, None, None, None, None, None),\n",
        " ('puburl', None, None, None, None, None, None))"
       ]
      }
     ],
     "prompt_number": 26
    },
    {
     "cell_type": "code",
     "collapsed": false,
     "input": [
      "curs.execute(\"\"\"SELECT BkTitle, BkISBN, PubName\n",
      "                FROM Book JOIN Publisher ON bkpubid=pubid\"\"\")\n",
      "curs.fetchall()"
     ],
     "language": "python",
     "metadata": {},
     "outputs": [
      {
       "metadata": {},
       "output_type": "pyout",
       "prompt_number": 28,
       "text": [
        "[('The Python Cookbook, 2nd Edn.', '0569007973', \"O'Reilly Media\"),\n",
        " ('Expert Python Programming', '7818471947', 'Packt Publishing'),\n",
        " ('No Book You Ever Heard Of', '1234567890', 'Holden Web'),\n",
        " ('The Definitive Guide to Django', '1590597257', 'Apress'),\n",
        " ('Python Programming on Win32', '1565926218', \"O'Reilly Media\")]"
       ]
      }
     ],
     "prompt_number": 28
    },
    {
     "cell_type": "code",
     "collapsed": false,
     "input": [
      "curs.execute(\"\"\"INSERT INTO Publisher (pubid, pubName, pubURL)\n",
      "                VALUES (12, 'New Riders', 'www.pearson.com')\"\"\")\n",
      "curs.fetchall()"
     ],
     "language": "python",
     "metadata": {},
     "outputs": [
      {
       "ename": "IntegrityError",
       "evalue": "column pubid is not unique",
       "output_type": "pyerr",
       "traceback": [
        "\u001b[0;31m---------------------------------------------------------------------------\u001b[0m\n\u001b[0;31mIntegrityError\u001b[0m                            Traceback (most recent call last)",
        "\u001b[0;32m<ipython-input-29-e168a1a6d417>\u001b[0m in \u001b[0;36m<module>\u001b[0;34m()\u001b[0m\n\u001b[1;32m      1\u001b[0m curs.execute(\"\"\"INSERT INTO Publisher (pubid, pubName, pubURL)\n\u001b[0;32m----> 2\u001b[0;31m                 VALUES (10, 'O''Reilly', 'www.ora.com')\"\"\")\n\u001b[0m\u001b[1;32m      3\u001b[0m \u001b[0mcurs\u001b[0m\u001b[0;34m.\u001b[0m\u001b[0mfetchall\u001b[0m\u001b[0;34m(\u001b[0m\u001b[0;34m)\u001b[0m\u001b[0;34m\u001b[0m\u001b[0m\n",
        "\u001b[0;31mIntegrityError\u001b[0m: column pubid is not unique"
       ]
      },
      {
       "output_type": "stream",
       "stream": "stderr",
       "text": [
        "ERROR: An unexpected error occurred while tokenizing input\n",
        "The following traceback may be corrupted or invalid\n",
        "The error message is: ('EOF in multi-line string', (1, 55))\n",
        "\n"
       ]
      }
     ],
     "prompt_number": 29
    },
    {
     "cell_type": "code",
     "collapsed": false,
     "input": [
      "curs.execute(\"\"\"INSERT INTO Publisher (pubid, pubName, pubURL)\n",
      "                VALUES (12, 'New Riders', 'www.pearson.com')\"\"\")\n",
      "curs.fetchall()"
     ],
     "language": "python",
     "metadata": {},
     "outputs": [
      {
       "ename": "IntegrityError",
       "evalue": "column pubid is not unique",
       "output_type": "pyerr",
       "traceback": [
        "\u001b[0;31m---------------------------------------------------------------------------\u001b[0m\n\u001b[0;31mIntegrityError\u001b[0m                            Traceback (most recent call last)",
        "\u001b[0;32m<ipython-input-30-45d44c6da5e1>\u001b[0m in \u001b[0;36m<module>\u001b[0;34m()\u001b[0m\n\u001b[1;32m      1\u001b[0m curs.execute(\"\"\"INSERT INTO Publisher (pubid, pubName, pubURL)\n\u001b[0;32m----> 2\u001b[0;31m                 VALUES (12, 'New Riders', 'www.pearson.com')\"\"\")\n\u001b[0m\u001b[1;32m      3\u001b[0m \u001b[0mcurs\u001b[0m\u001b[0;34m.\u001b[0m\u001b[0mfetchall\u001b[0m\u001b[0;34m(\u001b[0m\u001b[0;34m)\u001b[0m\u001b[0;34m\u001b[0m\u001b[0m\n",
        "\u001b[0;31mIntegrityError\u001b[0m: column pubid is not unique"
       ]
      },
      {
       "output_type": "stream",
       "stream": "stderr",
       "text": [
        "ERROR: An unexpected error occurred while tokenizing input\n",
        "The following traceback may be corrupted or invalid\n",
        "The error message is: ('EOF in multi-line string', (1, 60))\n",
        "\n"
       ]
      }
     ],
     "prompt_number": 30
    },
    {
     "cell_type": "code",
     "collapsed": false,
     "input": [],
     "language": "python",
     "metadata": {},
     "outputs": []
    }
   ],
   "metadata": {}
  }
 ]
}