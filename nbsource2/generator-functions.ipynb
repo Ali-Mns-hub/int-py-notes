{
  "cells": [
    {
      "cell_type": "markdown",
      "metadata": {},
      "source": [
        "#Generator Functions"
      ]
    },
    {
      "cell_type": "markdown",
      "metadata": {},
      "source": [
        "Here's a normal function."
      ]
    },
    {
      "cell_type": "code",
      "execution_count": null,
      "metadata": {
        "collapsed": false
      },
      "outputs": [],
      "prompt_number": "",
      "source": [
        "def f():\n",
        "    return 42"
      ]
    },
    {
      "cell_type": "markdown",
      "metadata": {},
      "source": [
        "Here's a generator function"
      ]
    },
    {
      "cell_type": "code",
      "execution_count": null,
      "metadata": {
        "collapsed": false
      },
      "outputs": [],
      "prompt_number": "",
      "source": [
        "def g():\n",
        "    yield 42"
      ]
    },
    {
      "cell_type": "markdown",
      "metadata": {},
      "source": [
        "Calling the normal function returns a result as expected"
      ]
    },
    {
      "cell_type": "code",
      "execution_count": null,
      "metadata": {
        "collapsed": false
      },
      "outputs": [],
      "prompt_number": "",
      "source": [
        "f()"
      ]
    },
    {
      "cell_type": "markdown",
      "metadata": {},
      "source": [
        "Calling the generator function returns a _generator_ object."
      ]
    },
    {
      "cell_type": "code",
      "execution_count": null,
      "metadata": {
        "collapsed": false
      },
      "outputs": [],
      "prompt_number": "",
      "source": [
        "g()"
      ]
    },
    {
      "cell_type": "markdown",
      "metadata": {},
      "source": [
        "Let's take a look at a generator object."
      ]
    },
    {
      "cell_type": "code",
      "execution_count": null,
      "metadata": {
        "collapsed": false
      },
      "outputs": [],
      "prompt_number": "",
      "source": [
        "g1 = g()\n",
        "dir(g1)"
      ]
    },
    {
      "cell_type": "markdown",
      "metadata": {},
      "source": [
        "Notice that the generator object has two methods you may not have seen before: `__iter__()`\n",
        "and `next()` (in Python 3 this design mistake was corrected and the method is renamed\n",
        "`__next__()`.\n",
        "\n",
        "The different thing about a generator is that you can iterate over it.\n",
        "Every time a `yield` expression is encountered, the value following the `yield`\n",
        "keyword is release to the iteration.\n",
        "\n",
        "When the function returns, the generator raises a `StopIteration` exception,\n",
        "which is detected internally and terminates the iteration."
      ]
    },
    {
      "cell_type": "code",
      "execution_count": null,
      "metadata": {
        "collapsed": false
      },
      "outputs": [],
      "prompt_number": "",
      "source": [
        "for thing in g1:\n",
        "    print(thing)"
      ]
    },
    {
      "cell_type": "markdown",
      "metadata": {},
      "source": [
        "Once a generator is exhausted there's nothing you can do to revive it!"
      ]
    },
    {
      "cell_type": "code",
      "execution_count": null,
      "metadata": {
        "collapsed": false
      },
      "outputs": [],
      "prompt_number": "",
      "source": [
        "for thing in g1:\n",
        "    print(thing)"
      ]
    },
    {
      "cell_type": "markdown",
      "metadata": {},
      "source": [
        "You can call a generator's `next()` method directly, but the `next()` builtin function\n",
        "will call it for you in the same way that the `len()` builtin calls its argument's\n",
        "`__;en__()` method."
      ]
    },
    {
      "cell_type": "code",
      "execution_count": null,
      "metadata": {
        "collapsed": false
      },
      "outputs": [],
      "prompt_number": "",
      "source": [
        "g2 = g()\n",
        "next(g2)"
      ]
    },
    {
      "cell_type": "markdown",
      "metadata": {},
      "source": [
        "This allows you to see the exception being raised when the generator is exhausted."
      ]
    },
    {
      "cell_type": "code",
      "execution_count": null,
      "metadata": {
        "collapsed": false
      },
      "outputs": [],
      "prompt_number": "",
      "source": [
        "next(g2)"
      ]
    },
    {
      "cell_type": "markdown",
      "metadata": {},
      "source": [
        "Generators can be useful to build things that would be difficult by other means.\n",
        "Here is a generator that will duplicate the items of a sequence a given number\n",
        "of times."
      ]
    },
    {
      "cell_type": "code",
      "execution_count": null,
      "metadata": {
        "collapsed": false
      },
      "outputs": [],
      "prompt_number": "",
      "source": [
        "def n_of_each(iterable, n):\n",
        "    for thing in iterable:\n",
        "        for i in range(n):\n",
        "            yield thing"
      ]
    },
    {
      "cell_type": "code",
      "execution_count": null,
      "metadata": {
        "collapsed": false
      },
      "outputs": [],
      "prompt_number": "",
      "source": [
        "print [thing for thing in n_of_each([\"a\", 2, []], 3)]"
      ]
    },
    {
      "cell_type": "code",
      "execution_count": null,
      "metadata": {
        "collapsed": false
      },
      "outputs": [],
      "prompt_number": "",
      "source": [
        "def n_times(iterable, n):\n",
        "    for i in range(n):\n",
        "        for thing in iterable:\n",
        "            yield thing"
      ]
    },
    {
      "cell_type": "code",
      "execution_count": null,
      "metadata": {
        "collapsed": false
      },
      "outputs": [],
      "prompt_number": "",
      "source": [
        "print [thing for thing in n_times([\"a\", 2, []], 3)]"
      ]
    },
    {
      "cell_type": "markdown",
      "metadata": {
        "collapsed": false
      },
      "source": [
        "Another nice feature of generators is that they allow you to work with potentially\n",
        "infinite sequences - as long as all values aren't actually required."
      ]
    },
    {
      "cell_type": "code",
      "execution_count": null,
      "metadata": {
        "collapsed": true
      },
      "outputs": [],
      "prompt_number": "",
      "source": [
        "def starting_at(n):\n",
        "    while True:\n",
        "        yield n\n",
        "        n += 1"
      ]
    },
    {
      "cell_type": "code",
      "execution_count": null,
      "metadata": {
        "collapsed": false
      },
      "outputs": [],
      "prompt_number": "",
      "source": [
        "zip(\"abdefghi\", starting_at(ord(\"a\")))"
      ]
    },
    {
      "cell_type": "markdown",
      "metadata": {},
      "source": [
        "In the example above the generator will produce an effectively infinite sequence,\n",
        "but in fact it only generates enough values to satisfy the `zip()` call."
      ]
    },
    {
      "cell_type": "markdown",
      "metadata": {},
      "source": [
        "###Possible Discussions\n",
        "\n",
        "* The generators in the [itertools library module](https://docs.python.org/2/library/itertools.html?highlight=itertools#module-itertools)\n",
        "* The [iterator protocol](https://docs.python.org/2/c-api/iter.html?highlight=iteration%20protocol) (and see also [this notebook](http://localhost:8889/notebooks/iterables-vs-iterators.ipynb))\n",
        "\n",
        "###And, of course, whatever _you_ want ..."
      ]
    }
  ],
  "metadata": {
    "kernelspec": {
      "display_name": "Python 2",
      "language": "python",
      "name": "python2"
    },
    "language_info": {
      "codemirror_mode": {
        "name": "ipython",
        "version": 2
      },
      "file_extension": ".py",
      "mimetype": "text/x-python",
      "name": "python",
      "nbconvert_exporter": "python",
      "pygments_lexer": "ipython2",
      "version": "2.7.2"
    }
  },
  "nbformat": 4,
  "nbformat_minor": 0
}