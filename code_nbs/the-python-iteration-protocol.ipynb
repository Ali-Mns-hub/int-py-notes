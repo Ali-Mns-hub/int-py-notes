{
 "metadata": {},
 "nbformat": 3,
 "nbformat_minor": 0,
 "worksheets": [
  {
   "cells": [
    {
     "cell_type": "markdown",
     "metadata": {},
     "source": [
      "## <img src=\"https://dl.dropboxusercontent.com/u/6117375/intermediate-notebooks/title_graphic.png\" /> The Python Iteration Protocol\n"
     ]
    },
    {
     "cell_type": "code",
     "collapsed": false,
     "input": [],
     "language": "python",
     "metadata": {},
     "outputs": []
    },
    {
     "cell_type": "code",
     "collapsed": false,
     "input": [
      "class SequenceOf(object):\n",
      "    def __init__(self, N, obj):\n",
      "        self.obj = obj\n",
      "        self.N = N\n",
      "    def __getitem__(self, i):\n",
      "        if i >= self.N:\n",
      "            raise IndexError(\"Index exceeds defined length %d\" % SequenceOf.N)\n",
      "        return self.obj\n",
      "\n",
      "five_stars = SequenceOf(5, \"*\")\n",
      "for c in five_stars:\n",
      "    print(c)\n",
      "\n",
      "three_ints = SequenceOf(3, 120)\n",
      "for c in three_ints:\n",
      "    print(c)"
     ],
     "language": "python",
     "metadata": {},
     "outputs": []
    },
    {
     "cell_type": "code",
     "collapsed": false,
     "input": [
      "three_ints[1]"
     ],
     "language": "python",
     "metadata": {},
     "outputs": []
    },
    {
     "cell_type": "code",
     "collapsed": false,
     "input": [
      "# XXX Turn into comment\n",
      "three_ints[3]"
     ],
     "language": "python",
     "metadata": {},
     "outputs": []
    },
    {
     "cell_type": "code",
     "collapsed": false,
     "input": [
      "\"__getitem__\" in dir(set())\n"
     ],
     "language": "python",
     "metadata": {},
     "outputs": []
    },
    {
     "cell_type": "code",
     "collapsed": false,
     "input": [
      "class SequenceOf:\n",
      "    def __init__(self, N, obj):\n",
      "        self.N = N\n",
      "        self.obj = obj\n",
      "        self.count = 0\n",
      "    def __iter__(self):\n",
      "        return self\n",
      "    def __next__(self):\n",
      "        self.count += 1\n",
      "        if self.count > self.N:\n",
      "            raise StopIteration()\n",
      "        return self.obj        "
     ],
     "language": "python",
     "metadata": {},
     "outputs": []
    },
    {
     "cell_type": "code",
     "collapsed": false,
     "input": [
      "s1 = SequenceOf(5, \"little strings\")\n",
      "for thing in s1:\n",
      "    print(thing)"
     ],
     "language": "python",
     "metadata": {},
     "outputs": []
    },
    {
     "cell_type": "code",
     "collapsed": false,
     "input": [
      "from unittest.mock import MagicMock\n",
      "m = MagicMock()\n",
      "for x in m:\n",
      "    print(m, end=\" \")"
     ],
     "language": "python",
     "metadata": {},
     "outputs": []
    },
    {
     "cell_type": "code",
     "collapsed": false,
     "input": [
      "m.mock_calls # very different from a standard interpreter - do this one on Python Anywhere? (or not at all ...)"
     ],
     "language": "python",
     "metadata": {},
     "outputs": []
    },
    {
     "cell_type": "code",
     "collapsed": false,
     "input": [],
     "language": "python",
     "metadata": {},
     "outputs": []
    }
   ],
   "metadata": {}
  }
 ]
}