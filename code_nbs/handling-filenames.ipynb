{
 "metadata": {},
 "nbformat": 3,
 "nbformat_minor": 0,
 "worksheets": [
  {
   "cells": [
    {
     "cell_type": "markdown",
     "metadata": {},
     "source": [
      "## <img src=\"https://dl.dropboxusercontent.com/u/6117375/intermediate-notebooks/title_graphic.png\" /> Handling Filenames\n"
     ]
    },
    {
     "cell_type": "code",
     "collapsed": false,
     "input": [
      "import os\n",
      "print(os.getcwd())"
     ],
     "language": "python",
     "metadata": {},
     "outputs": []
    },
    {
     "cell_type": "code",
     "collapsed": false,
     "input": [
      "os.chdir(\"..\")\n",
      "print(os.getcwd())"
     ],
     "language": "python",
     "metadata": {},
     "outputs": []
    },
    {
     "cell_type": "code",
     "collapsed": false,
     "input": [
      "os.chdir(\"nbsource\")\n",
      "base_dir = os.getcwd()\n",
      "print(base_dir)"
     ],
     "language": "python",
     "metadata": {},
     "outputs": []
    },
    {
     "cell_type": "code",
     "collapsed": false,
     "input": [
      "from glob import glob\n",
      "print(glob(\"*.ipynb\"))"
     ],
     "language": "python",
     "metadata": {},
     "outputs": []
    },
    {
     "cell_type": "code",
     "collapsed": false,
     "input": [
      "tfn = \"handling-filenames.ipynb\"\n",
      "os.path.exists(tfn), os.path.isdir(tfn), os.path.isfile(tfn)"
     ],
     "language": "python",
     "metadata": {},
     "outputs": []
    },
    {
     "cell_type": "code",
     "collapsed": false,
     "input": [
      "file_path = os.path.join(\"..\", \"data\", \"templates\", \"base.ipynb\")\n",
      "file_path"
     ],
     "language": "python",
     "metadata": {},
     "outputs": []
    },
    {
     "cell_type": "code",
     "collapsed": false,
     "input": [
      "full_path = os.path.abspath(file_path)\n",
      "full_path"
     ],
     "language": "python",
     "metadata": {},
     "outputs": []
    },
    {
     "cell_type": "code",
     "collapsed": false,
     "input": [
      "print(file_path)\n",
      "print(os.path.split(file_path))\n",
      "print(os.path.join(*os.path.split(file_path)))"
     ],
     "language": "python",
     "metadata": {},
     "outputs": []
    },
    {
     "cell_type": "code",
     "collapsed": false,
     "input": [
      "os.path.dirname(file_path), os.path.basename(file_path)"
     ],
     "language": "python",
     "metadata": {},
     "outputs": []
    },
    {
     "cell_type": "code",
     "collapsed": false,
     "input": [
      "dir_path, file_name = os.path.split(full_path)\n",
      "print(\"File name, extension:\", os.path.splitext(file_name))\n",
      "print(\"File path, extension:\", os.path.splitext(full_path))"
     ],
     "language": "python",
     "metadata": {},
     "outputs": []
    },
    {
     "cell_type": "code",
     "collapsed": false,
     "input": [
      "for path in os.path.basename(full_path), \".dotfile\", \"no_extension\", \"justadot.\":\n",
      "    dir_path, file_name = os.path.split(path)\n",
      "    print(path, os.path.splitext(file_name))"
     ],
     "language": "python",
     "metadata": {},
     "outputs": []
    },
    {
     "cell_type": "code",
     "collapsed": false,
     "input": [
      "desktop_dir = os.path.expanduser(\"~/Desktop\")\n",
      "print(\"Your desktop is at\", desktop_dir)\n",
      "print(\"Root's home directory is\", os.path.expanduser(\"~root\"))"
     ],
     "language": "python",
     "metadata": {},
     "outputs": []
    },
    {
     "cell_type": "code",
     "collapsed": false,
     "input": [
      "pathlist = os.path.expandvars(\"$PATH\").split(\":\") # semicolon on Windows\n",
      "print(\"Your path is:\")\n",
      "for path in pathlist:\n",
      "    print(\"  \", path)"
     ],
     "language": "python",
     "metadata": {},
     "outputs": []
    },
    {
     "cell_type": "code",
     "collapsed": false,
     "input": [
      "os.stat(full_path)"
     ],
     "language": "python",
     "metadata": {},
     "outputs": []
    },
    {
     "cell_type": "code",
     "collapsed": false,
     "input": [
      "import time"
     ],
     "language": "python",
     "metadata": {},
     "outputs": []
    },
    {
     "cell_type": "code",
     "collapsed": false,
     "input": [
      "def newer(file1, file2):\n",
      "    file1_modification = os.stat(file1).st_mtime\n",
      "    file2_modification = os.stat(file2).st_mtime\n",
      "    return file1_modification > file2_modification\n",
      "\n",
      "r1 = os.system(\"touch /tmp/deleteme.1\")\n",
      "time.sleep(1)\n",
      "r2 = os.system(\"touch /tmp/deleteme.2\")\n",
      "\n",
      "print(newer(\"/tmp/deleteme.1\", \"/tmp/deleteme.2\"), newer(\"/tmp/deleteme.2\", \"/tmp/deleteme.1\"))"
     ],
     "language": "python",
     "metadata": {},
     "outputs": []
    },
    {
     "cell_type": "code",
     "collapsed": false,
     "input": [
      "dir_above = os.listdir(os.path.join(base_dir, \"..\"))\n",
      "print(dir_above)"
     ],
     "language": "python",
     "metadata": {},
     "outputs": []
    },
    {
     "cell_type": "code",
     "collapsed": false,
     "input": [
      "files_dirs = os.listdir(os.path.join(base_dir, \"..\"))\n",
      "for name in files_dirs:\n",
      "    path = os.path.join(base_dir, \"..\", name)\n",
      "    if os.path.isdir(path):\n",
      "        print(name+\"/\")\n",
      "    else:\n",
      "        print(name)"
     ],
     "language": "python",
     "metadata": {},
     "outputs": []
    }
   ],
   "metadata": {}
  }
 ]
}