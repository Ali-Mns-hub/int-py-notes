{
 "metadata": {},
 "nbformat": 3,
 "nbformat_minor": 0,
 "worksheets": [
  {
   "cells": [
    {
     "cell_type": "markdown",
     "metadata": {},
     "source": [
      "## <img src=\"https://dl.dropboxusercontent.com/u/6117375/intermediate-notebooks/title_graphic.png\" /> Encoding from Unicode\n"
     ]
    },
    {
     "cell_type": "code",
     "collapsed": false,
     "input": [
      "s1 = 'Please pay \u20ac9.99 at exit'\n",
      "o_f = open(\"unicode.txt\", \"w\")\n",
      "print(type(o_f))"
     ],
     "language": "python",
     "metadata": {},
     "outputs": []
    },
    {
     "cell_type": "code",
     "collapsed": false,
     "input": [
      "o_f.write(s1)\n",
      "o_f.close()\n",
      "i_f = open(\"unicode.txt\", \"rb\")\n",
      "print(type(i_f))"
     ],
     "language": "python",
     "metadata": {},
     "outputs": []
    },
    {
     "cell_type": "code",
     "collapsed": false,
     "input": [
      "b1 = i_f.read()\n",
      "print(b1)\n",
      "i_f.close()"
     ],
     "language": "python",
     "metadata": {},
     "outputs": []
    },
    {
     "cell_type": "code",
     "collapsed": false,
     "input": [
      "import sys\n",
      "sys.getdefaultencoding()"
     ],
     "language": "python",
     "metadata": {},
     "outputs": []
    },
    {
     "cell_type": "code",
     "collapsed": false,
     "input": [
      "o_f = open(\"unicode.txt\", \"w\", encoding=\"IBM775\")\n",
      "print(type(o_f))\n",
      "o_f.write(s1)"
     ],
     "language": "python",
     "metadata": {},
     "outputs": []
    },
    {
     "cell_type": "code",
     "collapsed": false,
     "input": [
      "o_f = open(\"unicode.txt\", \"w\", encoding=\"utf-16-be\")\n",
      "print(type(o_f))"
     ],
     "language": "python",
     "metadata": {},
     "outputs": []
    },
    {
     "cell_type": "code",
     "collapsed": false,
     "input": [
      "o_f.write(s1)\n",
      "o_f.close()\n",
      "i_f = open(\"unicode.txt\", \"rb\")\n",
      "print(type(i_f))"
     ],
     "language": "python",
     "metadata": {},
     "outputs": []
    },
    {
     "cell_type": "code",
     "collapsed": false,
     "input": [
      "b1 = i_f.read()\n",
      "for b in b1[::2]:\n",
      "    print(\"{!x} {!c}\".format(b, b))\n",
      "i_f.close()"
     ],
     "language": "python",
     "metadata": {},
     "outputs": []
    },
    {
     "cell_type": "code",
     "collapsed": false,
     "input": [
      "be = b'\\x20\\xac'"
     ],
     "language": "python",
     "metadata": {},
     "outputs": []
    },
    {
     "cell_type": "code",
     "collapsed": false,
     "input": [
      "be.decode('utf-16-be')"
     ],
     "language": "python",
     "metadata": {},
     "outputs": []
    }
   ],
   "metadata": {}
  }
 ]
}