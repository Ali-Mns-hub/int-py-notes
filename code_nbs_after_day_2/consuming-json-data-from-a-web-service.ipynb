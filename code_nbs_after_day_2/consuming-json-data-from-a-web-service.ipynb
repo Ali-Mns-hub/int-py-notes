{
 "metadata": {},
 "nbformat": 3,
 "nbformat_minor": 0,
 "worksheets": [
  {
   "cells": [
    {
     "cell_type": "markdown",
     "metadata": {},
     "source": [
      "## <img src=\"https://dl.dropboxusercontent.com/u/6117375/intermediate-notebooks/title_graphic.png\" /> consuming-json-data-from-a-web-service\n"
     ]
    },
    {
     "cell_type": "code",
     "collapsed": false,
     "input": [
      "import json\n",
      "def json_round_trip(structure):\n",
      "    return json.loads(json.dumps(structure))"
     ],
     "language": "python",
     "metadata": {},
     "outputs": []
    },
    {
     "cell_type": "code",
     "collapsed": false,
     "input": [
      "struc1 = [\n",
      " 1,\n",
      " \"string\",\n",
      " [\"l\", \"i\", \"s\", \"t\"],\n",
      " {\n",
      "  \"dict\": \"with\",\n",
      "  \"various\": \"string keys\"\n",
      " }\n",
      "]\n",
      "\n",
      "json_string = json.dumps(struc1)\n",
      "print(json_string)\n",
      "print(eval(json_string))\n",
      "if struc1 == json_round_trip(struc1):\n",
      "    print(\"Round trip succeeded\")"
     ],
     "language": "python",
     "metadata": {},
     "outputs": []
    },
    {
     "cell_type": "code",
     "collapsed": false,
     "input": [],
     "language": "python",
     "metadata": {},
     "outputs": []
    },
    {
     "cell_type": "code",
     "collapsed": false,
     "input": [
      "struc2 = float(\"NaN\")\n",
      "print(\"Python:\", str(struc2))"
     ],
     "language": "python",
     "metadata": {},
     "outputs": []
    },
    {
     "cell_type": "code",
     "collapsed": false,
     "input": [
      "std_encoder = json.JSONEncoder()\n",
      "print(\"JSON:\", std_encoder.encode(struc2))"
     ],
     "language": "python",
     "metadata": {},
     "outputs": []
    },
    {
     "cell_type": "code",
     "collapsed": false,
     "input": [
      "strict_encoder = json.JSONEncoder(allow_nan=False)\n",
      "strict_encoder.encode(struc2)"
     ],
     "language": "python",
     "metadata": {},
     "outputs": []
    },
    {
     "cell_type": "code",
     "collapsed": false,
     "input": [
      "class nonJson:\n",
      "    \"\"\"Demonstrates how an object that cannot be represented.\"\"\"\n",
      "    def __init__(self, one, two):\n",
      "        self.one = one\n",
      "        self.two = two\n",
      "    @classmethod\n",
      "    def decode(cls, json_string):\n",
      "        "
     ],
     "language": "python",
     "metadata": {},
     "outputs": []
    },
    {
     "cell_type": "code",
     "collapsed": false,
     "input": [
      "strict_decoder"
     ],
     "language": "python",
     "metadata": {},
     "outputs": []
    }
   ],
   "metadata": {}
  }
 ]
}