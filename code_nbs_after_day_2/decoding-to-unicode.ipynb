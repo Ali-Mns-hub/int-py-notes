{
 "metadata": {
  "name": ""
 },
 "nbformat": 3,
 "nbformat_minor": 0,
 "worksheets": [
  {
   "cells": [
    {
     "cell_type": "markdown",
     "metadata": {},
     "source": [
      "## <img src=\"https://dl.dropboxusercontent.com/u/6117375/intermediate-notebooks/title_graphic.png\" /> Decoding to Unicode\n"
     ]
    },
    {
     "cell_type": "code",
     "collapsed": false,
     "input": [
      "f = open(\"unicode.txt\", \"w\")\n",
      "f.write(\"\u20ac\")"
     ],
     "language": "python",
     "metadata": {},
     "outputs": [
      {
       "metadata": {},
       "output_type": "pyout",
       "prompt_number": 1,
       "text": [
        "1"
       ]
      }
     ],
     "prompt_number": 1
    },
    {
     "cell_type": "code",
     "collapsed": false,
     "input": [
      "f.close()"
     ],
     "language": "python",
     "metadata": {},
     "outputs": [],
     "prompt_number": 2
    },
    {
     "cell_type": "code",
     "collapsed": false,
     "input": [
      "f = open(\"unicode.txt\", \"rb\")\n",
      "bin_euro = f.read()\n",
      "[hex(i) for i in bin_euro]"
     ],
     "language": "python",
     "metadata": {},
     "outputs": [
      {
       "metadata": {},
       "output_type": "pyout",
       "prompt_number": 4,
       "text": [
        "['0xe2', '0x82', '0xac']"
       ]
      }
     ],
     "prompt_number": 4
    },
    {
     "cell_type": "code",
     "collapsed": false,
     "input": [
      "type(\"\u20ac\"), type(bin_euro)"
     ],
     "language": "python",
     "metadata": {},
     "outputs": [
      {
       "metadata": {},
       "output_type": "pyout",
       "prompt_number": 5,
       "text": [
        "(builtins.str, builtins.bytes)"
       ]
      }
     ],
     "prompt_number": 5
    },
    {
     "cell_type": "code",
     "collapsed": false,
     "input": [
      "[n for n in dir(bin_euro) if not n.startswith(\"_\")]"
     ],
     "language": "python",
     "metadata": {},
     "outputs": [
      {
       "metadata": {},
       "output_type": "pyout",
       "prompt_number": 6,
       "text": [
        "['capitalize',\n",
        " 'center',\n",
        " 'count',\n",
        " 'decode',\n",
        " 'endswith',\n",
        " 'expandtabs',\n",
        " 'find',\n",
        " 'fromhex',\n",
        " 'index',\n",
        " 'isalnum',\n",
        " 'isalpha',\n",
        " 'isdigit',\n",
        " 'islower',\n",
        " 'isspace',\n",
        " 'istitle',\n",
        " 'isupper',\n",
        " 'join',\n",
        " 'ljust',\n",
        " 'lower',\n",
        " 'lstrip',\n",
        " 'maketrans',\n",
        " 'partition',\n",
        " 'replace',\n",
        " 'rfind',\n",
        " 'rindex',\n",
        " 'rjust',\n",
        " 'rpartition',\n",
        " 'rsplit',\n",
        " 'rstrip',\n",
        " 'split',\n",
        " 'splitlines',\n",
        " 'startswith',\n",
        " 'strip',\n",
        " 'swapcase',\n",
        " 'title',\n",
        " 'translate',\n",
        " 'upper',\n",
        " 'zfill']"
       ]
      }
     ],
     "prompt_number": 6
    },
    {
     "cell_type": "code",
     "collapsed": false,
     "input": [
      "\"decode\" in dir(\"\u20ac\")"
     ],
     "language": "python",
     "metadata": {},
     "outputs": [
      {
       "metadata": {},
       "output_type": "pyout",
       "prompt_number": 8,
       "text": [
        "False"
       ]
      }
     ],
     "prompt_number": 8
    },
    {
     "cell_type": "code",
     "collapsed": false,
     "input": [
      "help(bin_euro.decode)"
     ],
     "language": "python",
     "metadata": {},
     "outputs": [
      {
       "output_type": "stream",
       "stream": "stdout",
       "text": [
        "Help on built-in function decode:\n",
        "\n",
        "decode(...)\n",
        "    B.decode(encoding='utf-8', errors='strict') -> str\n",
        "    \n",
        "    Decode B using the codec registered for encoding. Default encoding\n",
        "    is 'utf-8'. errors may be given to set a different error\n",
        "    handling scheme.  Default is 'strict' meaning that encoding errors raise\n",
        "    a UnicodeDecodeError.  Other possible values are 'ignore' and 'replace'\n",
        "    as well as any other name registerd with codecs.register_error that is\n",
        "    able to handle UnicodeDecodeErrors.\n",
        "\n"
       ]
      }
     ],
     "prompt_number": 9
    },
    {
     "cell_type": "code",
     "collapsed": false,
     "input": [
      "bin_euro.decode()"
     ],
     "language": "python",
     "metadata": {},
     "outputs": [
      {
       "metadata": {},
       "output_type": "pyout",
       "prompt_number": 10,
       "text": [
        "'\u20ac'"
       ]
      }
     ],
     "prompt_number": 10
    },
    {
     "cell_type": "code",
     "collapsed": false,
     "input": [
      "import codecs\n",
      "dir(codecs)"
     ],
     "language": "python",
     "metadata": {},
     "outputs": [
      {
       "metadata": {},
       "output_type": "pyout",
       "prompt_number": 11,
       "text": [
        "['BOM',\n",
        " 'BOM32_BE',\n",
        " 'BOM32_LE',\n",
        " 'BOM64_BE',\n",
        " 'BOM64_LE',\n",
        " 'BOM_BE',\n",
        " 'BOM_LE',\n",
        " 'BOM_UTF16',\n",
        " 'BOM_UTF16_BE',\n",
        " 'BOM_UTF16_LE',\n",
        " 'BOM_UTF32',\n",
        " 'BOM_UTF32_BE',\n",
        " 'BOM_UTF32_LE',\n",
        " 'BOM_UTF8',\n",
        " 'BufferedIncrementalDecoder',\n",
        " 'BufferedIncrementalEncoder',\n",
        " 'Codec',\n",
        " 'CodecInfo',\n",
        " 'EncodedFile',\n",
        " 'IncrementalDecoder',\n",
        " 'IncrementalEncoder',\n",
        " 'StreamReader',\n",
        " 'StreamReaderWriter',\n",
        " 'StreamRecoder',\n",
        " 'StreamWriter',\n",
        " '__all__',\n",
        " '__builtins__',\n",
        " '__cached__',\n",
        " '__doc__',\n",
        " '__file__',\n",
        " '__initializing__',\n",
        " '__loader__',\n",
        " '__name__',\n",
        " '__package__',\n",
        " '_false',\n",
        " 'ascii_decode',\n",
        " 'ascii_encode',\n",
        " 'backslashreplace_errors',\n",
        " 'builtins',\n",
        " 'charmap_build',\n",
        " 'charmap_decode',\n",
        " 'charmap_encode',\n",
        " 'decode',\n",
        " 'encode',\n",
        " 'escape_decode',\n",
        " 'escape_encode',\n",
        " 'getdecoder',\n",
        " 'getencoder',\n",
        " 'getincrementaldecoder',\n",
        " 'getincrementalencoder',\n",
        " 'getreader',\n",
        " 'getwriter',\n",
        " 'ignore_errors',\n",
        " 'iterdecode',\n",
        " 'iterencode',\n",
        " 'latin_1_decode',\n",
        " 'latin_1_encode',\n",
        " 'lookup',\n",
        " 'lookup_error',\n",
        " 'make_encoding_map',\n",
        " 'make_identity_dict',\n",
        " 'open',\n",
        " 'raw_unicode_escape_decode',\n",
        " 'raw_unicode_escape_encode',\n",
        " 'readbuffer_encode',\n",
        " 'register',\n",
        " 'register_error',\n",
        " 'replace_errors',\n",
        " 'strict_errors',\n",
        " 'sys',\n",
        " 'unicode_escape_decode',\n",
        " 'unicode_escape_encode',\n",
        " 'unicode_internal_decode',\n",
        " 'unicode_internal_encode',\n",
        " 'utf_16_be_decode',\n",
        " 'utf_16_be_encode',\n",
        " 'utf_16_decode',\n",
        " 'utf_16_encode',\n",
        " 'utf_16_ex_decode',\n",
        " 'utf_16_le_decode',\n",
        " 'utf_16_le_encode',\n",
        " 'utf_32_be_decode',\n",
        " 'utf_32_be_encode',\n",
        " 'utf_32_decode',\n",
        " 'utf_32_encode',\n",
        " 'utf_32_ex_decode',\n",
        " 'utf_32_le_decode',\n",
        " 'utf_32_le_encode',\n",
        " 'utf_7_decode',\n",
        " 'utf_7_encode',\n",
        " 'utf_8_decode',\n",
        " 'utf_8_encode',\n",
        " 'xmlcharrefreplace_errors']"
       ]
      }
     ],
     "prompt_number": 11
    },
    {
     "cell_type": "code",
     "collapsed": false,
     "input": [
      "utf_16_codec = codecs.utf_16_decode"
     ],
     "language": "python",
     "metadata": {},
     "outputs": [],
     "prompt_number": 12
    },
    {
     "cell_type": "code",
     "collapsed": false,
     "input": [
      "type(utf_16_codec)"
     ],
     "language": "python",
     "metadata": {},
     "outputs": [
      {
       "metadata": {},
       "output_type": "pyout",
       "prompt_number": 13,
       "text": [
        "builtins.builtin_function_or_method"
       ]
      }
     ],
     "prompt_number": 13
    },
    {
     "cell_type": "code",
     "collapsed": false,
     "input": [
      "help(utf_16_codec)"
     ],
     "language": "python",
     "metadata": {},
     "outputs": [
      {
       "output_type": "stream",
       "stream": "stdout",
       "text": [
        "Help on built-in function utf_16_decode in module _codecs:\n",
        "\n",
        "utf_16_decode(...)\n",
        "\n"
       ]
      }
     ],
     "prompt_number": 14
    },
    {
     "cell_type": "code",
     "collapsed": false,
     "input": [
      "bin_euro"
     ],
     "language": "python",
     "metadata": {},
     "outputs": [
      {
       "metadata": {},
       "output_type": "pyout",
       "prompt_number": 15,
       "text": [
        "b'\\xe2\\x82\\xac'"
       ]
      }
     ],
     "prompt_number": 15
    },
    {
     "cell_type": "code",
     "collapsed": false,
     "input": [
      "bin_euro.decode(\"utf-8\")"
     ],
     "language": "python",
     "metadata": {},
     "outputs": [
      {
       "metadata": {},
       "output_type": "pyout",
       "prompt_number": 16,
       "text": [
        "'\u20ac'"
       ]
      }
     ],
     "prompt_number": 16
    },
    {
     "cell_type": "code",
     "collapsed": false,
     "input": [
      "bin_euro.decode(\"utf-16\")"
     ],
     "language": "python",
     "metadata": {},
     "outputs": [
      {
       "ename": "UnicodeDecodeError",
       "evalue": "'utf16' codec can't decode byte 0xac in position 2: truncated data",
       "output_type": "pyerr",
       "traceback": [
        "\u001b[0;31m---------------------------------------------------------------------------\u001b[0m\n\u001b[0;31mUnicodeDecodeError\u001b[0m                        Traceback (most recent call last)",
        "\u001b[0;32m<ipython-input-17-5c2b7f0465f1>\u001b[0m in \u001b[0;36m<module>\u001b[0;34m()\u001b[0m\n\u001b[0;32m----> 1\u001b[0;31m \u001b[0mbin_euro\u001b[0m\u001b[0;34m.\u001b[0m\u001b[0mdecode\u001b[0m\u001b[0;34m(\u001b[0m\u001b[0;34m\"utf-16\"\u001b[0m\u001b[0;34m)\u001b[0m\u001b[0;34m\u001b[0m\u001b[0m\n\u001b[0m",
        "\u001b[0;31mUnicodeDecodeError\u001b[0m: 'utf16' codec can't decode byte 0xac in position 2: truncated data"
       ]
      }
     ],
     "prompt_number": 17
    },
    {
     "cell_type": "code",
     "collapsed": false,
     "input": [
      "from encodings import cp1252"
     ],
     "language": "python",
     "metadata": {},
     "outputs": [],
     "prompt_number": 18
    },
    {
     "cell_type": "code",
     "collapsed": false,
     "input": [
      "type(cp1252.decoding_table), type(cp1252.encoding_table)"
     ],
     "language": "python",
     "metadata": {},
     "outputs": [
      {
       "metadata": {},
       "output_type": "pyout",
       "prompt_number": 19,
       "text": [
        "(builtins.str, builtins.EncodingMap)"
       ]
      }
     ],
     "prompt_number": 19
    },
    {
     "cell_type": "code",
     "collapsed": false,
     "input": [
      "len(cp1252.decoding_table)"
     ],
     "language": "python",
     "metadata": {},
     "outputs": [
      {
       "metadata": {},
       "output_type": "pyout",
       "prompt_number": 20,
       "text": [
        "256"
       ]
      }
     ],
     "prompt_number": 20
    },
    {
     "cell_type": "code",
     "collapsed": false,
     "input": [
      "len(cp1252.encoding_table)"
     ],
     "language": "python",
     "metadata": {},
     "outputs": [
      {
       "ename": "TypeError",
       "evalue": "object of type 'EncodingMap' has no len()",
       "output_type": "pyerr",
       "traceback": [
        "\u001b[0;31m---------------------------------------------------------------------------\u001b[0m\n\u001b[0;31mTypeError\u001b[0m                                 Traceback (most recent call last)",
        "\u001b[0;32m<ipython-input-23-5669f824595c>\u001b[0m in \u001b[0;36m<module>\u001b[0;34m()\u001b[0m\n\u001b[0;32m----> 1\u001b[0;31m \u001b[0mlen\u001b[0m\u001b[0;34m(\u001b[0m\u001b[0mcp1252\u001b[0m\u001b[0;34m.\u001b[0m\u001b[0mencoding_table\u001b[0m\u001b[0;34m)\u001b[0m\u001b[0;34m\u001b[0m\u001b[0m\n\u001b[0m",
        "\u001b[0;31mTypeError\u001b[0m: object of type 'EncodingMap' has no len()"
       ]
      }
     ],
     "prompt_number": 23
    },
    {
     "cell_type": "code",
     "collapsed": false,
     "input": [
      "[ord(c) for c in cp1252.decoding_table]"
     ],
     "language": "python",
     "metadata": {},
     "outputs": [
      {
       "metadata": {},
       "output_type": "pyout",
       "prompt_number": 22,
       "text": [
        "[0,\n",
        " 1,\n",
        " 2,\n",
        " 3,\n",
        " 4,\n",
        " 5,\n",
        " 6,\n",
        " 7,\n",
        " 8,\n",
        " 9,\n",
        " 10,\n",
        " 11,\n",
        " 12,\n",
        " 13,\n",
        " 14,\n",
        " 15,\n",
        " 16,\n",
        " 17,\n",
        " 18,\n",
        " 19,\n",
        " 20,\n",
        " 21,\n",
        " 22,\n",
        " 23,\n",
        " 24,\n",
        " 25,\n",
        " 26,\n",
        " 27,\n",
        " 28,\n",
        " 29,\n",
        " 30,\n",
        " 31,\n",
        " 32,\n",
        " 33,\n",
        " 34,\n",
        " 35,\n",
        " 36,\n",
        " 37,\n",
        " 38,\n",
        " 39,\n",
        " 40,\n",
        " 41,\n",
        " 42,\n",
        " 43,\n",
        " 44,\n",
        " 45,\n",
        " 46,\n",
        " 47,\n",
        " 48,\n",
        " 49,\n",
        " 50,\n",
        " 51,\n",
        " 52,\n",
        " 53,\n",
        " 54,\n",
        " 55,\n",
        " 56,\n",
        " 57,\n",
        " 58,\n",
        " 59,\n",
        " 60,\n",
        " 61,\n",
        " 62,\n",
        " 63,\n",
        " 64,\n",
        " 65,\n",
        " 66,\n",
        " 67,\n",
        " 68,\n",
        " 69,\n",
        " 70,\n",
        " 71,\n",
        " 72,\n",
        " 73,\n",
        " 74,\n",
        " 75,\n",
        " 76,\n",
        " 77,\n",
        " 78,\n",
        " 79,\n",
        " 80,\n",
        " 81,\n",
        " 82,\n",
        " 83,\n",
        " 84,\n",
        " 85,\n",
        " 86,\n",
        " 87,\n",
        " 88,\n",
        " 89,\n",
        " 90,\n",
        " 91,\n",
        " 92,\n",
        " 93,\n",
        " 94,\n",
        " 95,\n",
        " 96,\n",
        " 97,\n",
        " 98,\n",
        " 99,\n",
        " 100,\n",
        " 101,\n",
        " 102,\n",
        " 103,\n",
        " 104,\n",
        " 105,\n",
        " 106,\n",
        " 107,\n",
        " 108,\n",
        " 109,\n",
        " 110,\n",
        " 111,\n",
        " 112,\n",
        " 113,\n",
        " 114,\n",
        " 115,\n",
        " 116,\n",
        " 117,\n",
        " 118,\n",
        " 119,\n",
        " 120,\n",
        " 121,\n",
        " 122,\n",
        " 123,\n",
        " 124,\n",
        " 125,\n",
        " 126,\n",
        " 127,\n",
        " 8364,\n",
        " 65534,\n",
        " 8218,\n",
        " 402,\n",
        " 8222,\n",
        " 8230,\n",
        " 8224,\n",
        " 8225,\n",
        " 710,\n",
        " 8240,\n",
        " 352,\n",
        " 8249,\n",
        " 338,\n",
        " 65534,\n",
        " 381,\n",
        " 65534,\n",
        " 65534,\n",
        " 8216,\n",
        " 8217,\n",
        " 8220,\n",
        " 8221,\n",
        " 8226,\n",
        " 8211,\n",
        " 8212,\n",
        " 732,\n",
        " 8482,\n",
        " 353,\n",
        " 8250,\n",
        " 339,\n",
        " 65534,\n",
        " 382,\n",
        " 376,\n",
        " 160,\n",
        " 161,\n",
        " 162,\n",
        " 163,\n",
        " 164,\n",
        " 165,\n",
        " 166,\n",
        " 167,\n",
        " 168,\n",
        " 169,\n",
        " 170,\n",
        " 171,\n",
        " 172,\n",
        " 173,\n",
        " 174,\n",
        " 175,\n",
        " 176,\n",
        " 177,\n",
        " 178,\n",
        " 179,\n",
        " 180,\n",
        " 181,\n",
        " 182,\n",
        " 183,\n",
        " 184,\n",
        " 185,\n",
        " 186,\n",
        " 187,\n",
        " 188,\n",
        " 189,\n",
        " 190,\n",
        " 191,\n",
        " 192,\n",
        " 193,\n",
        " 194,\n",
        " 195,\n",
        " 196,\n",
        " 197,\n",
        " 198,\n",
        " 199,\n",
        " 200,\n",
        " 201,\n",
        " 202,\n",
        " 203,\n",
        " 204,\n",
        " 205,\n",
        " 206,\n",
        " 207,\n",
        " 208,\n",
        " 209,\n",
        " 210,\n",
        " 211,\n",
        " 212,\n",
        " 213,\n",
        " 214,\n",
        " 215,\n",
        " 216,\n",
        " 217,\n",
        " 218,\n",
        " 219,\n",
        " 220,\n",
        " 221,\n",
        " 222,\n",
        " 223,\n",
        " 224,\n",
        " 225,\n",
        " 226,\n",
        " 227,\n",
        " 228,\n",
        " 229,\n",
        " 230,\n",
        " 231,\n",
        " 232,\n",
        " 233,\n",
        " 234,\n",
        " 235,\n",
        " 236,\n",
        " 237,\n",
        " 238,\n",
        " 239,\n",
        " 240,\n",
        " 241,\n",
        " 242,\n",
        " 243,\n",
        " 244,\n",
        " 245,\n",
        " 246,\n",
        " 247,\n",
        " 248,\n",
        " 249,\n",
        " 250,\n",
        " 251,\n",
        " 252,\n",
        " 253,\n",
        " 254,\n",
        " 255]"
       ]
      }
     ],
     "prompt_number": 22
    },
    {
     "cell_type": "code",
     "collapsed": false,
     "input": [
      "chr(8224)\n"
     ],
     "language": "python",
     "metadata": {},
     "outputs": [
      {
       "metadata": {},
       "output_type": "pyout",
       "prompt_number": 25,
       "text": [
        "'\u2020'"
       ]
      }
     ],
     "prompt_number": 25
    },
    {
     "cell_type": "code",
     "collapsed": false,
     "input": [
      "ord(cp1252.decoding_table[ord(\"\u20ac\")])"
     ],
     "language": "python",
     "metadata": {},
     "outputs": []
    },
    {
     "cell_type": "code",
     "collapsed": false,
     "input": [
      "for o in range(32, 255):\n",
      "    print(o, cp1252.decoding_table[o])"
     ],
     "language": "python",
     "metadata": {},
     "outputs": [
      {
       "output_type": "stream",
       "stream": "stdout",
       "text": [
        "32  \n",
        "33 !\n",
        "34 \"\n",
        "35 #\n",
        "36 $\n",
        "37 %\n",
        "38 &\n",
        "39 '\n",
        "40 (\n",
        "41 )\n",
        "42 *\n",
        "43 +\n",
        "44 ,\n",
        "45 -\n",
        "46 .\n",
        "47 /\n",
        "48 0\n",
        "49 1\n",
        "50 2\n",
        "51 3\n",
        "52 4\n",
        "53 5\n",
        "54 6\n",
        "55 7\n",
        "56 8\n",
        "57 9\n",
        "58 :\n",
        "59 ;\n",
        "60 <\n",
        "61 =\n",
        "62 >\n",
        "63 ?\n",
        "64 @\n",
        "65 A\n",
        "66 B\n",
        "67 C\n",
        "68 D\n",
        "69 E\n",
        "70 F\n",
        "71 G\n",
        "72 H\n",
        "73 I\n",
        "74 J\n",
        "75 K\n",
        "76 L\n",
        "77 M\n",
        "78 N\n",
        "79 O\n",
        "80 P\n",
        "81 Q\n",
        "82 R\n",
        "83 S\n",
        "84 T\n",
        "85 U\n",
        "86 V\n",
        "87 W\n",
        "88 X\n",
        "89 Y\n",
        "90 Z\n",
        "91 [\n",
        "92 \\\n",
        "93 ]\n",
        "94 ^\n",
        "95 _\n",
        "96 `\n",
        "97 a\n",
        "98 b\n",
        "99 c\n",
        "100 d\n",
        "101 e\n",
        "102 f\n",
        "103 g\n",
        "104 h\n",
        "105 i\n",
        "106 j\n",
        "107 k\n",
        "108 l\n",
        "109 m\n",
        "110 n\n",
        "111 o\n",
        "112 p\n",
        "113 q\n",
        "114 r\n",
        "115 s\n",
        "116 t\n",
        "117 u\n",
        "118 v\n",
        "119 w\n",
        "120 x\n",
        "121 y\n",
        "122 z\n",
        "123 {\n",
        "124 |\n",
        "125 }\n",
        "126 ~\n",
        "127 \u007f\n",
        "128 \u20ac\n",
        "129 \ufffe\n",
        "130 \u201a\n",
        "131 \u0192\n",
        "132 \u201e\n",
        "133 \u2026\n",
        "134 \u2020\n",
        "135 \u2021\n",
        "136 \u02c6\n",
        "137 \u2030\n",
        "138 \u0160\n",
        "139 \u2039\n",
        "140 \u0152\n",
        "141 \ufffe\n",
        "142 \u017d\n",
        "143 \ufffe\n",
        "144 \ufffe\n",
        "145 \u2018\n",
        "146 \u2019\n",
        "147 \u201c\n",
        "148 \u201d\n",
        "149 \u2022\n",
        "150 \u2013\n",
        "151 \u2014\n",
        "152 \u02dc\n",
        "153 \u2122\n",
        "154 \u0161\n",
        "155 \u203a\n",
        "156 \u0153\n",
        "157 \ufffe\n",
        "158 \u017e\n",
        "159 \u0178\n",
        "160 \u00a0\n",
        "161 \u00a1\n",
        "162 \u00a2\n",
        "163 \u00a3\n",
        "164 \u00a4\n",
        "165 \u00a5\n",
        "166 \u00a6\n",
        "167 \u00a7\n",
        "168 \u00a8\n",
        "169 \u00a9\n",
        "170 \u00aa\n",
        "171 \u00ab\n",
        "172 \u00ac\n",
        "173 \u00ad\n",
        "174 \u00ae\n",
        "175 \u00af\n",
        "176 \u00b0\n",
        "177 \u00b1\n",
        "178 \u00b2\n",
        "179 \u00b3\n",
        "180 \u00b4\n",
        "181 \u00b5\n",
        "182 \u00b6\n",
        "183 \u00b7\n",
        "184 \u00b8\n",
        "185 \u00b9\n",
        "186 \u00ba\n",
        "187 \u00bb\n",
        "188 \u00bc\n",
        "189 \u00bd\n",
        "190 \u00be\n",
        "191 \u00bf\n",
        "192 \u00c0\n",
        "193 \u00c1\n",
        "194 \u00c2\n",
        "195 \u00c3\n",
        "196 \u00c4\n",
        "197 \u00c5\n",
        "198 \u00c6\n",
        "199 \u00c7\n",
        "200 \u00c8\n",
        "201 \u00c9\n",
        "202 \u00ca\n",
        "203 \u00cb\n",
        "204 \u00cc\n",
        "205 \u00cd\n",
        "206 \u00ce\n",
        "207 \u00cf\n",
        "208 \u00d0\n",
        "209 \u00d1\n",
        "210 \u00d2\n",
        "211 \u00d3\n",
        "212 \u00d4\n",
        "213 \u00d5\n",
        "214 \u00d6\n",
        "215 \u00d7\n",
        "216 \u00d8\n",
        "217 \u00d9\n",
        "218 \u00da\n",
        "219 \u00db\n",
        "220 \u00dc\n",
        "221 \u00dd\n",
        "222 \u00de\n",
        "223 \u00df\n",
        "224 \u00e0\n",
        "225 \u00e1\n",
        "226 \u00e2\n",
        "227 \u00e3\n",
        "228 \u00e4\n",
        "229 \u00e5\n",
        "230 \u00e6\n",
        "231 \u00e7\n",
        "232 \u00e8\n",
        "233 \u00e9\n",
        "234 \u00ea\n",
        "235 \u00eb\n",
        "236 \u00ec\n",
        "237 \u00ed\n",
        "238 \u00ee\n",
        "239 \u00ef\n",
        "240 \u00f0\n",
        "241 \u00f1\n",
        "242 \u00f2\n",
        "243 \u00f3\n",
        "244 \u00f4\n",
        "245 \u00f5\n",
        "246 \u00f6\n",
        "247 \u00f7\n",
        "248 \u00f8\n",
        "249 \u00f9\n",
        "250 \u00fa\n",
        "251 \u00fb\n",
        "252 \u00fc\n",
        "253 \u00fd\n",
        "254 \u00fe\n"
       ]
      }
     ],
     "prompt_number": 26
    },
    {
     "cell_type": "code",
     "collapsed": false,
     "input": [],
     "language": "python",
     "metadata": {},
     "outputs": []
    }
   ],
   "metadata": {}
  }
 ]
}