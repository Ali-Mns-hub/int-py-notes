{
 "metadata": {
  "name": ""
 },
 "nbformat": 3,
 "nbformat_minor": 0,
 "worksheets": [
  {
   "cells": [
    {
     "cell_type": "markdown",
     "metadata": {},
     "source": [
      "## <img src=\"https://dl.dropboxusercontent.com/u/6117375/intermediate-notebooks/title_graphic.png\" /> What is Unicode?\n"
     ]
    },
    {
     "cell_type": "code",
     "collapsed": false,
     "input": [
      "type(\"There are many characters in the Unicode set\")"
     ],
     "language": "python",
     "metadata": {},
     "outputs": [
      {
       "metadata": {},
       "output_type": "pyout",
       "prompt_number": 9,
       "text": [
        "builtins.str"
       ]
      }
     ],
     "prompt_number": 9
    },
    {
     "cell_type": "code",
     "collapsed": false,
     "input": [
      "\"\u01ac\u0452\u0aef\u0ae8\u0aef \u03b1\u0ae8\u0aef \u028d\u03b1\u0e17y \u0aee\u0452\u03b1\u0ae8\u03b1\u0aee\u01ac\u0aef\u0ae8\u0abd \u00a1\u0e17 \u01ac\u0452\u0aef Unicode \u0abd\u0aef\u01ac\""
     ],
     "language": "python",
     "metadata": {},
     "outputs": [
      {
       "metadata": {},
       "output_type": "pyout",
       "prompt_number": 10,
       "text": [
        "'\u01ac\u0452\u0aef\u0ae8\u0aef \u03b1\u0ae8\u0aef \u028d\u03b1\u0e17y \u0aee\u0452\u03b1\u0ae8\u03b1\u0aee\u01ac\u0aef\u0ae8\u0abd \u00a1\u0e17 \u01ac\u0452\u0aef Unicode \u0abd\u0aef\u01ac'"
       ]
      }
     ],
     "prompt_number": 10
    },
    {
     "cell_type": "code",
     "collapsed": false,
     "input": [
      "\"\u3036\u24d7\u24d4\u24e1\u24d4 \u24d0\u24e1\u24d4 \u24dc\u24d0\u24dd\u24e8 \u24d2\u24d7\u24d0\u24e1\u24d0\u24d2\u3036\u24d4\u24e1\u24e2 \u24d8\u24dd \u3036\u24d7\u24d4 Unicode \u24e2\u24d4\u3036\""
     ],
     "language": "python",
     "metadata": {},
     "outputs": [
      {
       "metadata": {},
       "output_type": "pyout",
       "prompt_number": 11,
       "text": [
        "'\u3036\u24d7\u24d4\u24e1\u24d4 \u24d0\u24e1\u24d4 \u24dc\u24d0\u24dd\u24e8 \u24d2\u24d7\u24d0\u24e1\u24d0\u24d2\u3036\u24d4\u24e1\u24e2 \u24d8\u24dd \u3036\u24d7\u24d4 Unicode \u24e2\u24d4\u3036'"
       ]
      }
     ],
     "prompt_number": 11
    },
    {
     "cell_type": "code",
     "collapsed": false,
     "input": [
      "ord(\"T\"), ord(\"\u01ac\"), ord(\"\u3036\")"
     ],
     "language": "python",
     "metadata": {},
     "outputs": [
      {
       "metadata": {},
       "output_type": "pyout",
       "prompt_number": 12,
       "text": [
        "(84, 428, 12342)"
       ]
      }
     ],
     "prompt_number": 12
    },
    {
     "cell_type": "code",
     "collapsed": false,
     "input": [
      "\"\u20ac\" # A one-character string"
     ],
     "language": "python",
     "metadata": {},
     "outputs": [
      {
       "metadata": {},
       "output_type": "pyout",
       "prompt_number": 13,
       "text": [
        "'\u20ac'"
       ]
      }
     ],
     "prompt_number": 13
    },
    {
     "cell_type": "code",
     "collapsed": false,
     "input": [
      "ord(\"\u20ac\")"
     ],
     "language": "python",
     "metadata": {},
     "outputs": [
      {
       "metadata": {},
       "output_type": "pyout",
       "prompt_number": 14,
       "text": [
        "8364"
       ]
      }
     ],
     "prompt_number": 14
    },
    {
     "cell_type": "code",
     "collapsed": false,
     "input": [
      "hex(ord(\"\u20ac\"))"
     ],
     "language": "python",
     "metadata": {},
     "outputs": [
      {
       "metadata": {},
       "output_type": "pyout",
       "prompt_number": 15,
       "text": [
        "'0x20ac'"
       ]
      }
     ],
     "prompt_number": 15
    },
    {
     "cell_type": "code",
     "collapsed": false,
     "input": [
      "\"\\u20ac\" # The same string using a Unicode escape sequence"
     ],
     "language": "python",
     "metadata": {},
     "outputs": [
      {
       "metadata": {},
       "output_type": "pyout",
       "prompt_number": 16,
       "text": [
        "'\u20ac'"
       ]
      }
     ],
     "prompt_number": 16
    },
    {
     "cell_type": "code",
     "collapsed": false,
     "input": [],
     "language": "python",
     "metadata": {},
     "outputs": []
    }
   ],
   "metadata": {}
  }
 ]
}