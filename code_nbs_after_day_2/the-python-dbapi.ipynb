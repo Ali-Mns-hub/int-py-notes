{
 "metadata": {},
 "nbformat": 3,
 "nbformat_minor": 0,
 "worksheets": [
  {
   "cells": [
    {
     "cell_type": "markdown",
     "metadata": {},
     "source": [
      "## <img src=\"https://dl.dropboxusercontent.com/u/6117375/intermediate-notebooks/title_graphic.png\" /> The Python DBAPI\n"
     ]
    },
    {
     "cell_type": "code",
     "collapsed": false,
     "input": [
      "import sqlite3\n",
      "conn = sqlite3.connect(\"MyDatabase.sql3\")\n",
      "conn"
     ],
     "language": "python",
     "metadata": {},
     "outputs": []
    },
    {
     "cell_type": "code",
     "collapsed": false,
     "input": [
      "curs = conn.cursor()\n",
      "curs"
     ],
     "language": "python",
     "metadata": {},
     "outputs": []
    },
    {
     "cell_type": "code",
     "collapsed": false,
     "input": [
      "curs.execute(\"DROP TABLE IF EXISTS publisher\")"
     ],
     "language": "python",
     "metadata": {},
     "outputs": []
    },
    {
     "cell_type": "code",
     "collapsed": false,
     "input": [
      "curs.execute(\"\"\"CREATE TABLE publisher(\n",
      "                    pubid INT PRIMARY KEY,\n",
      "                    pubname VARCHAR(25),\n",
      "                    puburl VARCHAR(125))\"\"\")"
     ],
     "language": "python",
     "metadata": {},
     "outputs": []
    },
    {
     "cell_type": "code",
     "collapsed": false,
     "input": [
      "curs.execute(\"\"\"CREATE TABLE publisher(\n",
      "                    pubid INT PRIMARY KEY,\n",
      "                    pubname VARCHAR(25),\n",
      "                    puburl VARCHAR(125))\"\"\")"
     ],
     "language": "python",
     "metadata": {},
     "outputs": []
    },
    {
     "cell_type": "code",
     "collapsed": false,
     "input": [
      "curs.execute(\"DROP TABLE IF EXISTS book\")\n",
      "curs.execute(\"\"\"\\\n",
      "                CREATE TABLE book (\n",
      "                    bkisbn CHAR(10) PRIMARY KEY,\n",
      "                    bktitle VARCHAR(60),\n",
      "                    bkyear INT,\n",
      "                    bkpubid INT,\n",
      "                    FOREIGN KEY(bkpubid) REFERENCES publisher(pubid))\n",
      "            \"\"\")"
     ],
     "language": "python",
     "metadata": {},
     "outputs": []
    },
    {
     "cell_type": "code",
     "collapsed": false,
     "input": [
      "publisher_list = (\n",
      "                  (\"Holden Web\", \"http://holdenweb.com\"),               #0\n",
      "                  (\"Apress\", \"http://www.apress.com\"),                  #1\n",
      "                  (\"O'Reilly Media\", \"http://oreilly.com\"),             #2\n",
      "                  (\"Packt Publishing\", \"http://www.packtpub.com\")       #3\n",
      "                  )"
     ],
     "language": "python",
     "metadata": {},
     "outputs": []
    },
    {
     "cell_type": "code",
     "collapsed": false,
     "input": [
      "book_dict = {\n",
      "             \"1565926218\": (\"Python Programming on Win32\", 1999, 2),    # O'Reilly\n",
      "             \"1590597257\": (\"The Definitive Guide to Django\", 2011, 1), # Apress\n",
      "             \"1234567890\": (\"No Book You Ever Heard Of\", 2015, 0),      # Holden Web\n",
      "             \"0569007973\": (\"The Python Cookbook, 2nd Edn.\", 2009, 2),  # O'Reilly\n",
      "             \"7818471947\": (\"Expert Python Programming\", 2012, 3)       # Packt\n",
      "             }"
     ],
     "language": "python",
     "metadata": {},
     "outputs": []
    },
    {
     "cell_type": "code",
     "collapsed": false,
     "input": [
      "ISBN = \"1234567890\"\n",
      "book = book_dict[ISBN]\n",
      "publisher = publisher_list[book[2]]\n",
      "print(\"\"\"\\\n",
      "ISBN:           {}\n",
      "Title:          {}\n",
      "Year:           {}\n",
      "Publisher:      {}\n",
      "URL:            {}\"\"\".format(ISBN, book[0], book[1], publisher[0], publisher[1]))"
     ],
     "language": "python",
     "metadata": {},
     "outputs": []
    },
    {
     "cell_type": "code",
     "collapsed": false,
     "input": [
      "for i, publisher in enumerate(publisher_list):\n",
      "    curs.execute(\"\"\"\n",
      "                INSERT INTO publisher (pubid, pubname, puburl)\n",
      "                VALUES(?, ?, ?)\"\"\",\n",
      "                 (i, publisher[0], publisher[1]))"
     ],
     "language": "python",
     "metadata": {},
     "outputs": []
    },
    {
     "cell_type": "code",
     "collapsed": false,
     "input": [
      "curs.execute(\"SELECT * FROM publisher\")\n",
      "curs.fetchall()"
     ],
     "language": "python",
     "metadata": {},
     "outputs": []
    },
    {
     "cell_type": "code",
     "collapsed": false,
     "input": [
      "for ISBN, (title, year, pubid) in book_dict.items():\n",
      "    curs.execute(\"\"\"INSERT INTO BOOK\n",
      "                    (bkisbn, bktitle, bkyear, bkpubid)\n",
      "                    VALUES (?, ?, ?, ?)\"\"\",\n",
      "                    (ISBN, title, year, pubid))"
     ],
     "language": "python",
     "metadata": {},
     "outputs": []
    },
    {
     "cell_type": "code",
     "collapsed": false,
     "input": [
      "curs.execute(\"SELECT * FROM book\")\n",
      "curs.fetchall()"
     ],
     "language": "python",
     "metadata": {},
     "outputs": []
    },
    {
     "cell_type": "code",
     "collapsed": false,
     "input": [
      "curs.execute(\"\"\"\n",
      "                SELECT *\n",
      "                FROM book JOIN publisher ON pubid=bkpubid\"\"\")\n",
      "curs.fetchall()"
     ],
     "language": "python",
     "metadata": {},
     "outputs": []
    },
    {
     "cell_type": "code",
     "collapsed": false,
     "input": [
      "curs.execute(\"\"\"\n",
      "                SELECT bktitle, bkyear, pubname\n",
      "                FROM book JOIN publisher ON pubid=bkpubid\"\"\")\n",
      "curs.fetchall()"
     ],
     "language": "python",
     "metadata": {},
     "outputs": []
    },
    {
     "cell_type": "code",
     "collapsed": false,
     "input": [
      "conn.commit()"
     ],
     "language": "python",
     "metadata": {},
     "outputs": []
    },
    {
     "cell_type": "code",
     "collapsed": false,
     "input": [
      "conn.close()"
     ],
     "language": "python",
     "metadata": {},
     "outputs": []
    },
    {
     "cell_type": "code",
     "collapsed": false,
     "input": [
      "conn = sqlite3.connect(\"MyDatabase.sql3\")\n",
      "conn"
     ],
     "language": "python",
     "metadata": {},
     "outputs": []
    },
    {
     "cell_type": "code",
     "collapsed": false,
     "input": [
      "curs = conn.cursor()\n",
      "curs"
     ],
     "language": "python",
     "metadata": {},
     "outputs": []
    },
    {
     "cell_type": "code",
     "collapsed": false,
     "input": [
      "curs.execute(\"SELECT * FROM book\")\n",
      "curs.fetchall()"
     ],
     "language": "python",
     "metadata": {},
     "outputs": []
    },
    {
     "cell_type": "code",
     "collapsed": false,
     "input": [
      "conn.close()"
     ],
     "language": "python",
     "metadata": {},
     "outputs": []
    }
   ],
   "metadata": {}
  }
 ]
}