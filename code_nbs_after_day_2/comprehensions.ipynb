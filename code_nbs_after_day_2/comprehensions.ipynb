{
 "metadata": {
  "name": ""
 },
 "nbformat": 3,
 "nbformat_minor": 0,
 "worksheets": [
  {
   "cells": [
    {
     "cell_type": "markdown",
     "metadata": {},
     "source": [
      "## <img src=\"https://dl.dropboxusercontent.com/u/6117375/intermediate-notebooks/title_graphic.png\" /> Comprehensions\n"
     ]
    },
    {
     "cell_type": "code",
     "collapsed": false,
     "input": [
      "new_list = []\n",
      "for i in range(10):\n",
      "    new_list.append(i*i)\n",
      "\n",
      "new_list"
     ],
     "language": "python",
     "metadata": {},
     "outputs": [
      {
       "metadata": {},
       "output_type": "pyout",
       "prompt_number": 1,
       "text": [
        "[0, 1, 4, 9, 16, 25, 36, 49, 64, 81]"
       ]
      }
     ],
     "prompt_number": 1
    },
    {
     "cell_type": "code",
     "collapsed": false,
     "input": [
      "[i*i for i in range(10)]"
     ],
     "language": "python",
     "metadata": {},
     "outputs": [
      {
       "metadata": {},
       "output_type": "pyout",
       "prompt_number": 2,
       "text": [
        "[0, 1, 4, 9, 16, 25, 36, 49, 64, 81]"
       ]
      }
     ],
     "prompt_number": 2
    },
    {
     "cell_type": "code",
     "collapsed": false,
     "input": [
      "new_list = []\n",
      "for i in range(10):\n",
      "    if i % 2 == 0:\n",
      "        continue\n",
      "    new_list.append(i*i)\n",
      "\n",
      "new_list"
     ],
     "language": "python",
     "metadata": {},
     "outputs": [
      {
       "metadata": {},
       "output_type": "pyout",
       "prompt_number": 3,
       "text": [
        "[1, 9, 25, 49, 81]"
       ]
      }
     ],
     "prompt_number": 3
    },
    {
     "cell_type": "code",
     "collapsed": false,
     "input": [
      "[i*i for i in range(10) if i % 2]"
     ],
     "language": "python",
     "metadata": {},
     "outputs": [
      {
       "metadata": {},
       "output_type": "pyout",
       "prompt_number": 5,
       "text": [
        "[1, 9, 25, 49, 81]"
       ]
      }
     ],
     "prompt_number": 5
    },
    {
     "cell_type": "code",
     "collapsed": false,
     "input": [
      "line_list = [\"this is the first\", \"this is the second\", \"this is the third\"]"
     ],
     "language": "python",
     "metadata": {},
     "outputs": [],
     "prompt_number": 6
    },
    {
     "cell_type": "code",
     "collapsed": false,
     "input": [
      "out_list = []\n",
      "for line in line_list:\n",
      "    for c in line:\n",
      "        out_list.append(c)\n",
      "        \n",
      "out_list"
     ],
     "language": "python",
     "metadata": {},
     "outputs": [
      {
       "metadata": {},
       "output_type": "pyout",
       "prompt_number": 7,
       "text": [
        "['t',\n",
        " 'h',\n",
        " 'i',\n",
        " 's',\n",
        " ' ',\n",
        " 'i',\n",
        " 's',\n",
        " ' ',\n",
        " 't',\n",
        " 'h',\n",
        " 'e',\n",
        " ' ',\n",
        " 'f',\n",
        " 'i',\n",
        " 'r',\n",
        " 's',\n",
        " 't',\n",
        " 't',\n",
        " 'h',\n",
        " 'i',\n",
        " 's',\n",
        " ' ',\n",
        " 'i',\n",
        " 's',\n",
        " ' ',\n",
        " 't',\n",
        " 'h',\n",
        " 'e',\n",
        " ' ',\n",
        " 's',\n",
        " 'e',\n",
        " 'c',\n",
        " 'o',\n",
        " 'n',\n",
        " 'd',\n",
        " 't',\n",
        " 'h',\n",
        " 'i',\n",
        " 's',\n",
        " ' ',\n",
        " 'i',\n",
        " 's',\n",
        " ' ',\n",
        " 't',\n",
        " 'h',\n",
        " 'e',\n",
        " ' ',\n",
        " 't',\n",
        " 'h',\n",
        " 'i',\n",
        " 'r',\n",
        " 'd']"
       ]
      }
     ],
     "prompt_number": 7
    },
    {
     "cell_type": "code",
     "collapsed": false,
     "input": [
      "[c for line in line_list for c in line]"
     ],
     "language": "python",
     "metadata": {},
     "outputs": [
      {
       "metadata": {},
       "output_type": "pyout",
       "prompt_number": 9,
       "text": [
        "['t',\n",
        " 'h',\n",
        " 'i',\n",
        " 's',\n",
        " ' ',\n",
        " 'i',\n",
        " 's',\n",
        " ' ',\n",
        " 't',\n",
        " 'h',\n",
        " 'e',\n",
        " ' ',\n",
        " 'f',\n",
        " 'i',\n",
        " 'r',\n",
        " 's',\n",
        " 't',\n",
        " 't',\n",
        " 'h',\n",
        " 'i',\n",
        " 's',\n",
        " ' ',\n",
        " 'i',\n",
        " 's',\n",
        " ' ',\n",
        " 't',\n",
        " 'h',\n",
        " 'e',\n",
        " ' ',\n",
        " 's',\n",
        " 'e',\n",
        " 'c',\n",
        " 'o',\n",
        " 'n',\n",
        " 'd',\n",
        " 't',\n",
        " 'h',\n",
        " 'i',\n",
        " 's',\n",
        " ' ',\n",
        " 'i',\n",
        " 's',\n",
        " ' ',\n",
        " 't',\n",
        " 'h',\n",
        " 'e',\n",
        " ' ',\n",
        " 't',\n",
        " 'h',\n",
        " 'i',\n",
        " 'r',\n",
        " 'd']"
       ]
      }
     ],
     "prompt_number": 9
    },
    {
     "cell_type": "code",
     "collapsed": false,
     "input": [
      "[c for line in line_list for c in line] == out_list"
     ],
     "language": "python",
     "metadata": {},
     "outputs": [
      {
       "metadata": {},
       "output_type": "pyout",
       "prompt_number": 10,
       "text": [
        "True"
       ]
      }
     ],
     "prompt_number": 10
    },
    {
     "cell_type": "code",
     "collapsed": false,
     "input": [
      "{\"string1\", 1, 2, 3}"
     ],
     "language": "python",
     "metadata": {},
     "outputs": [
      {
       "metadata": {},
       "output_type": "pyout",
       "prompt_number": 11,
       "text": [
        "{1, 2, 3, 'string1'}"
       ]
      }
     ],
     "prompt_number": 11
    },
    {
     "cell_type": "code",
     "collapsed": false,
     "input": [
      "{}"
     ],
     "language": "python",
     "metadata": {},
     "outputs": [
      {
       "metadata": {},
       "output_type": "pyout",
       "prompt_number": 12,
       "text": [
        "{}"
       ]
      }
     ],
     "prompt_number": 12
    },
    {
     "cell_type": "code",
     "collapsed": false,
     "input": [
      "type({})"
     ],
     "language": "python",
     "metadata": {},
     "outputs": [
      {
       "metadata": {},
       "output_type": "pyout",
       "prompt_number": 13,
       "text": [
        "builtins.dict"
       ]
      }
     ],
     "prompt_number": 13
    },
    {
     "cell_type": "code",
     "collapsed": false,
     "input": [
      "set()"
     ],
     "language": "python",
     "metadata": {},
     "outputs": [
      {
       "metadata": {},
       "output_type": "pyout",
       "prompt_number": 14,
       "text": [
        "set()"
       ]
      }
     ],
     "prompt_number": 14
    },
    {
     "cell_type": "code",
     "collapsed": false,
     "input": [
      "{c for line in line_list for c in line}"
     ],
     "language": "python",
     "metadata": {},
     "outputs": [
      {
       "metadata": {},
       "output_type": "pyout",
       "prompt_number": 15,
       "text": [
        "{' ', 'c', 'd', 'e', 'f', 'h', 'i', 'n', 'o', 'r', 's', 't'}"
       ]
      }
     ],
     "prompt_number": 15
    },
    {
     "cell_type": "code",
     "collapsed": false,
     "input": [
      "{i: i*i for i in range(10)}"
     ],
     "language": "python",
     "metadata": {},
     "outputs": [
      {
       "metadata": {},
       "output_type": "pyout",
       "prompt_number": 17,
       "text": [
        "{0: 0, 1: 1, 2: 4, 3: 9, 4: 16, 5: 25, 6: 36, 7: 49, 8: 64, 9: 81}"
       ]
      }
     ],
     "prompt_number": 17
    },
    {
     "cell_type": "code",
     "collapsed": false,
     "input": [],
     "language": "python",
     "metadata": {},
     "outputs": []
    }
   ],
   "metadata": {}
  }
 ]
}